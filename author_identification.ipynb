{
 "cells": [
  {
   "cell_type": "code",
   "execution_count": 128,
   "id": "cf491506-dc6e-4220-9a4f-ac3ace675a52",
   "metadata": {},
   "outputs": [],
   "source": [
    "import pyspark.sql.functions as F"
   ]
  },
  {
   "cell_type": "code",
   "execution_count": 2,
   "id": "d8a12e85-8950-42a3-9bba-92aec8dda99f",
   "metadata": {},
   "outputs": [],
   "source": [
    "spark.conf.set(\"spark.sql.repl.eagerEval.enabled\",True)"
   ]
  },
  {
   "cell_type": "markdown",
   "id": "eb6357b5-a167-4dce-9600-ebd69267ba47",
   "metadata": {},
   "source": [
    "**Reading the filtered data**"
   ]
  },
  {
   "cell_type": "code",
   "execution_count": 3,
   "id": "f0cd89b6-1af1-4694-a8fb-fd3ff3dc7f9c",
   "metadata": {},
   "outputs": [
    {
     "name": "stderr",
     "output_type": "stream",
     "text": [
      "23/03/09 21:38:03 WARN org.apache.spark.sql.catalyst.util.package: Truncated the string representation of a plan since it was too large. This behavior can be adjusted by setting 'spark.sql.debug.maxToStringFields'.\n"
     ]
    }
   ],
   "source": [
    "df_filtered = spark.read.parquet(\"gs://msca-bdp-students-bucket/shared_data/harshamuthukuru/df_filtered_education_explicit1\")"
   ]
  },
  {
   "cell_type": "code",
   "execution_count": 4,
   "id": "ca63000a-d027-458c-895b-6fc180984474",
   "metadata": {},
   "outputs": [
    {
     "name": "stderr",
     "output_type": "stream",
     "text": [
      "                                                                                \r"
     ]
    },
    {
     "data": {
      "text/plain": [
       "3141909"
      ]
     },
     "execution_count": 4,
     "metadata": {},
     "output_type": "execute_result"
    }
   ],
   "source": [
    "df_filtered.count()"
   ]
  },
  {
   "cell_type": "code",
   "execution_count": 5,
   "id": "c3984cdb-3a35-42af-b892-2c3574013673",
   "metadata": {},
   "outputs": [
    {
     "name": "stderr",
     "output_type": "stream",
     "text": [
      "                                                                                \r"
     ]
    },
    {
     "data": {
      "text/html": [
       "<div>\n",
       "<style scoped>\n",
       "    .dataframe tbody tr th:only-of-type {\n",
       "        vertical-align: middle;\n",
       "    }\n",
       "\n",
       "    .dataframe tbody tr th {\n",
       "        vertical-align: top;\n",
       "    }\n",
       "\n",
       "    .dataframe thead th {\n",
       "        text-align: right;\n",
       "    }\n",
       "</style>\n",
       "<table border=\"1\" class=\"dataframe\">\n",
       "  <thead>\n",
       "    <tr style=\"text-align: right;\">\n",
       "      <th></th>\n",
       "      <th>0</th>\n",
       "    </tr>\n",
       "  </thead>\n",
       "  <tbody>\n",
       "    <tr>\n",
       "      <th>coordinates</th>\n",
       "      <td>3140496</td>\n",
       "    </tr>\n",
       "    <tr>\n",
       "      <th>created_at</th>\n",
       "      <td>0</td>\n",
       "    </tr>\n",
       "    <tr>\n",
       "      <th>display_text_range</th>\n",
       "      <td>3057918</td>\n",
       "    </tr>\n",
       "    <tr>\n",
       "      <th>entities</th>\n",
       "      <td>0</td>\n",
       "    </tr>\n",
       "    <tr>\n",
       "      <th>extended_entities</th>\n",
       "      <td>3037044</td>\n",
       "    </tr>\n",
       "    <tr>\n",
       "      <th>extended_tweet</th>\n",
       "      <td>3141909</td>\n",
       "    </tr>\n",
       "    <tr>\n",
       "      <th>favorite_count</th>\n",
       "      <td>0</td>\n",
       "    </tr>\n",
       "    <tr>\n",
       "      <th>favorited</th>\n",
       "      <td>0</td>\n",
       "    </tr>\n",
       "    <tr>\n",
       "      <th>filter_level</th>\n",
       "      <td>0</td>\n",
       "    </tr>\n",
       "    <tr>\n",
       "      <th>geo</th>\n",
       "      <td>3140496</td>\n",
       "    </tr>\n",
       "    <tr>\n",
       "      <th>id</th>\n",
       "      <td>0</td>\n",
       "    </tr>\n",
       "    <tr>\n",
       "      <th>id_str</th>\n",
       "      <td>0</td>\n",
       "    </tr>\n",
       "    <tr>\n",
       "      <th>in_reply_to_screen_name</th>\n",
       "      <td>3069053</td>\n",
       "    </tr>\n",
       "    <tr>\n",
       "      <th>in_reply_to_status_id</th>\n",
       "      <td>3070381</td>\n",
       "    </tr>\n",
       "    <tr>\n",
       "      <th>in_reply_to_status_id_str</th>\n",
       "      <td>3070381</td>\n",
       "    </tr>\n",
       "    <tr>\n",
       "      <th>in_reply_to_user_id</th>\n",
       "      <td>3069053</td>\n",
       "    </tr>\n",
       "    <tr>\n",
       "      <th>in_reply_to_user_id_str</th>\n",
       "      <td>3069053</td>\n",
       "    </tr>\n",
       "    <tr>\n",
       "      <th>is_quote_status</th>\n",
       "      <td>0</td>\n",
       "    </tr>\n",
       "    <tr>\n",
       "      <th>lang</th>\n",
       "      <td>0</td>\n",
       "    </tr>\n",
       "    <tr>\n",
       "      <th>place</th>\n",
       "      <td>3135541</td>\n",
       "    </tr>\n",
       "    <tr>\n",
       "      <th>possibly_sensitive</th>\n",
       "      <td>2930027</td>\n",
       "    </tr>\n",
       "    <tr>\n",
       "      <th>quote_count</th>\n",
       "      <td>0</td>\n",
       "    </tr>\n",
       "    <tr>\n",
       "      <th>quoted_status</th>\n",
       "      <td>2951025</td>\n",
       "    </tr>\n",
       "    <tr>\n",
       "      <th>quoted_status_id</th>\n",
       "      <td>2950577</td>\n",
       "    </tr>\n",
       "    <tr>\n",
       "      <th>quoted_status_id_str</th>\n",
       "      <td>2950577</td>\n",
       "    </tr>\n",
       "    <tr>\n",
       "      <th>quoted_status_permalink</th>\n",
       "      <td>2951025</td>\n",
       "    </tr>\n",
       "    <tr>\n",
       "      <th>quoted_text</th>\n",
       "      <td>2951025</td>\n",
       "    </tr>\n",
       "    <tr>\n",
       "      <th>reply_count</th>\n",
       "      <td>0</td>\n",
       "    </tr>\n",
       "    <tr>\n",
       "      <th>retweet_count</th>\n",
       "      <td>0</td>\n",
       "    </tr>\n",
       "    <tr>\n",
       "      <th>retweeted</th>\n",
       "      <td>0</td>\n",
       "    </tr>\n",
       "    <tr>\n",
       "      <th>retweeted_from</th>\n",
       "      <td>176805</td>\n",
       "    </tr>\n",
       "    <tr>\n",
       "      <th>retweeted_status</th>\n",
       "      <td>204841</td>\n",
       "    </tr>\n",
       "    <tr>\n",
       "      <th>source</th>\n",
       "      <td>0</td>\n",
       "    </tr>\n",
       "    <tr>\n",
       "      <th>text</th>\n",
       "      <td>0</td>\n",
       "    </tr>\n",
       "    <tr>\n",
       "      <th>timestamp_ms</th>\n",
       "      <td>0</td>\n",
       "    </tr>\n",
       "    <tr>\n",
       "      <th>truncated</th>\n",
       "      <td>0</td>\n",
       "    </tr>\n",
       "    <tr>\n",
       "      <th>tweet_text</th>\n",
       "      <td>0</td>\n",
       "    </tr>\n",
       "    <tr>\n",
       "      <th>user</th>\n",
       "      <td>0</td>\n",
       "    </tr>\n",
       "    <tr>\n",
       "      <th>withheld_in_countries</th>\n",
       "      <td>3141909</td>\n",
       "    </tr>\n",
       "    <tr>\n",
       "      <th>stripped</th>\n",
       "      <td>0</td>\n",
       "    </tr>\n",
       "    <tr>\n",
       "      <th>important</th>\n",
       "      <td>0</td>\n",
       "    </tr>\n",
       "  </tbody>\n",
       "</table>\n",
       "</div>"
      ],
      "text/plain": [
       "                                 0\n",
       "coordinates                3140496\n",
       "created_at                       0\n",
       "display_text_range         3057918\n",
       "entities                         0\n",
       "extended_entities          3037044\n",
       "extended_tweet             3141909\n",
       "favorite_count                   0\n",
       "favorited                        0\n",
       "filter_level                     0\n",
       "geo                        3140496\n",
       "id                               0\n",
       "id_str                           0\n",
       "in_reply_to_screen_name    3069053\n",
       "in_reply_to_status_id      3070381\n",
       "in_reply_to_status_id_str  3070381\n",
       "in_reply_to_user_id        3069053\n",
       "in_reply_to_user_id_str    3069053\n",
       "is_quote_status                  0\n",
       "lang                             0\n",
       "place                      3135541\n",
       "possibly_sensitive         2930027\n",
       "quote_count                      0\n",
       "quoted_status              2951025\n",
       "quoted_status_id           2950577\n",
       "quoted_status_id_str       2950577\n",
       "quoted_status_permalink    2951025\n",
       "quoted_text                2951025\n",
       "reply_count                      0\n",
       "retweet_count                    0\n",
       "retweeted                        0\n",
       "retweeted_from              176805\n",
       "retweeted_status            204841\n",
       "source                           0\n",
       "text                             0\n",
       "timestamp_ms                     0\n",
       "truncated                        0\n",
       "tweet_text                       0\n",
       "user                             0\n",
       "withheld_in_countries      3141909\n",
       "stripped                         0\n",
       "important                        0"
      ]
     },
     "execution_count": 5,
     "metadata": {},
     "output_type": "execute_result"
    }
   ],
   "source": [
    "df_filtered.select([F.count(F.when(F.isnull(c), c)).alias(c) for c in df_filtered.columns]).toPandas().transpose()"
   ]
  },
  {
   "cell_type": "code",
   "execution_count": 6,
   "id": "c4634b0c-ef3f-4c87-8ca8-b794aafaf855",
   "metadata": {},
   "outputs": [
    {
     "name": "stdout",
     "output_type": "stream",
     "text": [
      "root\n",
      " |-- user: struct (nullable = true)\n",
      " |    |-- contributors_enabled: boolean (nullable = true)\n",
      " |    |-- created_at: string (nullable = true)\n",
      " |    |-- default_profile: boolean (nullable = true)\n",
      " |    |-- default_profile_image: boolean (nullable = true)\n",
      " |    |-- description: string (nullable = true)\n",
      " |    |-- favourites_count: long (nullable = true)\n",
      " |    |-- followers_count: long (nullable = true)\n",
      " |    |-- friends_count: long (nullable = true)\n",
      " |    |-- geo_enabled: boolean (nullable = true)\n",
      " |    |-- id: long (nullable = true)\n",
      " |    |-- id_str: string (nullable = true)\n",
      " |    |-- is_translator: boolean (nullable = true)\n",
      " |    |-- listed_count: long (nullable = true)\n",
      " |    |-- location: string (nullable = true)\n",
      " |    |-- name: string (nullable = true)\n",
      " |    |-- profile_background_color: string (nullable = true)\n",
      " |    |-- profile_background_image_url: string (nullable = true)\n",
      " |    |-- profile_background_image_url_https: string (nullable = true)\n",
      " |    |-- profile_background_tile: boolean (nullable = true)\n",
      " |    |-- profile_banner_url: string (nullable = true)\n",
      " |    |-- profile_image_url: string (nullable = true)\n",
      " |    |-- profile_image_url_https: string (nullable = true)\n",
      " |    |-- profile_link_color: string (nullable = true)\n",
      " |    |-- profile_sidebar_border_color: string (nullable = true)\n",
      " |    |-- profile_sidebar_fill_color: string (nullable = true)\n",
      " |    |-- profile_text_color: string (nullable = true)\n",
      " |    |-- profile_use_background_image: boolean (nullable = true)\n",
      " |    |-- protected: boolean (nullable = true)\n",
      " |    |-- screen_name: string (nullable = true)\n",
      " |    |-- statuses_count: long (nullable = true)\n",
      " |    |-- translator_type: string (nullable = true)\n",
      " |    |-- url: string (nullable = true)\n",
      " |    |-- verified: boolean (nullable = true)\n",
      " |    |-- verified_type: string (nullable = true)\n",
      " |    |-- withheld_in_countries: array (nullable = true)\n",
      " |    |    |-- element: string (containsNull = true)\n",
      "\n"
     ]
    }
   ],
   "source": [
    "df_filtered.select('user').printSchema()"
   ]
  },
  {
   "cell_type": "markdown",
   "id": "470645ac-8a0d-4807-bf14-9d9b5b42b578",
   "metadata": {},
   "source": [
    "## Step 2: Which tweet_count to use"
   ]
  },
  {
   "cell_type": "code",
   "execution_count": 7,
   "id": "e354560f-13c5-421c-8e6b-5c3cdfe98317",
   "metadata": {},
   "outputs": [
    {
     "name": "stderr",
     "output_type": "stream",
     "text": [
      "                                                                                \r"
     ]
    }
   ],
   "source": [
    "pd_df_retweetCounts = df_filtered.select([\n",
    "    df_filtered.retweet_count,\n",
    "    df_filtered.quoted_status.retweet_count.alias(\"quoted_status_retweet_count\"),\n",
    "    df_filtered.retweeted_status.retweet_count.alias(\"retweeted_status_retweet_count\"),\n",
    "    df_filtered.retweeted_status.reply_count.alias(\"retweeted_status_reply_count\"),\n",
    "    df_filtered.reply_count.alias(\"reply_count\"),\n",
    "    df_filtered.tweet_text\n",
    "]).limit(10000).toPandas()"
   ]
  },
  {
   "cell_type": "code",
   "execution_count": 8,
   "id": "aaf9ff53-1a82-4161-a28b-2cdc70a50e66",
   "metadata": {},
   "outputs": [
    {
     "data": {
      "text/html": [
       "<div>\n",
       "<style scoped>\n",
       "    .dataframe tbody tr th:only-of-type {\n",
       "        vertical-align: middle;\n",
       "    }\n",
       "\n",
       "    .dataframe tbody tr th {\n",
       "        vertical-align: top;\n",
       "    }\n",
       "\n",
       "    .dataframe thead th {\n",
       "        text-align: right;\n",
       "    }\n",
       "</style>\n",
       "<table border=\"1\" class=\"dataframe\">\n",
       "  <thead>\n",
       "    <tr style=\"text-align: right;\">\n",
       "      <th></th>\n",
       "      <th>retweet_count</th>\n",
       "      <th>quoted_status_retweet_count</th>\n",
       "      <th>retweeted_status_retweet_count</th>\n",
       "      <th>retweeted_status_reply_count</th>\n",
       "      <th>reply_count</th>\n",
       "    </tr>\n",
       "  </thead>\n",
       "  <tbody>\n",
       "    <tr>\n",
       "      <th>count</th>\n",
       "      <td>10000.0</td>\n",
       "      <td>713.000000</td>\n",
       "      <td>9376.000000</td>\n",
       "      <td>9376.000000</td>\n",
       "      <td>10000.0</td>\n",
       "    </tr>\n",
       "    <tr>\n",
       "      <th>mean</th>\n",
       "      <td>0.0</td>\n",
       "      <td>2223.826087</td>\n",
       "      <td>2083.953072</td>\n",
       "      <td>205.861241</td>\n",
       "      <td>0.0</td>\n",
       "    </tr>\n",
       "    <tr>\n",
       "      <th>std</th>\n",
       "      <td>0.0</td>\n",
       "      <td>6073.120568</td>\n",
       "      <td>6394.549286</td>\n",
       "      <td>786.133547</td>\n",
       "      <td>0.0</td>\n",
       "    </tr>\n",
       "    <tr>\n",
       "      <th>min</th>\n",
       "      <td>0.0</td>\n",
       "      <td>0.000000</td>\n",
       "      <td>1.000000</td>\n",
       "      <td>0.000000</td>\n",
       "      <td>0.0</td>\n",
       "    </tr>\n",
       "    <tr>\n",
       "      <th>25%</th>\n",
       "      <td>0.0</td>\n",
       "      <td>13.000000</td>\n",
       "      <td>7.000000</td>\n",
       "      <td>1.000000</td>\n",
       "      <td>0.0</td>\n",
       "    </tr>\n",
       "    <tr>\n",
       "      <th>50%</th>\n",
       "      <td>0.0</td>\n",
       "      <td>208.000000</td>\n",
       "      <td>90.000000</td>\n",
       "      <td>10.000000</td>\n",
       "      <td>0.0</td>\n",
       "    </tr>\n",
       "    <tr>\n",
       "      <th>75%</th>\n",
       "      <td>0.0</td>\n",
       "      <td>1528.000000</td>\n",
       "      <td>1025.250000</td>\n",
       "      <td>92.000000</td>\n",
       "      <td>0.0</td>\n",
       "    </tr>\n",
       "    <tr>\n",
       "      <th>max</th>\n",
       "      <td>0.0</td>\n",
       "      <td>98252.000000</td>\n",
       "      <td>55663.000000</td>\n",
       "      <td>24481.000000</td>\n",
       "      <td>0.0</td>\n",
       "    </tr>\n",
       "  </tbody>\n",
       "</table>\n",
       "</div>"
      ],
      "text/plain": [
       "       retweet_count  quoted_status_retweet_count  \\\n",
       "count        10000.0                   713.000000   \n",
       "mean             0.0                  2223.826087   \n",
       "std              0.0                  6073.120568   \n",
       "min              0.0                     0.000000   \n",
       "25%              0.0                    13.000000   \n",
       "50%              0.0                   208.000000   \n",
       "75%              0.0                  1528.000000   \n",
       "max              0.0                 98252.000000   \n",
       "\n",
       "       retweeted_status_retweet_count  retweeted_status_reply_count  \\\n",
       "count                     9376.000000                   9376.000000   \n",
       "mean                      2083.953072                    205.861241   \n",
       "std                       6394.549286                    786.133547   \n",
       "min                          1.000000                      0.000000   \n",
       "25%                          7.000000                      1.000000   \n",
       "50%                         90.000000                     10.000000   \n",
       "75%                       1025.250000                     92.000000   \n",
       "max                      55663.000000                  24481.000000   \n",
       "\n",
       "       reply_count  \n",
       "count      10000.0  \n",
       "mean           0.0  \n",
       "std            0.0  \n",
       "min            0.0  \n",
       "25%            0.0  \n",
       "50%            0.0  \n",
       "75%            0.0  \n",
       "max            0.0  "
      ]
     },
     "execution_count": 8,
     "metadata": {},
     "output_type": "execute_result"
    }
   ],
   "source": [
    "pd_df_retweetCounts.describe()"
   ]
  },
  {
   "cell_type": "markdown",
   "id": "3c9794b4-cfae-4730-8c34-4e2958ffe78e",
   "metadata": {},
   "source": [
    "## Step 3: Which location to use"
   ]
  },
  {
   "cell_type": "code",
   "execution_count": 9,
   "id": "d40828c2-48b9-451c-a79f-16f86b359a5e",
   "metadata": {},
   "outputs": [
    {
     "name": "stdout",
     "output_type": "stream",
     "text": [
      "root\n",
      " |-- place: struct (nullable = true)\n",
      " |    |-- bounding_box: struct (nullable = true)\n",
      " |    |    |-- coordinates: array (nullable = true)\n",
      " |    |    |    |-- element: array (containsNull = true)\n",
      " |    |    |    |    |-- element: array (containsNull = true)\n",
      " |    |    |    |    |    |-- element: double (containsNull = true)\n",
      " |    |    |-- type: string (nullable = true)\n",
      " |    |-- country: string (nullable = true)\n",
      " |    |-- country_code: string (nullable = true)\n",
      " |    |-- full_name: string (nullable = true)\n",
      " |    |-- id: string (nullable = true)\n",
      " |    |-- name: string (nullable = true)\n",
      " |    |-- place_type: string (nullable = true)\n",
      " |    |-- url: string (nullable = true)\n",
      "\n"
     ]
    }
   ],
   "source": [
    "df_filtered.select('place').printSchema()"
   ]
  },
  {
   "cell_type": "code",
   "execution_count": 16,
   "id": "0c9c0348-3e83-4757-b0cd-44171c99ff6b",
   "metadata": {},
   "outputs": [
    {
     "name": "stderr",
     "output_type": "stream",
     "text": [
      "                                                                                \r"
     ]
    }
   ],
   "source": [
    "pd_df_geodata = df_filtered.select([\n",
    "    df_filtered.coordinates,\n",
    "    df_filtered.geo.coordinates.alias(\"geo_coordinates\"),\n",
    "    df_filtered.place,\n",
    "    df_filtered.user.location.alias(\"user__location\")\n",
    "]).limit(10000).toPandas()"
   ]
  },
  {
   "cell_type": "code",
   "execution_count": 17,
   "id": "79210b0c-a0b3-440c-9564-205dcd43babe",
   "metadata": {},
   "outputs": [
    {
     "data": {
      "text/html": [
       "<div>\n",
       "<style scoped>\n",
       "    .dataframe tbody tr th:only-of-type {\n",
       "        vertical-align: middle;\n",
       "    }\n",
       "\n",
       "    .dataframe tbody tr th {\n",
       "        vertical-align: top;\n",
       "    }\n",
       "\n",
       "    .dataframe thead th {\n",
       "        text-align: right;\n",
       "    }\n",
       "</style>\n",
       "<table border=\"1\" class=\"dataframe\">\n",
       "  <thead>\n",
       "    <tr style=\"text-align: right;\">\n",
       "      <th></th>\n",
       "      <th>coordinates</th>\n",
       "      <th>geo_coordinates</th>\n",
       "      <th>place</th>\n",
       "      <th>user__location</th>\n",
       "    </tr>\n",
       "  </thead>\n",
       "  <tbody>\n",
       "    <tr>\n",
       "      <th>count</th>\n",
       "      <td>4</td>\n",
       "      <td>4</td>\n",
       "      <td>18</td>\n",
       "      <td>10000</td>\n",
       "    </tr>\n",
       "    <tr>\n",
       "      <th>unique</th>\n",
       "      <td>4</td>\n",
       "      <td>4</td>\n",
       "      <td>17</td>\n",
       "      <td>5726</td>\n",
       "    </tr>\n",
       "    <tr>\n",
       "      <th>top</th>\n",
       "      <td>([-97.8241043, 30.397078], Point)</td>\n",
       "      <td>[30.397078, -97.8241043]</td>\n",
       "      <td>(([[[-85.605166, 30.355644], [-85.605166, 35.0...</td>\n",
       "      <td>United States</td>\n",
       "    </tr>\n",
       "    <tr>\n",
       "      <th>freq</th>\n",
       "      <td>1</td>\n",
       "      <td>1</td>\n",
       "      <td>2</td>\n",
       "      <td>177</td>\n",
       "    </tr>\n",
       "  </tbody>\n",
       "</table>\n",
       "</div>"
      ],
      "text/plain": [
       "                              coordinates           geo_coordinates  \\\n",
       "count                                   4                         4   \n",
       "unique                                  4                         4   \n",
       "top     ([-97.8241043, 30.397078], Point)  [30.397078, -97.8241043]   \n",
       "freq                                    1                         1   \n",
       "\n",
       "                                                    place user__location  \n",
       "count                                                  18          10000  \n",
       "unique                                                 17           5726  \n",
       "top     (([[[-85.605166, 30.355644], [-85.605166, 35.0...  United States  \n",
       "freq                                                    2            177  "
      ]
     },
     "execution_count": 17,
     "metadata": {},
     "output_type": "execute_result"
    }
   ],
   "source": [
    "pd_df_geodata.describe()"
   ]
  },
  {
   "cell_type": "code",
   "execution_count": 18,
   "id": "a867a41c-bdf6-4511-83f8-cfcb283ec61c",
   "metadata": {},
   "outputs": [],
   "source": [
    "df = df_filtered.select([\n",
    "    df_filtered.id,\n",
    "    df_filtered.created_at,\n",
    "    df_filtered.user['name'].alias('user_name'),\n",
    "    df_filtered.user.description.alias('user_description'),\n",
    "    df_filtered.user.verified.alias('verified_status'),\n",
    "    df_filtered.user.location.alias('user_location'),\n",
    "    df_filtered.user.followers_count.alias('followers_count'),\n",
    "    df_filtered.user.geo_enabled.alias('geo_enabled'),\n",
    "    df_filtered.user.id_str.alias('user_id_str'),\n",
    "    df_filtered.user.id.alias('user_id'),\n",
    "    df_filtered.tweet_text,\n",
    "    df_filtered.text,\n",
    "    df_filtered.retweeted_status['retweet_count'].alias('retweet_count'),\n",
    "    df_filtered.retweeted_status,\n",
    "    df_filtered.geo,\n",
    "    df_filtered.stripped\n",
    "])"
   ]
  },
  {
   "cell_type": "code",
   "execution_count": 21,
   "id": "6e5ec91c-b7e9-4800-96f4-38f1fa829839",
   "metadata": {},
   "outputs": [
    {
     "name": "stderr",
     "output_type": "stream",
     "text": [
      "23/03/10 02:02:32 WARN org.apache.spark.scheduler.cluster.YarnSchedulerBackend$YarnSchedulerEndpoint: Requesting driver to remove executor 35 for reason Container marked as failed: container_1678345426140_0013_01_000035 on host: hub-msca-bdp-dphub-students-harshamuthukuru-sw-3spp.c.msca-bdp-students.internal. Exit status: -100. Diagnostics: Container released on a *lost* node.\n",
      "23/03/10 02:02:32 WARN org.apache.spark.scheduler.cluster.YarnSchedulerBackend$YarnSchedulerEndpoint: Requesting driver to remove executor 36 for reason Container marked as failed: container_1678345426140_0013_01_000036 on host: hub-msca-bdp-dphub-students-harshamuthukuru-sw-3spp.c.msca-bdp-students.internal. Exit status: -100. Diagnostics: Container released on a *lost* node.\n",
      "23/03/10 02:02:32 WARN org.apache.spark.scheduler.cluster.YarnSchedulerBackend$YarnSchedulerEndpoint: Requesting driver to remove executor 32 for reason Container marked as failed: container_1678345426140_0013_01_000032 on host: hub-msca-bdp-dphub-students-harshamuthukuru-sw-j9kq.c.msca-bdp-students.internal. Exit status: -100. Diagnostics: Container released on a *lost* node.\n",
      "23/03/10 02:02:32 WARN org.apache.spark.scheduler.cluster.YarnSchedulerBackend$YarnSchedulerEndpoint: Requesting driver to remove executor 34 for reason Container marked as failed: container_1678345426140_0013_01_000034 on host: hub-msca-bdp-dphub-students-harshamuthukuru-sw-j9kq.c.msca-bdp-students.internal. Exit status: -100. Diagnostics: Container released on a *lost* node.\n",
      "23/03/10 02:02:32 WARN org.apache.spark.scheduler.cluster.YarnSchedulerBackend$YarnSchedulerEndpoint: Requesting driver to remove executor 31 for reason Container marked as failed: container_1678345426140_0013_01_000031 on host: hub-msca-bdp-dphub-students-harshamuthukuru-sw-l21d.c.msca-bdp-students.internal. Exit status: -100. Diagnostics: Container released on a *lost* node.\n",
      "23/03/10 02:02:32 WARN org.apache.spark.scheduler.cluster.YarnSchedulerBackend$YarnSchedulerEndpoint: Requesting driver to remove executor 33 for reason Container marked as failed: container_1678345426140_0013_01_000033 on host: hub-msca-bdp-dphub-students-harshamuthukuru-sw-l21d.c.msca-bdp-students.internal. Exit status: -100. Diagnostics: Container released on a *lost* node.\n",
      "23/03/10 02:02:32 WARN org.apache.spark.scheduler.cluster.YarnSchedulerBackend$YarnSchedulerEndpoint: Requesting driver to remove executor 21 for reason Container marked as failed: container_1678345426140_0013_01_000021 on host: hub-msca-bdp-dphub-students-harshamuthukuru-sw-95r3.c.msca-bdp-students.internal. Exit status: -100. Diagnostics: Container released on a *lost* node.\n",
      "23/03/10 02:02:32 WARN org.apache.spark.scheduler.cluster.YarnSchedulerBackend$YarnSchedulerEndpoint: Requesting driver to remove executor 24 for reason Container marked as failed: container_1678345426140_0013_01_000024 on host: hub-msca-bdp-dphub-students-harshamuthukuru-sw-95r3.c.msca-bdp-students.internal. Exit status: -100. Diagnostics: Container released on a *lost* node.\n",
      "23/03/10 02:02:32 WARN org.apache.spark.scheduler.cluster.YarnSchedulerBackend$YarnSchedulerEndpoint: Requesting driver to remove executor 22 for reason Container marked as failed: container_1678345426140_0013_01_000022 on host: hub-msca-bdp-dphub-students-harshamuthukuru-sw-ht7c.c.msca-bdp-students.internal. Exit status: -100. Diagnostics: Container released on a *lost* node.\n",
      "23/03/10 02:02:32 WARN org.apache.spark.scheduler.cluster.YarnSchedulerBackend$YarnSchedulerEndpoint: Requesting driver to remove executor 25 for reason Container marked as failed: container_1678345426140_0013_01_000025 on host: hub-msca-bdp-dphub-students-harshamuthukuru-sw-ht7c.c.msca-bdp-students.internal. Exit status: -100. Diagnostics: Container released on a *lost* node.\n",
      "23/03/10 02:02:32 WARN org.apache.spark.scheduler.cluster.YarnSchedulerBackend$YarnSchedulerEndpoint: Requesting driver to remove executor 23 for reason Container marked as failed: container_1678345426140_0013_01_000023 on host: hub-msca-bdp-dphub-students-harshamuthukuru-sw-t23b.c.msca-bdp-students.internal. Exit status: -100. Diagnostics: Container released on a *lost* node.\n",
      "23/03/10 02:02:32 WARN org.apache.spark.scheduler.cluster.YarnSchedulerBackend$YarnSchedulerEndpoint: Requesting driver to remove executor 26 for reason Container marked as failed: container_1678345426140_0013_01_000026 on host: hub-msca-bdp-dphub-students-harshamuthukuru-sw-t23b.c.msca-bdp-students.internal. Exit status: -100. Diagnostics: Container released on a *lost* node.\n",
      "23/03/10 02:02:32 WARN org.apache.spark.scheduler.cluster.YarnSchedulerBackend$YarnSchedulerEndpoint: Requesting driver to remove executor 27 for reason Container marked as failed: container_1678345426140_0013_01_000027 on host: hub-msca-bdp-dphub-students-harshamuthukuru-sw-s8w9.c.msca-bdp-students.internal. Exit status: -100. Diagnostics: Container released on a *lost* node.\n",
      "23/03/10 02:02:32 WARN org.apache.spark.scheduler.cluster.YarnSchedulerBackend$YarnSchedulerEndpoint: Requesting driver to remove executor 28 for reason Container marked as failed: container_1678345426140_0013_01_000028 on host: hub-msca-bdp-dphub-students-harshamuthukuru-sw-s8w9.c.msca-bdp-students.internal. Exit status: -100. Diagnostics: Container released on a *lost* node.\n",
      "23/03/10 02:02:32 WARN org.apache.spark.scheduler.cluster.YarnSchedulerBackend$YarnSchedulerEndpoint: Requesting driver to remove executor 29 for reason Container marked as failed: container_1678345426140_0013_01_000029 on host: hub-msca-bdp-dphub-students-harshamuthukuru-sw-0fdc.c.msca-bdp-students.internal. Exit status: -100. Diagnostics: Container released on a *lost* node.\n",
      "23/03/10 02:02:32 WARN org.apache.spark.scheduler.cluster.YarnSchedulerBackend$YarnSchedulerEndpoint: Requesting driver to remove executor 30 for reason Container marked as failed: container_1678345426140_0013_01_000030 on host: hub-msca-bdp-dphub-students-harshamuthukuru-sw-0fdc.c.msca-bdp-students.internal. Exit status: -100. Diagnostics: Container released on a *lost* node.\n",
      "23/03/10 02:02:32 WARN org.apache.spark.scheduler.cluster.YarnSchedulerBackend$YarnSchedulerEndpoint: Requesting driver to remove executor 37 for reason Container marked as failed: container_1678345426140_0013_01_000037 on host: hub-msca-bdp-dphub-students-harshamuthukuru-sw-cpff.c.msca-bdp-students.internal. Exit status: -100. Diagnostics: Container released on a *lost* node.\n",
      "23/03/10 02:02:32 WARN org.apache.spark.scheduler.cluster.YarnSchedulerBackend$YarnSchedulerEndpoint: Requesting driver to remove executor 38 for reason Container marked as failed: container_1678345426140_0013_01_000038 on host: hub-msca-bdp-dphub-students-harshamuthukuru-sw-cpff.c.msca-bdp-students.internal. Exit status: -100. Diagnostics: Container released on a *lost* node.\n",
      "23/03/10 02:02:32 ERROR org.apache.spark.scheduler.cluster.YarnScheduler: Lost executor 35 on hub-msca-bdp-dphub-students-harshamuthukuru-sw-3spp.c.msca-bdp-students.internal: Container marked as failed: container_1678345426140_0013_01_000035 on host: hub-msca-bdp-dphub-students-harshamuthukuru-sw-3spp.c.msca-bdp-students.internal. Exit status: -100. Diagnostics: Container released on a *lost* node.\n",
      "23/03/10 02:02:32 ERROR org.apache.spark.scheduler.cluster.YarnScheduler: Lost executor 36 on hub-msca-bdp-dphub-students-harshamuthukuru-sw-3spp.c.msca-bdp-students.internal: Container marked as failed: container_1678345426140_0013_01_000036 on host: hub-msca-bdp-dphub-students-harshamuthukuru-sw-3spp.c.msca-bdp-students.internal. Exit status: -100. Diagnostics: Container released on a *lost* node.\n",
      "23/03/10 02:02:32 ERROR org.apache.spark.scheduler.cluster.YarnScheduler: Lost executor 32 on hub-msca-bdp-dphub-students-harshamuthukuru-sw-j9kq.c.msca-bdp-students.internal: Container marked as failed: container_1678345426140_0013_01_000032 on host: hub-msca-bdp-dphub-students-harshamuthukuru-sw-j9kq.c.msca-bdp-students.internal. Exit status: -100. Diagnostics: Container released on a *lost* node.\n",
      "23/03/10 02:02:32 ERROR org.apache.spark.scheduler.cluster.YarnScheduler: Lost executor 34 on hub-msca-bdp-dphub-students-harshamuthukuru-sw-j9kq.c.msca-bdp-students.internal: Container marked as failed: container_1678345426140_0013_01_000034 on host: hub-msca-bdp-dphub-students-harshamuthukuru-sw-j9kq.c.msca-bdp-students.internal. Exit status: -100. Diagnostics: Container released on a *lost* node.\n",
      "23/03/10 02:02:32 ERROR org.apache.spark.scheduler.cluster.YarnScheduler: Lost executor 31 on hub-msca-bdp-dphub-students-harshamuthukuru-sw-l21d.c.msca-bdp-students.internal: Container marked as failed: container_1678345426140_0013_01_000031 on host: hub-msca-bdp-dphub-students-harshamuthukuru-sw-l21d.c.msca-bdp-students.internal. Exit status: -100. Diagnostics: Container released on a *lost* node.\n",
      "23/03/10 02:02:32 ERROR org.apache.spark.scheduler.cluster.YarnScheduler: Lost executor 33 on hub-msca-bdp-dphub-students-harshamuthukuru-sw-l21d.c.msca-bdp-students.internal: Container marked as failed: container_1678345426140_0013_01_000033 on host: hub-msca-bdp-dphub-students-harshamuthukuru-sw-l21d.c.msca-bdp-students.internal. Exit status: -100. Diagnostics: Container released on a *lost* node.\n",
      "23/03/10 02:02:32 ERROR org.apache.spark.scheduler.cluster.YarnScheduler: Lost executor 21 on hub-msca-bdp-dphub-students-harshamuthukuru-sw-95r3.c.msca-bdp-students.internal: Container marked as failed: container_1678345426140_0013_01_000021 on host: hub-msca-bdp-dphub-students-harshamuthukuru-sw-95r3.c.msca-bdp-students.internal. Exit status: -100. Diagnostics: Container released on a *lost* node.\n",
      "23/03/10 02:02:32 ERROR org.apache.spark.scheduler.cluster.YarnScheduler: Lost executor 24 on hub-msca-bdp-dphub-students-harshamuthukuru-sw-95r3.c.msca-bdp-students.internal: Container marked as failed: container_1678345426140_0013_01_000024 on host: hub-msca-bdp-dphub-students-harshamuthukuru-sw-95r3.c.msca-bdp-students.internal. Exit status: -100. Diagnostics: Container released on a *lost* node.\n",
      "23/03/10 02:02:32 ERROR org.apache.spark.scheduler.cluster.YarnScheduler: Lost executor 22 on hub-msca-bdp-dphub-students-harshamuthukuru-sw-ht7c.c.msca-bdp-students.internal: Container marked as failed: container_1678345426140_0013_01_000022 on host: hub-msca-bdp-dphub-students-harshamuthukuru-sw-ht7c.c.msca-bdp-students.internal. Exit status: -100. Diagnostics: Container released on a *lost* node.\n",
      "23/03/10 02:02:32 ERROR org.apache.spark.scheduler.cluster.YarnScheduler: Lost executor 25 on hub-msca-bdp-dphub-students-harshamuthukuru-sw-ht7c.c.msca-bdp-students.internal: Container marked as failed: container_1678345426140_0013_01_000025 on host: hub-msca-bdp-dphub-students-harshamuthukuru-sw-ht7c.c.msca-bdp-students.internal. Exit status: -100. Diagnostics: Container released on a *lost* node.\n",
      "23/03/10 02:02:32 ERROR org.apache.spark.scheduler.cluster.YarnScheduler: Lost executor 23 on hub-msca-bdp-dphub-students-harshamuthukuru-sw-t23b.c.msca-bdp-students.internal: Container marked as failed: container_1678345426140_0013_01_000023 on host: hub-msca-bdp-dphub-students-harshamuthukuru-sw-t23b.c.msca-bdp-students.internal. Exit status: -100. Diagnostics: Container released on a *lost* node.\n",
      "23/03/10 02:02:32 ERROR org.apache.spark.scheduler.cluster.YarnScheduler: Lost executor 26 on hub-msca-bdp-dphub-students-harshamuthukuru-sw-t23b.c.msca-bdp-students.internal: Container marked as failed: container_1678345426140_0013_01_000026 on host: hub-msca-bdp-dphub-students-harshamuthukuru-sw-t23b.c.msca-bdp-students.internal. Exit status: -100. Diagnostics: Container released on a *lost* node.\n",
      "23/03/10 02:02:32 ERROR org.apache.spark.scheduler.cluster.YarnScheduler: Lost executor 27 on hub-msca-bdp-dphub-students-harshamuthukuru-sw-s8w9.c.msca-bdp-students.internal: Container marked as failed: container_1678345426140_0013_01_000027 on host: hub-msca-bdp-dphub-students-harshamuthukuru-sw-s8w9.c.msca-bdp-students.internal. Exit status: -100. Diagnostics: Container released on a *lost* node.\n",
      "23/03/10 02:02:32 ERROR org.apache.spark.scheduler.cluster.YarnScheduler: Lost executor 28 on hub-msca-bdp-dphub-students-harshamuthukuru-sw-s8w9.c.msca-bdp-students.internal: Container marked as failed: container_1678345426140_0013_01_000028 on host: hub-msca-bdp-dphub-students-harshamuthukuru-sw-s8w9.c.msca-bdp-students.internal. Exit status: -100. Diagnostics: Container released on a *lost* node.\n",
      "23/03/10 02:02:32 ERROR org.apache.spark.scheduler.cluster.YarnScheduler: Lost executor 29 on hub-msca-bdp-dphub-students-harshamuthukuru-sw-0fdc.c.msca-bdp-students.internal: Container marked as failed: container_1678345426140_0013_01_000029 on host: hub-msca-bdp-dphub-students-harshamuthukuru-sw-0fdc.c.msca-bdp-students.internal. Exit status: -100. Diagnostics: Container released on a *lost* node.\n",
      "23/03/10 02:02:32 ERROR org.apache.spark.scheduler.cluster.YarnScheduler: Lost executor 30 on hub-msca-bdp-dphub-students-harshamuthukuru-sw-0fdc.c.msca-bdp-students.internal: Container marked as failed: container_1678345426140_0013_01_000030 on host: hub-msca-bdp-dphub-students-harshamuthukuru-sw-0fdc.c.msca-bdp-students.internal. Exit status: -100. Diagnostics: Container released on a *lost* node.\n",
      "23/03/10 02:02:32 ERROR org.apache.spark.scheduler.cluster.YarnScheduler: Lost executor 37 on hub-msca-bdp-dphub-students-harshamuthukuru-sw-cpff.c.msca-bdp-students.internal: Container marked as failed: container_1678345426140_0013_01_000037 on host: hub-msca-bdp-dphub-students-harshamuthukuru-sw-cpff.c.msca-bdp-students.internal. Exit status: -100. Diagnostics: Container released on a *lost* node.\n",
      "23/03/10 02:02:32 ERROR org.apache.spark.scheduler.cluster.YarnScheduler: Lost executor 38 on hub-msca-bdp-dphub-students-harshamuthukuru-sw-cpff.c.msca-bdp-students.internal: Container marked as failed: container_1678345426140_0013_01_000038 on host: hub-msca-bdp-dphub-students-harshamuthukuru-sw-cpff.c.msca-bdp-students.internal. Exit status: -100. Diagnostics: Container released on a *lost* node.\n"
     ]
    }
   ],
   "source": [
    "pd_null_counts = df.select([F.count(F.when(F.isnull(c), c)).alias(c) for c in df.columns]).toPandas().transpose()"
   ]
  },
  {
   "cell_type": "code",
   "execution_count": 48,
   "id": "293e70a1-39e8-4552-a0c5-701a425e4dac",
   "metadata": {},
   "outputs": [],
   "source": [
    "pd_null_counts1 = pd_null_counts.rename(columns = {0:'null_counts'})"
   ]
  },
  {
   "cell_type": "code",
   "execution_count": 30,
   "id": "9c6b1936-d418-4db2-8baf-b8b89d3e6393",
   "metadata": {},
   "outputs": [],
   "source": [
    "pd_null_counts1['percentages'] = (pd_null_counts1['null_counts']/3141909)*100"
   ]
  },
  {
   "cell_type": "code",
   "execution_count": 31,
   "id": "7f2c9a1e-8b44-4d9d-8529-f95af5805c91",
   "metadata": {},
   "outputs": [
    {
     "data": {
      "text/html": [
       "<div>\n",
       "<style scoped>\n",
       "    .dataframe tbody tr th:only-of-type {\n",
       "        vertical-align: middle;\n",
       "    }\n",
       "\n",
       "    .dataframe tbody tr th {\n",
       "        vertical-align: top;\n",
       "    }\n",
       "\n",
       "    .dataframe thead th {\n",
       "        text-align: right;\n",
       "    }\n",
       "</style>\n",
       "<table border=\"1\" class=\"dataframe\">\n",
       "  <thead>\n",
       "    <tr style=\"text-align: right;\">\n",
       "      <th></th>\n",
       "      <th>null_counts</th>\n",
       "      <th>percentages</th>\n",
       "    </tr>\n",
       "  </thead>\n",
       "  <tbody>\n",
       "    <tr>\n",
       "      <th>id</th>\n",
       "      <td>0</td>\n",
       "      <td>0.000000</td>\n",
       "    </tr>\n",
       "    <tr>\n",
       "      <th>created_at</th>\n",
       "      <td>0</td>\n",
       "      <td>0.000000</td>\n",
       "    </tr>\n",
       "    <tr>\n",
       "      <th>user_name</th>\n",
       "      <td>0</td>\n",
       "      <td>0.000000</td>\n",
       "    </tr>\n",
       "    <tr>\n",
       "      <th>user_description</th>\n",
       "      <td>252250</td>\n",
       "      <td>8.028558</td>\n",
       "    </tr>\n",
       "    <tr>\n",
       "      <th>verified_status</th>\n",
       "      <td>0</td>\n",
       "      <td>0.000000</td>\n",
       "    </tr>\n",
       "    <tr>\n",
       "      <th>user_location</th>\n",
       "      <td>0</td>\n",
       "      <td>0.000000</td>\n",
       "    </tr>\n",
       "    <tr>\n",
       "      <th>followers_count</th>\n",
       "      <td>0</td>\n",
       "      <td>0.000000</td>\n",
       "    </tr>\n",
       "    <tr>\n",
       "      <th>geo_enabled</th>\n",
       "      <td>0</td>\n",
       "      <td>0.000000</td>\n",
       "    </tr>\n",
       "    <tr>\n",
       "      <th>user_id_str</th>\n",
       "      <td>0</td>\n",
       "      <td>0.000000</td>\n",
       "    </tr>\n",
       "    <tr>\n",
       "      <th>user_id</th>\n",
       "      <td>0</td>\n",
       "      <td>0.000000</td>\n",
       "    </tr>\n",
       "    <tr>\n",
       "      <th>tweet_text</th>\n",
       "      <td>0</td>\n",
       "      <td>0.000000</td>\n",
       "    </tr>\n",
       "    <tr>\n",
       "      <th>text</th>\n",
       "      <td>0</td>\n",
       "      <td>0.000000</td>\n",
       "    </tr>\n",
       "    <tr>\n",
       "      <th>retweet_count</th>\n",
       "      <td>204841</td>\n",
       "      <td>6.519635</td>\n",
       "    </tr>\n",
       "    <tr>\n",
       "      <th>retweeted_status</th>\n",
       "      <td>204841</td>\n",
       "      <td>6.519635</td>\n",
       "    </tr>\n",
       "    <tr>\n",
       "      <th>geo</th>\n",
       "      <td>3140496</td>\n",
       "      <td>99.955027</td>\n",
       "    </tr>\n",
       "    <tr>\n",
       "      <th>stripped</th>\n",
       "      <td>0</td>\n",
       "      <td>0.000000</td>\n",
       "    </tr>\n",
       "  </tbody>\n",
       "</table>\n",
       "</div>"
      ],
      "text/plain": [
       "                  null_counts  percentages\n",
       "id                          0     0.000000\n",
       "created_at                  0     0.000000\n",
       "user_name                   0     0.000000\n",
       "user_description       252250     8.028558\n",
       "verified_status             0     0.000000\n",
       "user_location               0     0.000000\n",
       "followers_count             0     0.000000\n",
       "geo_enabled                 0     0.000000\n",
       "user_id_str                 0     0.000000\n",
       "user_id                     0     0.000000\n",
       "tweet_text                  0     0.000000\n",
       "text                        0     0.000000\n",
       "retweet_count          204841     6.519635\n",
       "retweeted_status       204841     6.519635\n",
       "geo                   3140496    99.955027\n",
       "stripped                    0     0.000000"
      ]
     },
     "execution_count": 31,
     "metadata": {},
     "output_type": "execute_result"
    }
   ],
   "source": [
    "pd_null_counts1"
   ]
  },
  {
   "cell_type": "code",
   "execution_count": 50,
   "id": "9a840ccf-7361-46e1-82f8-3b4e11aaa37a",
   "metadata": {},
   "outputs": [
    {
     "name": "stdout",
     "output_type": "stream",
     "text": [
      "Count of Retweets:  2937068\n",
      "Count of original tweets 204841\n"
     ]
    }
   ],
   "source": [
    "print('Count of Retweets: ',3141909-204841)\n",
    "print('Count of original tweets',204841)"
   ]
  },
  {
   "cell_type": "code",
   "execution_count": 40,
   "id": "caa8d453-e0c1-48bc-8d90-5ce6a1c53d21",
   "metadata": {},
   "outputs": [
    {
     "data": {
      "text/plain": [
       "Text(0, 0.5, 'Percentage')"
      ]
     },
     "execution_count": 40,
     "metadata": {},
     "output_type": "execute_result"
    },
    {
     "data": {
      "image/png": "[encoded data removed]",
      "text/plain": [
       "<Figure size 600x400 with 1 Axes>"
      ]
     },
     "metadata": {},
     "output_type": "display_data"
    }
   ],
   "source": [
    "# create a bar plot of the percentages\n",
    "ax = pd_null_counts1.plot(kind='bar', y='percentages', figsize=(6,4))\n",
    "ax.set_title('Percentage of Null Values by Variable')\n",
    "ax.set_xlabel('Variable')\n",
    "ax.set_ylabel('Percentage')"
   ]
  },
  {
   "cell_type": "markdown",
   "id": "869e184b-0727-4502-9967-25ed177e9653",
   "metadata": {},
   "source": [
    "**Taking the sample of 1000 records**"
   ]
  },
  {
   "cell_type": "code",
   "execution_count": 41,
   "id": "7c1212c7-9942-474b-af90-3a28564459e0",
   "metadata": {},
   "outputs": [
    {
     "name": "stderr",
     "output_type": "stream",
     "text": [
      "                                                                                \r"
     ]
    }
   ],
   "source": [
    "pd_df_most_tweeted_tweets = df_filtered.groupBy('stripped').agg(F.count('id').alias('count')).orderBy('count', ascending=False).limit(10).toPandas()"
   ]
  },
  {
   "cell_type": "code",
   "execution_count": 46,
   "id": "a9908b8b-43bc-4aff-bc61-ec114b009ff1",
   "metadata": {},
   "outputs": [],
   "source": [
    "import pandas as pd"
   ]
  },
  {
   "cell_type": "code",
   "execution_count": 47,
   "id": "1e47a6fa-4bc0-452b-a579-931d87c6ca20",
   "metadata": {},
   "outputs": [
    {
     "data": {
      "text/html": [
       "<div>\n",
       "<style scoped>\n",
       "    .dataframe tbody tr th:only-of-type {\n",
       "        vertical-align: middle;\n",
       "    }\n",
       "\n",
       "    .dataframe tbody tr th {\n",
       "        vertical-align: top;\n",
       "    }\n",
       "\n",
       "    .dataframe thead th {\n",
       "        text-align: right;\n",
       "    }\n",
       "</style>\n",
       "<table border=\"1\" class=\"dataframe\">\n",
       "  <thead>\n",
       "    <tr style=\"text-align: right;\">\n",
       "      <th></th>\n",
       "      <th>stripped</th>\n",
       "      <th>count</th>\n",
       "    </tr>\n",
       "  </thead>\n",
       "  <tbody>\n",
       "    <tr>\n",
       "      <th>0</th>\n",
       "      <td>if you are okay with having muslim jewish and hindu students sit through a christian prayer in public school and not okay with having christian students sit through a muslim jewish or hindu prayer then it’s not religious freedom- it’s religious oppression</td>\n",
       "      <td>18699</td>\n",
       "    </tr>\n",
       "    <tr>\n",
       "      <th>1</th>\n",
       "      <td>i went to law school because my dad was sentenced to life in prison for non-violent drug crimes i did what i could to get him out he did 20 years and got out right in time for my graduation</td>\n",
       "      <td>11653</td>\n",
       "    </tr>\n",
       "    <tr>\n",
       "      <th>2</th>\n",
       "      <td>average weekly wages\\n1973: 873\\n2022: 813\\n\\nmedian home\\n1973: 30200\\n2022: 433100\\n\\nmonthly rent\\n1973: 108\\n2022: 2002\\n\\ntuition and fees at university of california\\n1973: 150\\n2022: 13104\\n\\nboomer: but why cant the slackers pay for college amp pay off their loans like we did?</td>\n",
       "      <td>10907</td>\n",
       "    </tr>\n",
       "    <tr>\n",
       "      <th>3</th>\n",
       "      <td>in 2006 a high school english teacher asked students to write to a famous author amp ask for advice\\n\\nkurt vonnegut was the only one to respond\\n\\nhis reply was a doozy</td>\n",
       "      <td>10358</td>\n",
       "    </tr>\n",
       "    <tr>\n",
       "      <th>4</th>\n",
       "      <td>just because a student does not raise their hand does not mean that they are not thinking deeply about the content we need to broaden what we mean by engagement in our classrooms/schools this will invite/value more students in the learning process</td>\n",
       "      <td>9608</td>\n",
       "    </tr>\n",
       "  </tbody>\n",
       "</table>\n",
       "</div>"
      ],
      "text/plain": [
       "                                                                                                                                                                                                                                                                                        stripped  \\\n",
       "0                                if you are okay with having muslim jewish and hindu students sit through a christian prayer in public school and not okay with having christian students sit through a muslim jewish or hindu prayer then it’s not religious freedom- it’s religious oppression   \n",
       "1                                                                                                 i went to law school because my dad was sentenced to life in prison for non-violent drug crimes i did what i could to get him out he did 20 years and got out right in time for my graduation    \n",
       "2  average weekly wages\\n1973: 873\\n2022: 813\\n\\nmedian home\\n1973: 30200\\n2022: 433100\\n\\nmonthly rent\\n1973: 108\\n2022: 2002\\n\\ntuition and fees at university of california\\n1973: 150\\n2022: 13104\\n\\nboomer: but why cant the slackers pay for college amp pay off their loans like we did?   \n",
       "3                                                                                                                     in 2006 a high school english teacher asked students to write to a famous author amp ask for advice\\n\\nkurt vonnegut was the only one to respond\\n\\nhis reply was a doozy    \n",
       "4                                        just because a student does not raise their hand does not mean that they are not thinking deeply about the content we need to broaden what we mean by engagement in our classrooms/schools this will invite/value more students in the learning process   \n",
       "\n",
       "   count  \n",
       "0  18699  \n",
       "1  11653  \n",
       "2  10907  \n",
       "3  10358  \n",
       "4   9608  "
      ]
     },
     "execution_count": 47,
     "metadata": {},
     "output_type": "execute_result"
    }
   ],
   "source": [
    "pd.set_option('display.max_colwidth', 1000)\n",
    "pd_df_most_tweeted_tweets.head()"
   ]
  },
  {
   "cell_type": "code",
   "execution_count": 51,
   "id": "2e978813-f944-445c-9c41-987101bd3875",
   "metadata": {},
   "outputs": [],
   "source": [
    "df_sample = df.limit(1000).cache()"
   ]
  },
  {
   "cell_type": "code",
   "execution_count": 52,
   "id": "75c25488-5d80-4d33-a3c9-e99372e108e4",
   "metadata": {},
   "outputs": [
    {
     "name": "stderr",
     "output_type": "stream",
     "text": [
      "                                                                                \r"
     ]
    },
    {
     "data": {
      "text/html": [
       "<table border='1'>\n",
       "<tr><th>id</th><th>created_at</th><th>user_name</th><th>user_description</th><th>verified_status</th><th>user_location</th><th>followers_count</th><th>geo_enabled</th><th>user_id_str</th><th>user_id</th><th>tweet_text</th><th>text</th><th>retweet_count</th><th>retweeted_status</th><th>geo</th><th>stripped</th></tr>\n",
       "<tr><td>1554487268446015490</td><td>Tue Aug 02 15:20:...</td><td>StrongerTMU</td><td>Toronto Metropoli...</td><td>false</td><td>TorontoMetU - Tor...</td><td>625</td><td>false</td><td>1920532658</td><td>1920532658</td><td>in a conversation...</td><td>RT @thecreativesc...</td><td>3</td><td>{null, Wed Jul 27...</td><td>null</td><td>in a conversation...</td></tr>\n",
       "</table>\n"
      ],
      "text/plain": [
       "+-------------------+--------------------+-----------+--------------------+---------------+--------------------+---------------+-----------+-----------+----------+--------------------+--------------------+-------------+--------------------+----+--------------------+\n",
       "|                 id|          created_at|  user_name|    user_description|verified_status|       user_location|followers_count|geo_enabled|user_id_str|   user_id|          tweet_text|                text|retweet_count|    retweeted_status| geo|            stripped|\n",
       "+-------------------+--------------------+-----------+--------------------+---------------+--------------------+---------------+-----------+-----------+----------+--------------------+--------------------+-------------+--------------------+----+--------------------+\n",
       "|1554487268446015490|Tue Aug 02 15:20:...|StrongerTMU|Toronto Metropoli...|          false|TorontoMetU - Tor...|            625|      false| 1920532658|1920532658|in a conversation...|RT @thecreativesc...|            3|{null, Wed Jul 27...|null|in a conversation...|\n",
       "+-------------------+--------------------+-----------+--------------------+---------------+--------------------+---------------+-----------+-----------+----------+--------------------+--------------------+-------------+--------------------+----+--------------------+"
      ]
     },
     "execution_count": 52,
     "metadata": {},
     "output_type": "execute_result"
    }
   ],
   "source": [
    "df_sample.limit(1)"
   ]
  },
  {
   "cell_type": "code",
   "execution_count": 53,
   "id": "9f02d082-7037-46d6-9dfa-463deee5f743",
   "metadata": {},
   "outputs": [
    {
     "name": "stdout",
     "output_type": "stream",
     "text": [
      "root\n",
      " |-- geo: struct (nullable = true)\n",
      " |    |-- coordinates: array (nullable = true)\n",
      " |    |    |-- element: double (containsNull = true)\n",
      " |    |-- type: string (nullable = true)\n",
      "\n"
     ]
    }
   ],
   "source": [
    "df_sample.select('geo').printSchema()"
   ]
  },
  {
   "cell_type": "code",
   "execution_count": 54,
   "id": "24a39c62-f015-4877-8834-7ed54537c1e0",
   "metadata": {},
   "outputs": [],
   "source": [
    "df_orginal_tweets = df.filter('retweeted_status is null and verified_status == True')"
   ]
  },
  {
   "cell_type": "code",
   "execution_count": 96,
   "id": "bc39018b-783e-4123-ab33-f639651b9a5d",
   "metadata": {},
   "outputs": [],
   "source": [
    "df_original = df_orginal_tweets.groupBy('user_name')\\\n",
    "                               .agg(F.count('*').alias('tweet_count'))\\\n",
    "                               .orderBy('tweet_count', ascending = False)"
   ]
  },
  {
   "cell_type": "code",
   "execution_count": 100,
   "id": "ed30ef29-6873-4ba5-ae26-e1e25922cd74",
   "metadata": {},
   "outputs": [
    {
     "name": "stderr",
     "output_type": "stream",
     "text": [
      "                                                                                \r"
     ]
    },
    {
     "data": {
      "text/plain": [
       "4348"
      ]
     },
     "execution_count": 100,
     "metadata": {},
     "output_type": "execute_result"
    }
   ],
   "source": [
    "df_original.count()"
   ]
  },
  {
   "cell_type": "code",
   "execution_count": 97,
   "id": "43edd672-3fcc-4e19-9494-2ab29f5e5ebc",
   "metadata": {},
   "outputs": [
    {
     "name": "stderr",
     "output_type": "stream",
     "text": [
      "                                                                                \r"
     ]
    }
   ],
   "source": [
    "pd_df_original = df_original.limit(30).toPandas()"
   ]
  },
  {
   "cell_type": "code",
   "execution_count": 98,
   "id": "8bb2174d-1ea4-46f0-a801-d73548748300",
   "metadata": {},
   "outputs": [
    {
     "data": {
      "text/html": [
       "<div>\n",
       "<style scoped>\n",
       "    .dataframe tbody tr th:only-of-type {\n",
       "        vertical-align: middle;\n",
       "    }\n",
       "\n",
       "    .dataframe tbody tr th {\n",
       "        vertical-align: top;\n",
       "    }\n",
       "\n",
       "    .dataframe thead th {\n",
       "        text-align: right;\n",
       "    }\n",
       "</style>\n",
       "<table border=\"1\" class=\"dataframe\">\n",
       "  <thead>\n",
       "    <tr style=\"text-align: right;\">\n",
       "      <th></th>\n",
       "      <th>user_name</th>\n",
       "      <th>tweet_count</th>\n",
       "    </tr>\n",
       "  </thead>\n",
       "  <tbody>\n",
       "    <tr>\n",
       "      <th>0</th>\n",
       "      <td>Jim Dickinson</td>\n",
       "      <td>88</td>\n",
       "    </tr>\n",
       "    <tr>\n",
       "      <th>1</th>\n",
       "      <td>Hindustan Times</td>\n",
       "      <td>47</td>\n",
       "    </tr>\n",
       "    <tr>\n",
       "      <th>2</th>\n",
       "      <td>Science Careers</td>\n",
       "      <td>43</td>\n",
       "    </tr>\n",
       "    <tr>\n",
       "      <th>3</th>\n",
       "      <td>U.S. News Education</td>\n",
       "      <td>42</td>\n",
       "    </tr>\n",
       "    <tr>\n",
       "      <th>4</th>\n",
       "      <td>Fox News</td>\n",
       "      <td>41</td>\n",
       "    </tr>\n",
       "  </tbody>\n",
       "</table>\n",
       "</div>"
      ],
      "text/plain": [
       "             user_name  tweet_count\n",
       "0        Jim Dickinson           88\n",
       "1      Hindustan Times           47\n",
       "2      Science Careers           43\n",
       "3  U.S. News Education           42\n",
       "4             Fox News           41"
      ]
     },
     "execution_count": 98,
     "metadata": {},
     "output_type": "execute_result"
    }
   ],
   "source": [
    "pd_df_original.head()"
   ]
  },
  {
   "cell_type": "code",
   "execution_count": null,
   "id": "cf5b5944-de76-4a8c-9484-2470aa182d24",
   "metadata": {},
   "outputs": [],
   "source": []
  },
  {
   "cell_type": "code",
   "execution_count": null,
   "id": "1f23dca5-e477-4512-9129-10ea3ec59f64",
   "metadata": {},
   "outputs": [],
   "source": []
  },
  {
   "cell_type": "markdown",
   "id": "9a9bb35f-727a-4846-95c1-ab66d1e79e9b",
   "metadata": {},
   "source": [
    "**Tweet vs Retweet distribution**"
   ]
  },
  {
   "cell_type": "code",
   "execution_count": 99,
   "id": "d3590af8-8580-41f4-9004-1e2f36f2a8ef",
   "metadata": {},
   "outputs": [
    {
     "name": "stdout",
     "output_type": "stream",
     "text": [
      "+-------------+--------------------+\n",
      "|retweet_count|          tweet_text|\n",
      "+-------------+--------------------+\n",
      "|            3|in a conversation...|\n",
      "|           17|no, students dese...|\n",
      "|            2|@wakefieldmiddle ...|\n",
      "|          357|some news : i am ...|\n",
      "|            2|will swaim, found...|\n",
      "|           52|‘hindu on campus’...|\n",
      "|          424|people in baltimo...|\n",
      "|           83|in up, there is a...|\n",
      "|         null|when is your firs...|\n",
      "|          539|as the up college...|\n",
      "+-------------+--------------------+\n",
      "only showing top 10 rows\n",
      "\n"
     ]
    }
   ],
   "source": [
    "df_sample.select('retweet_count', 'tweet_text').show(10)"
   ]
  },
  {
   "cell_type": "code",
   "execution_count": 59,
   "id": "06669258-6441-4eb1-a95e-a9c36c650bc1",
   "metadata": {},
   "outputs": [],
   "source": [
    "df_retweeted_tweets = df.filter('retweeted_status is not null')"
   ]
  },
  {
   "cell_type": "code",
   "execution_count": 129,
   "id": "fd97cbe3-a47a-4935-bdbf-8733eeabe8d5",
   "metadata": {},
   "outputs": [],
   "source": [
    "df_avg_retweets = df_retweeted_tweets.groupby(['user_name'])\\\n",
    "                            .agg((F.avg('retweet_count')).alias('average_retweets'),F.sum('retweet_count').alias('sum_retweets') )"
   ]
  },
  {
   "cell_type": "code",
   "execution_count": 130,
   "id": "d396c972-8a07-4429-8511-420a07529540",
   "metadata": {},
   "outputs": [
    {
     "name": "stderr",
     "output_type": "stream",
     "text": [
      "                                                                                \r"
     ]
    },
    {
     "data": {
      "text/html": [
       "<table border='1'>\n",
       "<tr><th>user_name</th><th>average_retweets</th><th>sum_retweets</th></tr>\n",
       "<tr><td>Vote Blue In 2022</td><td>27.0</td><td>54</td></tr>\n",
       "<tr><td>William Haughton</td><td>3488.6666666666665</td><td>10466</td></tr>\n",
       "<tr><td>IU PsychBrain</td><td>2.0</td><td>2</td></tr>\n",
       "<tr><td>Tamisha Williams ...</td><td>14.5</td><td>29</td></tr>\n",
       "<tr><td>G°ds°n OpPa ™🇳🇬...</td><td>366.5</td><td>3665</td></tr>\n",
       "</table>\n"
      ],
      "text/plain": [
       "+--------------------+------------------+------------+\n",
       "|           user_name|  average_retweets|sum_retweets|\n",
       "+--------------------+------------------+------------+\n",
       "|mary💙🌊🇺🇸♥️🇺🇦🌻|1346.4495412844037|      146763|\n",
       "|        Shai Cade 🐻|            5860.5|       23442|\n",
       "|        Mark Pantoja|             313.0|         313|\n",
       "|          Gayathri R|               4.0|           8|\n",
       "|Bob's Problematic...|            1004.0|        1004|\n",
       "+--------------------+------------------+------------+"
      ]
     },
     "execution_count": 130,
     "metadata": {},
     "output_type": "execute_result"
    }
   ],
   "source": [
    "df_avg_retweets.limit(5)"
   ]
  },
  {
   "cell_type": "code",
   "execution_count": null,
   "id": "9baf46b3-8f57-4a2e-a799-b0cf12430ca1",
   "metadata": {},
   "outputs": [],
   "source": []
  },
  {
   "cell_type": "code",
   "execution_count": null,
   "id": "c0212290-fc7c-48b9-9400-5ad5db505287",
   "metadata": {},
   "outputs": [],
   "source": []
  },
  {
   "cell_type": "code",
   "execution_count": 131,
   "id": "af634502-585b-43a6-ba06-1e0b231bcd85",
   "metadata": {},
   "outputs": [],
   "source": [
    "df_retweets_per_tweet = df_original.join(df_avg_retweets, 'user_name',\"left\")"
   ]
  },
  {
   "cell_type": "code",
   "execution_count": 132,
   "id": "95e8a3b4-f17c-419d-bdba-0738d832c844",
   "metadata": {},
   "outputs": [
    {
     "name": "stderr",
     "output_type": "stream",
     "text": [
      "                                                                                \r"
     ]
    },
    {
     "data": {
      "text/html": [
       "<table border='1'>\n",
       "<tr><th>user_name</th><th>tweet_count</th><th>average_retweets</th><th>sum_retweets</th></tr>\n",
       "<tr><td>#GenerationalThin...</td><td>2</td><td>2.3333333333333335</td><td>7</td></tr>\n",
       "<tr><td>106 KMEL</td><td>1</td><td>null</td><td>null</td></tr>\n",
       "<tr><td>12 News</td><td>1</td><td>null</td><td>null</td></tr>\n",
       "<tr><td>13WHAM</td><td>1</td><td>1.0</td><td>1</td></tr>\n",
       "<tr><td>2GB Sydney</td><td>1</td><td>null</td><td>null</td></tr>\n",
       "</table>\n"
      ],
      "text/plain": [
       "+--------------------+-----------+----------------+------------+\n",
       "|           user_name|tweet_count|average_retweets|sum_retweets|\n",
       "+--------------------+-----------+----------------+------------+\n",
       "|           98.7 KLUV|          1|            null|        null|\n",
       "|        9NEWS Denver|         11|            17.0|          17|\n",
       "|         ABC 17 News|          5|            null|        null|\n",
       "|Alex Arthur AAA ?...|          1|            null|        null|\n",
       "|     Alexis Cubit 🔥|          1|            null|        null|\n",
       "+--------------------+-----------+----------------+------------+"
      ]
     },
     "execution_count": 132,
     "metadata": {},
     "output_type": "execute_result"
    }
   ],
   "source": [
    "df_retweets_per_tweet.limit(5)"
   ]
  },
  {
   "cell_type": "code",
   "execution_count": 133,
   "id": "5ebe30e1-d71f-43d8-9f41-942e7d50b55b",
   "metadata": {},
   "outputs": [
    {
     "name": "stderr",
     "output_type": "stream",
     "text": [
      "                                                                                \r"
     ]
    }
   ],
   "source": [
    "pd_df_retweets_per_tweet = df_retweets_per_tweet.limit(10000).toPandas()"
   ]
  },
  {
   "cell_type": "code",
   "execution_count": 134,
   "id": "5a79bc71-3610-4b27-8458-8d773b9091f1",
   "metadata": {},
   "outputs": [
    {
     "data": {
      "text/plain": [
       "(4348, 4)"
      ]
     },
     "execution_count": 134,
     "metadata": {},
     "output_type": "execute_result"
    }
   ],
   "source": [
    "pd_df_retweets_per_tweet.shape"
   ]
  },
  {
   "cell_type": "code",
   "execution_count": 136,
   "id": "7d5d6952-793e-4c54-86f2-1038c3abb7f0",
   "metadata": {},
   "outputs": [
    {
     "data": {
      "text/html": [
       "<div>\n",
       "<style scoped>\n",
       "    .dataframe tbody tr th:only-of-type {\n",
       "        vertical-align: middle;\n",
       "    }\n",
       "\n",
       "    .dataframe tbody tr th {\n",
       "        vertical-align: top;\n",
       "    }\n",
       "\n",
       "    .dataframe thead th {\n",
       "        text-align: right;\n",
       "    }\n",
       "</style>\n",
       "<table border=\"1\" class=\"dataframe\">\n",
       "  <thead>\n",
       "    <tr style=\"text-align: right;\">\n",
       "      <th></th>\n",
       "      <th>user_name</th>\n",
       "      <th>tweet_count</th>\n",
       "      <th>average_retweets</th>\n",
       "      <th>sum_retweets</th>\n",
       "    </tr>\n",
       "  </thead>\n",
       "  <tbody>\n",
       "    <tr>\n",
       "      <th>1745</th>\n",
       "      <td>Jim Dickinson</td>\n",
       "      <td>88</td>\n",
       "      <td>25.941176</td>\n",
       "      <td>441.0</td>\n",
       "    </tr>\n",
       "    <tr>\n",
       "      <th>2526</th>\n",
       "      <td>Hindustan Times</td>\n",
       "      <td>47</td>\n",
       "      <td>1.037037</td>\n",
       "      <td>56.0</td>\n",
       "    </tr>\n",
       "    <tr>\n",
       "      <th>480</th>\n",
       "      <td>Science Careers</td>\n",
       "      <td>43</td>\n",
       "      <td>12.500000</td>\n",
       "      <td>50.0</td>\n",
       "    </tr>\n",
       "    <tr>\n",
       "      <th>4216</th>\n",
       "      <td>U.S. News Education</td>\n",
       "      <td>42</td>\n",
       "      <td>6.500000</td>\n",
       "      <td>13.0</td>\n",
       "    </tr>\n",
       "    <tr>\n",
       "      <th>2428</th>\n",
       "      <td>Fox News</td>\n",
       "      <td>41</td>\n",
       "      <td>1.000000</td>\n",
       "      <td>1.0</td>\n",
       "    </tr>\n",
       "  </tbody>\n",
       "</table>\n",
       "</div>"
      ],
      "text/plain": [
       "                user_name  tweet_count  average_retweets  sum_retweets\n",
       "1745        Jim Dickinson           88         25.941176         441.0\n",
       "2526      Hindustan Times           47          1.037037          56.0\n",
       "480       Science Careers           43         12.500000          50.0\n",
       "4216  U.S. News Education           42          6.500000          13.0\n",
       "2428             Fox News           41          1.000000           1.0"
      ]
     },
     "execution_count": 136,
     "metadata": {},
     "output_type": "execute_result"
    }
   ],
   "source": [
    "pd_df_retweets_per_tweet.sort_values('tweet_count', ascending=False).head()"
   ]
  },
  {
   "cell_type": "code",
   "execution_count": 25,
   "id": "b557615a-3c51-4511-affe-61838e011cde",
   "metadata": {},
   "outputs": [],
   "source": [
    "import matplotlib.pyplot as plt"
   ]
  },
  {
   "cell_type": "code",
   "execution_count": 26,
   "id": "170cf020-4339-4b89-93f3-a18b72ff298a",
   "metadata": {},
   "outputs": [
    {
     "data": {
      "image/png": "[encoded data removed]",
      "text/plain": [
       "<Figure size 640x480 with 1 Axes>"
      ]
     },
     "metadata": {},
     "output_type": "display_data"
    },
    {
     "data": {
      "image/png": "[encoded data removed]",
      "text/plain": [
       "<Figure size 640x480 with 1 Axes>"
      ]
     },
     "metadata": {},
     "output_type": "display_data"
    }
   ],
   "source": [
    "# create the histogram plot for tweet_count\n",
    "plt.hist(pd_df_retweets_per_tweet['tweet_count'], bins=10, color = 'blue')\n",
    "\n",
    "# add title and axis labels\n",
    "plt.title(\"Distribution of Tweet Count\")\n",
    "plt.xlabel(\"Tweet Count\")\n",
    "plt.ylabel(\"Frequency\")\n",
    "\n",
    "# show the plot\n",
    "plt.show()\n",
    "\n",
    "# create the histogram plot for average_retweets\n",
    "plt.hist(pd_df_retweets_per_tweet['average_retweets'], bins=10, color = 'green')\n",
    "\n",
    "# add title and axis labels\n",
    "plt.title(\"Distribution of Average Retweets\")\n",
    "plt.xlabel(\"Average Retweets\")\n",
    "plt.ylabel(\"Frequency\")\n",
    "\n",
    "# show the plot\n",
    "plt.show()"
   ]
  },
  {
   "cell_type": "code",
   "execution_count": 27,
   "id": "08e5cdac-c093-40fe-95af-12ce3fc85a01",
   "metadata": {},
   "outputs": [
    {
     "data": {
      "image/png": "[encoded data removed]",
      "text/plain": [
       "<Figure size 640x480 with 1 Axes>"
      ]
     },
     "metadata": {},
     "output_type": "display_data"
    }
   ],
   "source": [
    "# create the histogram plot for both tweet_count and average_retweets\n",
    "plt.hist(pd_df_retweets_per_tweet['tweet_count'], bins=10, alpha=0.5, label='Tweet Count')\n",
    "plt.hist(pd_df_retweets_per_tweet['average_retweets'], bins=10, alpha=0.5, label='Average Retweets')\n",
    "\n",
    "# add title and axis labels\n",
    "plt.title(\"Distribution of Tweet Count and Average Retweets\")\n",
    "plt.xlabel(\"Value\")\n",
    "plt.ylabel(\"Frequency\")\n",
    "\n",
    "# add legend\n",
    "plt.legend(loc='upper right')\n",
    "\n",
    "# show the plot\n",
    "plt.show()"
   ]
  },
  {
   "cell_type": "markdown",
   "id": "7b750ffb-26f6-4271-a3d3-2cf88c76c068",
   "metadata": {},
   "source": [
    "### Twitteres categorization"
   ]
  },
  {
   "cell_type": "markdown",
   "id": "f22913c9-f34e-4e9d-a3f8-9e643895d522",
   "metadata": {},
   "source": [
    "**Who are these Twitterers (government entities / universities / schools / nonprofit organizations / news outlets / social media influencers / someone else)?**"
   ]
  },
  {
   "cell_type": "markdown",
   "id": "391736d2-c365-4eee-8078-9398a906fd16",
   "metadata": {},
   "source": [
    "Example description from a verified profile\n",
    "\n",
    "The #1 source for celebrity news and inspiring stories. ✨ Listen to PEOPLE Every Day for the latest news in pop culture: http://peoplem.ag/3ferrDz\n",
    "\n",
    "Based on the description choosing keywords to categorize the twitterers"
   ]
  },
  {
   "cell_type": "code",
   "execution_count": 67,
   "id": "b6a9c85a-311e-48f0-b808-6a7544d7f658",
   "metadata": {},
   "outputs": [],
   "source": [
    "government_entities = ['government', 'agency', 'ministry', 'bureau', \n",
    "                       'administration', 'commission', 'council', 'embassy', 'consulate']"
   ]
  },
  {
   "cell_type": "code",
   "execution_count": 68,
   "id": "809d28b7-1faa-492c-b74f-43e6d2730220",
   "metadata": {},
   "outputs": [],
   "source": [
    "government_entities_regex = '|'.join([\"(\" + c +\")\" for c in government_entities])"
   ]
  },
  {
   "cell_type": "code",
   "execution_count": 69,
   "id": "bc22370c-b3fc-4c16-ba46-8f2856da1d93",
   "metadata": {},
   "outputs": [],
   "source": [
    "universities = ['university', 'college', 'academy', 'institute', 'campus', \n",
    "                'research', 'department', 'program', 'alumni', 'degree',]"
   ]
  },
  {
   "cell_type": "code",
   "execution_count": 70,
   "id": "687e5f34-be3c-4400-b864-5ac1fbe2a3e1",
   "metadata": {},
   "outputs": [],
   "source": [
    "universities_regex = '|'.join([\"(\" + c + \")\" for c in universities])"
   ]
  },
  {
   "cell_type": "code",
   "execution_count": 71,
   "id": "e3884cb6-e5a3-40e2-9d21-238fce0bdf96",
   "metadata": {},
   "outputs": [],
   "source": [
    "schools = [\n",
    "           'school', 'academy', 'institute', 'campus', 'education', 'teacher', 'student', 'parent', \n",
    "           'principal', 'superintendent', 'district', 'classroom', 'learning', 'curriculum', 'education reform']"
   ]
  },
  {
   "cell_type": "code",
   "execution_count": 72,
   "id": "fa18d32d-93cc-4139-bf9f-207fd74318e1",
   "metadata": {},
   "outputs": [],
   "source": [
    "schools_regex = '|'.join([\"(\" + c + \")\" for c in schools])"
   ]
  },
  {
   "cell_type": "code",
   "execution_count": 73,
   "id": "3659ffce-b876-4134-9a0a-7474491a324a",
   "metadata": {},
   "outputs": [],
   "source": [
    "nonprofit_organizations = ['nonprofit', 'charity', 'foundation', 'ngo', 'social justice', \n",
    "                           'advocacy', 'philanthropy', 'volunteer', 'donation',\n",
    "                           'support', 'human rights', 'environment']"
   ]
  },
  {
   "cell_type": "code",
   "execution_count": 74,
   "id": "4163957b-b43c-4304-b46b-9cbd39deb5a4",
   "metadata": {},
   "outputs": [],
   "source": [
    "nonprofit_organizations_regex = '|'.join([\"(\" + c + \")\" for c in nonprofit_organizations])"
   ]
  },
  {
   "cell_type": "code",
   "execution_count": 75,
   "id": "30f03c9e-9c66-4c65-90dd-3c80a813f8b9",
   "metadata": {},
   "outputs": [],
   "source": [
    "news_outlets = ['news', 'media', 'journalism', 'newspaper', 'magazine', 'editor', 'reporter',\n",
    "                'breaking news', 'current events', 'world news', 'local news', 'national news', \n",
    "                'international news', 'broadcast', 'daily']"
   ]
  },
  {
   "cell_type": "code",
   "execution_count": 76,
   "id": "3769932d-8bef-4f20-95f3-2d48168e5ae6",
   "metadata": {},
   "outputs": [],
   "source": [
    "news_outlets_regex = '|'.join([\"(\" + c + \")\" for c in news_outlets])"
   ]
  },
  {
   "cell_type": "code",
   "execution_count": 77,
   "id": "708d037a-03ca-4b92-8052-b94c03816dba",
   "metadata": {},
   "outputs": [],
   "source": [
    "# social_media_influencers = ['influencer', 'social media', 'lifestyle', 'fashion', 'beauty', \n",
    "#                             'foodie', 'travel', 'fitness', 'health', 'wellness', 'blogger', 'vlogger', \n",
    "#                             'content creator', 'brand ambassador', 'sponsored']"
   ]
  },
  {
   "cell_type": "code",
   "execution_count": 78,
   "id": "85a9c33f-c739-4856-ae00-4cd3f0a4f30d",
   "metadata": {},
   "outputs": [],
   "source": [
    "# social_media_influencers_regex = '|'.join([\"(\" + c + \")\" for c in social_media_influencers])"
   ]
  },
  {
   "cell_type": "code",
   "execution_count": 79,
   "id": "7f6a4962-2062-4808-9ce4-b72b4a903c7b",
   "metadata": {},
   "outputs": [
    {
     "name": "stdout",
     "output_type": "stream",
     "text": [
      "id\n",
      "created_at\n",
      "user_name\n",
      "user_description\n",
      "verified_status\n",
      "user_location\n",
      "followers_count\n",
      "geo_enabled\n",
      "user_id_str\n",
      "user_id\n",
      "tweet_text\n",
      "text\n",
      "retweet_count\n",
      "retweeted_status\n",
      "geo\n",
      "stripped\n"
     ]
    }
   ],
   "source": [
    "for col in df_sample.columns:\n",
    "    print(col)"
   ]
  },
  {
   "cell_type": "code",
   "execution_count": 80,
   "id": "76737293-854a-452e-8c43-5f9144e8a862",
   "metadata": {},
   "outputs": [],
   "source": [
    "df_lower_user_name_description = df.withColumn(\"user_name_lower\",F.lower(F.col('user_name')))\\\n",
    "                                    .withColumn(\"user_description_lower\", F.lower(F.col('user_description')))"
   ]
  },
  {
   "cell_type": "code",
   "execution_count": 81,
   "id": "a79d14d5-8137-4966-9752-4710d912f19f",
   "metadata": {},
   "outputs": [
    {
     "name": "stdout",
     "output_type": "stream",
     "text": [
      "root\n",
      " |-- verified_status: boolean (nullable = true)\n",
      "\n"
     ]
    }
   ],
   "source": [
    "df_lower_user_name_description.select('verified_status').printSchema()"
   ]
  },
  {
   "cell_type": "code",
   "execution_count": 82,
   "id": "ef232b09-61a0-4724-a590-0538d40d3a15",
   "metadata": {},
   "outputs": [],
   "source": [
    "df_categorize_twitteres = df_lower_user_name_description\\\n",
    "                          .withColumn(\"organization\", F.when((df['followers_count'] < 1000), 'Others')\\\n",
    "                                      .when((df_lower_user_name_description['user_name_lower'].rlike(news_outlets_regex)) | (df_lower_user_name_description['user_description_lower'].rlike(news_outlets_regex)), 'News')\\\n",
    "                                      .when((df_lower_user_name_description['user_name_lower'].rlike(government_entities_regex)) | (df_lower_user_name_description['user_description_lower'].rlike(government_entities_regex)), 'Government')\\\n",
    "                                      .when((df_lower_user_name_description['user_name_lower'].rlike(nonprofit_organizations_regex)) | (df_lower_user_name_description['user_description_lower'].rlike(nonprofit_organizations_regex)), 'NGO')\\\n",
    "                                      .when((df_lower_user_name_description['user_name_lower'].rlike(universities_regex)) | (df_lower_user_name_description['user_description_lower'].rlike(universities_regex)), 'Universities')\\\n",
    "                                      .when((df_lower_user_name_description['user_name_lower'].rlike(schools_regex)) | (df_lower_user_name_description['user_description_lower'].rlike(schools_regex)), 'Schools')\\\n",
    "                                      .when((df_lower_user_name_description['verified_status'] == True) | (df_lower_user_name_description['followers_count'] > 10000), 'Influencers')          \n",
    "                                      .otherwise('Others')        \n",
    ").drop('user_name_lower', 'user_description_lower')"
   ]
  },
  {
   "cell_type": "code",
   "execution_count": 101,
   "id": "6bce9636-a7b7-4ac3-99b7-5eac92d1f9cb",
   "metadata": {},
   "outputs": [],
   "source": [
    "df_user_org_type = df_categorize_twitteres.select('user_name', 'organization').\\\n",
    "                    groupBy('user_name').agg(F.first('organization').alias('organization'))"
   ]
  },
  {
   "cell_type": "code",
   "execution_count": 102,
   "id": "35989d14-5918-4feb-abb0-3b9cff50f794",
   "metadata": {},
   "outputs": [
    {
     "name": "stderr",
     "output_type": "stream",
     "text": [
      "                                                                                \r"
     ]
    },
    {
     "data": {
      "text/html": [
       "<table border='1'>\n",
       "<tr><th>user_name</th><th>organization</th></tr>\n",
       "<tr><td> ANTHONIO DE&#x27; GR8</td><td>Others</td></tr>\n",
       "<tr><td> Engr Iftikhar kamal</td><td>Others</td></tr>\n",
       "<tr><td> TEAM SLAMOLA </td><td>Others</td></tr>\n",
       "<tr><td> William White</td><td>Others</td></tr>\n",
       "<tr><td>! AM</td><td>Others</td></tr>\n",
       "</table>\n"
      ],
      "text/plain": [
       "+--------------------+------------+\n",
       "|           user_name|organization|\n",
       "+--------------------+------------+\n",
       "|    ANTHONIO DE' GR8|      Others|\n",
       "| Engr Iftikhar kamal|      Others|\n",
       "|       TEAM SLAMOLA |      Others|\n",
       "|       William White|      Others|\n",
       "|                ! AM|      Others|\n",
       "+--------------------+------------+"
      ]
     },
     "execution_count": 102,
     "metadata": {},
     "output_type": "execute_result"
    }
   ],
   "source": [
    "df_user_org_type.limit(5)"
   ]
  },
  {
   "cell_type": "code",
   "execution_count": 83,
   "id": "cedc8367-f67f-42a7-861e-917e7c26ab47",
   "metadata": {},
   "outputs": [
    {
     "name": "stderr",
     "output_type": "stream",
     "text": [
      "                                                                                \r"
     ]
    }
   ],
   "source": [
    "pd_sample_organization_count = df_categorize_twitteres.select('user_name', 'organization', 'user_description').limit(10).cache().toPandas()"
   ]
  },
  {
   "cell_type": "code",
   "execution_count": null,
   "id": "407eac57-03cd-47fd-a501-6ecae527a890",
   "metadata": {},
   "outputs": [],
   "source": [
    "pd_df_retweets_per_tweet"
   ]
  },
  {
   "cell_type": "code",
   "execution_count": 140,
   "id": "b46977a1-4197-45b9-ab9d-3f303ae0f297",
   "metadata": {},
   "outputs": [],
   "source": [
    "df_original_twitteres_organization_retweets = df_retweets_per_tweet.join(df_user_org_type, 'user_name', 'left' )"
   ]
  },
  {
   "cell_type": "code",
   "execution_count": null,
   "id": "e1a2ce72-464d-4c69-b488-d19f758a1bf1",
   "metadata": {},
   "outputs": [],
   "source": []
  },
  {
   "cell_type": "code",
   "execution_count": null,
   "id": "84608c54-1dc5-4698-a423-73703a5c04ea",
   "metadata": {},
   "outputs": [],
   "source": [
    "pd_df_original_twitteres_org_count = df_original_twitteres_organization.groupBy('organization').\\\n",
    "                                    agg(F.count('user_name').alias('count_original_content_twitterers')).toPandas()"
   ]
  },
  {
   "cell_type": "code",
   "execution_count": 108,
   "id": "7275c93c-39fe-47ce-a138-85a98244360c",
   "metadata": {},
   "outputs": [],
   "source": [
    "df_original_twitteres_organization = df_original.join(df_user_org_type, 'user_name', 'left' )"
   ]
  },
  {
   "cell_type": "code",
   "execution_count": 112,
   "id": "8e918fcd-93b8-45b4-bf69-4c7dfd40cbbd",
   "metadata": {},
   "outputs": [
    {
     "name": "stderr",
     "output_type": "stream",
     "text": [
      "                                                                                \r"
     ]
    }
   ],
   "source": [
    "pd_df_original_twitteres_org_count = df_original_twitteres_organization.groupBy('organization').\\\n",
    "                                    agg(F.count('user_name').alias('count_original_content_twitterers')).toPandas()"
   ]
  },
  {
   "cell_type": "code",
   "execution_count": 137,
   "id": "20ec00bc-a4d8-4e84-a100-c78489ea2dfa",
   "metadata": {},
   "outputs": [
    {
     "name": "stderr",
     "output_type": "stream",
     "text": [
      "                                                                                \r"
     ]
    }
   ],
   "source": [
    "pd_df_twitterer_original_tweet_count = df_original_twitteres_organization.groupBy('organization').\\\n",
    "                                    agg(F.sum('tweet_count').alias('tweet_count')).toPandas()"
   ]
  },
  {
   "cell_type": "code",
   "execution_count": 162,
   "id": "7b933076-c252-4bc3-8711-4eac6c216c58",
   "metadata": {},
   "outputs": [],
   "source": [
    "pd_df_twitterer_original_tweet_count['tweet_percentage'] = (pd_df_twitterer_original_tweet_count['tweet_count']/pd_df_twitterer_original_tweet_count['tweet_count'].sum())*100"
   ]
  },
  {
   "cell_type": "code",
   "execution_count": 163,
   "id": "8be394f1-0d02-46f9-8639-92177a1d4ee0",
   "metadata": {},
   "outputs": [
    {
     "data": {
      "text/plain": [
       "organization         object\n",
       "tweet_count           int64\n",
       "percentage          float64\n",
       "tweet_percentage    float64\n",
       "dtype: object"
      ]
     },
     "execution_count": 163,
     "metadata": {},
     "output_type": "execute_result"
    }
   ],
   "source": [
    "pd_df_twitterer_original_tweet_count.dtypes"
   ]
  },
  {
   "cell_type": "code",
   "execution_count": 164,
   "id": "2bf64997-1ca0-44b3-8aaf-6d01b2d1f752",
   "metadata": {},
   "outputs": [],
   "source": [
    "pd_df_twitterer_original_tweet_count['tweet_percentage'] = pd_df_twitterer_original_tweet_count['tweet_percentage'].apply(lambda x: round(x, 2))"
   ]
  },
  {
   "cell_type": "code",
   "execution_count": 165,
   "id": "ade9ecd4-a6a8-4a18-82ad-a7c9e16bcc20",
   "metadata": {},
   "outputs": [
    {
     "data": {
      "text/html": [
       "<div>\n",
       "<style scoped>\n",
       "    .dataframe tbody tr th:only-of-type {\n",
       "        vertical-align: middle;\n",
       "    }\n",
       "\n",
       "    .dataframe tbody tr th {\n",
       "        vertical-align: top;\n",
       "    }\n",
       "\n",
       "    .dataframe thead th {\n",
       "        text-align: right;\n",
       "    }\n",
       "</style>\n",
       "<table border=\"1\" class=\"dataframe\">\n",
       "  <thead>\n",
       "    <tr style=\"text-align: right;\">\n",
       "      <th></th>\n",
       "      <th>organization</th>\n",
       "      <th>tweet_count</th>\n",
       "      <th>percentage</th>\n",
       "      <th>tweet_percentage</th>\n",
       "    </tr>\n",
       "  </thead>\n",
       "  <tbody>\n",
       "    <tr>\n",
       "      <th>0</th>\n",
       "      <td>Government</td>\n",
       "      <td>120</td>\n",
       "      <td>1.32</td>\n",
       "      <td>1.32</td>\n",
       "    </tr>\n",
       "    <tr>\n",
       "      <th>1</th>\n",
       "      <td>NGO</td>\n",
       "      <td>149</td>\n",
       "      <td>1.64</td>\n",
       "      <td>1.64</td>\n",
       "    </tr>\n",
       "    <tr>\n",
       "      <th>2</th>\n",
       "      <td>Influencers</td>\n",
       "      <td>2055</td>\n",
       "      <td>22.60</td>\n",
       "      <td>22.60</td>\n",
       "    </tr>\n",
       "    <tr>\n",
       "      <th>3</th>\n",
       "      <td>Others</td>\n",
       "      <td>304</td>\n",
       "      <td>3.34</td>\n",
       "      <td>3.34</td>\n",
       "    </tr>\n",
       "    <tr>\n",
       "      <th>4</th>\n",
       "      <td>Schools</td>\n",
       "      <td>291</td>\n",
       "      <td>3.20</td>\n",
       "      <td>3.20</td>\n",
       "    </tr>\n",
       "    <tr>\n",
       "      <th>5</th>\n",
       "      <td>Universities</td>\n",
       "      <td>347</td>\n",
       "      <td>3.82</td>\n",
       "      <td>3.82</td>\n",
       "    </tr>\n",
       "    <tr>\n",
       "      <th>6</th>\n",
       "      <td>News</td>\n",
       "      <td>5826</td>\n",
       "      <td>64.08</td>\n",
       "      <td>64.08</td>\n",
       "    </tr>\n",
       "  </tbody>\n",
       "</table>\n",
       "</div>"
      ],
      "text/plain": [
       "   organization  tweet_count  percentage  tweet_percentage\n",
       "0    Government          120        1.32              1.32\n",
       "1           NGO          149        1.64              1.64\n",
       "2   Influencers         2055       22.60             22.60\n",
       "3        Others          304        3.34              3.34\n",
       "4       Schools          291        3.20              3.20\n",
       "5  Universities          347        3.82              3.82\n",
       "6          News         5826       64.08             64.08"
      ]
     },
     "execution_count": 165,
     "metadata": {},
     "output_type": "execute_result"
    }
   ],
   "source": [
    "pd_df_twitterer_original_tweet_count"
   ]
  },
  {
   "cell_type": "code",
   "execution_count": 146,
   "id": "6fbfd5fc-7c1c-44a4-b3cb-db30460edbdb",
   "metadata": {},
   "outputs": [
    {
     "data": {
      "image/png": "[encoded data removed]",
      "text/plain": [
       "<Figure size 800x600 with 1 Axes>"
      ]
     },
     "metadata": {},
     "output_type": "display_data"
    }
   ],
   "source": [
    "fig, ax = plt.subplots(figsize = (8,6))\n",
    "ax.barh(pd_df_twitterer_original_tweet_count['organization'], pd_df_twitterer_original_tweet_count['tweet_count'], color='blue')\n",
    "ax.set_xlabel('Count of twitterers')\n",
    "ax.set_ylabel('Organization')\n",
    "ax.set_title('Count of Tweets by Organization Type')\n",
    "plt.xlim([-5, 6000])\n",
    "for i, v in enumerate(pd_df_twitterer_original_tweet_count['tweet_count']):\n",
    "    plt.text(v, i - 0.1, str(v), color='black')\n",
    "formatter = ticker.StrMethodFormatter('{x:,.0f}')\n",
    "ax.xaxis.set_major_formatter(formatter)\n",
    "plt.show()"
   ]
  },
  {
   "cell_type": "code",
   "execution_count": null,
   "id": "1431fcf3-9558-4849-b97d-ce9a8f5711e0",
   "metadata": {},
   "outputs": [
    {
     "name": "stderr",
     "output_type": "stream",
     "text": [
      "                                                                                ]\r"
     ]
    }
   ],
   "source": [
    "pd_df_twitterer_original_retweet_count = df_original_twitteres_organization_retweets.groupBy('organization').\\\n",
    "                                    agg(F.sum('sum_retweets').alias('retweets_count')).toPandas()"
   ]
  },
  {
   "cell_type": "code",
   "execution_count": 143,
   "id": "6475969d-1bcd-4c8c-8aa4-a40683d62365",
   "metadata": {},
   "outputs": [
    {
     "data": {
      "text/html": [
       "<div>\n",
       "<style scoped>\n",
       "    .dataframe tbody tr th:only-of-type {\n",
       "        vertical-align: middle;\n",
       "    }\n",
       "\n",
       "    .dataframe tbody tr th {\n",
       "        vertical-align: top;\n",
       "    }\n",
       "\n",
       "    .dataframe thead th {\n",
       "        text-align: right;\n",
       "    }\n",
       "</style>\n",
       "<table border=\"1\" class=\"dataframe\">\n",
       "  <thead>\n",
       "    <tr style=\"text-align: right;\">\n",
       "      <th></th>\n",
       "      <th>organization</th>\n",
       "      <th>retweets_count</th>\n",
       "    </tr>\n",
       "  </thead>\n",
       "  <tbody>\n",
       "    <tr>\n",
       "      <th>0</th>\n",
       "      <td>Government</td>\n",
       "      <td>34227</td>\n",
       "    </tr>\n",
       "    <tr>\n",
       "      <th>1</th>\n",
       "      <td>NGO</td>\n",
       "      <td>126147</td>\n",
       "    </tr>\n",
       "    <tr>\n",
       "      <th>2</th>\n",
       "      <td>Influencers</td>\n",
       "      <td>935450</td>\n",
       "    </tr>\n",
       "    <tr>\n",
       "      <th>3</th>\n",
       "      <td>Others</td>\n",
       "      <td>6664830</td>\n",
       "    </tr>\n",
       "    <tr>\n",
       "      <th>4</th>\n",
       "      <td>Schools</td>\n",
       "      <td>101500</td>\n",
       "    </tr>\n",
       "    <tr>\n",
       "      <th>5</th>\n",
       "      <td>Universities</td>\n",
       "      <td>475809</td>\n",
       "    </tr>\n",
       "    <tr>\n",
       "      <th>6</th>\n",
       "      <td>News</td>\n",
       "      <td>932875</td>\n",
       "    </tr>\n",
       "  </tbody>\n",
       "</table>\n",
       "</div>"
      ],
      "text/plain": [
       "   organization  retweets_count\n",
       "0    Government           34227\n",
       "1           NGO          126147\n",
       "2   Influencers          935450\n",
       "3        Others         6664830\n",
       "4       Schools          101500\n",
       "5  Universities          475809\n",
       "6          News          932875"
      ]
     },
     "execution_count": 143,
     "metadata": {},
     "output_type": "execute_result"
    }
   ],
   "source": [
    "pd_df_twitterer_original_retweet_count"
   ]
  },
  {
   "cell_type": "code",
   "execution_count": 166,
   "id": "9fdcd626-8a2c-4150-ae4c-8a4058f7788e",
   "metadata": {},
   "outputs": [],
   "source": [
    "pd_df_twitterer_original_retweet_count['retweet_percentage'] = (pd_df_twitterer_original_retweet_count['retweets_count']/pd_df_twitterer_original_retweet_count['retweets_count'].sum())*100"
   ]
  },
  {
   "cell_type": "code",
   "execution_count": 167,
   "id": "9b002e3d-edfd-4779-9e75-a90edd9f5a43",
   "metadata": {},
   "outputs": [],
   "source": [
    "pd_df_twitterer_original_retweet_count['retweet_percentage'] = pd_df_twitterer_original_retweet_count['retweet_percentage'].apply(lambda x: round(x, 2))"
   ]
  },
  {
   "cell_type": "code",
   "execution_count": 168,
   "id": "faa8b3cd-9013-4889-9b6a-9c1db637fa52",
   "metadata": {},
   "outputs": [
    {
     "data": {
      "text/html": [
       "<div>\n",
       "<style scoped>\n",
       "    .dataframe tbody tr th:only-of-type {\n",
       "        vertical-align: middle;\n",
       "    }\n",
       "\n",
       "    .dataframe tbody tr th {\n",
       "        vertical-align: top;\n",
       "    }\n",
       "\n",
       "    .dataframe thead th {\n",
       "        text-align: right;\n",
       "    }\n",
       "</style>\n",
       "<table border=\"1\" class=\"dataframe\">\n",
       "  <thead>\n",
       "    <tr style=\"text-align: right;\">\n",
       "      <th></th>\n",
       "      <th>organization</th>\n",
       "      <th>retweets_count</th>\n",
       "      <th>percentage</th>\n",
       "      <th>retweet_percentage</th>\n",
       "    </tr>\n",
       "  </thead>\n",
       "  <tbody>\n",
       "    <tr>\n",
       "      <th>0</th>\n",
       "      <td>Government</td>\n",
       "      <td>34227</td>\n",
       "      <td>0.37</td>\n",
       "      <td>0.37</td>\n",
       "    </tr>\n",
       "    <tr>\n",
       "      <th>1</th>\n",
       "      <td>NGO</td>\n",
       "      <td>126147</td>\n",
       "      <td>1.36</td>\n",
       "      <td>1.36</td>\n",
       "    </tr>\n",
       "    <tr>\n",
       "      <th>2</th>\n",
       "      <td>Influencers</td>\n",
       "      <td>935450</td>\n",
       "      <td>10.09</td>\n",
       "      <td>10.09</td>\n",
       "    </tr>\n",
       "    <tr>\n",
       "      <th>3</th>\n",
       "      <td>Others</td>\n",
       "      <td>6664830</td>\n",
       "      <td>71.89</td>\n",
       "      <td>71.89</td>\n",
       "    </tr>\n",
       "    <tr>\n",
       "      <th>4</th>\n",
       "      <td>Schools</td>\n",
       "      <td>101500</td>\n",
       "      <td>1.09</td>\n",
       "      <td>1.09</td>\n",
       "    </tr>\n",
       "    <tr>\n",
       "      <th>5</th>\n",
       "      <td>Universities</td>\n",
       "      <td>475809</td>\n",
       "      <td>5.13</td>\n",
       "      <td>5.13</td>\n",
       "    </tr>\n",
       "    <tr>\n",
       "      <th>6</th>\n",
       "      <td>News</td>\n",
       "      <td>932875</td>\n",
       "      <td>10.06</td>\n",
       "      <td>10.06</td>\n",
       "    </tr>\n",
       "  </tbody>\n",
       "</table>\n",
       "</div>"
      ],
      "text/plain": [
       "   organization  retweets_count  percentage  retweet_percentage\n",
       "0    Government           34227        0.37                0.37\n",
       "1           NGO          126147        1.36                1.36\n",
       "2   Influencers          935450       10.09               10.09\n",
       "3        Others         6664830       71.89               71.89\n",
       "4       Schools          101500        1.09                1.09\n",
       "5  Universities          475809        5.13                5.13\n",
       "6          News          932875       10.06               10.06"
      ]
     },
     "execution_count": 168,
     "metadata": {},
     "output_type": "execute_result"
    }
   ],
   "source": [
    "pd_df_twitterer_original_retweet_count"
   ]
  },
  {
   "cell_type": "code",
   "execution_count": 170,
   "id": "b63f3f6b-7ed4-42fa-884b-3ccca2871289",
   "metadata": {},
   "outputs": [
    {
     "data": {
      "image/png": "[encoded data removed]",
      "text/plain": [
       "<Figure size 640x480 with 1 Axes>"
      ]
     },
     "metadata": {},
     "output_type": "display_data"
    }
   ],
   "source": [
    "# Create a figure and axis\n",
    "fig, ax = plt.subplots()\n",
    "\n",
    "# Plot the dataframes\n",
    "pd_df_twitterer_original_tweet_count.plot(kind='bar', x='organization', y='tweet_percentage', ax=ax, color='blue', alpha=0.5)\n",
    "pd_df_twitterer_original_retweet_count.plot(kind='bar', x='organization', y='retweet_percentage', ax=ax, color='red', alpha=0.5)\n",
    "\n",
    "# Set the title and labels\n",
    "ax.set_title('Percentage of Tweet and Retweet Counts by Organization')\n",
    "ax.set_xlabel('Organization')\n",
    "ax.set_ylabel('Percentage')\n",
    "\n",
    "# Show the plot\n",
    "plt.show()"
   ]
  },
  {
   "cell_type": "code",
   "execution_count": 184,
   "id": "18395ad0-62f7-4372-873e-e52aa73f61ad",
   "metadata": {},
   "outputs": [
    {
     "data": {
      "image/png": "[encoded data removed]",
      "text/plain": [
       "<Figure size 640x480 with 1 Axes>"
      ]
     },
     "metadata": {},
     "output_type": "display_data"
    }
   ],
   "source": [
    "import matplotlib.pyplot as plt\n",
    "import numpy as np\n",
    "\n",
    "# Set the x-axis locations\n",
    "x = np.arange(len(pd_df_twitterer_original_tweet_count['organization']))\n",
    "\n",
    "# Set the width of the bars\n",
    "bar_width = 0.35\n",
    "\n",
    "# Create a figure and axis\n",
    "fig, ax = plt.subplots()\n",
    "\n",
    "# Plot the tweet count percentages\n",
    "ax.bar(x - bar_width/2, pd_df_twitterer_original_tweet_count['tweet_percentage'], width=bar_width, label='Tweet Count', color='blue', alpha=0.5)\n",
    "\n",
    "# Plot the retweet count percentages\n",
    "ax.bar(x + bar_width/2, pd_df_twitterer_original_retweet_count['retweet_percentage'], width=bar_width, label='Retweet Count', color='red', alpha=0.5)\n",
    "\n",
    "# Set the x-axis tick labels to the organization names\n",
    "ax.set_xticks(x)\n",
    "ax.set_xticklabels(pd_df_twitterer_original_tweet_count['organization'])\n",
    "\n",
    "# Set the title and labels\n",
    "ax.set_title('Percentage of Tweet and Retweet Counts by Organization')\n",
    "ax.set_xlabel('Organization')\n",
    "ax.set_ylabel('Percentage')\n",
    "\n",
    "# Add text labels to each bar\n",
    "for i in range(len(pd_df_twitterer_original_tweet_count)):\n",
    "    ax.text(x[i] - bar_width/2, pd_df_twitterer_original_tweet_count['percentage'][i]+3, str(pd_df_twitterer_original_tweet_count['percentage'][i]) + '%', ha='center', va='bottom')\n",
    "    ax.text(x[i] + bar_width/2, pd_df_twitterer_original_retweet_count['percentage'][i]-0.5, str(pd_df_twitterer_original_retweet_count['percentage'][i]) + '%', ha='center', va='bottom')\n",
    "\n",
    "# Add a legend\n",
    "ax.legend(loc='upper left')\n",
    "\n",
    "\n",
    "# Show the plot\n",
    "plt.show()\n"
   ]
  },
  {
   "cell_type": "code",
   "execution_count": null,
   "id": "4ff5bc9b-f89e-408d-b341-b7521abca4fe",
   "metadata": {},
   "outputs": [],
   "source": [
    "pd_df_twitterer_original_retweet_count = df_original_twitteres_organization.groupBy('organization').\\\n",
    "                                    agg(F.sum('tweet_count').alias('tweet_count')).toPandas()"
   ]
  },
  {
   "cell_type": "code",
   "execution_count": 121,
   "id": "c1d5c054-004f-44ad-80be-af3f4adaedb1",
   "metadata": {},
   "outputs": [],
   "source": [
    "pd_df_original_twitteres_org_count.sort_values('count_original_content_twitterers', ascending=False, inplace=True)"
   ]
  },
  {
   "cell_type": "code",
   "execution_count": 124,
   "id": "715f96f0-4b0f-4239-b126-61555f891815",
   "metadata": {},
   "outputs": [
    {
     "data": {
      "image/png": "[encoded data removed]",
      "text/plain": [
       "<Figure size 800x600 with 1 Axes>"
      ]
     },
     "metadata": {},
     "output_type": "display_data"
    }
   ],
   "source": [
    "fig, ax = plt.subplots(figsize = (8,6))\n",
    "ax.barh(pd_df_original_twitteres_org_count['organization'], pd_df_original_twitteres_org_count['count_original_content_twitterers'], color='blue')\n",
    "ax.set_xlabel('Count of twitterers')\n",
    "ax.set_ylabel('Organization')\n",
    "ax.set_title('Count of Twitterers by Organization Type')\n",
    "plt.xlim([-5, 3000])\n",
    "for i, v in enumerate(pd_df_original_twitteres_org_count['count_original_content_twitterers']):\n",
    "    plt.text(v, i - 0.1, str(v), color='black')\n",
    "formatter = ticker.StrMethodFormatter('{x:,.0f}')\n",
    "ax.xaxis.set_major_formatter(formatter)\n",
    "plt.show()"
   ]
  },
  {
   "cell_type": "code",
   "execution_count": 84,
   "id": "6c386948-dadf-4ee4-829a-2309e2dc4b11",
   "metadata": {},
   "outputs": [
    {
     "data": {
      "text/html": [
       "<div>\n",
       "<style scoped>\n",
       "    .dataframe tbody tr th:only-of-type {\n",
       "        vertical-align: middle;\n",
       "    }\n",
       "\n",
       "    .dataframe tbody tr th {\n",
       "        vertical-align: top;\n",
       "    }\n",
       "\n",
       "    .dataframe thead th {\n",
       "        text-align: right;\n",
       "    }\n",
       "</style>\n",
       "<table border=\"1\" class=\"dataframe\">\n",
       "  <thead>\n",
       "    <tr style=\"text-align: right;\">\n",
       "      <th></th>\n",
       "      <th>user_name</th>\n",
       "      <th>organization</th>\n",
       "      <th>user_description</th>\n",
       "    </tr>\n",
       "  </thead>\n",
       "  <tbody>\n",
       "    <tr>\n",
       "      <th>0</th>\n",
       "      <td>StrongerTMU</td>\n",
       "      <td>Others</td>\n",
       "      <td>Toronto Metropolitan University (formerly Ryerson University) is building on 74 years of excellence and achievement. Join us and shape the future.</td>\n",
       "    </tr>\n",
       "    <tr>\n",
       "      <th>1</th>\n",
       "      <td>Pravin Jeya</td>\n",
       "      <td>Others</td>\n",
       "      <td>PhD in Environmental Law, communications officer and data analyst. Right-leaning on some issues, left-leaning on others. #BackingBadenoch</td>\n",
       "    </tr>\n",
       "    <tr>\n",
       "      <th>2</th>\n",
       "      <td>Wakefield Strong</td>\n",
       "      <td>Others</td>\n",
       "      <td>A Twitter to unite all 3 Wakefield Schools so our community can keep up with all things Wakefield!</td>\n",
       "    </tr>\n",
       "    <tr>\n",
       "      <th>3</th>\n",
       "      <td>Krishna Suma Sreedharan</td>\n",
       "      <td>Others</td>\n",
       "      <td>What is left for a virus to kill in a morally corrupt nation? 🏳️‍🌈</td>\n",
       "    </tr>\n",
       "    <tr>\n",
       "      <th>4</th>\n",
       "      <td>FTW</td>\n",
       "      <td>Others</td>\n",
       "      <td>None</td>\n",
       "    </tr>\n",
       "  </tbody>\n",
       "</table>\n",
       "</div>"
      ],
      "text/plain": [
       "                 user_name organization  \\\n",
       "0              StrongerTMU       Others   \n",
       "1              Pravin Jeya       Others   \n",
       "2         Wakefield Strong       Others   \n",
       "3  Krishna Suma Sreedharan       Others   \n",
       "4                      FTW       Others   \n",
       "\n",
       "                                                                                                                                     user_description  \n",
       "0  Toronto Metropolitan University (formerly Ryerson University) is building on 74 years of excellence and achievement. Join us and shape the future.  \n",
       "1           PhD in Environmental Law, communications officer and data analyst. Right-leaning on some issues, left-leaning on others. #BackingBadenoch  \n",
       "2                                                  A Twitter to unite all 3 Wakefield Schools so our community can keep up with all things Wakefield!  \n",
       "3                                                                                  What is left for a virus to kill in a morally corrupt nation? 🏳️‍🌈  \n",
       "4                                                                                                                                                None  "
      ]
     },
     "execution_count": 84,
     "metadata": {},
     "output_type": "execute_result"
    }
   ],
   "source": [
    "pd_sample_organization_count.head()"
   ]
  },
  {
   "cell_type": "code",
   "execution_count": 85,
   "id": "5c83962d-5221-4f6e-9b5e-a8ae8cefccf0",
   "metadata": {},
   "outputs": [
    {
     "name": "stderr",
     "output_type": "stream",
     "text": [
      "                                                                                \r"
     ]
    }
   ],
   "source": [
    "pd_organization_tweet_count = df_categorize_twitteres.groupBy('Organization').agg(F.count('id').alias('count')).toPandas()"
   ]
  },
  {
   "cell_type": "code",
   "execution_count": 86,
   "id": "d1a4d44e-1da7-467a-b336-8e8e2c544fbd",
   "metadata": {},
   "outputs": [],
   "source": [
    "pd_organization_tweet_count = pd_organization_tweet_count.sort_values('count', ascending=False)"
   ]
  },
  {
   "cell_type": "code",
   "execution_count": 87,
   "id": "6871ed63-e0a3-4afb-9fcc-87f882cb34a9",
   "metadata": {},
   "outputs": [
    {
     "data": {
      "text/html": [
       "<div>\n",
       "<style scoped>\n",
       "    .dataframe tbody tr th:only-of-type {\n",
       "        vertical-align: middle;\n",
       "    }\n",
       "\n",
       "    .dataframe tbody tr th {\n",
       "        vertical-align: top;\n",
       "    }\n",
       "\n",
       "    .dataframe thead th {\n",
       "        text-align: right;\n",
       "    }\n",
       "</style>\n",
       "<table border=\"1\" class=\"dataframe\">\n",
       "  <thead>\n",
       "    <tr style=\"text-align: right;\">\n",
       "      <th></th>\n",
       "      <th>Organization</th>\n",
       "      <th>count</th>\n",
       "    </tr>\n",
       "  </thead>\n",
       "  <tbody>\n",
       "    <tr>\n",
       "      <th>3</th>\n",
       "      <td>Others</td>\n",
       "      <td>2654684</td>\n",
       "    </tr>\n",
       "    <tr>\n",
       "      <th>2</th>\n",
       "      <td>Influencers</td>\n",
       "      <td>118583</td>\n",
       "    </tr>\n",
       "    <tr>\n",
       "      <th>4</th>\n",
       "      <td>Schools</td>\n",
       "      <td>109580</td>\n",
       "    </tr>\n",
       "    <tr>\n",
       "      <th>6</th>\n",
       "      <td>News</td>\n",
       "      <td>98534</td>\n",
       "    </tr>\n",
       "    <tr>\n",
       "      <th>5</th>\n",
       "      <td>Universities</td>\n",
       "      <td>74585</td>\n",
       "    </tr>\n",
       "    <tr>\n",
       "      <th>1</th>\n",
       "      <td>NGO</td>\n",
       "      <td>66962</td>\n",
       "    </tr>\n",
       "    <tr>\n",
       "      <th>0</th>\n",
       "      <td>Government</td>\n",
       "      <td>18981</td>\n",
       "    </tr>\n",
       "  </tbody>\n",
       "</table>\n",
       "</div>"
      ],
      "text/plain": [
       "   Organization    count\n",
       "3        Others  2654684\n",
       "2   Influencers   118583\n",
       "4       Schools   109580\n",
       "6          News    98534\n",
       "5  Universities    74585\n",
       "1           NGO    66962\n",
       "0    Government    18981"
      ]
     },
     "execution_count": 87,
     "metadata": {},
     "output_type": "execute_result"
    }
   ],
   "source": [
    "pd_organization_tweet_count"
   ]
  },
  {
   "cell_type": "code",
   "execution_count": 88,
   "id": "6e1ffd6b-5299-49c0-9972-087be5d8a67b",
   "metadata": {},
   "outputs": [
    {
     "name": "stderr",
     "output_type": "stream",
     "text": [
      "                                                                                \r"
     ]
    }
   ],
   "source": [
    "pd_org_retweets = df_categorize_twitteres.groupBy('Organization').agg(F.avg('retweet_count').alias('avg_retweets')).toPandas()"
   ]
  },
  {
   "cell_type": "code",
   "execution_count": 89,
   "id": "a542f77e-ffa7-4ed3-a3ad-52b3b1dbc528",
   "metadata": {},
   "outputs": [],
   "source": [
    "pd_org_retweets = pd_org_retweets.sort_values('avg_retweets', ascending=False).round()"
   ]
  },
  {
   "cell_type": "code",
   "execution_count": 90,
   "id": "c3084808-2125-433f-b7a7-1224733fa14f",
   "metadata": {},
   "outputs": [
    {
     "data": {
      "text/html": [
       "<div>\n",
       "<style scoped>\n",
       "    .dataframe tbody tr th:only-of-type {\n",
       "        vertical-align: middle;\n",
       "    }\n",
       "\n",
       "    .dataframe tbody tr th {\n",
       "        vertical-align: top;\n",
       "    }\n",
       "\n",
       "    .dataframe thead th {\n",
       "        text-align: right;\n",
       "    }\n",
       "</style>\n",
       "<table border=\"1\" class=\"dataframe\">\n",
       "  <thead>\n",
       "    <tr style=\"text-align: right;\">\n",
       "      <th></th>\n",
       "      <th>Organization</th>\n",
       "      <th>avg_retweets</th>\n",
       "    </tr>\n",
       "  </thead>\n",
       "  <tbody>\n",
       "    <tr>\n",
       "      <th>3</th>\n",
       "      <td>Others</td>\n",
       "      <td>2220.0</td>\n",
       "    </tr>\n",
       "    <tr>\n",
       "      <th>2</th>\n",
       "      <td>Influencers</td>\n",
       "      <td>1040.0</td>\n",
       "    </tr>\n",
       "    <tr>\n",
       "      <th>1</th>\n",
       "      <td>NGO</td>\n",
       "      <td>1034.0</td>\n",
       "    </tr>\n",
       "    <tr>\n",
       "      <th>0</th>\n",
       "      <td>Government</td>\n",
       "      <td>804.0</td>\n",
       "    </tr>\n",
       "    <tr>\n",
       "      <th>6</th>\n",
       "      <td>News</td>\n",
       "      <td>782.0</td>\n",
       "    </tr>\n",
       "    <tr>\n",
       "      <th>4</th>\n",
       "      <td>Schools</td>\n",
       "      <td>622.0</td>\n",
       "    </tr>\n",
       "    <tr>\n",
       "      <th>5</th>\n",
       "      <td>Universities</td>\n",
       "      <td>607.0</td>\n",
       "    </tr>\n",
       "  </tbody>\n",
       "</table>\n",
       "</div>"
      ],
      "text/plain": [
       "   Organization  avg_retweets\n",
       "3        Others        2220.0\n",
       "2   Influencers        1040.0\n",
       "1           NGO        1034.0\n",
       "0    Government         804.0\n",
       "6          News         782.0\n",
       "4       Schools         622.0\n",
       "5  Universities         607.0"
      ]
     },
     "execution_count": 90,
     "metadata": {},
     "output_type": "execute_result"
    }
   ],
   "source": [
    "pd_org_retweets"
   ]
  },
  {
   "cell_type": "code",
   "execution_count": 91,
   "id": "96b39fb5-9e58-4ef5-b45e-4f53d5e99f85",
   "metadata": {},
   "outputs": [],
   "source": [
    "import pandas as pd"
   ]
  },
  {
   "cell_type": "code",
   "execution_count": 92,
   "id": "92df0aec-0513-404b-8955-fbc3b5ca2a9c",
   "metadata": {},
   "outputs": [],
   "source": [
    "import matplotlib.pyplot as plt"
   ]
  },
  {
   "cell_type": "code",
   "execution_count": 93,
   "id": "25fba681-5521-402d-89b1-3a4b84ebafe1",
   "metadata": {},
   "outputs": [],
   "source": [
    "import matplotlib.ticker as ticker"
   ]
  },
  {
   "cell_type": "code",
   "execution_count": 127,
   "id": "6b1c85ee-9825-41c2-91f9-04663a998a8b",
   "metadata": {},
   "outputs": [
    {
     "data": {
      "image/png": "[encoded data removed]",
      "text/plain": [
       "<Figure size 800x600 with 1 Axes>"
      ]
     },
     "metadata": {},
     "output_type": "display_data"
    }
   ],
   "source": [
    "fig, ax = plt.subplots(figsize = (8,6))\n",
    "ax.barh(pd_organization_tweet_count['Organization'], pd_organization_tweet_count['count'], color='blue')\n",
    "ax.set_xlabel('Count')\n",
    "ax.set_ylabel('Organization')\n",
    "ax.set_title('Count of Tweets by Organization Type')\n",
    "plt.xlim([-5, 3000000])\n",
    "for i, v in enumerate(pd_organization_tweet_count['count']):\n",
    "    plt.text(v + 1000, i - 0.1, str(v), color='black')\n",
    "formatter = ticker.StrMethodFormatter('{x:,.0f}')\n",
    "ax.xaxis.set_major_formatter(formatter)\n",
    "plt.show()"
   ]
  },
  {
   "cell_type": "code",
   "execution_count": 126,
   "id": "df379eea-49e2-4d1c-9762-4b47b3783733",
   "metadata": {},
   "outputs": [
    {
     "data": {
      "image/png": "[encoded data removed]",
      "text/plain": [
       "<Figure size 800x600 with 1 Axes>"
      ]
     },
     "metadata": {},
     "output_type": "display_data"
    }
   ],
   "source": [
    "fig, ax = plt.subplots(figsize = (8,6))\n",
    "ax.barh(pd_org_retweets['Organization'], pd_org_retweets['avg_retweets'], color='blue')\n",
    "ax.set_xlabel('Count')\n",
    "ax.set_ylabel('Organization')\n",
    "ax.set_title('Average retweets by Organization Type')\n",
    "plt.xlim([-5, 3000])\n",
    "for i, v in enumerate(pd_org_retweets['avg_retweets']):\n",
    "    plt.text(v + 50, i - 0.1, str(v), color='black')\n",
    "formatter = ticker.StrMethodFormatter('{x:,.0f}')\n",
    "ax.xaxis.set_major_formatter(formatter)\n",
    "plt.show()"
   ]
  },
  {
   "cell_type": "code",
   "execution_count": null,
   "id": "83eaef2c-3450-4311-a51e-cad61cc1c2b1",
   "metadata": {},
   "outputs": [],
   "source": []
  },
  {
   "cell_type": "code",
   "execution_count": 56,
   "id": "81ab0e6a-49e2-4e9d-978d-e4ca5c867873",
   "metadata": {},
   "outputs": [
    {
     "name": "stderr",
     "output_type": "stream",
     "text": [
      "                                                                                \r"
     ]
    }
   ],
   "source": [
    "df_categorize_twitteres.write.mode('overwrite').parquet(\"gs://msca-bdp-students-bucket/shared_data/harshamuthukuru/df_categorize_twitteres1\")"
   ]
  },
  {
   "cell_type": "code",
   "execution_count": null,
   "id": "b95fdfca-4f6e-4a11-aa9a-9a8c25e12590",
   "metadata": {},
   "outputs": [],
   "source": []
  },
  {
   "cell_type": "code",
   "execution_count": 57,
   "id": "3449a860-adcf-415e-b137-e92637ccfe08",
   "metadata": {},
   "outputs": [
    {
     "data": {
      "text/plain": [
       "'Wed, 08 March 2023 16:20:51'"
      ]
     },
     "execution_count": 57,
     "metadata": {},
     "output_type": "execute_result"
    }
   ],
   "source": [
    "import datetime\n",
    "import pytz\n",
    "\n",
    "datetime.datetime.now(pytz.timezone('US/Central')).strftime(\"%a, %d %B %Y %H:%M:%S\")"
   ]
  },
  {
   "cell_type": "code",
   "execution_count": null,
   "id": "7c93ba84-2564-4bf9-9696-243bb07293d1",
   "metadata": {},
   "outputs": [],
   "source": []
  },
  {
   "cell_type": "code",
   "execution_count": 58,
   "id": "c5f4bed7-0b32-4300-980a-6bd9e095fb47",
   "metadata": {},
   "outputs": [],
   "source": [
    "spark.catalog.clearCache()"
   ]
  }
 ],
 "metadata": {
  "kernelspec": {
   "display_name": "PySpark",
   "language": "python",
   "name": "pyspark"
  },
  "language_info": {
   "codemirror_mode": {
    "name": "ipython",
    "version": 3
   },
   "file_extension": ".py",
   "mimetype": "text/x-python",
   "name": "python",
   "nbconvert_exporter": "python",
   "pygments_lexer": "ipython3",
   "version": "3.8.15"
  }
 },
 "nbformat": 4,
 "nbformat_minor": 5
}