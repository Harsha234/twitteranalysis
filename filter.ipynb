{
 "cells": [
  {
   "cell_type": "markdown",
   "id": "b7b6113e-4824-438d-9812-785ca6155eb9",
   "metadata": {},
   "source": [
    "## Step 1: Reading the data"
   ]
  },
  {
   "cell_type": "code",
   "execution_count": 1,
   "id": "b00d82df-6f95-4518-913f-05f3b7e9cf78",
   "metadata": {},
   "outputs": [],
   "source": [
    "import pyspark.sql.functions as F\n",
    "import time"
   ]
  },
  {
   "cell_type": "code",
   "execution_count": 2,
   "id": "6799266b-e7c5-42f4-9dca-e7b59cef3361",
   "metadata": {},
   "outputs": [],
   "source": [
    "spark.conf.set(\"spark.sql.repl.eagerEval.enabled\",True)"
   ]
  },
  {
   "cell_type": "code",
   "execution_count": 3,
   "id": "26a10712-4651-46e2-a51f-44dfd759fa02",
   "metadata": {},
   "outputs": [
    {
     "name": "stdout",
     "output_type": "stream",
     "text": [
      "None\n"
     ]
    }
   ],
   "source": [
    "print(sc._conf.get('yarn.nodemanager.resource.memory-mb'))"
   ]
  },
  {
   "cell_type": "code",
   "execution_count": 4,
   "id": "2c9b7024-d6b9-4aa7-a4d5-2675ed12c8e8",
   "metadata": {},
   "outputs": [
    {
     "name": "stdout",
     "output_type": "stream",
     "text": [
      "Original spark.driver.maxResultSize: 1920m\n",
      "Original spark.executor.cores: 2\n",
      "Original spark.executor.memory: 5739m\n",
      "Original spark.app.name: PySparkShell\n",
      "Original spark.driver.memory: 3840m\n",
      "None\n"
     ]
    }
   ],
   "source": [
    "# import pyspark\n",
    "sc = spark.sparkContext\n",
    "print('Original spark.driver.maxResultSize: ' + sc._conf.get('spark.driver.maxResultSize'))\n",
    "print('Original spark.executor.cores: ' + sc._conf.get('spark.executor.cores'))\n",
    "print('Original spark.executor.memory: ' + sc._conf.get('spark.executor.memory'))\n",
    "print('Original spark.app.name: ' + sc._conf.get('spark.app.name'))\n",
    "print('Original spark.driver.memory: ' + sc._conf.get('spark.driver.memory'))\n",
    "print(sc._conf.get('spark.cores.max'))\n",
    "\n",
    "# #Stop existing Spark environment\n",
    "# sc.stop()\n",
    "\n",
    "# # Waiting for the environment to stop\n",
    "# sleep_time = 10\n",
    "# print(f'Waiting for {sleep_time} seconds for the enviroment to stop...')\n",
    "# time.sleep(sleep_time)\n",
    "\n",
    "# # Applying new configuration and restarting Spark\n",
    "# conf = pyspark.SparkConf().setAll([('spark.app.name','Filtering Configs'),('spark.executor.memory', '12g'), ('spark.executor.cores', '12'),\n",
    "#                                    ('spark.driver.memory','12g'),('spark.cores.max','12')])\n",
    "# sc = pyspark.SparkContext(conf=conf)\n",
    "\n",
    "# print('New spark.driver.maxResultSize: ' + sc._conf.get('spark.driver.maxResultSize'))\n",
    "\n",
    "# # Starting  Spark session with configs applied\n",
    "# spark = SparkSession(sc).builder.getOrCreate()"
   ]
  },
  {
   "cell_type": "code",
   "execution_count": null,
   "id": "3f396110-b05d-47eb-87ff-b47cea8d6253",
   "metadata": {},
   "outputs": [
    {
     "name": "stderr",
     "output_type": "stream",
     "text": [
      "23/03/07 23:19:48 WARN org.apache.spark.sql.execution.datasources.SharedInMemoryCache: Evicting cached table partition metadata from memory due to size constraints (spark.sql.hive.filesourcePartitionFileCacheSize = 262144000 bytes). This may impact query planning performance.\n",
      "                                                                                \r"
     ]
    },
    {
     "name": "stdout",
     "output_type": "stream",
     "text": [
      "CPU times: user 5.07 s, sys: 1.1 s, total: 6.17 s\n",
      "Wall time: 36min 14s\n"
     ]
    },
    {
     "name": "stderr",
     "output_type": "stream",
     "text": [
      "23/03/07 23:53:07 WARN org.apache.spark.sql.catalyst.util.package: Truncated the string representation of a plan since it was too large. This behavior can be adjusted by setting 'spark.sql.debug.maxToStringFields'.\n"
     ]
    }
   ],
   "source": [
    "%%time\n",
    "\n",
    "df_raw = spark.read.json('gs://msca-bdp-tweets/final_project')"
   ]
  },
  {
   "cell_type": "code",
   "execution_count": null,
   "id": "15cdd9c9-803b-4847-8a12-af26445fb6aa",
   "metadata": {},
   "outputs": [],
   "source": []
  },
  {
   "cell_type": "markdown",
   "id": "5eb90fcf-2965-4e32-af54-63f9f68f2020",
   "metadata": {},
   "source": [
    "## Step 2: Filtering the unwanted tweets\n",
    "\n",
    "Filering the tweets where the tweets are not liked, users with no followers as we need influentual users, tweets which aren't withheld in any country due to restrictions and only english tweets as we are more focused on english speaking users"
   ]
  },
  {
   "cell_type": "code",
   "execution_count": null,
   "id": "2baa4218-34d6-43c5-b315-c4edcf619b6a",
   "metadata": {},
   "outputs": [],
   "source": [
    "#test"
   ]
  },
  {
   "cell_type": "code",
   "execution_count": null,
   "id": "5d513a13-2f7b-44c1-93f6-fe280a4adb72",
   "metadata": {},
   "outputs": [
    {
     "name": "stderr",
     "output_type": "stream",
     "text": [
      "[Stage 2:====================================================>(5740 + 1) / 5741]\r"
     ]
    },
    {
     "name": "stdout",
     "output_type": "stream",
     "text": [
      "Count of filtered tweets:  46263118\n",
      "CPU times: user 3.88 s, sys: 845 ms, total: 4.72 s\n",
      "Wall time: 25min 4s\n"
     ]
    },
    {
     "name": "stderr",
     "output_type": "stream",
     "text": [
      "                                                                                \r"
     ]
    }
   ],
   "source": [
    "%%time\n",
    "\n",
    "#     .filter('favourites_count > 0')\\\n",
    "\n",
    "df_raw_filtered = df_raw\\\n",
    "    .filter('user.location is not null')\\\n",
    "    .filter('user.followers_count > 0')\\\n",
    "    .filter('user.favourites_count > 0')\\\n",
    "    .filter('possibly_sensitive == FALSE or possibly_sensitive is NULL')\\\n",
    "    .filter('withheld_in_countries is NULL')\\\n",
    "    .filter('truncated == \"False\"')\\\n",
    "    .filter('lang == \"en\"')\\\n",
    "    .withColumn(\"tweet_text\", F.lower(F.col(\"tweet_text\")))\\\n",
    "    .withColumn('stripped', F.regexp_replace(F.col(\"tweet_text\"),\"[\\;\\@\\$\\#\\,&%\\\"\\.\\']|(\\b'\\w)|(\\w'\\b)|https\\S+|http\\S+|www\\.\\S+|\\\\\\\\\\S*\",\"\"))\n",
    "\n",
    "\n",
    "print(\"Count of filtered tweets: \",df_raw_filtered.count())"
   ]
  },
  {
   "cell_type": "markdown",
   "id": "fcbff7c1-0f3d-46fb-9101-ab8db25b0d12",
   "metadata": {},
   "source": [
    "### Step 2: Finding the keywords\n",
    "\n",
    "Using the keywords generated by chatgpt"
   ]
  },
  {
   "cell_type": "code",
   "execution_count": null,
   "id": "1d780558-2837-48de-aeb5-8f89e5da4963",
   "metadata": {},
   "outputs": [],
   "source": [
    "# df_raw_filtered.limit(5)"
   ]
  },
  {
   "cell_type": "code",
   "execution_count": null,
   "id": "1de5fe32-604a-4d80-9b90-bfbeef0d746e",
   "metadata": {},
   "outputs": [],
   "source": [
    "# education_keywords = [\n",
    "#     'school','university','college','education','learning','students','teacher','curriculum',\n",
    "#     'online','distance','stem','literacy','numeracy','assessment','tests','homework','study',\n",
    "#     'success','graduation','vocational','adult','continuing','professional','preschool',\n",
    "#     'elementary','middle','high','secondary','undergraduate','graduate','doctorate',\n",
    "#     'mba','law','medical','nursing','engineering','business','art','music','language',\n",
    "#     'trade','common','core','child','left','behind','every','student','succeeds','act',\n",
    "#     'shortage','funding','management','special','gifted','english','learners','parent','involvement','safety',\n",
    "#     'bullying','prevention','discipline','behavior','disabilities'\n",
    "# ]"
   ]
  },
  {
   "cell_type": "code",
   "execution_count": null,
   "id": "c9ed4080-8d22-4334-baee-2f69b52b11bf",
   "metadata": {},
   "outputs": [],
   "source": [
    "# education_keywords = [\n",
    "#     'elementary_school','elementary-school','elementary school','high school','university','college','education','learning','students','teacher','curriculum',\n",
    "#     'stem','literacy','homework','graduation','vocational','preschool','books','k-12','k12',\n",
    "#     'elementary','middle','secondary','undergraduate','graduate','doctorate',\n",
    "#     'mba','law','engineering','student','succeeds','learners','parent','involvement','bullying','discipline'\n",
    "# ]\n"
   ]
  },
  {
   "cell_type": "code",
   "execution_count": null,
   "id": "9eeec43c-c529-464b-9891-2baa5d649187",
   "metadata": {},
   "outputs": [],
   "source": [
    "explicit_keywords = ['kill', 'killed', 'killing', 'die', 'dead', 'shoot', 'gun', 'murder', 'slaughter', 'shot', 'sex', 'fuck', 'porn', 'abortion', 'guns', 'dying', \n",
    "                     'terror', 'protest', 'violence', 'ukraine', 'crush', 'arrest', 'kidnap', 'victim', 'massacre', 'trans', 'lgbt']"
   ]
  },
  {
   "cell_type": "code",
   "execution_count": null,
   "id": "37f554c0-4011-4830-bbea-a2cbff69a1b5",
   "metadata": {},
   "outputs": [],
   "source": [
    "#Converting the list of keyword to regex\n",
    "explicit_keywords_regex = '|'.join([\"(\" + c +\")\" for c in explicit_keywords])"
   ]
  },
  {
   "cell_type": "code",
   "execution_count": null,
   "id": "eb982d61-03e2-4bcb-b6b3-c7c579525a26",
   "metadata": {},
   "outputs": [
    {
     "data": {
      "text/plain": [
       "'(kill)|(killed)|(killing)|(die)|(dead)|(shoot)|(gun)|(murder)|(slaughter)|(shot)|(sex)|(fuck)|(porn)|(abortion)|(guns)|(dying)|(terror)|(protest)|(violence)|(ukraine)|(crush)|(arrest)|(kidnap)|(victim)|(massacre)|(trans)|(lgbt)'"
      ]
     },
     "execution_count": 16,
     "metadata": {},
     "output_type": "execute_result"
    }
   ],
   "source": [
    "explicit_keywords_regex"
   ]
  },
  {
   "cell_type": "code",
   "execution_count": null,
   "id": "5726bd45-1432-4037-a373-251a3340060c",
   "metadata": {},
   "outputs": [
    {
     "data": {
      "text/plain": [
       "'(elementary school)|(elementaryschool)|(high school)|(university)|(college)|(education)|(learning)|(students)|(teacher)|(curriculum)|(stem)|(literacy)|(homework)|(graduation)|(preschool)|(k 12)|(k12)|(elementary)|(middle)|(secondary)|(undergraduate)|(graduate)|(doctorate)|(mba)|(law)|(engineering)'"
      ]
     },
     "execution_count": 17,
     "metadata": {},
     "output_type": "execute_result"
    }
   ],
   "source": [
    "#Converting the list of keyword to regex\n",
    "education_keywords_regex"
   ]
  },
  {
   "cell_type": "markdown",
   "id": "950ac62b-e9b0-4cb2-9628-714857af398c",
   "metadata": {},
   "source": [
    "## Step 3: Filtering the data based on the keywords and explicit keywords"
   ]
  },
  {
   "cell_type": "code",
   "execution_count": null,
   "id": "22e4e1fa-2f1a-4ef5-9bd6-9f00d5b0af46",
   "metadata": {},
   "outputs": [],
   "source": [
    "df_filtered_education = df_raw_filtered.where(F.col('stripped').rlike(education_keywords_regex))"
   ]
  },
  {
   "cell_type": "code",
   "execution_count": 20,
   "id": "e27ce348-4b8b-406a-931f-ab7f3e49723f",
   "metadata": {},
   "outputs": [],
   "source": [
    "df_filtered_education_explicit = df_filtered_education.filter(~F.col('stripped').rlike(explicit_keywords_regex))"
   ]
  },
  {
   "cell_type": "code",
   "execution_count": 21,
   "id": "363c15a8-7ee0-4880-8522-10a36322dd40",
   "metadata": {},
   "outputs": [
    {
     "name": "stderr",
     "output_type": "stream",
     "text": [
      "                                                                                \r"
     ]
    },
    {
     "data": {
      "text/plain": [
       "25395838"
      ]
     },
     "execution_count": 21,
     "metadata": {},
     "output_type": "execute_result"
    }
   ],
   "source": [
    "df_filtered_education.count()"
   ]
  },
  {
   "cell_type": "code",
   "execution_count": null,
   "id": "795a81b7-af00-4923-a479-1bd45a58f1e3",
   "metadata": {},
   "outputs": [
    {
     "name": "stderr",
     "output_type": "stream",
     "text": [
      "                                                                                \r"
     ]
    },
    {
     "data": {
      "text/plain": [
       "20623515"
      ]
     },
     "execution_count": 22,
     "metadata": {},
     "output_type": "execute_result"
    }
   ],
   "source": [
    "df_filtered_education_explicit.count()"
   ]
  },
  {
   "cell_type": "code",
   "execution_count": 26,
   "id": "d37f389b-497a-46f2-9687-9a1b8268739c",
   "metadata": {},
   "outputs": [
    {
     "data": {
      "text/plain": [
       "[Row(coordinates=None, created_at='Wed May 25 21:22:47 +0000 2022', display_text_range=None, entities=Row(hashtags=[], media=None, symbols=[], urls=[], user_mentions=[Row(id=2375699646, id_str='2375699646', indices=[3, 16], name='Haltom City PD', screen_name='HaltomCityPD')]), extended_entities=None, extended_tweet=None, favorite_count=0, favorited=False, filter_level='low', geo=None, id=1529573720297295873, id_str='1529573720297295873', in_reply_to_screen_name=None, in_reply_to_status_id=None, in_reply_to_status_id_str=None, in_reply_to_user_id=None, in_reply_to_user_id_str=None, is_quote_status=False, lang='en', place=None, possibly_sensitive=None, quote_count=0, quoted_status=None, quoted_status_id=None, quoted_status_id_str=None, quoted_status_permalink=None, quoted_text=None, reply_count=0, retweet_count=0, retweeted='RT', retweeted_from='HaltomCityPD', retweeted_status=Row(coordinates=None, created_at='Wed May 25 20:53:25 +0000 2022', display_text_range=None, entities=Row(hashtags=[], media=None, symbols=[], urls=[Row(display_url='twitter.com/i/web/status/1…', expanded_url='https://twitter.com/i/web/status/1529566327475785728', indices=[117, 140], url='https://t.co/WCTWHVtlrZ')], user_mentions=[]), extended_entities=None, extended_tweet=Row(display_text_range=[0, 240], entities=Row(hashtags=[], media=None, symbols=[], urls=[], user_mentions=[]), extended_entities=None, full_text='We are aware of an unsubstantiated threat made inside Haltom High School.  We take any threats to the safety of our citizens seriously and are actively investigating.\\nAt this time, we have no evidence to believe this is a legitimate threat.'), favorite_count=37, favorited=False, filter_level='low', geo=None, id=1529566327475785728, id_str='1529566327475785728', in_reply_to_screen_name=None, in_reply_to_status_id=None, in_reply_to_status_id_str=None, in_reply_to_user_id=None, in_reply_to_user_id_str=None, is_quote_status=False, lang='en', place=None, possibly_sensitive=None, quote_count=2, quoted_status=None, quoted_status_id=None, quoted_status_id_str=None, quoted_status_permalink=None, reply_count=2, retweet_count=18, retweeted=False, scopes=None, source='<a href=\"https://mobile.twitter.com\" rel=\"nofollow\">Twitter Web App</a>', text='We are aware of an unsubstantiated threat made inside Haltom High School.  We take any threats to the safety of our… https://t.co/WCTWHVtlrZ', truncated=True, user=Row(contributors_enabled=False, created_at='Thu Mar 06 17:50:50 +0000 2014', default_profile=False, default_profile_image=False, description='The official Twitter account for the Haltom City Police Dept., located in Haltom City, TX.  Re-tweets not official endorsements. Account not monitored 24/7.', favourites_count=220, followers_count=4147, friends_count=180, geo_enabled=False, id=2375699646, id_str='2375699646', is_translator=False, listed_count=80, location='Haltom City, TX', name='Haltom City PD', profile_background_color='131516', profile_background_image_url='http://abs.twimg.com/images/themes/theme14/bg.gif', profile_background_image_url_https='https://abs.twimg.com/images/themes/theme14/bg.gif', profile_background_tile=True, profile_banner_url='https://pbs.twimg.com/profile_banners/2375699646/1494449062', profile_image_url='http://pbs.twimg.com/profile_images/441644534347227136/vu_j1xzF_normal.png', profile_image_url_https='https://pbs.twimg.com/profile_images/441644534347227136/vu_j1xzF_normal.png', profile_link_color='336696', profile_sidebar_border_color='FFFFFF', profile_sidebar_fill_color='EFEFEF', profile_text_color='333333', profile_use_background_image=True, protected=False, screen_name='HaltomCityPD', statuses_count=1099, translator_type='none', url='http://www.haltomcitytx.com/departments/police-department', verified=False, verified_type=None, withheld_in_countries=[]), withheld_in_countries=None), source='<a href=\"http://twitter.com/download/android\" rel=\"nofollow\">Twitter for Android</a>', text='RT @HaltomCityPD: We are aware of an unsubstantiated threat made inside Haltom High School.  We take any threats to the safety of our citiz…', timestamp_ms='1653513767681', truncated=False, tweet_text='we are aware of an unsubstantiated threat made inside haltom high school.  we take any threats to the safety of our citizens seriously and are actively investigating.\\nat this time, we have no evidence to believe this is a legitimate threat.', user=Row(contributors_enabled=False, created_at='Sat Jun 05 17:07:24 +0000 2021', default_profile=True, default_profile_image=False, description='The world will not be destroyed by those who do evil, but by those who watch them without doing anything.\\n -Einstein\\n#TurnTexasBlue #StandWithUkraine  🌻', favourites_count=18278, followers_count=126, friends_count=656, geo_enabled=False, id=1401223564360028161, id_str='1401223564360028161', is_translator=False, listed_count=0, location='Arlington, TX', name='Kay', profile_background_color='F5F8FA', profile_background_image_url='', profile_background_image_url_https='', profile_background_tile=False, profile_banner_url='https://pbs.twimg.com/profile_banners/1401223564360028161/1645980712', profile_image_url='http://pbs.twimg.com/profile_images/1497977045338533889/HypFAyT4_normal.jpg', profile_image_url_https='https://pbs.twimg.com/profile_images/1497977045338533889/HypFAyT4_normal.jpg', profile_link_color='1DA1F2', profile_sidebar_border_color='C0DEED', profile_sidebar_fill_color='DDEEF6', profile_text_color='333333', profile_use_background_image=True, protected=False, screen_name='Kay4BlueTexas', statuses_count=27314, translator_type='none', url=None, verified=False, verified_type=None, withheld_in_countries=[]), withheld_in_countries=None, stripped='we are aware of an unsubstantiated threat made inside haltom high school  we take any threats to the safety of our citizens seriously and are actively investigating\\nat this time we have no evidence to believe this is a legitimate threat')]"
      ]
     },
     "execution_count": 26,
     "metadata": {},
     "output_type": "execute_result"
    }
   ],
   "source": [
    "df_filtered_education_explicit.limit(1).collect()"
   ]
  },
  {
   "cell_type": "markdown",
   "id": "50043813-975b-4c7b-8753-073374613cc2",
   "metadata": {},
   "source": [
    "As the tweets after filtering with keywords the count is around **20M** which is not a practical number so wrting a **User defined fucntion** to find the importance of the tweet i.e., whether the text has the word that is in the provided list which assures the tweets are related to education"
   ]
  },
  {
   "cell_type": "markdown",
   "id": "1edc85a5-564f-4125-9480-9f197d4cd732",
   "metadata": {},
   "source": [
    "## Step 4: User defind function to find importance"
   ]
  },
  {
   "cell_type": "code",
   "execution_count": 33,
   "id": "23b463b5-2500-4621-abb0-76fe77d1a521",
   "metadata": {},
   "outputs": [],
   "source": [
    "@F.udf\n",
    "def get_importance(text):\n",
    "    words = text.split()\n",
    "    total_count = 0\n",
    "    for i in education_keywords:\n",
    "        occurance_count = words.count(i)\n",
    "        total_count += occurance_count\n",
    "\n",
    "    if(total_count > 1):\n",
    "        return 1\n",
    "    else:\n",
    "        return 0"
   ]
  },
  {
   "cell_type": "markdown",
   "id": "29181eae-abf2-4e0d-bcd0-ba3baa3e7b8c",
   "metadata": {},
   "source": [
    "### Filtering based on the importance"
   ]
  },
  {
   "cell_type": "code",
   "execution_count": 34,
   "id": "7574ef87-f4ec-4220-b869-3ba77578358a",
   "metadata": {},
   "outputs": [],
   "source": [
    "df_filtered_education_explicit = df_filtered_education_explicit.withColumn(\"important\", get_importance(\"stripped\"))"
   ]
  },
  {
   "cell_type": "code",
   "execution_count": 35,
   "id": "a3a96ac4-9c43-49fb-9b84-206cf38ba2a0",
   "metadata": {},
   "outputs": [],
   "source": [
    "df_filtered_education_explicit = df_filtered_education_explicit.filter(\"important==1\")"
   ]
  },
  {
   "cell_type": "code",
   "execution_count": 36,
   "id": "70b73434-0b61-4150-9e2b-b64967fd2672",
   "metadata": {},
   "outputs": [
    {
     "name": "stderr",
     "output_type": "stream",
     "text": [
      "                                                                                \r"
     ]
    },
    {
     "data": {
      "text/plain": [
       "3141909"
      ]
     },
     "execution_count": 36,
     "metadata": {},
     "output_type": "execute_result"
    }
   ],
   "source": [
    "df_filtered_education_explicit.count()"
   ]
  },
  {
   "cell_type": "code",
   "execution_count": 38,
   "id": "a6643961-c67c-4d14-bf8a-2b3774aba0c1",
   "metadata": {},
   "outputs": [
    {
     "name": "stderr",
     "output_type": "stream",
     "text": [
      "                                                                                \r"
     ]
    }
   ],
   "source": [
    "pd_df = df_filtered_education_explicit.select('stripped', 'tweet_text').limit(5).cache().toPandas()"
   ]
  },
  {
   "cell_type": "code",
   "execution_count": 39,
   "id": "7a3f81f1-c2ab-4900-bd06-8b9198cad0cd",
   "metadata": {},
   "outputs": [],
   "source": [
    "import pandas as pd"
   ]
  },
  {
   "cell_type": "code",
   "execution_count": 43,
   "id": "dde30226-4281-4d0e-8a37-4e552a169e7d",
   "metadata": {},
   "outputs": [],
   "source": [
    "pd.set_option('display.max_colwidth', 1000)"
   ]
  },
  {
   "cell_type": "code",
   "execution_count": 44,
   "id": "4e247f4a-2229-429a-af2a-cb851d27c45d",
   "metadata": {},
   "outputs": [
    {
     "data": {
      "text/html": [
       "<div>\n",
       "<style scoped>\n",
       "    .dataframe tbody tr th:only-of-type {\n",
       "        vertical-align: middle;\n",
       "    }\n",
       "\n",
       "    .dataframe tbody tr th {\n",
       "        vertical-align: top;\n",
       "    }\n",
       "\n",
       "    .dataframe thead th {\n",
       "        text-align: right;\n",
       "    }\n",
       "</style>\n",
       "<table border=\"1\" class=\"dataframe\">\n",
       "  <thead>\n",
       "    <tr style=\"text-align: right;\">\n",
       "      <th></th>\n",
       "      <th>stripped</th>\n",
       "      <th>tweet_text</th>\n",
       "    </tr>\n",
       "  </thead>\n",
       "  <tbody>\n",
       "    <tr>\n",
       "      <th>0</th>\n",
       "      <td>trump happened because an antiquated amp anti-democratic electoral college defied the will of the people bush happened for the same reason the 2 worst gop presidents in recent history were both the products of the electoral college - and democrats still won’t campaign against it</td>\n",
       "      <td>trump happened because an antiquated &amp;amp; anti-democratic electoral college defied the will of the people. bush happened for the same reason. the 2 worst gop presidents in recent history were both the products of the electoral college - and democrats still won’t campaign against it.</td>\n",
       "    </tr>\n",
       "    <tr>\n",
       "      <th>1</th>\n",
       "      <td>a childs ability to read is a key indicator of the likelihood they will graduate high school further evidence connects low literacy with the likelihood an individual could end up in prison — and keep returning\\n</td>\n",
       "      <td>a child's ability to read is a key indicator of the likelihood they will graduate high school. further evidence connects low literacy with the likelihood an individual could end up in prison — and keep returning.\\nhttps://t.co/c7pje6plnr</td>\n",
       "    </tr>\n",
       "    <tr>\n",
       "      <th>2</th>\n",
       "      <td>when i graduated high school my mama went to a rent-to-own store and got a computer so i could go to college with a laptop over the course of her payments she ended up paying 2400 for a 700 laptop being poor is expensive amp college isn’t the equalizer we think it is</td>\n",
       "      <td>when i graduated high school my mama went to a rent-to-own store and got a computer so i could go to college with a laptop. over the course of her payments she ended up paying $2400 for a $700 laptop. being poor is expensive &amp;amp; college isn’t the equalizer we think it is.</td>\n",
       "    </tr>\n",
       "    <tr>\n",
       "      <th>3</th>\n",
       "      <td>when i graduated high school my mama went to a rent-to-own store and got a computer so i could go to college with a laptop over the course of her payments she ended up paying 2400 for a 700 laptop being poor is expensive amp college isn’t the equalizer we think it is</td>\n",
       "      <td>when i graduated high school my mama went to a rent-to-own store and got a computer so i could go to college with a laptop. over the course of her payments she ended up paying $2400 for a $700 laptop. being poor is expensive &amp;amp; college isn’t the equalizer we think it is.</td>\n",
       "    </tr>\n",
       "    <tr>\n",
       "      <th>4</th>\n",
       "      <td>agtg after a few great conversations with coach adamries5 i’m blessed to have earned an offer to continue my education and play football at knox college  boscofootball fb_knoxcollege allegianceol chriswardol kodyafusia coachfredy nlprospect coach_jjhall</td>\n",
       "      <td>#agtg after a few great conversations with coach @adamries5, i’m blessed to have earned an offer to continue my education and play football at knox college.  @boscofootball @fb_knoxcollege @allegianceol @chriswardol @kodyafusia @coachfredy @nlprospect @coach_jjhall https://t.co/qcfguljgo1</td>\n",
       "    </tr>\n",
       "  </tbody>\n",
       "</table>\n",
       "</div>"
      ],
      "text/plain": [
       "                                                                                                                                                                                                                                                                                  stripped  \\\n",
       "0  trump happened because an antiquated amp anti-democratic electoral college defied the will of the people bush happened for the same reason the 2 worst gop presidents in recent history were both the products of the electoral college - and democrats still won’t campaign against it   \n",
       "1                                                                      a childs ability to read is a key indicator of the likelihood they will graduate high school further evidence connects low literacy with the likelihood an individual could end up in prison — and keep returning\\n   \n",
       "2              when i graduated high school my mama went to a rent-to-own store and got a computer so i could go to college with a laptop over the course of her payments she ended up paying 2400 for a 700 laptop being poor is expensive amp college isn’t the equalizer we think it is   \n",
       "3              when i graduated high school my mama went to a rent-to-own store and got a computer so i could go to college with a laptop over the course of her payments she ended up paying 2400 for a 700 laptop being poor is expensive amp college isn’t the equalizer we think it is   \n",
       "4                           agtg after a few great conversations with coach adamries5 i’m blessed to have earned an offer to continue my education and play football at knox college  boscofootball fb_knoxcollege allegianceol chriswardol kodyafusia coachfredy nlprospect coach_jjhall    \n",
       "\n",
       "                                                                                                                                                                                                                                                                                          tweet_text  \n",
       "0       trump happened because an antiquated &amp; anti-democratic electoral college defied the will of the people. bush happened for the same reason. the 2 worst gop presidents in recent history were both the products of the electoral college - and democrats still won’t campaign against it.  \n",
       "1                                                      a child's ability to read is a key indicator of the likelihood they will graduate high school. further evidence connects low literacy with the likelihood an individual could end up in prison — and keep returning.\\nhttps://t.co/c7pje6plnr  \n",
       "2                 when i graduated high school my mama went to a rent-to-own store and got a computer so i could go to college with a laptop. over the course of her payments she ended up paying $2400 for a $700 laptop. being poor is expensive &amp; college isn’t the equalizer we think it is.  \n",
       "3                 when i graduated high school my mama went to a rent-to-own store and got a computer so i could go to college with a laptop. over the course of her payments she ended up paying $2400 for a $700 laptop. being poor is expensive &amp; college isn’t the equalizer we think it is.  \n",
       "4  #agtg after a few great conversations with coach @adamries5, i’m blessed to have earned an offer to continue my education and play football at knox college.  @boscofootball @fb_knoxcollege @allegianceol @chriswardol @kodyafusia @coachfredy @nlprospect @coach_jjhall https://t.co/qcfguljgo1  "
      ]
     },
     "execution_count": 44,
     "metadata": {},
     "output_type": "execute_result"
    }
   ],
   "source": [
    "pd_df"
   ]
  },
  {
   "cell_type": "markdown",
   "id": "5980cafe-4018-4d9b-8f05-78b094f9d470",
   "metadata": {},
   "source": [
    "## Step 5: Saving the file to parquet"
   ]
  },
  {
   "cell_type": "markdown",
   "id": "b1255bd7-8b78-4880-822d-4e80cafcd85a",
   "metadata": {},
   "source": [
    "### Saving the final tweets which is around 3M to the parquet to store intermediate results for faster execution and save resources"
   ]
  },
  {
   "cell_type": "code",
   "execution_count": null,
   "id": "a22b7dbe-39b4-4322-94ba-42f0551266fb",
   "metadata": {},
   "outputs": [
    {
     "name": "stderr",
     "output_type": "stream",
     "text": [
      "                                                                                \r"
     ]
    },
    {
     "name": "stdout",
     "output_type": "stream",
     "text": [
      "CPU times: user 2.74 s, sys: 730 ms, total: 3.47 s\n",
      "Wall time: 11min 49s\n"
     ]
    }
   ],
   "source": [
    "%%time\n",
    "df_filtered_education_explicit.write.mode('overwrite').parquet(\"gs://msca-bdp-students-bucket/shared_data/harshamuthukuru/df_filtered_education_explicit1\")"
   ]
  },
  {
   "cell_type": "code",
   "execution_count": null,
   "id": "c69388a6-0305-47e3-b36e-cd5570ae9529",
   "metadata": {},
   "outputs": [],
   "source": [
    "# df_raw_filtered = spark.read.parquet(\"gs://msca-bdp-students-bucket/shared_data/harshamuthukuru/raw_df_filtered1\")"
   ]
  },
  {
   "cell_type": "code",
   "execution_count": 46,
   "id": "a2ef6620-06cb-406d-804f-1462f322cc2c",
   "metadata": {},
   "outputs": [
    {
     "data": {
      "text/plain": [
       "'Tue, 07 March 2023 19:41:27'"
      ]
     },
     "execution_count": 46,
     "metadata": {},
     "output_type": "execute_result"
    }
   ],
   "source": [
    "import datetime\n",
    "import pytz\n",
    "\n",
    "datetime.datetime.now(pytz.timezone('US/Central')).strftime(\"%a, %d %B %Y %H:%M:%S\")"
   ]
  }
 ],
 "metadata": {
  "kernelspec": {
   "display_name": "PySpark",
   "language": "python",
   "name": "pyspark"
  },
  "language_info": {
   "codemirror_mode": {
    "name": "ipython",
    "version": 3
   },
   "file_extension": ".py",
   "mimetype": "text/x-python",
   "name": "python",
   "nbconvert_exporter": "python",
   "pygments_lexer": "ipython3",
   "version": "3.8.15"
  }
 },
 "nbformat": 4,
 "nbformat_minor": 5
}