{
 "cells": [
  {
   "cell_type": "code",
   "execution_count": 1,
   "id": "ba65a5ad-c906-4d42-bb04-85b044e7de03",
   "metadata": {},
   "outputs": [],
   "source": [
    "import pyspark.sql.functions as F"
   ]
  },
  {
   "cell_type": "code",
   "execution_count": 2,
   "id": "cf690142-0a6c-4966-a4d9-3ba48d1f9964",
   "metadata": {},
   "outputs": [],
   "source": [
    "spark.conf.set(\"spark.sql.repl.eagerEval.enabled\",True)"
   ]
  },
  {
   "cell_type": "code",
   "execution_count": 3,
   "id": "0418f17c-6b85-45dc-ac9c-f988d1a633e4",
   "metadata": {},
   "outputs": [
    {
     "name": "stderr",
     "output_type": "stream",
     "text": [
      "23/03/10 10:46:11 WARN org.apache.spark.sql.catalyst.util.package: Truncated the string representation of a plan since it was too large. This behavior can be adjusted by setting 'spark.sql.debug.maxToStringFields'.\n"
     ]
    }
   ],
   "source": [
    "df = spark.read.parquet(\"gs://msca-bdp-students-bucket/shared_data/harshamuthukuru/df_categorize_twitteres1\")"
   ]
  },
  {
   "cell_type": "code",
   "execution_count": 4,
   "id": "8a4405ed-ee9d-4049-8a8e-23bbff8ae728",
   "metadata": {},
   "outputs": [
    {
     "name": "stderr",
     "output_type": "stream",
     "text": [
      "                                                                                \r"
     ]
    },
    {
     "data": {
      "text/plain": [
       "3141909"
      ]
     },
     "execution_count": 4,
     "metadata": {},
     "output_type": "execute_result"
    }
   ],
   "source": [
    "df.count()"
   ]
  },
  {
   "cell_type": "code",
   "execution_count": 6,
   "id": "a2f7023d-9846-446e-b1c8-c966e970ac99",
   "metadata": {},
   "outputs": [],
   "source": [
    "df_sample = df.limit(10).cache()"
   ]
  },
  {
   "cell_type": "code",
   "execution_count": 7,
   "id": "f86a069f-a4a7-41ba-acd2-25f3909211e8",
   "metadata": {},
   "outputs": [],
   "source": [
    "input_fmt = \"EEE MMM dd HH:mm:ss ZZZZ yyyy\"\n",
    "output_date_fmt = \"MM/dd/yyyy\"\n",
    "output_time_fmt = \"HH:mm:ss\""
   ]
  },
  {
   "cell_type": "code",
   "execution_count": 8,
   "id": "4304623e-8739-4393-9c11-d2f3d597bf27",
   "metadata": {},
   "outputs": [],
   "source": [
    "spark.conf.set(\"spark.sql.legacy.timeParserPolicy\", \"LEGACY\")"
   ]
  },
  {
   "cell_type": "code",
   "execution_count": 9,
   "id": "801eab20-ea85-4816-8166-acafac9e5b89",
   "metadata": {},
   "outputs": [
    {
     "name": "stderr",
     "output_type": "stream",
     "text": [
      "                                                                                \r"
     ]
    },
    {
     "data": {
      "text/html": [
       "<table border='1'>\n",
       "<tr><th>timestamp</th><th>date</th><th>time</th><th>created_at</th></tr>\n",
       "<tr><td>2022-05-23 21:32:03</td><td>05/23/2022</td><td>21:32:03</td><td>Mon May 23 21:32:...</td></tr>\n",
       "</table>\n"
      ],
      "text/plain": [
       "+-------------------+----------+--------+--------------------+\n",
       "|          timestamp|      date|    time|          created_at|\n",
       "+-------------------+----------+--------+--------------------+\n",
       "|2022-05-23 21:32:03|05/23/2022|21:32:03|Mon May 23 21:32:...|\n",
       "+-------------------+----------+--------+--------------------+"
      ]
     },
     "execution_count": 9,
     "metadata": {},
     "output_type": "execute_result"
    }
   ],
   "source": [
    "# Apply the transformations to extract the date and time components\n",
    "result = df_sample.select(\n",
    "    F.to_utc_timestamp(F.unix_timestamp(F.col(\"created_at\"), input_fmt).cast(\"timestamp\"), \"UTC\").alias(\"timestamp\"),\n",
    "    F.date_format(F.to_utc_timestamp(F.unix_timestamp(F.col(\"created_at\"), input_fmt).cast(\"timestamp\"), \"UTC\"), output_date_fmt).alias(\"date\"),\n",
    "    F.date_format(F.to_utc_timestamp(F.unix_timestamp(F.col(\"created_at\"), input_fmt).cast(\"timestamp\"), \"UTC\"), output_time_fmt).alias(\"time\"),\n",
    "    'created_at'\n",
    ")\n",
    "\n",
    "result.limit(1)"
   ]
  },
  {
   "cell_type": "code",
   "execution_count": 10,
   "id": "74d4e269-8a8b-410d-a0d3-81750fb7c5b1",
   "metadata": {},
   "outputs": [],
   "source": [
    "df = df.withColumn('created_at_timestamp', F.to_utc_timestamp(F.unix_timestamp(F.col(\"created_at\"), input_fmt).cast(\"timestamp\"), \"UTC\"))"
   ]
  },
  {
   "cell_type": "code",
   "execution_count": 11,
   "id": "fbafe603-d3c4-461c-aa2d-ba75c32c3036",
   "metadata": {},
   "outputs": [
    {
     "name": "stderr",
     "output_type": "stream",
     "text": [
      "                                                                                \r"
     ]
    },
    {
     "data": {
      "text/html": [
       "<div>\n",
       "<style scoped>\n",
       "    .dataframe tbody tr th:only-of-type {\n",
       "        vertical-align: middle;\n",
       "    }\n",
       "\n",
       "    .dataframe tbody tr th {\n",
       "        vertical-align: top;\n",
       "    }\n",
       "\n",
       "    .dataframe thead th {\n",
       "        text-align: right;\n",
       "    }\n",
       "</style>\n",
       "<table border=\"1\" class=\"dataframe\">\n",
       "  <thead>\n",
       "    <tr style=\"text-align: right;\">\n",
       "      <th></th>\n",
       "      <th>created_at</th>\n",
       "      <th>created_at_timestamp</th>\n",
       "    </tr>\n",
       "  </thead>\n",
       "  <tbody>\n",
       "    <tr>\n",
       "      <th>0</th>\n",
       "      <td>Tue Aug 02 15:20:20 +0000 2022</td>\n",
       "      <td>2022-08-02 15:20:20</td>\n",
       "    </tr>\n",
       "    <tr>\n",
       "      <th>1</th>\n",
       "      <td>Tue Aug 02 15:20:23 +0000 2022</td>\n",
       "      <td>2022-08-02 15:20:23</td>\n",
       "    </tr>\n",
       "    <tr>\n",
       "      <th>2</th>\n",
       "      <td>Tue Aug 02 15:20:27 +0000 2022</td>\n",
       "      <td>2022-08-02 15:20:27</td>\n",
       "    </tr>\n",
       "    <tr>\n",
       "      <th>3</th>\n",
       "      <td>Tue Aug 02 15:20:37 +0000 2022</td>\n",
       "      <td>2022-08-02 15:20:37</td>\n",
       "    </tr>\n",
       "    <tr>\n",
       "      <th>4</th>\n",
       "      <td>Tue Aug 02 15:20:44 +0000 2022</td>\n",
       "      <td>2022-08-02 15:20:44</td>\n",
       "    </tr>\n",
       "    <tr>\n",
       "      <th>5</th>\n",
       "      <td>Tue Aug 02 15:20:49 +0000 2022</td>\n",
       "      <td>2022-08-02 15:20:49</td>\n",
       "    </tr>\n",
       "    <tr>\n",
       "      <th>6</th>\n",
       "      <td>Tue Aug 02 15:20:50 +0000 2022</td>\n",
       "      <td>2022-08-02 15:20:50</td>\n",
       "    </tr>\n",
       "    <tr>\n",
       "      <th>7</th>\n",
       "      <td>Tue Aug 02 15:20:52 +0000 2022</td>\n",
       "      <td>2022-08-02 15:20:52</td>\n",
       "    </tr>\n",
       "    <tr>\n",
       "      <th>8</th>\n",
       "      <td>Tue Aug 02 15:20:53 +0000 2022</td>\n",
       "      <td>2022-08-02 15:20:53</td>\n",
       "    </tr>\n",
       "    <tr>\n",
       "      <th>9</th>\n",
       "      <td>Tue Aug 02 15:21:10 +0000 2022</td>\n",
       "      <td>2022-08-02 15:21:10</td>\n",
       "    </tr>\n",
       "  </tbody>\n",
       "</table>\n",
       "</div>"
      ],
      "text/plain": [
       "                       created_at created_at_timestamp\n",
       "0  Tue Aug 02 15:20:20 +0000 2022  2022-08-02 15:20:20\n",
       "1  Tue Aug 02 15:20:23 +0000 2022  2022-08-02 15:20:23\n",
       "2  Tue Aug 02 15:20:27 +0000 2022  2022-08-02 15:20:27\n",
       "3  Tue Aug 02 15:20:37 +0000 2022  2022-08-02 15:20:37\n",
       "4  Tue Aug 02 15:20:44 +0000 2022  2022-08-02 15:20:44\n",
       "5  Tue Aug 02 15:20:49 +0000 2022  2022-08-02 15:20:49\n",
       "6  Tue Aug 02 15:20:50 +0000 2022  2022-08-02 15:20:50\n",
       "7  Tue Aug 02 15:20:52 +0000 2022  2022-08-02 15:20:52\n",
       "8  Tue Aug 02 15:20:53 +0000 2022  2022-08-02 15:20:53\n",
       "9  Tue Aug 02 15:21:10 +0000 2022  2022-08-02 15:21:10"
      ]
     },
     "execution_count": 11,
     "metadata": {},
     "output_type": "execute_result"
    }
   ],
   "source": [
    "df.select('created_at','created_at_timestamp').limit(10).toPandas()"
   ]
  },
  {
   "cell_type": "markdown",
   "id": "6037f296-3807-40d8-8417-034a850fb2e2",
   "metadata": {},
   "source": [
    "**Location Analysis**"
   ]
  },
  {
   "cell_type": "code",
   "execution_count": 12,
   "id": "99b0274d-d966-43be-9f85-54587f346702",
   "metadata": {},
   "outputs": [
    {
     "data": {
      "text/html": [
       "<div>\n",
       "<style scoped>\n",
       "    .dataframe tbody tr th:only-of-type {\n",
       "        vertical-align: middle;\n",
       "    }\n",
       "\n",
       "    .dataframe tbody tr th {\n",
       "        vertical-align: top;\n",
       "    }\n",
       "\n",
       "    .dataframe thead th {\n",
       "        text-align: right;\n",
       "    }\n",
       "</style>\n",
       "<table border=\"1\" class=\"dataframe\">\n",
       "  <thead>\n",
       "    <tr style=\"text-align: right;\">\n",
       "      <th></th>\n",
       "      <th>user_name</th>\n",
       "      <th>user_location</th>\n",
       "    </tr>\n",
       "  </thead>\n",
       "  <tbody>\n",
       "    <tr>\n",
       "      <th>0</th>\n",
       "      <td>StrongerTMU</td>\n",
       "      <td>TorontoMetU - Toronto</td>\n",
       "    </tr>\n",
       "    <tr>\n",
       "      <th>1</th>\n",
       "      <td>Pravin Jeya</td>\n",
       "      <td>Sutton, London</td>\n",
       "    </tr>\n",
       "    <tr>\n",
       "      <th>2</th>\n",
       "      <td>Wakefield Strong</td>\n",
       "      <td>Raleigh, NC</td>\n",
       "    </tr>\n",
       "    <tr>\n",
       "      <th>3</th>\n",
       "      <td>Krishna Suma Sreedharan</td>\n",
       "      <td>Cochin</td>\n",
       "    </tr>\n",
       "    <tr>\n",
       "      <th>4</th>\n",
       "      <td>FTW</td>\n",
       "      <td>🍊 County</td>\n",
       "    </tr>\n",
       "    <tr>\n",
       "      <th>5</th>\n",
       "      <td>Saffron_Lion 🇮🇳I_am_Modi🇮🇳</td>\n",
       "      <td>Kolkata, India</td>\n",
       "    </tr>\n",
       "    <tr>\n",
       "      <th>6</th>\n",
       "      <td>sam.</td>\n",
       "      <td>Baltimore, MD</td>\n",
       "    </tr>\n",
       "    <tr>\n",
       "      <th>7</th>\n",
       "      <td>Rajshri Mahtani</td>\n",
       "      <td>Mumbai, India</td>\n",
       "    </tr>\n",
       "    <tr>\n",
       "      <th>8</th>\n",
       "      <td>Teshley Solutions</td>\n",
       "      <td>New Jersey, USA</td>\n",
       "    </tr>\n",
       "    <tr>\n",
       "      <th>9</th>\n",
       "      <td>mizuki</td>\n",
       "      <td>dead end.</td>\n",
       "    </tr>\n",
       "  </tbody>\n",
       "</table>\n",
       "</div>"
      ],
      "text/plain": [
       "                    user_name          user_location\n",
       "0                 StrongerTMU  TorontoMetU - Toronto\n",
       "1                 Pravin Jeya         Sutton, London\n",
       "2            Wakefield Strong            Raleigh, NC\n",
       "3     Krishna Suma Sreedharan                 Cochin\n",
       "4                         FTW               🍊 County\n",
       "5  Saffron_Lion 🇮🇳I_am_Modi🇮🇳         Kolkata, India\n",
       "6                        sam.          Baltimore, MD\n",
       "7             Rajshri Mahtani          Mumbai, India\n",
       "8           Teshley Solutions        New Jersey, USA\n",
       "9                      mizuki              dead end."
      ]
     },
     "execution_count": 12,
     "metadata": {},
     "output_type": "execute_result"
    }
   ],
   "source": [
    "df.select(['user_name', 'user_location']).limit(10).toPandas()"
   ]
  },
  {
   "cell_type": "code",
   "execution_count": 13,
   "id": "e91bf6d5-e747-4fab-b2a2-148973f0ed49",
   "metadata": {},
   "outputs": [],
   "source": [
    "df_user_location = df.groupBy('user_name').agg(F.first('user_location').alias('location'))"
   ]
  },
  {
   "cell_type": "code",
   "execution_count": 14,
   "id": "0d507a6e-0761-485d-ac32-e71e0edbd16d",
   "metadata": {},
   "outputs": [
    {
     "name": "stderr",
     "output_type": "stream",
     "text": [
      "                                                                                \r"
     ]
    },
    {
     "data": {
      "text/plain": [
       "1429862"
      ]
     },
     "execution_count": 14,
     "metadata": {},
     "output_type": "execute_result"
    }
   ],
   "source": [
    "df_user_location.count()"
   ]
  },
  {
   "cell_type": "code",
   "execution_count": 15,
   "id": "b41ce99a-7475-44df-b814-c8bd6e4de5a4",
   "metadata": {},
   "outputs": [
    {
     "name": "stderr",
     "output_type": "stream",
     "text": [
      "                                                                                \r"
     ]
    },
    {
     "data": {
      "text/html": [
       "<table border='1'>\n",
       "<tr><th>user_name</th><th>location</th></tr>\n",
       "<tr><td> ANTHONIO DE&#x27; GR8</td><td>Lagos, Nigeria</td></tr>\n",
       "<tr><td> Abode al airqi</td><td>Morocco</td></tr>\n",
       "<tr><td> Engr Iftikhar kamal</td><td>Malaysia</td></tr>\n",
       "<tr><td> Nauman Awan</td><td>Karachi, Pakistan</td></tr>\n",
       "<tr><td> TEAM SLAMOLA </td><td>Simco mountain : ...</td></tr>\n",
       "<tr><td> William White</td><td>&quot;The Meadows&quot;</td></tr>\n",
       "<tr><td> bharatan patil</td><td>Jalgaon, India</td></tr>\n",
       "<tr><td>!</td><td>Paid rts? DM</td></tr>\n",
       "<tr><td>! AM</td><td>Los Angeles, CA</td></tr>\n",
       "<tr><td>! Scientist!</td><td>Harare, Zimbabwe</td></tr>\n",
       "</table>\n"
      ],
      "text/plain": [
       "+--------------------+--------------------+\n",
       "|           user_name|            location|\n",
       "+--------------------+--------------------+\n",
       "|    ANTHONIO DE' GR8|      Lagos, Nigeria|\n",
       "|      Abode al airqi|             Morocco|\n",
       "| Engr Iftikhar kamal|            Malaysia|\n",
       "|         Nauman Awan|   Karachi, Pakistan|\n",
       "|       TEAM SLAMOLA |Simco mountain : ...|\n",
       "|       William White|       \"The Meadows\"|\n",
       "|      bharatan patil|      Jalgaon, India|\n",
       "|                   !|        Paid rts? DM|\n",
       "|                ! AM|     Los Angeles, CA|\n",
       "|        ! Scientist!|    Harare, Zimbabwe|\n",
       "+--------------------+--------------------+"
      ]
     },
     "execution_count": 15,
     "metadata": {},
     "output_type": "execute_result"
    }
   ],
   "source": [
    "df_user_location.limit(10)"
   ]
  },
  {
   "cell_type": "code",
   "execution_count": 16,
   "id": "5d457e1c-7c1f-4fce-839b-1e6264ab7fba",
   "metadata": {},
   "outputs": [],
   "source": [
    "df_count = df_user_location.groupBy('location').agg(F.count('user_name').alias('location_wise_count_of_users')).orderBy('location_wise_count_of_users', ascending=False)"
   ]
  },
  {
   "cell_type": "code",
   "execution_count": 17,
   "id": "674847c0-b1ae-4814-83f1-1ec5a1690374",
   "metadata": {},
   "outputs": [
    {
     "name": "stderr",
     "output_type": "stream",
     "text": [
      "                                                                                \r"
     ]
    },
    {
     "data": {
      "text/plain": [
       "427699"
      ]
     },
     "execution_count": 17,
     "metadata": {},
     "output_type": "execute_result"
    }
   ],
   "source": [
    "df_count.count()"
   ]
  },
  {
   "cell_type": "code",
   "execution_count": 18,
   "id": "6fbb7e64-b0c4-4829-997b-0eefa74e8c11",
   "metadata": {},
   "outputs": [
    {
     "name": "stderr",
     "output_type": "stream",
     "text": [
      "                                                                                \r"
     ]
    },
    {
     "data": {
      "text/html": [
       "<table border='1'>\n",
       "<tr><th>location</th><th>location_wise_count_of_users</th></tr>\n",
       "<tr><td>Lagos, Nigeria</td><td>19229</td></tr>\n",
       "<tr><td>United States</td><td>18239</td></tr>\n",
       "<tr><td>Nigeria</td><td>15845</td></tr>\n",
       "<tr><td>India</td><td>13090</td></tr>\n",
       "<tr><td>Nairobi, Kenya</td><td>7847</td></tr>\n",
       "</table>\n"
      ],
      "text/plain": [
       "+--------------+----------------------------+\n",
       "|      location|location_wise_count_of_users|\n",
       "+--------------+----------------------------+\n",
       "|Lagos, Nigeria|                       19222|\n",
       "| United States|                       18220|\n",
       "|       Nigeria|                       15831|\n",
       "|         India|                       13100|\n",
       "|Nairobi, Kenya|                        7840|\n",
       "+--------------+----------------------------+"
      ]
     },
     "execution_count": 18,
     "metadata": {},
     "output_type": "execute_result"
    }
   ],
   "source": [
    "df_count.limit(5)"
   ]
  },
  {
   "cell_type": "code",
   "execution_count": 19,
   "id": "6a0d3082-2cf3-4289-b1fb-7811b3c539ab",
   "metadata": {},
   "outputs": [
    {
     "name": "stdout",
     "output_type": "stream",
     "text": [
      "root\n",
      " |-- location: string (nullable = true)\n",
      " |-- location_wise_count_of_users: long (nullable = false)\n",
      "\n"
     ]
    }
   ],
   "source": [
    "df_count.printSchema()"
   ]
  },
  {
   "cell_type": "code",
   "execution_count": 20,
   "id": "2caa934d-b5f0-4037-bd82-04cddb8cdd6b",
   "metadata": {},
   "outputs": [
    {
     "name": "stderr",
     "output_type": "stream",
     "text": [
      "[Stage 48:==================================>                       (3 + 2) / 5]\r"
     ]
    },
    {
     "name": "stdout",
     "output_type": "stream",
     "text": [
      "+---------------------------------+\n",
      "|sum(location_wise_count_of_users)|\n",
      "+---------------------------------+\n",
      "|                           425556|\n",
      "+---------------------------------+\n",
      "\n"
     ]
    },
    {
     "name": "stderr",
     "output_type": "stream",
     "text": [
      "                                                                                \r"
     ]
    }
   ],
   "source": [
    "df_count.limit(200).agg(F.sum('location_wise_count_of_users')).show()"
   ]
  },
  {
   "cell_type": "code",
   "execution_count": 21,
   "id": "28a1c15b-679f-4636-bd02-9a41b80e3451",
   "metadata": {},
   "outputs": [
    {
     "name": "stderr",
     "output_type": "stream",
     "text": [
      "                                                                                \r"
     ]
    }
   ],
   "source": [
    "pd_df_count = df_count.limit(200).toPandas()"
   ]
  },
  {
   "cell_type": "code",
   "execution_count": 21,
   "id": "24027961-6ac1-44f4-a69a-3d43556b667c",
   "metadata": {},
   "outputs": [],
   "source": [
    "# %pip install geocoder"
   ]
  },
  {
   "cell_type": "code",
   "execution_count": 22,
   "id": "70911725-efdf-460e-b0bd-ed31eaec0144",
   "metadata": {},
   "outputs": [],
   "source": [
    "# %%time\n",
    "# import geocoder\n",
    "# import pandas as pd\n",
    "# import time\n",
    "\n",
    "# # define a function to geocode locations in batches\n",
    "\n",
    "# def geocode_batch(locations):\n",
    "#     # geocode the locations in batches\n",
    "#     batch_size = 100\n",
    "#     results = []\n",
    "#     for i in range(0, len(locations), batch_size):\n",
    "#         batch = locations[i:i+batch_size]\n",
    "#         batch_str = ','.join([''] if x is None else x for x in batch)\n",
    "#         # geocode the batch\n",
    "#         g = geocoder.osm(batch_str, timeout=10)\n",
    "#         if g.ok:\n",
    "#             results.extend(g)\n",
    "#         # sleep to avoid hitting rate limits\n",
    "#         time.sleep(1)\n",
    "#     return results\n",
    "\n",
    "# # define a function to get country from location\n",
    "# def get_country(location, cache):\n",
    "#     # check if the country is in the cache\n",
    "#     if location in cache:\n",
    "#         return cache[location]\n",
    "    \n",
    "#     # otherwise, geocode the location\n",
    "#     g = geocoder.osm(location, timeout=10)\n",
    "#     if g.ok:\n",
    "#         # cache the result\n",
    "#         cache[location] = g.country\n",
    "#         return g.country\n",
    "#     else:\n",
    "#         return None\n",
    "\n",
    "# # initialize a cache\n",
    "# cache = {}\n",
    "\n",
    "# # extract the locations from the Pandas DataFrame as a list\n",
    "# locations = pd_df_count['user_location'].tolist()\n",
    "\n",
    "# # geocode the locations in batches\n",
    "# results = geocode_batch(locations)\n",
    "\n",
    "# # map the results to a dictionary\n",
    "# location_dict = {}\n",
    "# for result in results:\n",
    "#     if result is not None:\n",
    "#         location_dict[result['query']] = result['country']\n",
    "\n",
    "# # add a new 'country' column to the dataframe\n",
    "# pd_df_count['country'] = pd_df_count['user_location'].apply(lambda location: get_country(location, cache))"
   ]
  },
  {
   "cell_type": "code",
   "execution_count": 22,
   "id": "171a069f-5d77-45ce-9041-79e923e49746",
   "metadata": {},
   "outputs": [],
   "source": [
    "# %pip install geopy"
   ]
  },
  {
   "cell_type": "code",
   "execution_count": 23,
   "id": "09f488ce-75f9-4ce4-8836-ed0ce4ba631f",
   "metadata": {},
   "outputs": [],
   "source": [
    "import pandas as pd\n",
    "from geopy.geocoders import Nominatim\n",
    "import time\n",
    "\n",
    "# define a function to geocode locations in batches\n",
    "\n",
    "def geocode_batch(locations):\n",
    "    # geocode the locations in batches\n",
    "    batch_size = 50\n",
    "    results = []\n",
    "    for i in range(0, len(locations), batch_size):\n",
    "        batch = locations[i:i+batch_size]\n",
    "        # geocode the batch\n",
    "        geolocator = Nominatim(user_agent=\"BPP-Project\")\n",
    "        try:\n",
    "            batch_results = geolocator.geocode(batch, addressdetails=True, language='en', exactly_one=False)\n",
    "            if batch_results is not None:\n",
    "                results.extend(batch_results)\n",
    "        except Exception as e:\n",
    "            print(e)\n",
    "        # sleep to avoid hitting rate limits\n",
    "        time.sleep(1)\n",
    "    return results\n",
    "\n",
    "# define a function to get country from location\n",
    "def get_country(location, cache):\n",
    "    # check if the country is in the cache\n",
    "    if location in cache:\n",
    "        return cache[location]\n",
    "    \n",
    "    # otherwise, geocode the location\n",
    "    geolocator = Nominatim(user_agent=\"BPP-Project\")\n",
    "    location_data = geolocator.geocode(location, addressdetails=True, language='en')\n",
    "    if location_data is not None:\n",
    "        country = location_data.raw['address'].get('country', None)\n",
    "        # cache the result\n",
    "        cache[location] = country\n",
    "        return country\n",
    "    else:\n",
    "        return None\n",
    "\n",
    "# initialize a cache\n",
    "cache = {}\n",
    "\n",
    "# extract the locations from the Pandas DataFrame as a list\n",
    "locations = pd_df_count['location'].tolist()\n",
    "\n",
    "# geocode the locations in batches\n",
    "results = geocode_batch(locations)\n",
    "\n",
    "# map the results to a dictionary\n",
    "location_dict = {}\n",
    "for result in results:\n",
    "    if result is not None:\n",
    "        location_dict[result.address] = result.raw['address'].get('country', None)\n",
    "\n",
    "# add a new 'country' column to the dataframe\n",
    "pd_df_count.drop('location_wise_count_of_users',axis=1, inplace=True)\n",
    "pd_df_count['country'] = pd_df_count['location'].apply(lambda location: get_country(location, cache))\n",
    "\n",
    "# save the updated data to CSV file\n",
    "# pd_df_count.to_csv('output_file.csv', index=False)"
   ]
  },
  {
   "cell_type": "code",
   "execution_count": 24,
   "id": "0af9b570-4bd2-449d-b4d4-382d45bfe255",
   "metadata": {},
   "outputs": [
    {
     "data": {
      "text/html": [
       "<div>\n",
       "<style scoped>\n",
       "    .dataframe tbody tr th:only-of-type {\n",
       "        vertical-align: middle;\n",
       "    }\n",
       "\n",
       "    .dataframe tbody tr th {\n",
       "        vertical-align: top;\n",
       "    }\n",
       "\n",
       "    .dataframe thead th {\n",
       "        text-align: right;\n",
       "    }\n",
       "</style>\n",
       "<table border=\"1\" class=\"dataframe\">\n",
       "  <thead>\n",
       "    <tr style=\"text-align: right;\">\n",
       "      <th></th>\n",
       "      <th>location</th>\n",
       "      <th>country</th>\n",
       "    </tr>\n",
       "  </thead>\n",
       "  <tbody>\n",
       "    <tr>\n",
       "      <th>10</th>\n",
       "      <td>Chicago, IL</td>\n",
       "      <td>United States</td>\n",
       "    </tr>\n",
       "    <tr>\n",
       "      <th>11</th>\n",
       "      <td>Washington, DC</td>\n",
       "      <td>United States</td>\n",
       "    </tr>\n",
       "    <tr>\n",
       "      <th>12</th>\n",
       "      <td>Texas, USA</td>\n",
       "      <td>United States</td>\n",
       "    </tr>\n",
       "    <tr>\n",
       "      <th>13</th>\n",
       "      <td>Atlanta, GA</td>\n",
       "      <td>United States</td>\n",
       "    </tr>\n",
       "    <tr>\n",
       "      <th>14</th>\n",
       "      <td>she/her</td>\n",
       "      <td>Taiwan</td>\n",
       "    </tr>\n",
       "    <tr>\n",
       "      <th>15</th>\n",
       "      <td>New Delhi, India</td>\n",
       "      <td>India</td>\n",
       "    </tr>\n",
       "    <tr>\n",
       "      <th>16</th>\n",
       "      <td>Canada</td>\n",
       "      <td>Canada</td>\n",
       "    </tr>\n",
       "    <tr>\n",
       "      <th>17</th>\n",
       "      <td>Florida, USA</td>\n",
       "      <td>United States</td>\n",
       "    </tr>\n",
       "    <tr>\n",
       "      <th>18</th>\n",
       "      <td>Abuja, Nigeria</td>\n",
       "      <td>Nigeria</td>\n",
       "    </tr>\n",
       "    <tr>\n",
       "      <th>19</th>\n",
       "      <td>Kampala, Uganda</td>\n",
       "      <td>Uganda</td>\n",
       "    </tr>\n",
       "    <tr>\n",
       "      <th>20</th>\n",
       "      <td>United Kingdom</td>\n",
       "      <td>United Kingdom</td>\n",
       "    </tr>\n",
       "    <tr>\n",
       "      <th>21</th>\n",
       "      <td>New York, NY</td>\n",
       "      <td>United States</td>\n",
       "    </tr>\n",
       "    <tr>\n",
       "      <th>22</th>\n",
       "      <td>London</td>\n",
       "      <td>United Kingdom</td>\n",
       "    </tr>\n",
       "    <tr>\n",
       "      <th>23</th>\n",
       "      <td>Earth</td>\n",
       "      <td>United States</td>\n",
       "    </tr>\n",
       "    <tr>\n",
       "      <th>24</th>\n",
       "      <td>New York, USA</td>\n",
       "      <td>United States</td>\n",
       "    </tr>\n",
       "    <tr>\n",
       "      <th>25</th>\n",
       "      <td>Pakistan</td>\n",
       "      <td>Pakistan</td>\n",
       "    </tr>\n",
       "    <tr>\n",
       "      <th>26</th>\n",
       "      <td>Accra, Ghana</td>\n",
       "      <td>Ghana</td>\n",
       "    </tr>\n",
       "    <tr>\n",
       "      <th>27</th>\n",
       "      <td>Toronto, Ontario</td>\n",
       "      <td>Canada</td>\n",
       "    </tr>\n",
       "    <tr>\n",
       "      <th>28</th>\n",
       "      <td>Hyderabad, India</td>\n",
       "      <td>India</td>\n",
       "    </tr>\n",
       "    <tr>\n",
       "      <th>29</th>\n",
       "      <td>Dallas, TX</td>\n",
       "      <td>United States</td>\n",
       "    </tr>\n",
       "  </tbody>\n",
       "</table>\n",
       "</div>"
      ],
      "text/plain": [
       "            location         country\n",
       "10       Chicago, IL   United States\n",
       "11    Washington, DC   United States\n",
       "12        Texas, USA   United States\n",
       "13       Atlanta, GA   United States\n",
       "14           she/her          Taiwan\n",
       "15  New Delhi, India           India\n",
       "16            Canada          Canada\n",
       "17      Florida, USA   United States\n",
       "18    Abuja, Nigeria         Nigeria\n",
       "19   Kampala, Uganda          Uganda\n",
       "20    United Kingdom  United Kingdom\n",
       "21      New York, NY   United States\n",
       "22            London  United Kingdom\n",
       "23             Earth   United States\n",
       "24     New York, USA   United States\n",
       "25          Pakistan        Pakistan\n",
       "26      Accra, Ghana           Ghana\n",
       "27  Toronto, Ontario          Canada\n",
       "28  Hyderabad, India           India\n",
       "29        Dallas, TX   United States"
      ]
     },
     "execution_count": 24,
     "metadata": {},
     "output_type": "execute_result"
    }
   ],
   "source": [
    "pd_df_count.iloc[10:30]"
   ]
  },
  {
   "cell_type": "code",
   "execution_count": 25,
   "id": "0d4dfd2d-8ec2-4809-a6cd-a4ea69900e93",
   "metadata": {},
   "outputs": [],
   "source": [
    "pd_df_count.rename(columns={'location': 'user_location'}, inplace=True)"
   ]
  },
  {
   "cell_type": "code",
   "execution_count": 26,
   "id": "e363f96e-638e-4138-b3cf-1d08825bf4fc",
   "metadata": {},
   "outputs": [
    {
     "data": {
      "text/html": [
       "<div>\n",
       "<style scoped>\n",
       "    .dataframe tbody tr th:only-of-type {\n",
       "        vertical-align: middle;\n",
       "    }\n",
       "\n",
       "    .dataframe tbody tr th {\n",
       "        vertical-align: top;\n",
       "    }\n",
       "\n",
       "    .dataframe thead th {\n",
       "        text-align: right;\n",
       "    }\n",
       "</style>\n",
       "<table border=\"1\" class=\"dataframe\">\n",
       "  <thead>\n",
       "    <tr style=\"text-align: right;\">\n",
       "      <th></th>\n",
       "      <th>user_location</th>\n",
       "      <th>country</th>\n",
       "    </tr>\n",
       "  </thead>\n",
       "  <tbody>\n",
       "    <tr>\n",
       "      <th>0</th>\n",
       "      <td>Lagos, Nigeria</td>\n",
       "      <td>Nigeria</td>\n",
       "    </tr>\n",
       "    <tr>\n",
       "      <th>1</th>\n",
       "      <td>United States</td>\n",
       "      <td>United States</td>\n",
       "    </tr>\n",
       "    <tr>\n",
       "      <th>2</th>\n",
       "      <td>Nigeria</td>\n",
       "      <td>Nigeria</td>\n",
       "    </tr>\n",
       "    <tr>\n",
       "      <th>3</th>\n",
       "      <td>India</td>\n",
       "      <td>India</td>\n",
       "    </tr>\n",
       "    <tr>\n",
       "      <th>4</th>\n",
       "      <td>Nairobi, Kenya</td>\n",
       "      <td>Kenya</td>\n",
       "    </tr>\n",
       "  </tbody>\n",
       "</table>\n",
       "</div>"
      ],
      "text/plain": [
       "    user_location        country\n",
       "0  Lagos, Nigeria        Nigeria\n",
       "1   United States  United States\n",
       "2         Nigeria        Nigeria\n",
       "3           India          India\n",
       "4  Nairobi, Kenya          Kenya"
      ]
     },
     "execution_count": 26,
     "metadata": {},
     "output_type": "execute_result"
    }
   ],
   "source": [
    "pd_df_count.head()"
   ]
  },
  {
   "cell_type": "code",
   "execution_count": 27,
   "id": "34ca753f-56bb-48e5-8adf-f223e469755e",
   "metadata": {},
   "outputs": [],
   "source": [
    "df_locations = spark.createDataFrame(pd_df_count)"
   ]
  },
  {
   "cell_type": "code",
   "execution_count": null,
   "id": "722175fc-f8f8-4a81-87af-cf04a0da7aca",
   "metadata": {},
   "outputs": [],
   "source": []
  },
  {
   "cell_type": "code",
   "execution_count": 28,
   "id": "597fa07a-b1ca-4798-9c98-0b80a30cee0b",
   "metadata": {},
   "outputs": [
    {
     "name": "stderr",
     "output_type": "stream",
     "text": [
      "                                                                                \r"
     ]
    },
    {
     "data": {
      "text/html": [
       "<table border='1'>\n",
       "<tr><th>user_location</th><th>country</th></tr>\n",
       "<tr><td>Lagos, Nigeria</td><td>Nigeria</td></tr>\n",
       "<tr><td>United States</td><td>United States</td></tr>\n",
       "<tr><td>Nigeria</td><td>Nigeria</td></tr>\n",
       "<tr><td>India</td><td>India</td></tr>\n",
       "<tr><td>Nairobi, Kenya</td><td>Kenya</td></tr>\n",
       "<tr><td>London, England</td><td>United Kingdom</td></tr>\n",
       "<tr><td>Los Angeles, CA</td><td>United States</td></tr>\n",
       "<tr><td>California, USA</td><td>United States</td></tr>\n",
       "<tr><td>USA</td><td>United States</td></tr>\n",
       "<tr><td>Houston, TX</td><td>United States</td></tr>\n",
       "</table>\n"
      ],
      "text/plain": [
       "+---------------+--------------+\n",
       "|  user_location|       country|\n",
       "+---------------+--------------+\n",
       "| Lagos, Nigeria|       Nigeria|\n",
       "|  United States| United States|\n",
       "|        Nigeria|       Nigeria|\n",
       "|          India|         India|\n",
       "| Nairobi, Kenya|         Kenya|\n",
       "|London, England|United Kingdom|\n",
       "|Los Angeles, CA| United States|\n",
       "|California, USA| United States|\n",
       "|            USA| United States|\n",
       "|    Houston, TX| United States|\n",
       "+---------------+--------------+"
      ]
     },
     "execution_count": 28,
     "metadata": {},
     "output_type": "execute_result"
    }
   ],
   "source": [
    "df_locations.limit(10)"
   ]
  },
  {
   "cell_type": "code",
   "execution_count": 29,
   "id": "30484153-75e4-4409-becf-fb279678d779",
   "metadata": {},
   "outputs": [],
   "source": [
    "df = df.join(df_locations, 'user_location', 'left')"
   ]
  },
  {
   "cell_type": "code",
   "execution_count": 30,
   "id": "85b156f6-fd64-41fc-b436-310283707649",
   "metadata": {},
   "outputs": [
    {
     "name": "stderr",
     "output_type": "stream",
     "text": [
      "                                                                                \r"
     ]
    },
    {
     "data": {
      "text/html": [
       "<div>\n",
       "<style scoped>\n",
       "    .dataframe tbody tr th:only-of-type {\n",
       "        vertical-align: middle;\n",
       "    }\n",
       "\n",
       "    .dataframe tbody tr th {\n",
       "        vertical-align: top;\n",
       "    }\n",
       "\n",
       "    .dataframe thead th {\n",
       "        text-align: right;\n",
       "    }\n",
       "</style>\n",
       "<table border=\"1\" class=\"dataframe\">\n",
       "  <thead>\n",
       "    <tr style=\"text-align: right;\">\n",
       "      <th></th>\n",
       "      <th>user_location</th>\n",
       "      <th>id</th>\n",
       "      <th>created_at</th>\n",
       "      <th>user_name</th>\n",
       "      <th>user_description</th>\n",
       "      <th>verified_status</th>\n",
       "      <th>followers_count</th>\n",
       "      <th>geo_enabled</th>\n",
       "      <th>user_id_str</th>\n",
       "      <th>user_id</th>\n",
       "      <th>tweet_text</th>\n",
       "      <th>text</th>\n",
       "      <th>retweet_count</th>\n",
       "      <th>retweeted_status</th>\n",
       "      <th>geo</th>\n",
       "      <th>stripped</th>\n",
       "      <th>organization</th>\n",
       "      <th>created_at_timestamp</th>\n",
       "      <th>country</th>\n",
       "    </tr>\n",
       "  </thead>\n",
       "  <tbody>\n",
       "    <tr>\n",
       "      <th>0</th>\n",
       "      <td>WI</td>\n",
       "      <td>1562568628230582274</td>\n",
       "      <td>Wed Aug 24 22:32:46 +0000 2022</td>\n",
       "      <td>WICountryGigi</td>\n",
       "      <td>BLUE in 2022\\nJustice-then Unity  (NO white su...</td>\n",
       "      <td>False</td>\n",
       "      <td>1501</td>\n",
       "      <td>False</td>\n",
       "      <td>1190039531174744064</td>\n",
       "      <td>1190039531174744064</td>\n",
       "      <td>let’s talk about who has student debt in ameri...</td>\n",
       "      <td>RT @ewarren: Let’s talk about who has student ...</td>\n",
       "      <td>354</td>\n",
       "      <td>(None, Wed Aug 24 22:05:10 +0000 2022, None, (...</td>\n",
       "      <td>None</td>\n",
       "      <td>let’s talk about who has student debt in ameri...</td>\n",
       "      <td>Others</td>\n",
       "      <td>2022-08-24 22:32:46</td>\n",
       "      <td>None</td>\n",
       "    </tr>\n",
       "    <tr>\n",
       "      <th>1</th>\n",
       "      <td>Burlington, WA</td>\n",
       "      <td>1562912078717140996</td>\n",
       "      <td>Thu Aug 25 21:17:31 +0000 2022</td>\n",
       "      <td>Jessica Oliver</td>\n",
       "      <td>reader, librarian, teacher, hiker, walker, gar...</td>\n",
       "      <td>False</td>\n",
       "      <td>188</td>\n",
       "      <td>False</td>\n",
       "      <td>823302761924001792</td>\n",
       "      <td>823302761924001792</td>\n",
       "      <td>when students look at me with a puppy dog face...</td>\n",
       "      <td>RT @FixingEducation: When students look at me ...</td>\n",
       "      <td>6</td>\n",
       "      <td>(None, Thu Aug 25 17:28:56 +0000 2022, None, (...</td>\n",
       "      <td>None</td>\n",
       "      <td>when students look at me with a puppy dog face...</td>\n",
       "      <td>Others</td>\n",
       "      <td>2022-08-25 21:17:31</td>\n",
       "      <td>None</td>\n",
       "    </tr>\n",
       "    <tr>\n",
       "      <th>2</th>\n",
       "      <td>Chesterfield, VA</td>\n",
       "      <td>1547615047467163648</td>\n",
       "      <td>Thu Jul 14 16:12:35 +0000 2022</td>\n",
       "      <td>CCPS United</td>\n",
       "      <td>Divided we beg, United we bargain — For better...</td>\n",
       "      <td>False</td>\n",
       "      <td>35</td>\n",
       "      <td>False</td>\n",
       "      <td>1543977142421073922</td>\n",
       "      <td>1543977142421073922</td>\n",
       "      <td>i met a school counselor who was responsible f...</td>\n",
       "      <td>RT @NicholasFerroni: I met a school counselor ...</td>\n",
       "      <td>246</td>\n",
       "      <td>(None, Mon Jul 11 22:34:36 +0000 2022, None, (...</td>\n",
       "      <td>None</td>\n",
       "      <td>i met a school counselor who was responsible f...</td>\n",
       "      <td>Others</td>\n",
       "      <td>2022-07-14 16:12:35</td>\n",
       "      <td>None</td>\n",
       "    </tr>\n",
       "    <tr>\n",
       "      <th>3</th>\n",
       "      <td>St Petersburg, FL</td>\n",
       "      <td>1519726078369189888</td>\n",
       "      <td>Thu Apr 28 17:11:46 +0000 2022</td>\n",
       "      <td>JonnyLightYear</td>\n",
       "      <td>Tech. Freedom. Decentralization. The future is...</td>\n",
       "      <td>False</td>\n",
       "      <td>13</td>\n",
       "      <td>False</td>\n",
       "      <td>1518735711196823553</td>\n",
       "      <td>1518735711196823553</td>\n",
       "      <td>florida public schools were open for all stude...</td>\n",
       "      <td>RT @ChristinaPushaw: Florida public schools we...</td>\n",
       "      <td>195</td>\n",
       "      <td>(None, Thu Apr 28 15:47:12 +0000 2022, [0, 140...</td>\n",
       "      <td>None</td>\n",
       "      <td>florida public schools were open for all stude...</td>\n",
       "      <td>Others</td>\n",
       "      <td>2022-04-28 17:11:46</td>\n",
       "      <td>None</td>\n",
       "    </tr>\n",
       "    <tr>\n",
       "      <th>4</th>\n",
       "      <td>Bangalore</td>\n",
       "      <td>1570491915866607617</td>\n",
       "      <td>Thu Sep 15 19:17:05 +0000 2022</td>\n",
       "      <td>geeta krishnamurthy</td>\n",
       "      <td>None</td>\n",
       "      <td>False</td>\n",
       "      <td>8</td>\n",
       "      <td>False</td>\n",
       "      <td>2784361448</td>\n",
       "      <td>2784361448</td>\n",
       "      <td>#engineering\\n#engineeringlife\\n#engineersday\\...</td>\n",
       "      <td>RT @SarcasamHit: #Engineering\\n#engineeringlif...</td>\n",
       "      <td>119</td>\n",
       "      <td>(None, Thu Sep 15 03:24:26 +0000 2022, [0, 72]...</td>\n",
       "      <td>None</td>\n",
       "      <td>engineering\\nengineeringlife\\nengineersday\\n\\n...</td>\n",
       "      <td>Others</td>\n",
       "      <td>2022-09-15 19:17:05</td>\n",
       "      <td>India</td>\n",
       "    </tr>\n",
       "    <tr>\n",
       "      <th>5</th>\n",
       "      <td>lagos, Nigeria</td>\n",
       "      <td>1618187560832098305</td>\n",
       "      <td>Wed Jan 25 10:02:33 +0000 2023</td>\n",
       "      <td>Touri The Craftsman</td>\n",
       "      <td>Art Enthusiast//\\nCraftsman//\\nCreator of #the...</td>\n",
       "      <td>False</td>\n",
       "      <td>316</td>\n",
       "      <td>True</td>\n",
       "      <td>415704001</td>\n",
       "      <td>415704001</td>\n",
       "      <td>no university should set exam timetable during...</td>\n",
       "      <td>RT @VictorIsrael_: No university should set ex...</td>\n",
       "      <td>2208</td>\n",
       "      <td>(None, Tue Jan 24 19:40:14 +0000 2023, [0, 140...</td>\n",
       "      <td>None</td>\n",
       "      <td>no university should set exam timetable during...</td>\n",
       "      <td>Others</td>\n",
       "      <td>2023-01-25 10:02:33</td>\n",
       "      <td>None</td>\n",
       "    </tr>\n",
       "    <tr>\n",
       "      <th>6</th>\n",
       "      <td>iCloud</td>\n",
       "      <td>1523725682714755073</td>\n",
       "      <td>Mon May 09 18:04:46 +0000 2022</td>\n",
       "      <td>اليكس</td>\n",
       "      <td>Elephant herder|Zeitgeist|Seeking Shangri-La |...</td>\n",
       "      <td>False</td>\n",
       "      <td>4834</td>\n",
       "      <td>False</td>\n",
       "      <td>64760588</td>\n",
       "      <td>64760588</td>\n",
       "      <td>graduated from howard university school of law...</td>\n",
       "      <td>RT @ada_x0: graduated from Howard University S...</td>\n",
       "      <td>519</td>\n",
       "      <td>(None, Sun May 08 20:51:44 +0000 2022, [0, 110...</td>\n",
       "      <td>None</td>\n",
       "      <td>graduated from howard university school of law...</td>\n",
       "      <td>Others</td>\n",
       "      <td>2022-05-09 18:04:46</td>\n",
       "      <td>None</td>\n",
       "    </tr>\n",
       "    <tr>\n",
       "      <th>7</th>\n",
       "      <td>Nor CA</td>\n",
       "      <td>1554924673288196097</td>\n",
       "      <td>Wed Aug 03 20:18:25 +0000 2022</td>\n",
       "      <td>Allison 🌻</td>\n",
       "      <td>Live Music, Politics, Comedy &amp; Tech. Californi...</td>\n",
       "      <td>False</td>\n",
       "      <td>12623</td>\n",
       "      <td>False</td>\n",
       "      <td>557432619</td>\n",
       "      <td>557432619</td>\n",
       "      <td>how to say #votersuppression w/out saying it? ...</td>\n",
       "      <td>RT @tizzywoman: How to say #VoterSuppression w...</td>\n",
       "      <td>9</td>\n",
       "      <td>(None, Wed Aug 03 19:16:47 +0000 2022, [0, 140...</td>\n",
       "      <td>None</td>\n",
       "      <td>how to say votersuppression w/out saying it? 😤...</td>\n",
       "      <td>Influencers</td>\n",
       "      <td>2022-08-03 20:18:25</td>\n",
       "      <td>None</td>\n",
       "    </tr>\n",
       "    <tr>\n",
       "      <th>8</th>\n",
       "      <td>In a galaxy far, far away...</td>\n",
       "      <td>1550720336290783232</td>\n",
       "      <td>Sat Jul 23 05:51:53 +0000 2022</td>\n",
       "      <td>Abby</td>\n",
       "      <td>23 | Just be yourself, boo. Vive y ama, ama y ...</td>\n",
       "      <td>False</td>\n",
       "      <td>99</td>\n",
       "      <td>False</td>\n",
       "      <td>2429707362</td>\n",
       "      <td>2429707362</td>\n",
       "      <td>crying at the visual of elementary student tae...</td>\n",
       "      <td>RT @artemiskv: crying at the visual of element...</td>\n",
       "      <td>40</td>\n",
       "      <td>(None, Fri Jul 22 14:10:13 +0000 2022, [0, 140...</td>\n",
       "      <td>None</td>\n",
       "      <td>crying at the visual of elementary student tae...</td>\n",
       "      <td>Others</td>\n",
       "      <td>2022-07-23 05:51:53</td>\n",
       "      <td>None</td>\n",
       "    </tr>\n",
       "    <tr>\n",
       "      <th>9</th>\n",
       "      <td>Hee BaeJ</td>\n",
       "      <td>1600080928290013185</td>\n",
       "      <td>Tue Dec 06 10:53:16 +0000 2022</td>\n",
       "      <td>nyureobun</td>\n",
       "      <td>est 1990</td>\n",
       "      <td>False</td>\n",
       "      <td>41</td>\n",
       "      <td>True</td>\n",
       "      <td>1465998057909403648</td>\n",
       "      <td>1465998057909403648</td>\n",
       "      <td>if i were a college student, what dept would i...</td>\n",
       "      <td>RT @DforQ: If I were a college student, what d...</td>\n",
       "      <td>244</td>\n",
       "      <td>(None, Tue Dec 06 10:20:00 +0000 2022, [0, 140...</td>\n",
       "      <td>None</td>\n",
       "      <td>if i were a college student what dept would i ...</td>\n",
       "      <td>Others</td>\n",
       "      <td>2022-12-06 10:53:16</td>\n",
       "      <td>None</td>\n",
       "    </tr>\n",
       "  </tbody>\n",
       "</table>\n",
       "</div>"
      ],
      "text/plain": [
       "                  user_location                   id  \\\n",
       "0                           WI   1562568628230582274   \n",
       "1                Burlington, WA  1562912078717140996   \n",
       "2              Chesterfield, VA  1547615047467163648   \n",
       "3             St Petersburg, FL  1519726078369189888   \n",
       "4                     Bangalore  1570491915866607617   \n",
       "5                lagos, Nigeria  1618187560832098305   \n",
       "6                        iCloud  1523725682714755073   \n",
       "7                        Nor CA  1554924673288196097   \n",
       "8  In a galaxy far, far away...  1550720336290783232   \n",
       "9                      Hee BaeJ  1600080928290013185   \n",
       "\n",
       "                       created_at            user_name  \\\n",
       "0  Wed Aug 24 22:32:46 +0000 2022        WICountryGigi   \n",
       "1  Thu Aug 25 21:17:31 +0000 2022       Jessica Oliver   \n",
       "2  Thu Jul 14 16:12:35 +0000 2022          CCPS United   \n",
       "3  Thu Apr 28 17:11:46 +0000 2022       JonnyLightYear   \n",
       "4  Thu Sep 15 19:17:05 +0000 2022  geeta krishnamurthy   \n",
       "5  Wed Jan 25 10:02:33 +0000 2023  Touri The Craftsman   \n",
       "6  Mon May 09 18:04:46 +0000 2022                اليكس   \n",
       "7  Wed Aug 03 20:18:25 +0000 2022            Allison 🌻   \n",
       "8  Sat Jul 23 05:51:53 +0000 2022                 Abby   \n",
       "9  Tue Dec 06 10:53:16 +0000 2022            nyureobun   \n",
       "\n",
       "                                    user_description  verified_status  \\\n",
       "0  BLUE in 2022\\nJustice-then Unity  (NO white su...            False   \n",
       "1  reader, librarian, teacher, hiker, walker, gar...            False   \n",
       "2  Divided we beg, United we bargain — For better...            False   \n",
       "3  Tech. Freedom. Decentralization. The future is...            False   \n",
       "4                                               None            False   \n",
       "5  Art Enthusiast//\\nCraftsman//\\nCreator of #the...            False   \n",
       "6  Elephant herder|Zeitgeist|Seeking Shangri-La |...            False   \n",
       "7  Live Music, Politics, Comedy & Tech. Californi...            False   \n",
       "8  23 | Just be yourself, boo. Vive y ama, ama y ...            False   \n",
       "9                                           est 1990            False   \n",
       "\n",
       "   followers_count  geo_enabled          user_id_str              user_id  \\\n",
       "0             1501        False  1190039531174744064  1190039531174744064   \n",
       "1              188        False   823302761924001792   823302761924001792   \n",
       "2               35        False  1543977142421073922  1543977142421073922   \n",
       "3               13        False  1518735711196823553  1518735711196823553   \n",
       "4                8        False           2784361448           2784361448   \n",
       "5              316         True            415704001            415704001   \n",
       "6             4834        False             64760588             64760588   \n",
       "7            12623        False            557432619            557432619   \n",
       "8               99        False           2429707362           2429707362   \n",
       "9               41         True  1465998057909403648  1465998057909403648   \n",
       "\n",
       "                                          tweet_text  \\\n",
       "0  let’s talk about who has student debt in ameri...   \n",
       "1  when students look at me with a puppy dog face...   \n",
       "2  i met a school counselor who was responsible f...   \n",
       "3  florida public schools were open for all stude...   \n",
       "4  #engineering\\n#engineeringlife\\n#engineersday\\...   \n",
       "5  no university should set exam timetable during...   \n",
       "6  graduated from howard university school of law...   \n",
       "7  how to say #votersuppression w/out saying it? ...   \n",
       "8  crying at the visual of elementary student tae...   \n",
       "9  if i were a college student, what dept would i...   \n",
       "\n",
       "                                                text  retweet_count  \\\n",
       "0  RT @ewarren: Let’s talk about who has student ...            354   \n",
       "1  RT @FixingEducation: When students look at me ...              6   \n",
       "2  RT @NicholasFerroni: I met a school counselor ...            246   \n",
       "3  RT @ChristinaPushaw: Florida public schools we...            195   \n",
       "4  RT @SarcasamHit: #Engineering\\n#engineeringlif...            119   \n",
       "5  RT @VictorIsrael_: No university should set ex...           2208   \n",
       "6  RT @ada_x0: graduated from Howard University S...            519   \n",
       "7  RT @tizzywoman: How to say #VoterSuppression w...              9   \n",
       "8  RT @artemiskv: crying at the visual of element...             40   \n",
       "9  RT @DforQ: If I were a college student, what d...            244   \n",
       "\n",
       "                                    retweeted_status   geo  \\\n",
       "0  (None, Wed Aug 24 22:05:10 +0000 2022, None, (...  None   \n",
       "1  (None, Thu Aug 25 17:28:56 +0000 2022, None, (...  None   \n",
       "2  (None, Mon Jul 11 22:34:36 +0000 2022, None, (...  None   \n",
       "3  (None, Thu Apr 28 15:47:12 +0000 2022, [0, 140...  None   \n",
       "4  (None, Thu Sep 15 03:24:26 +0000 2022, [0, 72]...  None   \n",
       "5  (None, Tue Jan 24 19:40:14 +0000 2023, [0, 140...  None   \n",
       "6  (None, Sun May 08 20:51:44 +0000 2022, [0, 110...  None   \n",
       "7  (None, Wed Aug 03 19:16:47 +0000 2022, [0, 140...  None   \n",
       "8  (None, Fri Jul 22 14:10:13 +0000 2022, [0, 140...  None   \n",
       "9  (None, Tue Dec 06 10:20:00 +0000 2022, [0, 140...  None   \n",
       "\n",
       "                                            stripped organization  \\\n",
       "0  let’s talk about who has student debt in ameri...       Others   \n",
       "1  when students look at me with a puppy dog face...       Others   \n",
       "2  i met a school counselor who was responsible f...       Others   \n",
       "3  florida public schools were open for all stude...       Others   \n",
       "4  engineering\\nengineeringlife\\nengineersday\\n\\n...       Others   \n",
       "5  no university should set exam timetable during...       Others   \n",
       "6  graduated from howard university school of law...       Others   \n",
       "7  how to say votersuppression w/out saying it? 😤...  Influencers   \n",
       "8  crying at the visual of elementary student tae...       Others   \n",
       "9  if i were a college student what dept would i ...       Others   \n",
       "\n",
       "  created_at_timestamp country  \n",
       "0  2022-08-24 22:32:46    None  \n",
       "1  2022-08-25 21:17:31    None  \n",
       "2  2022-07-14 16:12:35    None  \n",
       "3  2022-04-28 17:11:46    None  \n",
       "4  2022-09-15 19:17:05   India  \n",
       "5  2023-01-25 10:02:33    None  \n",
       "6  2022-05-09 18:04:46    None  \n",
       "7  2022-08-03 20:18:25    None  \n",
       "8  2022-07-23 05:51:53    None  \n",
       "9  2022-12-06 10:53:16    None  "
      ]
     },
     "execution_count": 30,
     "metadata": {},
     "output_type": "execute_result"
    }
   ],
   "source": [
    "df.limit(10).toPandas()"
   ]
  },
  {
   "cell_type": "code",
   "execution_count": null,
   "id": "982945ac-0891-4cf9-a82a-bfb475ec29fb",
   "metadata": {},
   "outputs": [
    {
     "name": "stderr",
     "output_type": "stream",
     "text": [
      "                                                                                \r"
     ]
    }
   ],
   "source": [
    "df.write.mode('overwrite').parquet('gs://msca-bdp-students-bucket/shared_data/harshamuthukuru/df_categorize_twitteres//with_location1')"
   ]
  },
  {
   "cell_type": "code",
   "execution_count": 51,
   "id": "564a6ecc-9dd0-4d98-bea3-964dab09386b",
   "metadata": {},
   "outputs": [],
   "source": [
    "df_raw = spark.read.parquet('gs://msca-bdp-students-bucket/shared_data/harshamuthukuru/df_categorize_twitteres//with_location1')"
   ]
  },
  {
   "cell_type": "code",
   "execution_count": 52,
   "id": "d8e491cd-1a1a-4070-971a-732ab3c47b0f",
   "metadata": {},
   "outputs": [
    {
     "name": "stderr",
     "output_type": "stream",
     "text": [
      "                                                                                \r"
     ]
    },
    {
     "data": {
      "text/plain": [
       "3141909"
      ]
     },
     "execution_count": 52,
     "metadata": {},
     "output_type": "execute_result"
    }
   ],
   "source": [
    "df_raw.count()"
   ]
  },
  {
   "cell_type": "code",
   "execution_count": 53,
   "id": "cdba894e-e233-43c8-97cc-ccace70924bd",
   "metadata": {},
   "outputs": [],
   "source": [
    "df_filtered = df_raw.filter('country is not null')"
   ]
  },
  {
   "cell_type": "code",
   "execution_count": 54,
   "id": "52cb3454-76f3-48c1-ad84-30e349faac39",
   "metadata": {},
   "outputs": [
    {
     "name": "stderr",
     "output_type": "stream",
     "text": [
      "                                                                                \r"
     ]
    },
    {
     "data": {
      "text/plain": [
       "1005604"
      ]
     },
     "execution_count": 54,
     "metadata": {},
     "output_type": "execute_result"
    }
   ],
   "source": [
    "df_filtered.count()"
   ]
  },
  {
   "cell_type": "code",
   "execution_count": 55,
   "id": "aa25902c-c394-4322-bf03-7deee4de45bd",
   "metadata": {},
   "outputs": [
    {
     "name": "stderr",
     "output_type": "stream",
     "text": [
      "                                                                                \r"
     ]
    },
    {
     "data": {
      "text/html": [
       "<table border='1'>\n",
       "<tr><th>user_location</th><th>id</th><th>created_at</th><th>user_name</th><th>user_description</th><th>verified_status</th><th>followers_count</th><th>geo_enabled</th><th>user_id_str</th><th>user_id</th><th>tweet_text</th><th>text</th><th>retweet_count</th><th>retweeted_status</th><th>geo</th><th>stripped</th><th>organization</th><th>created_at_timestamp</th><th>country</th></tr>\n",
       "<tr><td>Bangalore</td><td>1617858132071567362</td><td>Tue Jan 24 12:13:...</td><td>🇺🇦 🇵🇸 🇦🇫 Sh...</td><td>° Architect - Aca...</td><td>false</td><td>127</td><td>true</td><td>230918668</td><td>230918668</td><td>bbc documentary &quot;...</td><td>RT @Advaidism: BB...</td><td>220</td><td>{null, Tue Jan 24...</td><td>null</td><td>bbc documentary i...</td><td>Others</td><td>2023-01-24 12:13:31</td><td>India</td></tr>\n",
       "<tr><td>Bangalore</td><td>1605577052194713600</td><td>Wed Dec 21 14:52:...</td><td>Lalitha</td><td>null</td><td>false</td><td>248</td><td>false</td><td>328966848</td><td>328966848</td><td>history of kashmi...</td><td>RT @sunandavashis...</td><td>756</td><td>{null, Tue Dec 20...</td><td>null</td><td>history of kashmi...</td><td>Others</td><td>2022-12-21 14:52:54</td><td>India</td></tr>\n",
       "<tr><td>Bangalore</td><td>1557759613394567168</td><td>Thu Aug 11 16:03:...</td><td>himanshu</td><td>Current affairs. ...</td><td>false</td><td>502</td><td>false</td><td>74416825</td><td>74416825</td><td>kolkata&#x27;s st xavi...</td><td>RT @AskAnshul: Ko...</td><td>492</td><td>{null, Thu Aug 11...</td><td>null</td><td>kolkatas st xavie...</td><td>Others</td><td>2022-08-11 16:03:28</td><td>India</td></tr>\n",
       "<tr><td>Bangalore</td><td>1543309659137748992</td><td>Sat Jul 02 19:04:...</td><td>Capstone Investments</td><td>not a penny more ...</td><td>false</td><td>155</td><td>true</td><td>617236586</td><td>617236586</td><td>got puc, ncert te...</td><td>RT @WFRising: Got...</td><td>4</td><td>{null, Tue Jun 28...</td><td>null</td><td>got puc ncert tex...</td><td>Others</td><td>2022-07-02 19:04:30</td><td>India</td></tr>\n",
       "<tr><td>Bangalore</td><td>1596922016400953346</td><td>Sun Nov 27 17:40:...</td><td>Wisdom</td><td>null</td><td>false</td><td>34</td><td>true</td><td>910189952465436672</td><td>910189952465436672</td><td>3 students passed...</td><td>RT @AskAnshul: 3 ...</td><td>1463</td><td>{null, Sun Nov 27...</td><td>null</td><td>3 students passed...</td><td>Others</td><td>2022-11-27 17:40:52</td><td>India</td></tr>\n",
       "</table>\n"
      ],
      "text/plain": [
       "+-------------+-------------------+--------------------+--------------------+--------------------+---------------+---------------+-----------+------------------+------------------+--------------------+--------------------+-------------+--------------------+----+--------------------+------------+--------------------+-------+\n",
       "|user_location|                 id|          created_at|           user_name|    user_description|verified_status|followers_count|geo_enabled|       user_id_str|           user_id|          tweet_text|                text|retweet_count|    retweeted_status| geo|            stripped|organization|created_at_timestamp|country|\n",
       "+-------------+-------------------+--------------------+--------------------+--------------------+---------------+---------------+-----------+------------------+------------------+--------------------+--------------------+-------------+--------------------+----+--------------------+------------+--------------------+-------+\n",
       "|    Bangalore|1617858132071567362|Tue Jan 24 12:13:...|🇺🇦 🇵🇸 🇦🇫 Sh...|° Architect - Aca...|          false|            127|       true|         230918668|         230918668|bbc documentary \"...|RT @Advaidism: BB...|          220|{null, Tue Jan 24...|null|bbc documentary i...|      Others| 2023-01-24 12:13:31|  India|\n",
       "|    Bangalore|1605577052194713600|Wed Dec 21 14:52:...|             Lalitha|                null|          false|            248|      false|         328966848|         328966848|history of kashmi...|RT @sunandavashis...|          756|{null, Tue Dec 20...|null|history of kashmi...|      Others| 2022-12-21 14:52:54|  India|\n",
       "|    Bangalore|1557759613394567168|Thu Aug 11 16:03:...|            himanshu|Current affairs. ...|          false|            502|      false|          74416825|          74416825|kolkata's st xavi...|RT @AskAnshul: Ko...|          492|{null, Thu Aug 11...|null|kolkatas st xavie...|      Others| 2022-08-11 16:03:28|  India|\n",
       "|    Bangalore|1543309659137748992|Sat Jul 02 19:04:...|Capstone Investments|not a penny more ...|          false|            155|       true|         617236586|         617236586|got puc, ncert te...|RT @WFRising: Got...|            4|{null, Tue Jun 28...|null|got puc ncert tex...|      Others| 2022-07-02 19:04:30|  India|\n",
       "|    Bangalore|1596922016400953346|Sun Nov 27 17:40:...|              Wisdom|                null|          false|             34|       true|910189952465436672|910189952465436672|3 students passed...|RT @AskAnshul: 3 ...|         1463|{null, Sun Nov 27...|null|3 students passed...|      Others| 2022-11-27 17:40:52|  India|\n",
       "+-------------+-------------------+--------------------+--------------------+--------------------+---------------+---------------+-----------+------------------+------------------+--------------------+--------------------+-------------+--------------------+----+--------------------+------------+--------------------+-------+"
      ]
     },
     "execution_count": 55,
     "metadata": {},
     "output_type": "execute_result"
    }
   ],
   "source": [
    "df_filtered.limit(5)"
   ]
  },
  {
   "cell_type": "code",
   "execution_count": 56,
   "id": "3fefbc9c-30a3-4396-afe0-08d0fa9dd8cb",
   "metadata": {},
   "outputs": [
    {
     "name": "stderr",
     "output_type": "stream",
     "text": [
      "                                                                                \r"
     ]
    }
   ],
   "source": [
    "pd_df_1 = df_filtered.groupBy('country').agg(F.count('id').alias('Count')).toPandas()"
   ]
  },
  {
   "cell_type": "code",
   "execution_count": 57,
   "id": "dc841ab3-710e-4e6d-b3bf-11c66523f63c",
   "metadata": {},
   "outputs": [],
   "source": [
    "pd_df_1.rename(columns={'country':'Country'}, inplace=True)"
   ]
  },
  {
   "cell_type": "code",
   "execution_count": 58,
   "id": "48a9fd52-93c1-418c-94d4-2ab4a2f475fe",
   "metadata": {},
   "outputs": [
    {
     "data": {
      "text/plain": [
       "(27, 2)"
      ]
     },
     "execution_count": 58,
     "metadata": {},
     "output_type": "execute_result"
    }
   ],
   "source": [
    "pd_df_1.shape"
   ]
  },
  {
   "cell_type": "code",
   "execution_count": 59,
   "id": "e3993b68-1773-4e90-ae2d-a6203ba14d84",
   "metadata": {},
   "outputs": [],
   "source": [
    "pd_df_1.sort_values('Count', ascending=False, inplace=True)"
   ]
  },
  {
   "cell_type": "code",
   "execution_count": 60,
   "id": "12fa127e-10dc-4f4f-9f23-c876806f6440",
   "metadata": {},
   "outputs": [],
   "source": [
    "pd_df_1.reset_index(inplace=True, drop=True)"
   ]
  },
  {
   "cell_type": "code",
   "execution_count": 61,
   "id": "f3353ef8-7791-4921-9a33-8ea639c3fce0",
   "metadata": {},
   "outputs": [],
   "source": [
    "pd_df_1['Country'].replace('United States', 'United States of America', inplace=True)"
   ]
  },
  {
   "cell_type": "code",
   "execution_count": 62,
   "id": "4bb8f15d-927c-40b1-a1d0-fa870b5b50e0",
   "metadata": {},
   "outputs": [
    {
     "data": {
      "text/html": [
       "<div>\n",
       "<style scoped>\n",
       "    .dataframe tbody tr th:only-of-type {\n",
       "        vertical-align: middle;\n",
       "    }\n",
       "\n",
       "    .dataframe tbody tr th {\n",
       "        vertical-align: top;\n",
       "    }\n",
       "\n",
       "    .dataframe thead th {\n",
       "        text-align: right;\n",
       "    }\n",
       "</style>\n",
       "<table border=\"1\" class=\"dataframe\">\n",
       "  <thead>\n",
       "    <tr style=\"text-align: right;\">\n",
       "      <th></th>\n",
       "      <th>Country</th>\n",
       "      <th>Count</th>\n",
       "    </tr>\n",
       "  </thead>\n",
       "  <tbody>\n",
       "    <tr>\n",
       "      <th>0</th>\n",
       "      <td>United States of America</td>\n",
       "      <td>476195</td>\n",
       "    </tr>\n",
       "    <tr>\n",
       "      <th>1</th>\n",
       "      <td>Nigeria</td>\n",
       "      <td>144475</td>\n",
       "    </tr>\n",
       "    <tr>\n",
       "      <th>2</th>\n",
       "      <td>India</td>\n",
       "      <td>106815</td>\n",
       "    </tr>\n",
       "    <tr>\n",
       "      <th>3</th>\n",
       "      <td>United Kingdom</td>\n",
       "      <td>66961</td>\n",
       "    </tr>\n",
       "    <tr>\n",
       "      <th>4</th>\n",
       "      <td>Canada</td>\n",
       "      <td>40131</td>\n",
       "    </tr>\n",
       "    <tr>\n",
       "      <th>5</th>\n",
       "      <td>Pakistan</td>\n",
       "      <td>27571</td>\n",
       "    </tr>\n",
       "    <tr>\n",
       "      <th>6</th>\n",
       "      <td>Kenya</td>\n",
       "      <td>26979</td>\n",
       "    </tr>\n",
       "    <tr>\n",
       "      <th>7</th>\n",
       "      <td>Ghana</td>\n",
       "      <td>20609</td>\n",
       "    </tr>\n",
       "    <tr>\n",
       "      <th>8</th>\n",
       "      <td>South Africa</td>\n",
       "      <td>17599</td>\n",
       "    </tr>\n",
       "    <tr>\n",
       "      <th>9</th>\n",
       "      <td>Uganda</td>\n",
       "      <td>14495</td>\n",
       "    </tr>\n",
       "    <tr>\n",
       "      <th>10</th>\n",
       "      <td>Taiwan</td>\n",
       "      <td>9965</td>\n",
       "    </tr>\n",
       "    <tr>\n",
       "      <th>11</th>\n",
       "      <td>Australia</td>\n",
       "      <td>9399</td>\n",
       "    </tr>\n",
       "    <tr>\n",
       "      <th>12</th>\n",
       "      <td>Philippines</td>\n",
       "      <td>6991</td>\n",
       "    </tr>\n",
       "    <tr>\n",
       "      <th>13</th>\n",
       "      <td>France</td>\n",
       "      <td>5291</td>\n",
       "    </tr>\n",
       "    <tr>\n",
       "      <th>14</th>\n",
       "      <td>Ireland</td>\n",
       "      <td>4924</td>\n",
       "    </tr>\n",
       "    <tr>\n",
       "      <th>15</th>\n",
       "      <td>Thailand</td>\n",
       "      <td>4486</td>\n",
       "    </tr>\n",
       "    <tr>\n",
       "      <th>16</th>\n",
       "      <td>Malaysia</td>\n",
       "      <td>4464</td>\n",
       "    </tr>\n",
       "    <tr>\n",
       "      <th>17</th>\n",
       "      <td>United Arab Emirates</td>\n",
       "      <td>2506</td>\n",
       "    </tr>\n",
       "    <tr>\n",
       "      <th>18</th>\n",
       "      <td>Germany</td>\n",
       "      <td>2314</td>\n",
       "    </tr>\n",
       "    <tr>\n",
       "      <th>19</th>\n",
       "      <td>Indonesia</td>\n",
       "      <td>2214</td>\n",
       "    </tr>\n",
       "    <tr>\n",
       "      <th>20</th>\n",
       "      <td>Singapore</td>\n",
       "      <td>2044</td>\n",
       "    </tr>\n",
       "    <tr>\n",
       "      <th>21</th>\n",
       "      <td>Zimbabwe</td>\n",
       "      <td>1959</td>\n",
       "    </tr>\n",
       "    <tr>\n",
       "      <th>22</th>\n",
       "      <td>Laos</td>\n",
       "      <td>1731</td>\n",
       "    </tr>\n",
       "    <tr>\n",
       "      <th>23</th>\n",
       "      <td>Jamaica</td>\n",
       "      <td>1706</td>\n",
       "    </tr>\n",
       "    <tr>\n",
       "      <th>24</th>\n",
       "      <td>Sri Lanka</td>\n",
       "      <td>1468</td>\n",
       "    </tr>\n",
       "    <tr>\n",
       "      <th>25</th>\n",
       "      <td>China</td>\n",
       "      <td>1386</td>\n",
       "    </tr>\n",
       "    <tr>\n",
       "      <th>26</th>\n",
       "      <td>Mexico</td>\n",
       "      <td>926</td>\n",
       "    </tr>\n",
       "  </tbody>\n",
       "</table>\n",
       "</div>"
      ],
      "text/plain": [
       "                     Country   Count\n",
       "0   United States of America  476195\n",
       "1                    Nigeria  144475\n",
       "2                      India  106815\n",
       "3             United Kingdom   66961\n",
       "4                     Canada   40131\n",
       "5                   Pakistan   27571\n",
       "6                      Kenya   26979\n",
       "7                      Ghana   20609\n",
       "8               South Africa   17599\n",
       "9                     Uganda   14495\n",
       "10                    Taiwan    9965\n",
       "11                 Australia    9399\n",
       "12               Philippines    6991\n",
       "13                    France    5291\n",
       "14                   Ireland    4924\n",
       "15                  Thailand    4486\n",
       "16                  Malaysia    4464\n",
       "17      United Arab Emirates    2506\n",
       "18                   Germany    2314\n",
       "19                 Indonesia    2214\n",
       "20                 Singapore    2044\n",
       "21                  Zimbabwe    1959\n",
       "22                      Laos    1731\n",
       "23                   Jamaica    1706\n",
       "24                 Sri Lanka    1468\n",
       "25                     China    1386\n",
       "26                    Mexico     926"
      ]
     },
     "execution_count": 62,
     "metadata": {},
     "output_type": "execute_result"
    }
   ],
   "source": [
    "pd_df_1"
   ]
  },
  {
   "cell_type": "markdown",
   "id": "d957dec7-763d-4906-a454-0d7922761a41",
   "metadata": {},
   "source": [
    "**Country wise users**"
   ]
  },
  {
   "cell_type": "code",
   "execution_count": 63,
   "id": "086f05d2-fca5-499f-a43c-6eb27a9be809",
   "metadata": {},
   "outputs": [
    {
     "data": {
      "image/png": "[encoded data removed]",
      "text/plain": [
       "<Figure size 1000x500 with 2 Axes>"
      ]
     },
     "metadata": {},
     "output_type": "display_data"
    }
   ],
   "source": [
    "import geopandas as gpd\n",
    "import pyspark.sql.functions as F\n",
    "import matplotlib.pyplot as plt\n",
    "\n",
    "# Load the world map data into a GeoDataFrame\n",
    "world_map = gpd.read_file(gpd.datasets.get_path('naturalearth_lowres'))\n",
    "\n",
    "# Join the data with the world map GeoDataFrame\n",
    "joined_df = world_map.merge(pd_df_1, how='left', left_on='name', right_on='Country')\n",
    "joined_df['Count'] = joined_df['Count'].fillna(0)\n",
    "\n",
    "# Create the plot using GeoPandas\n",
    "# Set the background color of the plot to black\n",
    "fig = plt.figure(figsize=(10, 5), facecolor='k')\n",
    "\n",
    "# Create the plot using GeoPandas\n",
    "ax = joined_df.plot(column='Count', cmap='Blues', legend=True, ax=fig.gca(), vmin=0)\n",
    "\n",
    "# Set the plot title and remove the axes\n",
    "ax.set_title('Count by Country', color='w')\n",
    "ax.set_axis_off()\n",
    "\n",
    "# Customize the legend\n",
    "handles = []\n",
    "labels = []\n",
    "for i in range(len(joined_df)):\n",
    "    if joined_df['Count'][i] > 0:\n",
    "        handle = plt.Rectangle((0, 0), 1, 1, color=ax.collections[0]._facecolors[i])\n",
    "        label = f\"{joined_df['name'][i]}: {int(joined_df['Count'][i])}\"\n",
    "        handles.append(handle)\n",
    "        labels.append(label)\n",
    "ax.legend(handles, labels, title='Count', loc='lower left', bbox_to_anchor=(0, -1), ncol=3, facecolor='k')\n",
    "\n",
    "# Set the color of the legend text to white\n",
    "for text in ax.get_legend().get_texts():\n",
    "    text.set_color('w')\n",
    "\n",
    "# Display the plot\n",
    "plt.show()\n"
   ]
  },
  {
   "cell_type": "code",
   "execution_count": 64,
   "id": "2e23cde1-626f-4fbc-a367-958ca097db00",
   "metadata": {},
   "outputs": [
    {
     "data": {
      "image/png": "[encoded data removed]",
      "text/plain": [
       "<Figure size 1500x1000 with 2 Axes>"
      ]
     },
     "metadata": {},
     "output_type": "display_data"
    }
   ],
   "source": [
    "import geopandas as gpd\n",
    "import pyspark.sql.functions as F\n",
    "import matplotlib.pyplot as plt\n",
    "\n",
    "# Load the world map data into a GeoDataFrame\n",
    "world_map = gpd.read_file(gpd.datasets.get_path('naturalearth_lowres'))\n",
    "\n",
    "# Join the data with the world map GeoDataFrame\n",
    "joined_df = world_map.merge(pd_df_1, how='left', left_on='name', right_on='Country')\n",
    "joined_df['Count'] = joined_df['Count'].fillna(0)\n",
    "\n",
    "# Create the plot using GeoPandas\n",
    "ax = joined_df.plot(column='Count', cmap='Reds', legend=True, figsize=(15, 10),\n",
    "                    legend_kwds={'label': \"Count\", 'orientation': \"vertical\", 'shrink': 0.5})\n",
    "\n",
    "# Set the plot title and remove the axes\n",
    "ax.set_title('Count by Country')\n",
    "ax.set_axis_off()\n",
    "\n",
    "# Display the plot\n",
    "plt.show()\n"
   ]
  },
  {
   "cell_type": "code",
   "execution_count": 65,
   "id": "80454c93-4303-4d8c-88ac-41f811550360",
   "metadata": {},
   "outputs": [
    {
     "data": {
      "text/html": [
       "<div>\n",
       "<style scoped>\n",
       "    .dataframe tbody tr th:only-of-type {\n",
       "        vertical-align: middle;\n",
       "    }\n",
       "\n",
       "    .dataframe tbody tr th {\n",
       "        vertical-align: top;\n",
       "    }\n",
       "\n",
       "    .dataframe thead th {\n",
       "        text-align: right;\n",
       "    }\n",
       "</style>\n",
       "<table border=\"1\" class=\"dataframe\">\n",
       "  <thead>\n",
       "    <tr style=\"text-align: right;\">\n",
       "      <th></th>\n",
       "      <th>pop_est</th>\n",
       "      <th>continent</th>\n",
       "      <th>name</th>\n",
       "      <th>iso_a3</th>\n",
       "      <th>gdp_md_est</th>\n",
       "      <th>geometry</th>\n",
       "      <th>Country</th>\n",
       "      <th>Count</th>\n",
       "    </tr>\n",
       "  </thead>\n",
       "  <tbody>\n",
       "    <tr>\n",
       "      <th>0</th>\n",
       "      <td>889953.0</td>\n",
       "      <td>Oceania</td>\n",
       "      <td>Fiji</td>\n",
       "      <td>FJI</td>\n",
       "      <td>5496</td>\n",
       "      <td>MULTIPOLYGON (((180.00000 -16.06713, 180.00000...</td>\n",
       "      <td>NaN</td>\n",
       "      <td>0.0</td>\n",
       "    </tr>\n",
       "    <tr>\n",
       "      <th>1</th>\n",
       "      <td>58005463.0</td>\n",
       "      <td>Africa</td>\n",
       "      <td>Tanzania</td>\n",
       "      <td>TZA</td>\n",
       "      <td>63177</td>\n",
       "      <td>POLYGON ((33.90371 -0.95000, 34.07262 -1.05982...</td>\n",
       "      <td>NaN</td>\n",
       "      <td>0.0</td>\n",
       "    </tr>\n",
       "    <tr>\n",
       "      <th>2</th>\n",
       "      <td>603253.0</td>\n",
       "      <td>Africa</td>\n",
       "      <td>W. Sahara</td>\n",
       "      <td>ESH</td>\n",
       "      <td>907</td>\n",
       "      <td>POLYGON ((-8.66559 27.65643, -8.66512 27.58948...</td>\n",
       "      <td>NaN</td>\n",
       "      <td>0.0</td>\n",
       "    </tr>\n",
       "    <tr>\n",
       "      <th>3</th>\n",
       "      <td>37589262.0</td>\n",
       "      <td>North America</td>\n",
       "      <td>Canada</td>\n",
       "      <td>CAN</td>\n",
       "      <td>1736425</td>\n",
       "      <td>MULTIPOLYGON (((-122.84000 49.00000, -122.9742...</td>\n",
       "      <td>Canada</td>\n",
       "      <td>40131.0</td>\n",
       "    </tr>\n",
       "    <tr>\n",
       "      <th>4</th>\n",
       "      <td>328239523.0</td>\n",
       "      <td>North America</td>\n",
       "      <td>United States of America</td>\n",
       "      <td>USA</td>\n",
       "      <td>21433226</td>\n",
       "      <td>MULTIPOLYGON (((-122.84000 49.00000, -120.0000...</td>\n",
       "      <td>United States of America</td>\n",
       "      <td>476195.0</td>\n",
       "    </tr>\n",
       "  </tbody>\n",
       "</table>\n",
       "</div>"
      ],
      "text/plain": [
       "       pop_est      continent                      name iso_a3  gdp_md_est  \\\n",
       "0     889953.0        Oceania                      Fiji    FJI        5496   \n",
       "1   58005463.0         Africa                  Tanzania    TZA       63177   \n",
       "2     603253.0         Africa                 W. Sahara    ESH         907   \n",
       "3   37589262.0  North America                    Canada    CAN     1736425   \n",
       "4  328239523.0  North America  United States of America    USA    21433226   \n",
       "\n",
       "                                            geometry  \\\n",
       "0  MULTIPOLYGON (((180.00000 -16.06713, 180.00000...   \n",
       "1  POLYGON ((33.90371 -0.95000, 34.07262 -1.05982...   \n",
       "2  POLYGON ((-8.66559 27.65643, -8.66512 27.58948...   \n",
       "3  MULTIPOLYGON (((-122.84000 49.00000, -122.9742...   \n",
       "4  MULTIPOLYGON (((-122.84000 49.00000, -120.0000...   \n",
       "\n",
       "                    Country     Count  \n",
       "0                       NaN       0.0  \n",
       "1                       NaN       0.0  \n",
       "2                       NaN       0.0  \n",
       "3                    Canada   40131.0  \n",
       "4  United States of America  476195.0  "
      ]
     },
     "execution_count": 65,
     "metadata": {},
     "output_type": "execute_result"
    }
   ],
   "source": [
    "joined_df.head()"
   ]
  },
  {
   "cell_type": "code",
   "execution_count": 67,
   "id": "31a71321-6a5a-4e5f-9cb3-ad4737c86693",
   "metadata": {},
   "outputs": [],
   "source": [
    "df_raw = df_raw.withColumn(\"date\", F.to_date(\"created_at_timestamp\"))"
   ]
  },
  {
   "cell_type": "code",
   "execution_count": 68,
   "id": "2377eb3d-2e92-4653-889a-0be4c847e880",
   "metadata": {},
   "outputs": [],
   "source": [
    "df_raw_chatgpt = df_raw.filter('text like \"%chatgpt%\"').select(['country', 'user_name', 'followers_count', 'date'])"
   ]
  },
  {
   "cell_type": "code",
   "execution_count": 69,
   "id": "b0915578-4118-4dcc-a96a-0c0630b649ea",
   "metadata": {},
   "outputs": [
    {
     "name": "stderr",
     "output_type": "stream",
     "text": [
      "                                                                                \r"
     ]
    },
    {
     "data": {
      "text/plain": [
       "24"
      ]
     },
     "execution_count": 69,
     "metadata": {},
     "output_type": "execute_result"
    }
   ],
   "source": [
    "df_raw_chatgpt.count()"
   ]
  },
  {
   "cell_type": "code",
   "execution_count": 70,
   "id": "d7a3c734-200f-4bb7-90c9-642893c4f279",
   "metadata": {},
   "outputs": [],
   "source": [
    "df_raw_studentlife = df_raw.filter('text like \"%student life%\" or text like \"%studentlife%\"').select(['country', 'user_name', 'followers_count', 'date'])"
   ]
  },
  {
   "cell_type": "code",
   "execution_count": 71,
   "id": "2baf7ac8-df7e-4009-b690-5a06f4f4467e",
   "metadata": {},
   "outputs": [
    {
     "name": "stderr",
     "output_type": "stream",
     "text": [
      "                                                                                \r"
     ]
    },
    {
     "data": {
      "text/plain": [
       "147"
      ]
     },
     "execution_count": 71,
     "metadata": {},
     "output_type": "execute_result"
    }
   ],
   "source": [
    "df_raw_studentlife.count()"
   ]
  },
  {
   "cell_type": "code",
   "execution_count": 98,
   "id": "769c9e0b-473e-4897-9f08-694c7255612d",
   "metadata": {},
   "outputs": [],
   "source": [
    "df_raw_new_policy = df_raw.filter('text like \"%new policy%\"').select(['country', 'user_name', 'followers_count', 'date', 'tweet_text'])"
   ]
  },
  {
   "cell_type": "code",
   "execution_count": 99,
   "id": "53bee50f-d9d1-4b7e-a5b2-4095bd6e2b55",
   "metadata": {},
   "outputs": [
    {
     "name": "stderr",
     "output_type": "stream",
     "text": [
      "                                                                                \r"
     ]
    },
    {
     "data": {
      "text/plain": [
       "2379"
      ]
     },
     "execution_count": 99,
     "metadata": {},
     "output_type": "execute_result"
    }
   ],
   "source": [
    "df_raw_new_policy.count()"
   ]
  },
  {
   "cell_type": "code",
   "execution_count": 90,
   "id": "f00c3cbe-9e06-4e91-a9b4-c40d7d9a3bdf",
   "metadata": {},
   "outputs": [],
   "source": [
    "df_raw_policy = df_raw.filter('text like \"%policy%\"').select(['country', 'user_name', 'followers_count', 'date', 'tweet_text'])"
   ]
  },
  {
   "cell_type": "code",
   "execution_count": 91,
   "id": "632c2525-4c1c-484a-8197-5eb9e6665894",
   "metadata": {},
   "outputs": [
    {
     "name": "stderr",
     "output_type": "stream",
     "text": [
      "                                                                                \r"
     ]
    },
    {
     "data": {
      "text/plain": [
       "7332"
      ]
     },
     "execution_count": 91,
     "metadata": {},
     "output_type": "execute_result"
    }
   ],
   "source": [
    "df_raw_policy.count()"
   ]
  },
  {
   "cell_type": "code",
   "execution_count": 94,
   "id": "5a202b68-ea95-481f-a558-f2a379f5d242",
   "metadata": {},
   "outputs": [],
   "source": [
    "pd_df_raw_policy = df_raw_policy.limit(5).toPandas()"
   ]
  },
  {
   "cell_type": "code",
   "execution_count": 96,
   "id": "bc7ec313-9470-40a4-89e0-83c113058c79",
   "metadata": {},
   "outputs": [],
   "source": [
    "pd.set_option('display.max_colwidth', 1000)"
   ]
  },
  {
   "cell_type": "code",
   "execution_count": 97,
   "id": "193831cd-6d43-4b42-a45f-93090467e09e",
   "metadata": {},
   "outputs": [
    {
     "data": {
      "text/html": [
       "<div>\n",
       "<style scoped>\n",
       "    .dataframe tbody tr th:only-of-type {\n",
       "        vertical-align: middle;\n",
       "    }\n",
       "\n",
       "    .dataframe tbody tr th {\n",
       "        vertical-align: top;\n",
       "    }\n",
       "\n",
       "    .dataframe thead th {\n",
       "        text-align: right;\n",
       "    }\n",
       "</style>\n",
       "<table border=\"1\" class=\"dataframe\">\n",
       "  <thead>\n",
       "    <tr style=\"text-align: right;\">\n",
       "      <th></th>\n",
       "      <th>country</th>\n",
       "      <th>user_name</th>\n",
       "      <th>followers_count</th>\n",
       "      <th>date</th>\n",
       "      <th>tweet_text</th>\n",
       "    </tr>\n",
       "  </thead>\n",
       "  <tbody>\n",
       "    <tr>\n",
       "      <th>0</th>\n",
       "      <td>None</td>\n",
       "      <td>Cathy Bissun ✝️</td>\n",
       "      <td>86</td>\n",
       "      <td>2022-09-01</td>\n",
       "      <td>western students sue university for covid-19 booster policy https://t.co/b2jtqzfzdv via @wsonlinenews</td>\n",
       "    </tr>\n",
       "    <tr>\n",
       "      <th>1</th>\n",
       "      <td>United States</td>\n",
       "      <td>Meg Gruber</td>\n",
       "      <td>955</td>\n",
       "      <td>2022-11-17</td>\n",
       "      <td>breaking: virginia republican governor glenn youngkin unveils a new policy that will ban the teaching of martin luther king jr. to elementary school students. rt to expose governor youngkin’s whitewashing of history!</td>\n",
       "    </tr>\n",
       "    <tr>\n",
       "      <th>2</th>\n",
       "      <td>United States</td>\n",
       "      <td>MiaGator23</td>\n",
       "      <td>48</td>\n",
       "      <td>2022-11-17</td>\n",
       "      <td>breaking: virginia republican governor glenn youngkin unveils a new policy that will ban the teaching of martin luther king jr. to elementary school students. rt to expose governor youngkin’s whitewashing of history!</td>\n",
       "    </tr>\n",
       "    <tr>\n",
       "      <th>3</th>\n",
       "      <td>None</td>\n",
       "      <td>Tarun Sharma</td>\n",
       "      <td>22</td>\n",
       "      <td>2022-11-25</td>\n",
       "      <td>according to our new education policy, it is the demand of time to implement the computer education in schools to the next level in the state. students are looking towards govt. to initiate in computer science stream. \\n#computer_instructor_result\\n#bci_sci_फाइनल_रिजल्ट</td>\n",
       "    </tr>\n",
       "    <tr>\n",
       "      <th>4</th>\n",
       "      <td>None</td>\n",
       "      <td>Cait_is_REAL_tired</td>\n",
       "      <td>1882</td>\n",
       "      <td>2022-11-17</td>\n",
       "      <td>breaking: virginia republican governor glenn youngkin unveils a new policy that will ban the teaching of martin luther king jr. to elementary school students. rt to expose governor youngkin’s whitewashing of history!</td>\n",
       "    </tr>\n",
       "  </tbody>\n",
       "</table>\n",
       "</div>"
      ],
      "text/plain": [
       "         country           user_name  followers_count        date  \\\n",
       "0           None     Cathy Bissun ✝️               86  2022-09-01   \n",
       "1  United States          Meg Gruber              955  2022-11-17   \n",
       "2  United States          MiaGator23               48  2022-11-17   \n",
       "3           None        Tarun Sharma               22  2022-11-25   \n",
       "4           None  Cait_is_REAL_tired             1882  2022-11-17   \n",
       "\n",
       "                                                                                                                                                                                                                                                                       tweet_text  \n",
       "0                                                                                                                                                                           western students sue university for covid-19 booster policy https://t.co/b2jtqzfzdv via @wsonlinenews  \n",
       "1                                                        breaking: virginia republican governor glenn youngkin unveils a new policy that will ban the teaching of martin luther king jr. to elementary school students. rt to expose governor youngkin’s whitewashing of history!  \n",
       "2                                                        breaking: virginia republican governor glenn youngkin unveils a new policy that will ban the teaching of martin luther king jr. to elementary school students. rt to expose governor youngkin’s whitewashing of history!  \n",
       "3  according to our new education policy, it is the demand of time to implement the computer education in schools to the next level in the state. students are looking towards govt. to initiate in computer science stream. \\n#computer_instructor_result\\n#bci_sci_फाइनल_रिजल्ट  \n",
       "4                                                        breaking: virginia republican governor glenn youngkin unveils a new policy that will ban the teaching of martin luther king jr. to elementary school students. rt to expose governor youngkin’s whitewashing of history!  "
      ]
     },
     "execution_count": 97,
     "metadata": {},
     "output_type": "execute_result"
    }
   ],
   "source": [
    "pd_df_raw_policy.head()"
   ]
  },
  {
   "cell_type": "code",
   "execution_count": 78,
   "id": "adaf44b8-0b63-487e-92d1-66f44ad587f0",
   "metadata": {},
   "outputs": [],
   "source": [
    "df_raw_online_education = df_raw.filter('text like \"%online education%\" or text like \"%onlineeducation%\"').select(['country', 'user_name', 'followers_count', 'date'])"
   ]
  },
  {
   "cell_type": "code",
   "execution_count": 79,
   "id": "e4696caf-7199-4a4d-8ba8-5b8943c5e7f5",
   "metadata": {},
   "outputs": [
    {
     "name": "stderr",
     "output_type": "stream",
     "text": [
      "                                                                                \r"
     ]
    },
    {
     "data": {
      "text/plain": [
       "506"
      ]
     },
     "execution_count": 79,
     "metadata": {},
     "output_type": "execute_result"
    }
   ],
   "source": [
    "df_raw_online_education.count()"
   ]
  },
  {
   "cell_type": "code",
   "execution_count": 80,
   "id": "999b71d1-a7c5-4a64-8798-c37ed0b6ce23",
   "metadata": {},
   "outputs": [],
   "source": [
    "df_raw_brain_break = df_raw.filter('text like \"%brain break%\" or text like \"%brainbreak%\"').select(['country', 'user_name', 'followers_count', 'date'])"
   ]
  },
  {
   "cell_type": "code",
   "execution_count": 82,
   "id": "d81fe14f-a654-4c66-83fa-329ea2e414c0",
   "metadata": {},
   "outputs": [
    {
     "name": "stderr",
     "output_type": "stream",
     "text": [
      "                                                                                \r"
     ]
    },
    {
     "data": {
      "text/plain": [
       "14"
      ]
     },
     "execution_count": 82,
     "metadata": {},
     "output_type": "execute_result"
    }
   ],
   "source": [
    "df_raw_brain_break.count()"
   ]
  },
  {
   "cell_type": "code",
   "execution_count": 83,
   "id": "a21f07d2-9074-4185-bd99-43a2442bdbaa",
   "metadata": {},
   "outputs": [],
   "source": [
    "df_raw_brain_break = df_raw.filter('text like \"%blooms%\" or text like \"%taxonomy%\"').select(['country', 'user_name', 'followers_count', 'date'])"
   ]
  },
  {
   "cell_type": "code",
   "execution_count": 85,
   "id": "71321d66-805a-4bb0-8991-ac1123f8b195",
   "metadata": {},
   "outputs": [
    {
     "name": "stderr",
     "output_type": "stream",
     "text": [
      "                                                                                \r"
     ]
    },
    {
     "data": {
      "text/plain": [
       "35"
      ]
     },
     "execution_count": 85,
     "metadata": {},
     "output_type": "execute_result"
    }
   ],
   "source": [
    "df_raw_brain_break.count()"
   ]
  },
  {
   "cell_type": "code",
   "execution_count": 87,
   "id": "56e50496-51cd-4764-b659-a53d0da1295a",
   "metadata": {},
   "outputs": [],
   "source": [
    "df_raw_book_ban = df_raw.filter('text like \"%book ban%\"').select(['country', 'user_name', 'followers_count', 'date'])"
   ]
  },
  {
   "cell_type": "code",
   "execution_count": 89,
   "id": "8ab3900a-9242-4704-86ae-dd78f838c786",
   "metadata": {},
   "outputs": [
    {
     "name": "stderr",
     "output_type": "stream",
     "text": [
      "                                                                                \r"
     ]
    },
    {
     "data": {
      "text/plain": [
       "316"
      ]
     },
     "execution_count": 89,
     "metadata": {},
     "output_type": "execute_result"
    }
   ],
   "source": [
    "df_raw_book_ban.count()"
   ]
  },
  {
   "cell_type": "code",
   "execution_count": 125,
   "id": "a7b1d10d-c6d5-4c40-a4b6-217f54e46e85",
   "metadata": {},
   "outputs": [
    {
     "name": "stderr",
     "output_type": "stream",
     "text": [
      "                                                                                \r"
     ]
    }
   ],
   "source": [
    "pd_df_required = df_raw_new_policy.toPandas()"
   ]
  },
  {
   "cell_type": "code",
   "execution_count": 126,
   "id": "ebb52cab-bd48-4e3b-a38e-726d9ffdca94",
   "metadata": {},
   "outputs": [
    {
     "data": {
      "text/plain": [
       "country            object\n",
       "user_name          object\n",
       "followers_count     int64\n",
       "date               object\n",
       "tweet_text         object\n",
       "dtype: object"
      ]
     },
     "execution_count": 126,
     "metadata": {},
     "output_type": "execute_result"
    }
   ],
   "source": [
    "pd_df_required.dtypes"
   ]
  },
  {
   "cell_type": "code",
   "execution_count": 134,
   "id": "aa9d3a8c-2e71-4c49-9642-9f3f7203f715",
   "metadata": {},
   "outputs": [
    {
     "data": {
      "text/plain": [
       "(2379, 5)"
      ]
     },
     "execution_count": 134,
     "metadata": {},
     "output_type": "execute_result"
    }
   ],
   "source": [
    "pd_df_required.shape"
   ]
  },
  {
   "cell_type": "code",
   "execution_count": 128,
   "id": "7e0f676a-c7f8-4d53-94c4-adeba2d89d7f",
   "metadata": {},
   "outputs": [
    {
     "data": {
      "text/html": [
       "<div>\n",
       "<style scoped>\n",
       "    .dataframe tbody tr th:only-of-type {\n",
       "        vertical-align: middle;\n",
       "    }\n",
       "\n",
       "    .dataframe tbody tr th {\n",
       "        vertical-align: top;\n",
       "    }\n",
       "\n",
       "    .dataframe thead th {\n",
       "        text-align: right;\n",
       "    }\n",
       "</style>\n",
       "<table border=\"1\" class=\"dataframe\">\n",
       "  <thead>\n",
       "    <tr style=\"text-align: right;\">\n",
       "      <th></th>\n",
       "      <th>country</th>\n",
       "      <th>user_name</th>\n",
       "      <th>followers_count</th>\n",
       "      <th>date</th>\n",
       "      <th>tweet_text</th>\n",
       "    </tr>\n",
       "  </thead>\n",
       "  <tbody>\n",
       "    <tr>\n",
       "      <th>0</th>\n",
       "      <td>United States</td>\n",
       "      <td>Meg Gruber</td>\n",
       "      <td>955</td>\n",
       "      <td>2022-11-17</td>\n",
       "      <td>breaking: virginia republican governor glenn youngkin unveils a new policy that will ban the teaching of martin luther king jr. to elementary school students. rt to expose governor youngkin’s whitewashing of history!</td>\n",
       "    </tr>\n",
       "    <tr>\n",
       "      <th>1</th>\n",
       "      <td>United States</td>\n",
       "      <td>MiaGator23</td>\n",
       "      <td>48</td>\n",
       "      <td>2022-11-17</td>\n",
       "      <td>breaking: virginia republican governor glenn youngkin unveils a new policy that will ban the teaching of martin luther king jr. to elementary school students. rt to expose governor youngkin’s whitewashing of history!</td>\n",
       "    </tr>\n",
       "    <tr>\n",
       "      <th>2</th>\n",
       "      <td>None</td>\n",
       "      <td>Cait_is_REAL_tired</td>\n",
       "      <td>1882</td>\n",
       "      <td>2022-11-17</td>\n",
       "      <td>breaking: virginia republican governor glenn youngkin unveils a new policy that will ban the teaching of martin luther king jr. to elementary school students. rt to expose governor youngkin’s whitewashing of history!</td>\n",
       "    </tr>\n",
       "    <tr>\n",
       "      <th>3</th>\n",
       "      <td>None</td>\n",
       "      <td>Sailing Man</td>\n",
       "      <td>74</td>\n",
       "      <td>2022-11-17</td>\n",
       "      <td>breaking: virginia republican governor glenn youngkin unveils a new policy that will ban the teaching of martin luther king jr. to elementary school students. rt to expose governor youngkin’s whitewashing of history!</td>\n",
       "    </tr>\n",
       "    <tr>\n",
       "      <th>4</th>\n",
       "      <td>None</td>\n",
       "      <td>Karen</td>\n",
       "      <td>98</td>\n",
       "      <td>2022-11-17</td>\n",
       "      <td>breaking: virginia republican governor glenn youngkin unveils a new policy that will ban the teaching of martin luther king jr. to elementary school students. rt to expose governor youngkin’s whitewashing of history!</td>\n",
       "    </tr>\n",
       "  </tbody>\n",
       "</table>\n",
       "</div>"
      ],
      "text/plain": [
       "         country           user_name  followers_count        date  \\\n",
       "0  United States          Meg Gruber              955  2022-11-17   \n",
       "1  United States          MiaGator23               48  2022-11-17   \n",
       "2           None  Cait_is_REAL_tired             1882  2022-11-17   \n",
       "3           None         Sailing Man               74  2022-11-17   \n",
       "4           None               Karen               98  2022-11-17   \n",
       "\n",
       "                                                                                                                                                                                                                 tweet_text  \n",
       "0  breaking: virginia republican governor glenn youngkin unveils a new policy that will ban the teaching of martin luther king jr. to elementary school students. rt to expose governor youngkin’s whitewashing of history!  \n",
       "1  breaking: virginia republican governor glenn youngkin unveils a new policy that will ban the teaching of martin luther king jr. to elementary school students. rt to expose governor youngkin’s whitewashing of history!  \n",
       "2  breaking: virginia republican governor glenn youngkin unveils a new policy that will ban the teaching of martin luther king jr. to elementary school students. rt to expose governor youngkin’s whitewashing of history!  \n",
       "3  breaking: virginia republican governor glenn youngkin unveils a new policy that will ban the teaching of martin luther king jr. to elementary school students. rt to expose governor youngkin’s whitewashing of history!  \n",
       "4  breaking: virginia republican governor glenn youngkin unveils a new policy that will ban the teaching of martin luther king jr. to elementary school students. rt to expose governor youngkin’s whitewashing of history!  "
      ]
     },
     "execution_count": 128,
     "metadata": {},
     "output_type": "execute_result"
    }
   ],
   "source": [
    "pd_df_required.head()"
   ]
  },
  {
   "cell_type": "code",
   "execution_count": 103,
   "id": "a2831560-9366-4607-8a27-86654e367ee0",
   "metadata": {},
   "outputs": [],
   "source": [
    "@F.udf\n",
    "def get_month(date_):\n",
    "    return str(date_)[5:7]"
   ]
  },
  {
   "cell_type": "code",
   "execution_count": 129,
   "id": "4f2b5b84-0ce6-4b04-8251-ce6a788cba0a",
   "metadata": {},
   "outputs": [],
   "source": [
    "countries = list(pd_df_1['Country'])\n",
    "countries = countries[:5]"
   ]
  },
  {
   "cell_type": "code",
   "execution_count": 130,
   "id": "a0dd2aea-ec60-45d5-9e92-f00af1ad4237",
   "metadata": {},
   "outputs": [
    {
     "data": {
      "text/plain": [
       "['United States of America', 'Nigeria', 'India', 'United Kingdom', 'Canada']"
      ]
     },
     "execution_count": 130,
     "metadata": {},
     "output_type": "execute_result"
    }
   ],
   "source": [
    "countries"
   ]
  },
  {
   "cell_type": "code",
   "execution_count": 137,
   "id": "bfd81f45-7b01-4f48-b1a8-34218bae7a56",
   "metadata": {},
   "outputs": [
    {
     "name": "stderr",
     "output_type": "stream",
     "text": [
      "/tmp/ipykernel_18844/411805896.py:2: SettingWithCopyWarning: \n",
      "A value is trying to be set on a copy of a slice from a DataFrame.\n",
      "Try using .loc[row_indexer,col_indexer] = value instead\n",
      "\n",
      "See the caveats in the documentation: https://pandas.pydata.org/pandas-docs/stable/user_guide/indexing.html#returning-a-view-versus-a-copy\n",
      "  pd_df_required_new['date'] = pd.to_datetime(pd_df_required_new['date'])\n",
      "/tmp/ipykernel_18844/411805896.py:3: SettingWithCopyWarning: \n",
      "A value is trying to be set on a copy of a slice from a DataFrame.\n",
      "Try using .loc[row_indexer,col_indexer] = value instead\n",
      "\n",
      "See the caveats in the documentation: https://pandas.pydata.org/pandas-docs/stable/user_guide/indexing.html#returning-a-view-versus-a-copy\n",
      "  pd_df_required_new['month'] = pd_df_required_new['date'].dt.to_period('M')\n"
     ]
    },
    {
     "data": {
      "text/html": [
       "<div>\n",
       "<style scoped>\n",
       "    .dataframe tbody tr th:only-of-type {\n",
       "        vertical-align: middle;\n",
       "    }\n",
       "\n",
       "    .dataframe tbody tr th {\n",
       "        vertical-align: top;\n",
       "    }\n",
       "\n",
       "    .dataframe thead th {\n",
       "        text-align: right;\n",
       "    }\n",
       "</style>\n",
       "<table border=\"1\" class=\"dataframe\">\n",
       "  <thead>\n",
       "    <tr style=\"text-align: right;\">\n",
       "      <th></th>\n",
       "      <th>user_name</th>\n",
       "    </tr>\n",
       "    <tr>\n",
       "      <th>month</th>\n",
       "      <th></th>\n",
       "    </tr>\n",
       "  </thead>\n",
       "  <tbody>\n",
       "    <tr>\n",
       "      <th>2022-04</th>\n",
       "      <td>1</td>\n",
       "    </tr>\n",
       "  </tbody>\n",
       "</table>\n",
       "</div>"
      ],
      "text/plain": [
       "         user_name\n",
       "month             \n",
       "2022-04          1"
      ]
     },
     "execution_count": 137,
     "metadata": {},
     "output_type": "execute_result"
    }
   ],
   "source": [
    "pd_df_required_new = pd_df_required[pd_df_required['country']=='Nigeria']\n",
    "pd_df_required_new['date'] = pd.to_datetime(pd_df_required_new['date'])\n",
    "pd_df_required_new['month'] = pd_df_required_new['date'].dt.to_period('M')\n",
    "pd_new = pd_df_required_new.groupby('month')['user_name'].agg('count').reset_index().sort_values('month').set_index(keys = 'month', drop = True)\n",
    "pd_new.head()"
   ]
  },
  {
   "cell_type": "code",
   "execution_count": 123,
   "id": "ab650c03-8854-440b-839d-aee4f993cee2",
   "metadata": {},
   "outputs": [
    {
     "data": {
      "text/plain": [
       "Series([], Freq: M, Name: user_name, dtype: int64)"
      ]
     },
     "execution_count": 123,
     "metadata": {},
     "output_type": "execute_result"
    }
   ],
   "source": [
    "pd_new"
   ]
  },
  {
   "cell_type": "code",
   "execution_count": 135,
   "id": "b3ffa460-da78-4ae9-b3d8-3d4cc32405c7",
   "metadata": {},
   "outputs": [
    {
     "ename": "AttributeError",
     "evalue": "Can only use .dt accessor with datetimelike values",
     "output_type": "error",
     "traceback": [
      "\u001b[0;31m---------------------------------------------------------------------------\u001b[0m",
      "\u001b[0;31mAttributeError\u001b[0m                            Traceback (most recent call last)",
      "Cell \u001b[0;32mIn[135], line 4\u001b[0m\n\u001b[1;32m      2\u001b[0m pd_df_required_new \u001b[38;5;241m=\u001b[39m pd_df_required[pd_df_required[\u001b[38;5;124m'\u001b[39m\u001b[38;5;124mcountry\u001b[39m\u001b[38;5;124m'\u001b[39m]\u001b[38;5;241m==\u001b[39mi]\n\u001b[1;32m      3\u001b[0m pd_df_required_new[\u001b[38;5;124m'\u001b[39m\u001b[38;5;124mdate\u001b[39m\u001b[38;5;124m'\u001b[39m] \u001b[38;5;241m=\u001b[39m pd\u001b[38;5;241m.\u001b[39mto_datetime(pd_df_required_new[\u001b[38;5;124m'\u001b[39m\u001b[38;5;124mdate\u001b[39m\u001b[38;5;124m'\u001b[39m])\n\u001b[0;32m----> 4\u001b[0m pd_df_required_new[\u001b[38;5;124m'\u001b[39m\u001b[38;5;124mmonth\u001b[39m\u001b[38;5;124m'\u001b[39m] \u001b[38;5;241m=\u001b[39m \u001b[43mpd_df_required\u001b[49m\u001b[43m[\u001b[49m\u001b[38;5;124;43m'\u001b[39;49m\u001b[38;5;124;43mdate\u001b[39;49m\u001b[38;5;124;43m'\u001b[39;49m\u001b[43m]\u001b[49m\u001b[38;5;241;43m.\u001b[39;49m\u001b[43mdt\u001b[49m\u001b[38;5;241m.\u001b[39mto_period(\u001b[38;5;124m'\u001b[39m\u001b[38;5;124mM\u001b[39m\u001b[38;5;124m'\u001b[39m)\n\u001b[1;32m      5\u001b[0m pd_new \u001b[38;5;241m=\u001b[39m pd_df_required_new\u001b[38;5;241m.\u001b[39mgroupby(\u001b[38;5;124m'\u001b[39m\u001b[38;5;124mmonth\u001b[39m\u001b[38;5;124m'\u001b[39m)[\u001b[38;5;124m'\u001b[39m\u001b[38;5;124muser_name\u001b[39m\u001b[38;5;124m'\u001b[39m]\u001b[38;5;241m.\u001b[39magg(\u001b[38;5;124m'\u001b[39m\u001b[38;5;124mcount\u001b[39m\u001b[38;5;124m'\u001b[39m)\u001b[38;5;241m.\u001b[39mreset_index()\u001b[38;5;241m.\u001b[39msort_values(\u001b[38;5;124m'\u001b[39m\u001b[38;5;124mmonth\u001b[39m\u001b[38;5;124m'\u001b[39m)\u001b[38;5;241m.\u001b[39mset_index(keys \u001b[38;5;241m=\u001b[39m \u001b[38;5;124m'\u001b[39m\u001b[38;5;124mmonth\u001b[39m\u001b[38;5;124m'\u001b[39m, drop \u001b[38;5;241m=\u001b[39m \u001b[38;5;28;01mTrue\u001b[39;00m)\n\u001b[1;32m      6\u001b[0m pd_new\u001b[38;5;241m.\u001b[39mhead()\n",
      "File \u001b[0;32m/opt/conda/miniconda3/lib/python3.8/site-packages/pandas/core/generic.py:5461\u001b[0m, in \u001b[0;36mNDFrame.__getattr__\u001b[0;34m(self, name)\u001b[0m\n\u001b[1;32m   5454\u001b[0m \u001b[38;5;66;03m# Note: obj.x will always call obj.__getattribute__('x') prior to\u001b[39;00m\n\u001b[1;32m   5455\u001b[0m \u001b[38;5;66;03m# calling obj.__getattr__('x').\u001b[39;00m\n\u001b[1;32m   5456\u001b[0m \u001b[38;5;28;01mif\u001b[39;00m (\n\u001b[1;32m   5457\u001b[0m     name \u001b[38;5;129;01min\u001b[39;00m \u001b[38;5;28mself\u001b[39m\u001b[38;5;241m.\u001b[39m_internal_names_set\n\u001b[1;32m   5458\u001b[0m     \u001b[38;5;129;01mor\u001b[39;00m name \u001b[38;5;129;01min\u001b[39;00m \u001b[38;5;28mself\u001b[39m\u001b[38;5;241m.\u001b[39m_metadata\n\u001b[1;32m   5459\u001b[0m     \u001b[38;5;129;01mor\u001b[39;00m name \u001b[38;5;129;01min\u001b[39;00m \u001b[38;5;28mself\u001b[39m\u001b[38;5;241m.\u001b[39m_accessors\n\u001b[1;32m   5460\u001b[0m ):\n\u001b[0;32m-> 5461\u001b[0m     \u001b[38;5;28;01mreturn\u001b[39;00m \u001b[38;5;28;43mobject\u001b[39;49m\u001b[38;5;241;43m.\u001b[39;49m\u001b[38;5;21;43m__getattribute__\u001b[39;49m\u001b[43m(\u001b[49m\u001b[38;5;28;43mself\u001b[39;49m\u001b[43m,\u001b[49m\u001b[43m \u001b[49m\u001b[43mname\u001b[49m\u001b[43m)\u001b[49m\n\u001b[1;32m   5462\u001b[0m \u001b[38;5;28;01melse\u001b[39;00m:\n\u001b[1;32m   5463\u001b[0m     \u001b[38;5;28;01mif\u001b[39;00m \u001b[38;5;28mself\u001b[39m\u001b[38;5;241m.\u001b[39m_info_axis\u001b[38;5;241m.\u001b[39m_can_hold_identifiers_and_holds_name(name):\n",
      "File \u001b[0;32m/opt/conda/miniconda3/lib/python3.8/site-packages/pandas/core/accessor.py:180\u001b[0m, in \u001b[0;36mCachedAccessor.__get__\u001b[0;34m(self, obj, cls)\u001b[0m\n\u001b[1;32m    177\u001b[0m \u001b[38;5;28;01mif\u001b[39;00m obj \u001b[38;5;129;01mis\u001b[39;00m \u001b[38;5;28;01mNone\u001b[39;00m:\n\u001b[1;32m    178\u001b[0m     \u001b[38;5;66;03m# we're accessing the attribute of the class, i.e., Dataset.geo\u001b[39;00m\n\u001b[1;32m    179\u001b[0m     \u001b[38;5;28;01mreturn\u001b[39;00m \u001b[38;5;28mself\u001b[39m\u001b[38;5;241m.\u001b[39m_accessor\n\u001b[0;32m--> 180\u001b[0m accessor_obj \u001b[38;5;241m=\u001b[39m \u001b[38;5;28;43mself\u001b[39;49m\u001b[38;5;241;43m.\u001b[39;49m\u001b[43m_accessor\u001b[49m\u001b[43m(\u001b[49m\u001b[43mobj\u001b[49m\u001b[43m)\u001b[49m\n\u001b[1;32m    181\u001b[0m \u001b[38;5;66;03m# Replace the property with the accessor object. Inspired by:\u001b[39;00m\n\u001b[1;32m    182\u001b[0m \u001b[38;5;66;03m# https://www.pydanny.com/cached-property.html\u001b[39;00m\n\u001b[1;32m    183\u001b[0m \u001b[38;5;66;03m# We need to use object.__setattr__ because we overwrite __setattr__ on\u001b[39;00m\n\u001b[1;32m    184\u001b[0m \u001b[38;5;66;03m# NDFrame\u001b[39;00m\n\u001b[1;32m    185\u001b[0m \u001b[38;5;28mobject\u001b[39m\u001b[38;5;241m.\u001b[39m\u001b[38;5;21m__setattr__\u001b[39m(obj, \u001b[38;5;28mself\u001b[39m\u001b[38;5;241m.\u001b[39m_name, accessor_obj)\n",
      "File \u001b[0;32m/opt/conda/miniconda3/lib/python3.8/site-packages/pandas/core/indexes/accessors.py:494\u001b[0m, in \u001b[0;36mCombinedDatetimelikeProperties.__new__\u001b[0;34m(cls, data)\u001b[0m\n\u001b[1;32m    491\u001b[0m \u001b[38;5;28;01melif\u001b[39;00m is_period_dtype(data\u001b[38;5;241m.\u001b[39mdtype):\n\u001b[1;32m    492\u001b[0m     \u001b[38;5;28;01mreturn\u001b[39;00m PeriodProperties(data, orig)\n\u001b[0;32m--> 494\u001b[0m \u001b[38;5;28;01mraise\u001b[39;00m \u001b[38;5;167;01mAttributeError\u001b[39;00m(\u001b[38;5;124m\"\u001b[39m\u001b[38;5;124mCan only use .dt accessor with datetimelike values\u001b[39m\u001b[38;5;124m\"\u001b[39m)\n",
      "\u001b[0;31mAttributeError\u001b[0m: Can only use .dt accessor with datetimelike values"
     ]
    }
   ],
   "source": [
    "for i in countries:\n",
    "    pd_df_required_new = pd_df_required[pd_df_required['country']==i]\n",
    "    pd_df_required_new['date'] = pd.to_datetime(pd_df_required_new['date'])\n",
    "    pd_df_required_new['month'] = pd_df_required['date'].dt.to_period('M')\n",
    "    pd_new = pd_df_required_new.groupby('month')['user_name'].agg('count').reset_index().sort_values('month').set_index(keys = 'month', drop = True)\n",
    "    pd_new.head()\n",
    "    fig = pd_new.plot(kind = 'bar', title = i, color= 'deepskyblue', grid = True)\n",
    "    fig.set_xlabel('Month')\n",
    "    fig.set_ylabel('Number of tweets')\n",
    "    fig.bar_label(fig.containers[0], fmt = '%d', label_type='edge')\n",
    "    plt.xticks(rotation = 0)\n",
    "    plt.show()"
   ]
  },
  {
   "cell_type": "markdown",
   "id": "a44975ed-5250-42c1-8f6e-bb02c8f53457",
   "metadata": {},
   "source": [
    "### Since the data is not providing any meaningfull insights with the location analysis, performing the timeline analysis"
   ]
  },
  {
   "cell_type": "code",
   "execution_count": 139,
   "id": "c7469043-442c-4e91-b168-537ee9d3e957",
   "metadata": {},
   "outputs": [
    {
     "name": "stderr",
     "output_type": "stream",
     "text": [
      "                                                                                \r"
     ]
    },
    {
     "data": {
      "text/html": [
       "<table border='1'>\n",
       "<tr><th>user_location</th><th>id</th><th>created_at</th><th>user_name</th><th>user_description</th><th>verified_status</th><th>followers_count</th><th>geo_enabled</th><th>user_id_str</th><th>user_id</th><th>tweet_text</th><th>text</th><th>retweet_count</th><th>retweeted_status</th><th>geo</th><th>stripped</th><th>organization</th><th>created_at_timestamp</th><th>country</th><th>date</th></tr>\n",
       "<tr><td>Sivasagar, Assam</td><td>1546871354871259136</td><td>Tue Jul 12 14:57:...</td><td>Bitupon Dowarah</td><td>Tech Enthusiast a...</td><td>false</td><td>4</td><td>true</td><td>1245229306940289025</td><td>1245229306940289025</td><td>lack of sufficien...</td><td>RT @DibyansuL: La...</td><td>5</td><td>{null, Tue Jul 12...</td><td>null</td><td>lack of sufficien...</td><td>Others</td><td>2022-07-12 14:57:25</td><td>null</td><td>2022-07-12</td></tr>\n",
       "<tr><td>Heaven</td><td>1592977264966537216</td><td>Wed Nov 16 20:25:...</td><td>Elgiver 📷</td><td>An heir of salvat...</td><td>false</td><td>1991</td><td>false</td><td>2712037815</td><td>2712037815</td><td>how many of you r...</td><td>RT @jay_onair: Ho...</td><td>195</td><td>{null, Wed Nov 16...</td><td>null</td><td>how many of you r...</td><td>Others</td><td>2022-11-16 20:25:50</td><td>null</td><td>2022-11-16</td></tr>\n",
       "<tr><td>lagos, Nigeria</td><td>1524781431511203842</td><td>Thu May 12 15:59:...</td><td>subarrruuu tailor🦋</td><td>I like boys who l...</td><td>false</td><td>311</td><td>false</td><td>1228368290185142273</td><td>1228368290185142273</td><td>deborah was stone...</td><td>RT @NwankwoEsomch...</td><td>437</td><td>{null, Thu May 12...</td><td>null</td><td>deborah was stone...</td><td>Others</td><td>2022-05-12 15:59:56</td><td>null</td><td>2022-05-12</td></tr>\n",
       "<tr><td>Utah</td><td>1590826778897305601</td><td>Thu Nov 10 22:00:...</td><td>Nebo School District</td><td>Nebo School District</td><td>false</td><td>1468</td><td>false</td><td>253247356</td><td>253247356</td><td>foothills element...</td><td>Foothills Element...</td><td>null</td><td>null</td><td>null</td><td>foothills element...</td><td>Schools</td><td>2022-11-10 22:00:34</td><td>null</td><td>2022-11-10</td></tr>\n",
       "<tr><td>Heaven</td><td>1601699017758769152</td><td>Sat Dec 10 22:02:...</td><td>Justin</td><td>I&#x27;m a nightmare f...</td><td>false</td><td>60</td><td>false</td><td>1578183140098641921</td><td>1578183140098641921</td><td>&quot;run, run, run!&quot;\n",
       "...</td><td>RT @ICHRI: &quot;Run, ...</td><td>39</td><td>{null, Sat Dec 10...</td><td>null</td><td>run run run!\n",
       "\n",
       "stu...</td><td>Others</td><td>2022-12-10 22:02:58</td><td>null</td><td>2022-12-10</td></tr>\n",
       "</table>\n"
      ],
      "text/plain": [
       "+--------------------+-------------------+--------------------+--------------------+--------------------+---------------+---------------+-----------+-------------------+-------------------+--------------------+--------------------+-------------+--------------------+----+--------------------+------------+--------------------+-------------+----------+\n",
       "|       user_location|                 id|          created_at|           user_name|    user_description|verified_status|followers_count|geo_enabled|        user_id_str|            user_id|          tweet_text|                text|retweet_count|    retweeted_status| geo|            stripped|organization|created_at_timestamp|      country|      date|\n",
       "+--------------------+-------------------+--------------------+--------------------+--------------------+---------------+---------------+-----------+-------------------+-------------------+--------------------+--------------------+-------------+--------------------+----+--------------------+------------+--------------------+-------------+----------+\n",
       "|           Mini Thni|1588185108024274974|Thu Nov 03 15:03:...|     Rachel Ann Snow|Îyârhe Nakoda-Que...|          false|           4905|       true|          634080059|          634080059|and carleton univ...|RT @VeldonCoburn:...|            2|{null, Thu Nov 03...|null|and carleton univ...|      Others| 2022-11-03 15:03:31|         null|2022-11-03|\n",
       "|         Chicago, IL|1515174522994970625|Sat Apr 16 03:45:...|Bruno⏳💚🦋✨ (NSFW...|Hello! I'm Mimi. ...|          false|            274|      false| 813566186680123393| 813566186680123393|can we talk about...|RT @martianlune: ...|         4840|{null, Fri Apr 15...|null|can we talk about...|      Others| 2022-04-16 03:45:31|United States|2022-04-16|\n",
       "|         Chicago, IL|1515174810657165312|Sat Apr 16 03:46:...|               bae ♡|perfectly imperfe...|          false|            221|      false|1438183552420651010|1438183552420651010|can we talk about...|RT @martianlune: ...|         4881|{null, Fri Apr 15...|null|can we talk about...|      Others| 2022-04-16 03:46:40|United States|2022-04-16|\n",
       "|  Check out my O F  |1515175233388351489|Sat Apr 16 03:48:...|       mkmileena🥷🏻|🇵🇷🇲🇽 milf  | ...|          false|          20501|       true|         2253775357|         2253775357|can we talk about...|RT @martianlune: ...|         4949|{null, Fri Apr 15...|null|can we talk about...| Influencers| 2022-04-16 03:48:20|         null|2022-04-16|\n",
       "|Rockpool Bar Car ...|1563990713259462659|Sun Aug 28 20:43:...|Black Dog Walking...|Black Dog of Depr...|          false|           1513|      false| 797408204888166400| 797408204888166400|student mental he...|RT @mhtodaymag: S...|            3|{null, Fri Aug 19...|null|student mental he...|         NGO| 2022-08-28 20:43:38|         null|2022-08-28|\n",
       "+--------------------+-------------------+--------------------+--------------------+--------------------+---------------+---------------+-----------+-------------------+-------------------+--------------------+--------------------+-------------+--------------------+----+--------------------+------------+--------------------+-------------+----------+"
      ]
     },
     "execution_count": 139,
     "metadata": {},
     "output_type": "execute_result"
    }
   ],
   "source": [
    "df_raw.limit(5)"
   ]
  },
  {
   "cell_type": "code",
   "execution_count": null,
   "id": "1a882322-4adb-4518-93a2-c6097c492b87",
   "metadata": {},
   "outputs": [],
   "source": []
  },
  {
   "cell_type": "code",
   "execution_count": 145,
   "id": "96aec6de-3d83-4122-a2f3-4e9bdf9549b0",
   "metadata": {},
   "outputs": [],
   "source": [
    "df_grouped_date = df_raw.groupBy('date').agg(F.count('id').alias('count_of_tweets'))"
   ]
  },
  {
   "cell_type": "code",
   "execution_count": 146,
   "id": "8c8ab532-5c3e-4f45-aa2f-85c3d3f730cc",
   "metadata": {},
   "outputs": [
    {
     "name": "stderr",
     "output_type": "stream",
     "text": [
      "                                                                                \r"
     ]
    }
   ],
   "source": [
    "pd_df_grouped = df_grouped_date.toPandas()"
   ]
  },
  {
   "cell_type": "code",
   "execution_count": 147,
   "id": "2b32090f-cd97-491b-9c4c-aaf86384669a",
   "metadata": {},
   "outputs": [
    {
     "data": {
      "text/plain": [
       "(310, 2)"
      ]
     },
     "execution_count": 147,
     "metadata": {},
     "output_type": "execute_result"
    }
   ],
   "source": [
    "pd_df_grouped.shape"
   ]
  },
  {
   "cell_type": "code",
   "execution_count": 154,
   "id": "69e7ef4c-293a-4ef3-b7ae-2d9718a74818",
   "metadata": {},
   "outputs": [],
   "source": [
    "df_raw = df_raw.withColumn('year_month',F.date_format(F.col(\"created_at_timestamp\"), \"yyyy-MM\"))"
   ]
  },
  {
   "cell_type": "code",
   "execution_count": 155,
   "id": "bde62cad-b777-4951-898e-b6c7022ec7cd",
   "metadata": {},
   "outputs": [
    {
     "name": "stderr",
     "output_type": "stream",
     "text": [
      "                                                                                \r"
     ]
    },
    {
     "data": {
      "text/html": [
       "<table border='1'>\n",
       "<tr><th>created_at_timestamp</th><th>year_month</th></tr>\n",
       "<tr><td>2022-12-08 09:02:57</td><td>2022-12</td></tr>\n",
       "<tr><td>2022-11-20 17:45:34</td><td>2022-11</td></tr>\n",
       "<tr><td>2022-04-16 03:44:41</td><td>2022-04</td></tr>\n",
       "<tr><td>2022-04-16 03:48:40</td><td>2022-04</td></tr>\n",
       "<tr><td>2022-08-28 20:42:51</td><td>2022-08</td></tr>\n",
       "</table>\n"
      ],
      "text/plain": [
       "+--------------------+----------+\n",
       "|created_at_timestamp|year_month|\n",
       "+--------------------+----------+\n",
       "| 2022-12-08 09:02:57|   2022-12|\n",
       "| 2022-11-20 17:45:34|   2022-11|\n",
       "| 2022-04-16 03:44:41|   2022-04|\n",
       "| 2022-04-16 03:48:40|   2022-04|\n",
       "| 2022-08-28 20:42:51|   2022-08|\n",
       "+--------------------+----------+"
      ]
     },
     "execution_count": 155,
     "metadata": {},
     "output_type": "execute_result"
    }
   ],
   "source": [
    "df_raw.select('created_at_timestamp', 'year_month').limit(5)"
   ]
  },
  {
   "cell_type": "code",
   "execution_count": null,
   "id": "c5467be6-2887-4340-982a-ced6d9e9ad58",
   "metadata": {},
   "outputs": [],
   "source": []
  },
  {
   "cell_type": "code",
   "execution_count": 169,
   "id": "86287671-8fa9-4f91-a578-5677a2c17178",
   "metadata": {},
   "outputs": [],
   "source": [
    "df_filtered_text_like_chatgpt = df_raw.filter('text like \"%chatgpt%\" or text like \"%chat gpt%\" or text like \"%chatGPT%\"').select(['country', 'user_name', 'followers_count', 'date', 'year_month'])"
   ]
  },
  {
   "cell_type": "code",
   "execution_count": 170,
   "id": "0e9e5e76-cdf4-404e-a5a7-77d1b65062c1",
   "metadata": {},
   "outputs": [
    {
     "name": "stderr",
     "output_type": "stream",
     "text": [
      "                                                                                \r"
     ]
    },
    {
     "data": {
      "text/plain": [
       "51"
      ]
     },
     "execution_count": 170,
     "metadata": {},
     "output_type": "execute_result"
    }
   ],
   "source": [
    "df_filtered_text_like_chatgpt.count()"
   ]
  },
  {
   "cell_type": "code",
   "execution_count": 173,
   "id": "cef2a1c3-545a-49e1-a334-6531a44a2f07",
   "metadata": {},
   "outputs": [],
   "source": [
    "# Sustainable Teaching\n",
    "df_filtered_text_like_sustainable_teaching = df_raw.filter('text like \"%sustainable teaching%\" or text like \"%Sustainable Teaching%\" or text like \"%Sustainableteaching%\" or text like \"%Sustainable teaching%\"')\\\n",
    "                .select(['country', 'user_name', 'followers_count', 'date', 'year_month'])"
   ]
  },
  {
   "cell_type": "code",
   "execution_count": 176,
   "id": "4ac7165c-118b-4f17-9ac2-609d451511ed",
   "metadata": {},
   "outputs": [
    {
     "name": "stderr",
     "output_type": "stream",
     "text": [
      "                                                                                \r"
     ]
    },
    {
     "data": {
      "text/html": [
       "<table border='1'>\n",
       "<tr><th>country</th><th>user_name</th><th>followers_count</th><th>date</th><th>year_month</th></tr>\n",
       "<tr><td>null</td><td>SchoolRubric</td><td>17472</td><td>2022-05-05</td><td>2022-05</td></tr>\n",
       "</table>\n"
      ],
      "text/plain": [
       "DataFrame[country: string, user_name: string, followers_count: bigint, date: date, year_month: string]"
      ]
     },
     "execution_count": 176,
     "metadata": {},
     "output_type": "execute_result"
    }
   ],
   "source": [
    "df_filtered_text_like_sustainable_teaching"
   ]
  },
  {
   "cell_type": "markdown",
   "id": "d5bc2a36-41f9-4572-8ec1-6f9e4987977d",
   "metadata": {},
   "source": [
    "### Looking for trends in edchat"
   ]
  },
  {
   "cell_type": "code",
   "execution_count": 196,
   "id": "eeb59329-d137-4d64-af12-b92988ff8f49",
   "metadata": {},
   "outputs": [],
   "source": [
    "df_filtered_text_like_edchat = df_raw.filter('text like \"%edchat%\"').select(['country', 'user_name', 'followers_count', 'date', 'year_month', 'user_location'])"
   ]
  },
  {
   "cell_type": "code",
   "execution_count": 197,
   "id": "96c0e5a7-cbfb-460d-8cb6-e1a1a9dbcb42",
   "metadata": {},
   "outputs": [
    {
     "name": "stderr",
     "output_type": "stream",
     "text": [
      "                                                                                \r"
     ]
    },
    {
     "data": {
      "text/plain": [
       "2270"
      ]
     },
     "execution_count": 197,
     "metadata": {},
     "output_type": "execute_result"
    }
   ],
   "source": [
    "df_filtered_text_like_edchat.count()"
   ]
  },
  {
   "cell_type": "code",
   "execution_count": 205,
   "id": "aad13e25-a835-4c09-a32a-f08a0dae90bb",
   "metadata": {},
   "outputs": [],
   "source": [
    "df_filtered_text_like_edchat_grouped_country = df_filtered_text_like_edchat.groupBy('user_location').agg(F.count('*').alias('count'))"
   ]
  },
  {
   "cell_type": "code",
   "execution_count": 206,
   "id": "7997b417-f0a2-4791-aab9-08d04cd64b72",
   "metadata": {},
   "outputs": [
    {
     "name": "stderr",
     "output_type": "stream",
     "text": [
      "                                                                                \r"
     ]
    },
    {
     "data": {
      "text/html": [
       "<table border='1'>\n",
       "<tr><th>user_location</th><th>count</th></tr>\n",
       "<tr><td>Pittsburgh</td><td>30</td></tr>\n",
       "<tr><td>Los Angeles, CA</td><td>4</td></tr>\n",
       "<tr><td>Dallas, TX</td><td>5</td></tr>\n",
       "<tr><td>Cedar Falls, IA</td><td>2</td></tr>\n",
       "<tr><td>Riyadh</td><td>1</td></tr>\n",
       "</table>\n"
      ],
      "text/plain": [
       "+--------------------+-----+\n",
       "|       user_location|count|\n",
       "+--------------------+-----+\n",
       "|Mount Prospect, I...|    7|\n",
       "|          Estero, FL|    2|\n",
       "|         Colonie, NY|    1|\n",
       "|               Texas|    5|\n",
       "|       Las Vegas, NV|    2|\n",
       "+--------------------+-----+"
      ]
     },
     "execution_count": 206,
     "metadata": {},
     "output_type": "execute_result"
    }
   ],
   "source": [
    "df_filtered_text_like_edchat_grouped_country.limit(5)"
   ]
  },
  {
   "cell_type": "code",
   "execution_count": 207,
   "id": "a1bac485-c5f2-4f33-a947-5d37683b7e86",
   "metadata": {},
   "outputs": [
    {
     "name": "stderr",
     "output_type": "stream",
     "text": [
      "                                                                                \r"
     ]
    },
    {
     "data": {
      "text/plain": [
       "1026"
      ]
     },
     "execution_count": 207,
     "metadata": {},
     "output_type": "execute_result"
    }
   ],
   "source": [
    "df_filtered_text_like_edchat_grouped_country.count()"
   ]
  },
  {
   "cell_type": "code",
   "execution_count": 225,
   "id": "01c53207-48cf-47e3-9e35-ccfcb04cf55e",
   "metadata": {},
   "outputs": [
    {
     "name": "stderr",
     "output_type": "stream",
     "text": [
      "                                                                                \r"
     ]
    },
    {
     "data": {
      "text/plain": [
       "2270"
      ]
     },
     "execution_count": 225,
     "metadata": {},
     "output_type": "execute_result"
    }
   ],
   "source": [
    "df_filtered_text_like_edchat.count()"
   ]
  },
  {
   "cell_type": "code",
   "execution_count": 228,
   "id": "5b14df8c-ca52-40b9-8bbc-481666db1681",
   "metadata": {},
   "outputs": [],
   "source": [
    "df_filtered_text_like_edchat_user = df_filtered_text_like_edchat.groupBy('user_name').agg(F.count('*').alias('count_of_tweets'))"
   ]
  },
  {
   "cell_type": "code",
   "execution_count": 229,
   "id": "38795b15-1102-43d4-b149-de2f252e964c",
   "metadata": {},
   "outputs": [
    {
     "name": "stderr",
     "output_type": "stream",
     "text": [
      "                                                                                \r"
     ]
    },
    {
     "data": {
      "text/plain": [
       "1361"
      ]
     },
     "execution_count": 229,
     "metadata": {},
     "output_type": "execute_result"
    }
   ],
   "source": [
    "df_filtered_text_like_edchat_user.count()"
   ]
  },
  {
   "cell_type": "code",
   "execution_count": 220,
   "id": "25087cde-1980-48ce-a181-6a327938361c",
   "metadata": {},
   "outputs": [],
   "source": [
    "df_grouped_edchat_year_month = df_filtered_text_like_edchat.groupBy('year_month').agg(F.count('user_name').alias('count_of_users'))"
   ]
  },
  {
   "cell_type": "code",
   "execution_count": 221,
   "id": "b9333c43-e5a2-4855-ad1b-a866c3765f6e",
   "metadata": {},
   "outputs": [
    {
     "name": "stderr",
     "output_type": "stream",
     "text": [
      "                                                                                \r"
     ]
    }
   ],
   "source": [
    "pd_df_grouped_edchat_year_month = df_grouped_edchat_year_month.toPandas()"
   ]
  },
  {
   "cell_type": "code",
   "execution_count": 222,
   "id": "e09ff79b-a04d-4192-84da-24843ad32635",
   "metadata": {},
   "outputs": [
    {
     "data": {
      "text/plain": [
       "(11, 2)"
      ]
     },
     "execution_count": 222,
     "metadata": {},
     "output_type": "execute_result"
    }
   ],
   "source": [
    "pd_df_grouped_edchat_year_month.shape"
   ]
  },
  {
   "cell_type": "code",
   "execution_count": 223,
   "id": "d80a5dfb-8ffb-4878-b996-d98c0d7241d2",
   "metadata": {},
   "outputs": [],
   "source": [
    "pd_df_grouped_edchat_year_month.sort_values('year_month', ascending=True, inplace=True)"
   ]
  },
  {
   "cell_type": "code",
   "execution_count": 230,
   "id": "987fc65a-1e1e-4c27-b338-fb60978ef738",
   "metadata": {},
   "outputs": [
    {
     "data": {
      "text/plain": [
       "2270"
      ]
     },
     "execution_count": 230,
     "metadata": {},
     "output_type": "execute_result"
    }
   ],
   "source": [
    "pd_df_grouped_edchat_year_month.count_of_users.sum()"
   ]
  },
  {
   "cell_type": "code",
   "execution_count": 231,
   "id": "45eb2bc0-83c2-4a47-9166-64f38c492386",
   "metadata": {},
   "outputs": [
    {
     "data": {
      "text/html": [
       "<div>\n",
       "<style scoped>\n",
       "    .dataframe tbody tr th:only-of-type {\n",
       "        vertical-align: middle;\n",
       "    }\n",
       "\n",
       "    .dataframe tbody tr th {\n",
       "        vertical-align: top;\n",
       "    }\n",
       "\n",
       "    .dataframe thead th {\n",
       "        text-align: right;\n",
       "    }\n",
       "</style>\n",
       "<table border=\"1\" class=\"dataframe\">\n",
       "  <thead>\n",
       "    <tr style=\"text-align: right;\">\n",
       "      <th></th>\n",
       "      <th>year_month</th>\n",
       "      <th>count_of_users</th>\n",
       "    </tr>\n",
       "  </thead>\n",
       "  <tbody>\n",
       "    <tr>\n",
       "      <th>0</th>\n",
       "      <td>2022-04</td>\n",
       "      <td>397</td>\n",
       "    </tr>\n",
       "    <tr>\n",
       "      <th>9</th>\n",
       "      <td>2022-05</td>\n",
       "      <td>216</td>\n",
       "    </tr>\n",
       "    <tr>\n",
       "      <th>1</th>\n",
       "      <td>2022-06</td>\n",
       "      <td>218</td>\n",
       "    </tr>\n",
       "    <tr>\n",
       "      <th>3</th>\n",
       "      <td>2022-07</td>\n",
       "      <td>165</td>\n",
       "    </tr>\n",
       "    <tr>\n",
       "      <th>2</th>\n",
       "      <td>2022-08</td>\n",
       "      <td>250</td>\n",
       "    </tr>\n",
       "  </tbody>\n",
       "</table>\n",
       "</div>"
      ],
      "text/plain": [
       "  year_month  count_of_users\n",
       "0    2022-04             397\n",
       "9    2022-05             216\n",
       "1    2022-06             218\n",
       "3    2022-07             165\n",
       "2    2022-08             250"
      ]
     },
     "execution_count": 231,
     "metadata": {},
     "output_type": "execute_result"
    }
   ],
   "source": [
    "pd_df_grouped_edchat_year_month.head()"
   ]
  },
  {
   "cell_type": "code",
   "execution_count": 234,
   "id": "07f15118-5545-43e0-a412-610052a96a41",
   "metadata": {},
   "outputs": [],
   "source": [
    "pd_df_grouped_edchat_year_month['percentage'] = (pd_df_grouped_edchat_year_month['count_of_users']/pd_df_grouped_edchat_year_month['count_of_users'].sum())*100"
   ]
  },
  {
   "cell_type": "code",
   "execution_count": 238,
   "id": "b5903392-11ca-4a4e-8816-56d9e8bda303",
   "metadata": {},
   "outputs": [],
   "source": [
    "pd_df_grouped_edchat_year_month['percentage'] = pd_df_grouped_edchat_year_month['percentage'].apply(lambda x: round(x, 2))"
   ]
  },
  {
   "cell_type": "code",
   "execution_count": 239,
   "id": "b1a05dfa-95fe-4c6d-aec9-0552b2048702",
   "metadata": {},
   "outputs": [
    {
     "data": {
      "text/html": [
       "<div>\n",
       "<style scoped>\n",
       "    .dataframe tbody tr th:only-of-type {\n",
       "        vertical-align: middle;\n",
       "    }\n",
       "\n",
       "    .dataframe tbody tr th {\n",
       "        vertical-align: top;\n",
       "    }\n",
       "\n",
       "    .dataframe thead th {\n",
       "        text-align: right;\n",
       "    }\n",
       "</style>\n",
       "<table border=\"1\" class=\"dataframe\">\n",
       "  <thead>\n",
       "    <tr style=\"text-align: right;\">\n",
       "      <th></th>\n",
       "      <th>year_month</th>\n",
       "      <th>count_of_users</th>\n",
       "      <th>percentage</th>\n",
       "    </tr>\n",
       "  </thead>\n",
       "  <tbody>\n",
       "    <tr>\n",
       "      <th>0</th>\n",
       "      <td>2022-04</td>\n",
       "      <td>397</td>\n",
       "      <td>17.49</td>\n",
       "    </tr>\n",
       "    <tr>\n",
       "      <th>9</th>\n",
       "      <td>2022-05</td>\n",
       "      <td>216</td>\n",
       "      <td>9.52</td>\n",
       "    </tr>\n",
       "    <tr>\n",
       "      <th>1</th>\n",
       "      <td>2022-06</td>\n",
       "      <td>218</td>\n",
       "      <td>9.60</td>\n",
       "    </tr>\n",
       "    <tr>\n",
       "      <th>3</th>\n",
       "      <td>2022-07</td>\n",
       "      <td>165</td>\n",
       "      <td>7.27</td>\n",
       "    </tr>\n",
       "    <tr>\n",
       "      <th>2</th>\n",
       "      <td>2022-08</td>\n",
       "      <td>250</td>\n",
       "      <td>11.01</td>\n",
       "    </tr>\n",
       "  </tbody>\n",
       "</table>\n",
       "</div>"
      ],
      "text/plain": [
       "  year_month  count_of_users  percentage\n",
       "0    2022-04             397       17.49\n",
       "9    2022-05             216        9.52\n",
       "1    2022-06             218        9.60\n",
       "3    2022-07             165        7.27\n",
       "2    2022-08             250       11.01"
      ]
     },
     "execution_count": 239,
     "metadata": {},
     "output_type": "execute_result"
    }
   ],
   "source": [
    "pd_df_grouped_edchat_year_month.head()"
   ]
  },
  {
   "cell_type": "code",
   "execution_count": 270,
   "id": "c86f1eec-5d87-416b-a907-0b6c563ed4dc",
   "metadata": {},
   "outputs": [
    {
     "name": "stderr",
     "output_type": "stream",
     "text": [
      "/tmp/ipykernel_18844/2275101831.py:11: UserWarning: FixedFormatter should only be used together with FixedLocator\n",
      "  ax.set_xticklabels(pd_df_grouped_edchat_year_month['year_month'], rotation=45, fontsize=14, ha='right')\n"
     ]
    },
    {
     "data": {
      "image/png": "[encoded data removed]",
      "text/plain": [
       "<Figure size 1200x800 with 1 Axes>"
      ]
     },
     "metadata": {},
     "output_type": "display_data"
    }
   ],
   "source": [
    "# create the plot using matplotlib\n",
    "fig, ax = plt.subplots(figsize=(12, 8))\n",
    "ax.bar(pd_df_grouped_edchat_year_month['year_month'], pd_df_grouped_edchat_year_month['percentage'], color='#1f77b4', alpha=0.8)\n",
    "\n",
    "# set the title and axis labels\n",
    "ax.set_title('Edchat Tweeterers involvement by month', fontsize=22, fontweight='bold')\n",
    "ax.set_xlabel('Year-Month', fontsize=18, fontweight='bold')\n",
    "ax.set_ylabel('Percentage', fontsize=18, fontweight='bold')\n",
    "\n",
    "# set the tick labels and rotation angle\n",
    "ax.set_xticklabels(pd_df_grouped_edchat_year_month['year_month'], rotation=45, fontsize=14, ha='right')\n",
    "ax.tick_params(axis='y', labelsize=14)\n",
    "ax.tick_params(axis='x', length=0)\n",
    "\n",
    "# add a grid and remove the top and right spines\n",
    "ax.grid(axis='y', linestyle='--', alpha=0.7)\n",
    "ax.spines['top'].set_visible(False)\n",
    "ax.spines['right'].set_visible(False)\n",
    "\n",
    "# annotate each bar with the count value\n",
    "for i, v in enumerate(pd_df_grouped_edchat_year_month['percentage']):\n",
    "    ax.text(i, v+0.25, str(v) + '%', color='#1f77b4', fontweight='bold', ha='center', fontsize=14)\n",
    "\n",
    "# add text for total users\n",
    "ax.annotate('Total Unique Users: 1361', xy=(0.7, 0.90), fontweight = 'bold', fontsize=14, xycoords='axes fraction')\n",
    "\n",
    "# add a caption with the data source\n",
    "# ax.text(0.02, -0.15, 'Data source: Twitter API', transform=ax.transAxes, fontsize=12, color='#888888')\n",
    "# ax.annotate('Total Users')\n",
    "# adjust the plot layout and save to a file\n",
    "# plt.tight_layout()\n",
    "plt.show()"
   ]
  },
  {
   "cell_type": "code",
   "execution_count": null,
   "id": "a82dd208-9921-4e51-a6fb-db99df9a5054",
   "metadata": {},
   "outputs": [],
   "source": []
  },
  {
   "cell_type": "code",
   "execution_count": null,
   "id": "3f07d7e4-ce34-4a85-8e5a-cf1e3d35037b",
   "metadata": {},
   "outputs": [],
   "source": []
  },
  {
   "cell_type": "code",
   "execution_count": 272,
   "id": "f6e1a187-e101-4f55-b2d8-1d82c2d1de0d",
   "metadata": {},
   "outputs": [],
   "source": [
    "df_raw = df_raw.withColumn('weekday', F.dayofweek(df_raw.date))"
   ]
  },
  {
   "cell_type": "code",
   "execution_count": 273,
   "id": "bb4d9571-4f0c-4b53-a50c-8ab1bc9ec3e2",
   "metadata": {},
   "outputs": [
    {
     "name": "stderr",
     "output_type": "stream",
     "text": [
      "                                                                                \r"
     ]
    }
   ],
   "source": [
    "pd_df_raw_daf_of_week = df_raw.limit(10).toPandas()"
   ]
  },
  {
   "cell_type": "code",
   "execution_count": 277,
   "id": "ec35563c-73ca-42bf-8674-060bde8ae873",
   "metadata": {},
   "outputs": [
    {
     "data": {
      "text/html": [
       "<div>\n",
       "<style scoped>\n",
       "    .dataframe tbody tr th:only-of-type {\n",
       "        vertical-align: middle;\n",
       "    }\n",
       "\n",
       "    .dataframe tbody tr th {\n",
       "        vertical-align: top;\n",
       "    }\n",
       "\n",
       "    .dataframe thead th {\n",
       "        text-align: right;\n",
       "    }\n",
       "</style>\n",
       "<table border=\"1\" class=\"dataframe\">\n",
       "  <thead>\n",
       "    <tr style=\"text-align: right;\">\n",
       "      <th></th>\n",
       "      <th>year_month</th>\n",
       "      <th>weekday</th>\n",
       "    </tr>\n",
       "  </thead>\n",
       "  <tbody>\n",
       "    <tr>\n",
       "      <th>0</th>\n",
       "      <td>2022-07</td>\n",
       "      <td>3</td>\n",
       "    </tr>\n",
       "    <tr>\n",
       "      <th>1</th>\n",
       "      <td>2022-11</td>\n",
       "      <td>4</td>\n",
       "    </tr>\n",
       "    <tr>\n",
       "      <th>2</th>\n",
       "      <td>2022-05</td>\n",
       "      <td>5</td>\n",
       "    </tr>\n",
       "    <tr>\n",
       "      <th>3</th>\n",
       "      <td>2022-11</td>\n",
       "      <td>5</td>\n",
       "    </tr>\n",
       "    <tr>\n",
       "      <th>4</th>\n",
       "      <td>2022-12</td>\n",
       "      <td>7</td>\n",
       "    </tr>\n",
       "  </tbody>\n",
       "</table>\n",
       "</div>"
      ],
      "text/plain": [
       "  year_month  weekday\n",
       "0    2022-07        3\n",
       "1    2022-11        4\n",
       "2    2022-05        5\n",
       "3    2022-11        5\n",
       "4    2022-12        7"
      ]
     },
     "execution_count": 277,
     "metadata": {},
     "output_type": "execute_result"
    }
   ],
   "source": [
    "pd_df_raw_daf_of_week[['year_month', 'weekday']].head()"
   ]
  },
  {
   "cell_type": "code",
   "execution_count": 278,
   "id": "009d5ee4-ed8f-463a-ba40-473cb31b0b3f",
   "metadata": {},
   "outputs": [],
   "source": [
    "df_grouped_weekday = df_raw.groupBy('weekday').agg(F.count('id').alias('count_of_tweets'))"
   ]
  },
  {
   "cell_type": "code",
   "execution_count": 279,
   "id": "19beeadc-fb30-4783-9b4b-6dcc6d6f0c07",
   "metadata": {},
   "outputs": [
    {
     "name": "stderr",
     "output_type": "stream",
     "text": [
      "                                                                                \r"
     ]
    }
   ],
   "source": [
    "pd_df_grouped_weekday = df_grouped_weekday.toPandas()"
   ]
  },
  {
   "cell_type": "code",
   "execution_count": 291,
   "id": "02a36063-9d9d-4922-ad6d-f16453b9883f",
   "metadata": {},
   "outputs": [],
   "source": [
    "pd_df_grouped_weekday.sort_values('weekday', inplace=True)"
   ]
  },
  {
   "cell_type": "code",
   "execution_count": 292,
   "id": "3fd1f69c-697b-40f9-ba53-57d7c24274d4",
   "metadata": {},
   "outputs": [
    {
     "data": {
      "image/png": "[encoded data removed]",
      "text/plain": [
       "<Figure size 1200x800 with 1 Axes>"
      ]
     },
     "metadata": {},
     "output_type": "display_data"
    }
   ],
   "source": [
    "fig, ax = plt.subplots(figsize=(12, 8))\n",
    "sns.barplot(x='weekday', y='count_of_tweets', data=pd_df_grouped_weekday, ax=ax, color='#1f77b4', alpha=0.8, order=['Monday', 'Tuesday', 'Wednesday', 'Thursday', 'Friday', 'Saturday', 'Sunday'])\n",
    "\n",
    "# set the title and axis labels\n",
    "ax.set_title('Number of tweets per weekday', fontsize=22, fontweight='bold')\n",
    "ax.set_xlabel('Weekday', fontsize=18, fontweight='bold')\n",
    "ax.set_ylabel('Count of tweets', fontsize=18, fontweight='bold')\n",
    "\n",
    "# set the tick labels and font size\n",
    "ax.tick_params(axis='both', labelsize=14)\n",
    "\n",
    "# add text annotations for each bar\n",
    "for i, v in enumerate(pd_df_grouped_weekday['count_of_tweets']):\n",
    "    ax.text(i, v + 5000, str(v), color='#1f77b4', fontweight='bold', ha='center', fontsize=14)\n",
    "\n",
    "# add a caption with the data source\n",
    "ax.text(0.02, -0.15, 'Data source: Twitter API', transform=ax.transAxes, fontsize=12, color='#888888')\n",
    "\n",
    "plt.show()\n"
   ]
  },
  {
   "cell_type": "code",
   "execution_count": 296,
   "id": "c9ed06f1-355c-4349-ab65-de83aebf9f96",
   "metadata": {},
   "outputs": [],
   "source": [
    "df_grouped_year_date = df_raw.groupBy('date').agg(F.count('id').alias('count_of_tweets'))"
   ]
  },
  {
   "cell_type": "code",
   "execution_count": 311,
   "id": "caaa006a-03dd-4e1c-81f1-cb6452a44c47",
   "metadata": {},
   "outputs": [
    {
     "name": "stderr",
     "output_type": "stream",
     "text": [
      "                                                                                \r"
     ]
    }
   ],
   "source": [
    "pd_df_grouped_year_date = df_grouped_year_date.toPandas()"
   ]
  },
  {
   "cell_type": "code",
   "execution_count": 312,
   "id": "2a662a9d-72b8-473c-898c-184a55c68fd4",
   "metadata": {},
   "outputs": [
    {
     "data": {
      "text/html": [
       "<div>\n",
       "<style scoped>\n",
       "    .dataframe tbody tr th:only-of-type {\n",
       "        vertical-align: middle;\n",
       "    }\n",
       "\n",
       "    .dataframe tbody tr th {\n",
       "        vertical-align: top;\n",
       "    }\n",
       "\n",
       "    .dataframe thead th {\n",
       "        text-align: right;\n",
       "    }\n",
       "</style>\n",
       "<table border=\"1\" class=\"dataframe\">\n",
       "  <thead>\n",
       "    <tr style=\"text-align: right;\">\n",
       "      <th></th>\n",
       "      <th>date</th>\n",
       "      <th>count_of_tweets</th>\n",
       "    </tr>\n",
       "  </thead>\n",
       "  <tbody>\n",
       "    <tr>\n",
       "      <th>0</th>\n",
       "      <td>2022-07-31</td>\n",
       "      <td>7287</td>\n",
       "    </tr>\n",
       "    <tr>\n",
       "      <th>1</th>\n",
       "      <td>2022-07-27</td>\n",
       "      <td>10887</td>\n",
       "    </tr>\n",
       "    <tr>\n",
       "      <th>2</th>\n",
       "      <td>2022-11-29</td>\n",
       "      <td>10483</td>\n",
       "    </tr>\n",
       "    <tr>\n",
       "      <th>3</th>\n",
       "      <td>2022-08-02</td>\n",
       "      <td>9794</td>\n",
       "    </tr>\n",
       "    <tr>\n",
       "      <th>4</th>\n",
       "      <td>2022-12-25</td>\n",
       "      <td>2878</td>\n",
       "    </tr>\n",
       "  </tbody>\n",
       "</table>\n",
       "</div>"
      ],
      "text/plain": [
       "         date  count_of_tweets\n",
       "0  2022-07-31             7287\n",
       "1  2022-07-27            10887\n",
       "2  2022-11-29            10483\n",
       "3  2022-08-02             9794\n",
       "4  2022-12-25             2878"
      ]
     },
     "execution_count": 312,
     "metadata": {},
     "output_type": "execute_result"
    }
   ],
   "source": [
    "pd_df_grouped_year_date.head()"
   ]
  },
  {
   "cell_type": "code",
   "execution_count": 313,
   "id": "623bf1ec-5ded-4575-9298-be8523cee4f9",
   "metadata": {},
   "outputs": [
    {
     "data": {
      "text/plain": [
       "(310, 2)"
      ]
     },
     "execution_count": 313,
     "metadata": {},
     "output_type": "execute_result"
    }
   ],
   "source": [
    "pd_df_grouped_year_date.shape"
   ]
  },
  {
   "cell_type": "code",
   "execution_count": 314,
   "id": "e89c153d-0a28-48a7-a8c6-8fbbd27fe44d",
   "metadata": {},
   "outputs": [],
   "source": [
    "pd_df_grouped_year_date.sort_values('date', inplace=True)"
   ]
  },
  {
   "cell_type": "code",
   "execution_count": 315,
   "id": "51feaf90-96d9-4526-b737-ad8af7ca06d9",
   "metadata": {},
   "outputs": [
    {
     "data": {
      "text/html": [
       "<div>\n",
       "<style scoped>\n",
       "    .dataframe tbody tr th:only-of-type {\n",
       "        vertical-align: middle;\n",
       "    }\n",
       "\n",
       "    .dataframe tbody tr th {\n",
       "        vertical-align: top;\n",
       "    }\n",
       "\n",
       "    .dataframe thead th {\n",
       "        text-align: right;\n",
       "    }\n",
       "</style>\n",
       "<table border=\"1\" class=\"dataframe\">\n",
       "  <thead>\n",
       "    <tr style=\"text-align: right;\">\n",
       "      <th></th>\n",
       "      <th>date</th>\n",
       "      <th>count_of_tweets</th>\n",
       "    </tr>\n",
       "  </thead>\n",
       "  <tbody>\n",
       "    <tr>\n",
       "      <th>268</th>\n",
       "      <td>2022-04-05</td>\n",
       "      <td>7885</td>\n",
       "    </tr>\n",
       "    <tr>\n",
       "      <th>51</th>\n",
       "      <td>2022-04-06</td>\n",
       "      <td>11242</td>\n",
       "    </tr>\n",
       "    <tr>\n",
       "      <th>173</th>\n",
       "      <td>2022-04-07</td>\n",
       "      <td>10601</td>\n",
       "    </tr>\n",
       "    <tr>\n",
       "      <th>223</th>\n",
       "      <td>2022-04-08</td>\n",
       "      <td>9595</td>\n",
       "    </tr>\n",
       "    <tr>\n",
       "      <th>49</th>\n",
       "      <td>2022-04-09</td>\n",
       "      <td>6862</td>\n",
       "    </tr>\n",
       "  </tbody>\n",
       "</table>\n",
       "</div>"
      ],
      "text/plain": [
       "           date  count_of_tweets\n",
       "268  2022-04-05             7885\n",
       "51   2022-04-06            11242\n",
       "173  2022-04-07            10601\n",
       "223  2022-04-08             9595\n",
       "49   2022-04-09             6862"
      ]
     },
     "execution_count": 315,
     "metadata": {},
     "output_type": "execute_result"
    }
   ],
   "source": [
    "pd_df_grouped_year_date.head()"
   ]
  },
  {
   "cell_type": "code",
   "execution_count": 316,
   "id": "fab5db61-56c3-4369-b0a4-b09945a3a642",
   "metadata": {},
   "outputs": [
    {
     "data": {
      "text/html": [
       "<div>\n",
       "<style scoped>\n",
       "    .dataframe tbody tr th:only-of-type {\n",
       "        vertical-align: middle;\n",
       "    }\n",
       "\n",
       "    .dataframe tbody tr th {\n",
       "        vertical-align: top;\n",
       "    }\n",
       "\n",
       "    .dataframe thead th {\n",
       "        text-align: right;\n",
       "    }\n",
       "</style>\n",
       "<table border=\"1\" class=\"dataframe\">\n",
       "  <thead>\n",
       "    <tr style=\"text-align: right;\">\n",
       "      <th></th>\n",
       "      <th>date</th>\n",
       "      <th>count_of_tweets</th>\n",
       "    </tr>\n",
       "  </thead>\n",
       "  <tbody>\n",
       "    <tr>\n",
       "      <th>151</th>\n",
       "      <td>2023-02-04</td>\n",
       "      <td>6192</td>\n",
       "    </tr>\n",
       "    <tr>\n",
       "      <th>111</th>\n",
       "      <td>2023-02-05</td>\n",
       "      <td>5972</td>\n",
       "    </tr>\n",
       "    <tr>\n",
       "      <th>122</th>\n",
       "      <td>2023-02-06</td>\n",
       "      <td>6554</td>\n",
       "    </tr>\n",
       "    <tr>\n",
       "      <th>197</th>\n",
       "      <td>2023-02-07</td>\n",
       "      <td>9083</td>\n",
       "    </tr>\n",
       "    <tr>\n",
       "      <th>9</th>\n",
       "      <td>2023-02-08</td>\n",
       "      <td>4616</td>\n",
       "    </tr>\n",
       "  </tbody>\n",
       "</table>\n",
       "</div>"
      ],
      "text/plain": [
       "           date  count_of_tweets\n",
       "151  2023-02-04             6192\n",
       "111  2023-02-05             5972\n",
       "122  2023-02-06             6554\n",
       "197  2023-02-07             9083\n",
       "9    2023-02-08             4616"
      ]
     },
     "execution_count": 316,
     "metadata": {},
     "output_type": "execute_result"
    }
   ],
   "source": [
    "pd_df_grouped_year_date.tail()"
   ]
  },
  {
   "cell_type": "code",
   "execution_count": 318,
   "id": "609c5af2-bded-462d-860b-9acf3a938054",
   "metadata": {},
   "outputs": [
    {
     "data": {
      "image/png": "[encoded data removed]",
      "text/plain": [
       "<Figure size 1000x600 with 1 Axes>"
      ]
     },
     "metadata": {},
     "output_type": "display_data"
    }
   ],
   "source": [
    "# Convert the 'date' column to datetime\n",
    "pd_df_grouped_year_date['date'] = pd.to_datetime(pd_df_grouped_year_date['date'])\n",
    "\n",
    "# Set the figure size and create the bar plot\n",
    "plt.figure(figsize=(10, 6))\n",
    "plt.bar(pd_df_grouped_year_date['date'], pd_df_grouped_year_date['count_of_tweets'], color='#1f77b4', alpha=0.8)\n",
    "\n",
    "# Set the title and axis labels\n",
    "plt.title('Count of Tweets by Date', fontsize=22, fontweight='bold')\n",
    "plt.xlabel('Date', fontsize=18, fontweight='bold')\n",
    "plt.ylabel('Count of Tweets', fontsize=18, fontweight='bold')\n",
    "\n",
    "# Set the tick labels and rotation angle\n",
    "plt.xticks(rotation=45, fontsize=14, ha='right')\n",
    "plt.yticks(fontsize=14)\n",
    "\n",
    "# Add a grid and remove the top and right spines\n",
    "plt.grid(axis='y', linestyle='--', alpha=0.7)\n",
    "ax.spines['top'].set_visible(False)\n",
    "ax.spines['right'].set_visible(False)\n",
    "\n",
    "# Show the plot\n",
    "plt.show()"
   ]
  },
  {
   "cell_type": "code",
   "execution_count": 321,
   "id": "7513b221-6604-4d61-af32-afc6394876a0",
   "metadata": {},
   "outputs": [
    {
     "data": {
      "text/html": [
       "<div>\n",
       "<style scoped>\n",
       "    .dataframe tbody tr th:only-of-type {\n",
       "        vertical-align: middle;\n",
       "    }\n",
       "\n",
       "    .dataframe tbody tr th {\n",
       "        vertical-align: top;\n",
       "    }\n",
       "\n",
       "    .dataframe thead th {\n",
       "        text-align: right;\n",
       "    }\n",
       "</style>\n",
       "<table border=\"1\" class=\"dataframe\">\n",
       "  <thead>\n",
       "    <tr style=\"text-align: right;\">\n",
       "      <th></th>\n",
       "      <th>date</th>\n",
       "      <th>count_of_tweets</th>\n",
       "    </tr>\n",
       "  </thead>\n",
       "  <tbody>\n",
       "    <tr>\n",
       "      <th>99</th>\n",
       "      <td>2022-08-25</td>\n",
       "      <td>27225</td>\n",
       "    </tr>\n",
       "    <tr>\n",
       "      <th>284</th>\n",
       "      <td>2022-06-30</td>\n",
       "      <td>24759</td>\n",
       "    </tr>\n",
       "    <tr>\n",
       "      <th>176</th>\n",
       "      <td>2022-05-12</td>\n",
       "      <td>24217</td>\n",
       "    </tr>\n",
       "    <tr>\n",
       "      <th>147</th>\n",
       "      <td>2022-08-23</td>\n",
       "      <td>22245</td>\n",
       "    </tr>\n",
       "    <tr>\n",
       "      <th>211</th>\n",
       "      <td>2022-05-09</td>\n",
       "      <td>20954</td>\n",
       "    </tr>\n",
       "    <tr>\n",
       "      <th>253</th>\n",
       "      <td>2022-08-24</td>\n",
       "      <td>19682</td>\n",
       "    </tr>\n",
       "    <tr>\n",
       "      <th>262</th>\n",
       "      <td>2022-04-28</td>\n",
       "      <td>19123</td>\n",
       "    </tr>\n",
       "    <tr>\n",
       "      <th>172</th>\n",
       "      <td>2022-08-26</td>\n",
       "      <td>18801</td>\n",
       "    </tr>\n",
       "    <tr>\n",
       "      <th>22</th>\n",
       "      <td>2022-04-27</td>\n",
       "      <td>18454</td>\n",
       "    </tr>\n",
       "    <tr>\n",
       "      <th>144</th>\n",
       "      <td>2022-08-28</td>\n",
       "      <td>18319</td>\n",
       "    </tr>\n",
       "  </tbody>\n",
       "</table>\n",
       "</div>"
      ],
      "text/plain": [
       "          date  count_of_tweets\n",
       "99  2022-08-25            27225\n",
       "284 2022-06-30            24759\n",
       "176 2022-05-12            24217\n",
       "147 2022-08-23            22245\n",
       "211 2022-05-09            20954\n",
       "253 2022-08-24            19682\n",
       "262 2022-04-28            19123\n",
       "172 2022-08-26            18801\n",
       "22  2022-04-27            18454\n",
       "144 2022-08-28            18319"
      ]
     },
     "execution_count": 321,
     "metadata": {},
     "output_type": "execute_result"
    }
   ],
   "source": [
    "pd_df_grouped_year_date.sort_values('count_of_tweets', ascending=False).head(10)"
   ]
  },
  {
   "cell_type": "code",
   "execution_count": null,
   "id": "e22d86c3-9147-4ee7-91f6-34eccb418d9f",
   "metadata": {},
   "outputs": [],
   "source": []
  },
  {
   "cell_type": "code",
   "execution_count": null,
   "id": "313b634d-9843-43e7-bd10-8fdb66a4a239",
   "metadata": {},
   "outputs": [],
   "source": []
  },
  {
   "cell_type": "code",
   "execution_count": 300,
   "id": "a96b65a2-322e-4e95-ba24-8ccbf4204dca",
   "metadata": {},
   "outputs": [],
   "source": [
    "df_grouped_year_month = df_raw.groupBy('year_month').agg(F.count('id').alias('count_of_tweets'))"
   ]
  },
  {
   "cell_type": "code",
   "execution_count": 301,
   "id": "0de94cb6-058d-4d84-9fb6-be4088156415",
   "metadata": {},
   "outputs": [
    {
     "name": "stderr",
     "output_type": "stream",
     "text": [
      "                                                                                \r"
     ]
    }
   ],
   "source": [
    "pd_df_grouped_year_month = df_grouped_year_month.toPandas()"
   ]
  },
  {
   "cell_type": "code",
   "execution_count": 302,
   "id": "cf4bb3d4-b5a2-4b60-af75-d582d4f1d2d7",
   "metadata": {},
   "outputs": [
    {
     "data": {
      "text/plain": [
       "(11, 2)"
      ]
     },
     "execution_count": 302,
     "metadata": {},
     "output_type": "execute_result"
    }
   ],
   "source": [
    "pd_df_grouped_year_month.shape"
   ]
  },
  {
   "cell_type": "code",
   "execution_count": 322,
   "id": "bac33993-7de1-4175-8aa9-bb2ba898411b",
   "metadata": {},
   "outputs": [],
   "source": [
    "pd_df_grouped_year_month.sort_values('year_month', inplace=True)"
   ]
  },
  {
   "cell_type": "code",
   "execution_count": 323,
   "id": "89ea92b9-023d-459a-8ba3-103a6625211b",
   "metadata": {},
   "outputs": [
    {
     "name": "stderr",
     "output_type": "stream",
     "text": [
      "/tmp/ipykernel_18844/2268092763.py:11: UserWarning: FixedFormatter should only be used together with FixedLocator\n",
      "  ax.set_xticklabels(pd_df_grouped_year_month['year_month'], rotation=45, fontsize=14, ha='right')\n"
     ]
    },
    {
     "data": {
      "image/png": "[encoded data removed]",
      "text/plain": [
       "<Figure size 1200x800 with 1 Axes>"
      ]
     },
     "metadata": {},
     "output_type": "display_data"
    }
   ],
   "source": [
    "# create the plot using matplotlib\n",
    "fig, ax = plt.subplots(figsize=(12, 8))\n",
    "ax.bar(pd_df_grouped_year_month['year_month'], pd_df_grouped_year_month['count_of_tweets'], color='#1f77b4', alpha=0.8)\n",
    "\n",
    "# set the title and axis labels\n",
    "ax.set_title('Count of Tweets by Year-Month', fontsize=22, fontweight='bold')\n",
    "ax.set_xlabel('Year-Month', fontsize=18, fontweight='bold')\n",
    "ax.set_ylabel('Count of Tweets', fontsize=18, fontweight='bold')\n",
    "\n",
    "# set the tick labels and rotation angle\n",
    "ax.set_xticklabels(pd_df_grouped_year_month['year_month'], rotation=45, fontsize=14, ha='right')\n",
    "ax.tick_params(axis='y', labelsize=14)\n",
    "ax.tick_params(axis='x', length=0)\n",
    "\n",
    "# add a grid and remove the top and right spines\n",
    "ax.grid(axis='y', linestyle='--', alpha=0.7)\n",
    "ax.spines['top'].set_visible(False)\n",
    "ax.spines['right'].set_visible(False)\n",
    "\n",
    "# annotate each bar with the count value\n",
    "for i, v in enumerate(pd_df_grouped_year_month['count_of_tweets']):\n",
    "    ax.text(i, v+10000, str(v), color='#1f77b4', fontweight='bold', ha='center', fontsize=14)\n",
    "\n",
    "# add a caption with the data source\n",
    "ax.text(0.02, -0.15, 'Data source: Twitter API', transform=ax.transAxes, fontsize=12, color='#888888')\n",
    "\n",
    "# adjust the plot layout and save to a file\n",
    "plt.tight_layout()\n",
    "plt.show()"
   ]
  },
  {
   "cell_type": "code",
   "execution_count": 161,
   "id": "069f94ad-41bb-4657-bbcc-22ccce1c6b8e",
   "metadata": {},
   "outputs": [
    {
     "name": "stderr",
     "output_type": "stream",
     "text": [
      "/tmp/ipykernel_18844/2280630061.py:10: UserWarning: FixedFormatter should only be used together with FixedLocator\n",
      "  ax.set_xticklabels(pd_df_grouped_year_month['year_month'], rotation=45, fontsize=12)\n"
     ]
    },
    {
     "data": {
      "image/png": "[encoded data removed]",
      "text/plain": [
       "<Figure size 1000x600 with 1 Axes>"
      ]
     },
     "metadata": {},
     "output_type": "display_data"
    }
   ],
   "source": [
    "fig, ax = plt.subplots(figsize=(10, 6))\n",
    "ax.bar(pd_df_grouped_year_month['year_month'], pd_df_grouped_year_month['count_of_tweets'], color='blue')\n",
    "\n",
    "# set the title and axis labels\n",
    "ax.set_title('Count of Tweets by Year-Month', fontsize=16)\n",
    "ax.set_xlabel('Year-Month', fontsize=14)\n",
    "ax.set_ylabel('Count of Tweets', fontsize=14)\n",
    "\n",
    "# set the tick labels and rotation angle\n",
    "ax.set_xticklabels(pd_df_grouped_year_month['year_month'], rotation=45, fontsize=12)\n",
    "\n",
    "# show the plot\n",
    "plt.show()"
   ]
  },
  {
   "cell_type": "code",
   "execution_count": null,
   "id": "bea8353b-410a-4052-94db-a331ccc83410",
   "metadata": {},
   "outputs": [],
   "source": []
  }
 ],
 "metadata": {
  "kernelspec": {
   "display_name": "PySpark",
   "language": "python",
   "name": "pyspark"
  },
  "language_info": {
   "codemirror_mode": {
    "name": "ipython",
    "version": 3
   },
   "file_extension": ".py",
   "mimetype": "text/x-python",
   "name": "python",
   "nbconvert_exporter": "python",
   "pygments_lexer": "ipython3",
   "version": "3.8.15"
  }
 },
 "nbformat": 4,
 "nbformat_minor": 5
}