{
 "cells": [
  {
   "cell_type": "code",
   "execution_count": 1,
   "metadata": {},
   "outputs": [],
   "source": [
    "import time"
   ]
  },
  {
   "cell_type": "code",
   "execution_count": 2,
   "metadata": {},
   "outputs": [],
   "source": [
    "startTime = time.time()"
   ]
  },
  {
   "cell_type": "code",
   "execution_count": 3,
   "metadata": {},
   "outputs": [
    {
     "name": "stdout",
     "output_type": "stream",
     "text": [
      "Requirement already satisfied: nltk in /opt/conda/miniconda3/lib/python3.8/site-packages (3.8.1)\n",
      "Requirement already satisfied: tqdm in /opt/conda/miniconda3/lib/python3.8/site-packages (from nltk) (4.64.1)\n",
      "Requirement already satisfied: joblib in /opt/conda/miniconda3/lib/python3.8/site-packages (from nltk) (1.2.0)\n",
      "Requirement already satisfied: click in /opt/conda/miniconda3/lib/python3.8/site-packages (from nltk) (7.1.2)\n",
      "Requirement already satisfied: regex>=2021.8.3 in /opt/conda/miniconda3/lib/python3.8/site-packages (from nltk) (2022.10.31)\n",
      "\u001b[33mWARNING: Running pip as the 'root' user can result in broken permissions and conflicting behaviour with the system package manager. It is recommended to use a virtual environment instead: https://pip.pypa.io/warnings/venv\u001b[0m\u001b[33m\n",
      "\u001b[0mNote: you may need to restart the kernel to use updated packages.\n"
     ]
    }
   ],
   "source": [
    "%pip install nltk -U"
   ]
  },
  {
   "cell_type": "code",
   "execution_count": 4,
   "metadata": {},
   "outputs": [
    {
     "name": "stdout",
     "output_type": "stream",
     "text": [
      "3.8.15 | packaged by conda-forge | (default, Nov 22 2022, 08:46:39) \n",
      "[GCC 10.4.0]\n",
      "3.1.3\n"
     ]
    }
   ],
   "source": [
    "import sys\n",
    "print(sys.version)\n",
    "print(spark.version)"
   ]
  },
  {
   "cell_type": "code",
   "execution_count": 5,
   "metadata": {},
   "outputs": [],
   "source": [
    "import pandas as pd\n",
    "import numpy as np\n",
    "pd.set_option('display.max_colwidth', None)\n",
    "pd.reset_option('display.max_rows')\n",
    "from itertools import compress \n",
    "from pyspark.sql.functions import *\n",
    "from pyspark.sql.types import *\n",
    "import seaborn as sns\n",
    "import matplotlib.pyplot as plt\n",
    "warnings.filterwarnings(action='ignore')"
   ]
  },
  {
   "cell_type": "code",
   "execution_count": 6,
   "metadata": {},
   "outputs": [
    {
     "name": "stderr",
     "output_type": "stream",
     "text": [
      "[nltk_data] Downloading package stopwords to /root/nltk_data...\n",
      "[nltk_data]   Package stopwords is already up-to-date!\n"
     ]
    }
   ],
   "source": [
    "import re\n",
    "from pyspark.ml.feature import MinHashLSH\n",
    "from pyspark.ml.feature import CountVectorizer,  IDF, CountVectorizerModel, Tokenizer, RegexTokenizer, StopWordsRemover\n",
    "from pyspark import SparkContext\n",
    "from pyspark.sql import SQLContext\n",
    "from pyspark.sql import Row\n",
    "import nltk\n",
    "nltk.download('stopwords')\n",
    "from nltk.corpus import stopwords"
   ]
  },
  {
   "cell_type": "markdown",
   "metadata": {},
   "source": [
    "#### Add \"eagerEval.enabled\" to beautify the way Spark DF is displayed"
   ]
  },
  {
   "cell_type": "code",
   "execution_count": 7,
   "metadata": {},
   "outputs": [],
   "source": [
    "spark.conf.set(\"spark.sql.repl.eagerEval.enabled\",True)"
   ]
  },
  {
   "cell_type": "markdown",
   "metadata": {},
   "source": [
    "### Adjusting the driver size"
   ]
  },
  {
   "cell_type": "code",
   "execution_count": 8,
   "metadata": {},
   "outputs": [],
   "source": [
    "import pyspark"
   ]
  },
  {
   "cell_type": "code",
   "execution_count": 9,
   "metadata": {},
   "outputs": [
    {
     "name": "stdout",
     "output_type": "stream",
     "text": [
      "Original spark.driver.maxResultSize: 1920m\n",
      "Waiting for 20 seconds for the enviroment to stop...\n"
     ]
    },
    {
     "name": "stderr",
     "output_type": "stream",
     "text": [
      "23/03/09 07:57:51 INFO org.apache.spark.SparkEnv: Registering MapOutputTracker\n",
      "23/03/09 07:57:51 INFO org.apache.spark.SparkEnv: Registering BlockManagerMaster\n",
      "23/03/09 07:57:51 INFO org.apache.spark.SparkEnv: Registering BlockManagerMasterHeartbeat\n",
      "23/03/09 07:57:51 INFO org.apache.spark.SparkEnv: Registering OutputCommitCoordinator\n"
     ]
    },
    {
     "name": "stdout",
     "output_type": "stream",
     "text": [
      "New spark.driver.maxResultSize: 32g\n"
     ]
    }
   ],
   "source": [
    "sc = spark.sparkContext\n",
    "print('Original spark.driver.maxResultSize: ' + sc._conf.get('spark.driver.maxResultSize'))\n",
    "\n",
    "# Stop existing Spark environment\n",
    "sc.stop()\n",
    "\n",
    "# Waiting for the environment to stop\n",
    "sleep_time = 20\n",
    "print(f'Waiting for {sleep_time} seconds for the enviroment to stop...')\n",
    "time.sleep(sleep_time)\n",
    "\n",
    "# Applying new configuration and restarting Spark\n",
    "conf = pyspark.SparkConf().setAll([('spark.driver.maxResultSize', '32g')])\n",
    "sc = pyspark.SparkContext(conf=conf)\n",
    "\n",
    "print('New spark.driver.maxResultSize: ' + sc._conf.get('spark.driver.maxResultSize'))\n",
    "\n",
    "# Starting  Spark session with configs applied\n",
    "spark = SparkSession(sc).builder.getOrCreate()"
   ]
  },
  {
   "cell_type": "markdown",
   "metadata": {},
   "source": [
    "## Applying LSH"
   ]
  },
  {
   "cell_type": "code",
   "execution_count": 10,
   "metadata": {},
   "outputs": [
    {
     "name": "stderr",
     "output_type": "stream",
     "text": [
      "23/03/09 07:58:03 WARN org.apache.spark.sql.catalyst.util.package: Truncated the string representation of a plan since it was too large. This behavior can be adjusted by setting 'spark.sql.debug.maxToStringFields'.\n",
      "                                                                                \r"
     ]
    },
    {
     "data": {
      "text/plain": [
       "3141909"
      ]
     },
     "execution_count": 10,
     "metadata": {},
     "output_type": "execute_result"
    }
   ],
   "source": [
    "twitter_spark = spark.read.parquet('gs://msca-bdp-students-bucket/shared_data/harshamuthukuru/df_categorize_twitteres//with_location1')\n",
    "twitter_spark.count()"
   ]
  },
  {
   "cell_type": "code",
   "execution_count": 11,
   "metadata": {},
   "outputs": [
    {
     "name": "stderr",
     "output_type": "stream",
     "text": [
      "[Stage 4:=======================================================> (37 + 1) / 38]\r"
     ]
    },
    {
     "name": "stdout",
     "output_type": "stream",
     "text": [
      "CPU times: user 35.6 ms, sys: 15.5 ms, total: 51.1 ms\n",
      "Wall time: 42.9 s\n"
     ]
    },
    {
     "name": "stderr",
     "output_type": "stream",
     "text": [
      "                                                                                \r"
     ]
    },
    {
     "data": {
      "text/plain": [
       "204841"
      ]
     },
     "execution_count": 11,
     "metadata": {},
     "output_type": "execute_result"
    }
   ],
   "source": [
    "%%time\n",
    "\n",
    "df = twitter_spark.filter(\"retweeted_status is null and tweet_text is not null and text is not null\")\n",
    "df.count()"
   ]
  },
  {
   "cell_type": "code",
   "execution_count": 12,
   "metadata": {},
   "outputs": [],
   "source": [
    "df_tweet_text_raw = df.select(['tweet_text','Organization',\"stripped\"]).withColumnRenamed('stripped', 'text')"
   ]
  },
  {
   "cell_type": "code",
   "execution_count": 13,
   "metadata": {},
   "outputs": [
    {
     "name": "stderr",
     "output_type": "stream",
     "text": [
      "                                                                                \r"
     ]
    },
    {
     "data": {
      "text/html": [
       "<div>\n",
       "<style scoped>\n",
       "    .dataframe tbody tr th:only-of-type {\n",
       "        vertical-align: middle;\n",
       "    }\n",
       "\n",
       "    .dataframe tbody tr th {\n",
       "        vertical-align: top;\n",
       "    }\n",
       "\n",
       "    .dataframe thead th {\n",
       "        text-align: right;\n",
       "    }\n",
       "</style>\n",
       "<table border=\"1\" class=\"dataframe\">\n",
       "  <thead>\n",
       "    <tr style=\"text-align: right;\">\n",
       "      <th></th>\n",
       "      <th>tweet_text</th>\n",
       "      <th>Organization</th>\n",
       "      <th>text</th>\n",
       "    </tr>\n",
       "  </thead>\n",
       "  <tbody>\n",
       "    <tr>\n",
       "      <th>0</th>\n",
       "      <td>today at alliance 🙂winners on learning games @ alliance university https://t.co/kujrirgu6o</td>\n",
       "      <td>Others</td>\n",
       "      <td>today at alliance 🙂winners on learning games  alliance university</td>\n",
       "    </tr>\n",
       "    <tr>\n",
       "      <th>1</th>\n",
       "      <td>arkansas state students are asking the university to take action after racist posts on social media. https://t.co/nusfjpq5vr</td>\n",
       "      <td>Others</td>\n",
       "      <td>arkansas state students are asking the university to take action after racist posts on social media</td>\n",
       "    </tr>\n",
       "    <tr>\n",
       "      <th>2</th>\n",
       "      <td>davis college expands its international strategy via mou with infrastructure university of malaysia https://t.co/0seclsmnj7</td>\n",
       "      <td>News</td>\n",
       "      <td>davis college expands its international strategy via mou with infrastructure university of malaysia</td>\n",
       "    </tr>\n",
       "    <tr>\n",
       "      <th>3</th>\n",
       "      <td>@thoughtstoby ah, i remember learning about that in secondary school. i doubt they mention it anymore</td>\n",
       "      <td>Others</td>\n",
       "      <td>thoughtstoby ah i remember learning about that in secondary school i doubt they mention it anymore</td>\n",
       "    </tr>\n",
       "    <tr>\n",
       "      <th>4</th>\n",
       "      <td>@gyaigyimii make the central university students go legon go watch the show\\nuner deserves this spot</td>\n",
       "      <td>Others</td>\n",
       "      <td>gyaigyimii make the central university students go legon go watch the show\\nuner deserves this spot</td>\n",
       "    </tr>\n",
       "  </tbody>\n",
       "</table>\n",
       "</div>"
      ],
      "text/plain": [
       "                                                                                                                     tweet_text  \\\n",
       "0                                    today at alliance 🙂winners on learning games @ alliance university https://t.co/kujrirgu6o   \n",
       "1  arkansas state students are asking the university to take action after racist posts on social media. https://t.co/nusfjpq5vr   \n",
       "2   davis college expands its international strategy via mou with infrastructure university of malaysia https://t.co/0seclsmnj7   \n",
       "3                         @thoughtstoby ah, i remember learning about that in secondary school. i doubt they mention it anymore   \n",
       "4                          @gyaigyimii make the central university students go legon go watch the show\\nuner deserves this spot   \n",
       "\n",
       "  Organization  \\\n",
       "0       Others   \n",
       "1       Others   \n",
       "2         News   \n",
       "3       Others   \n",
       "4       Others   \n",
       "\n",
       "                                                                                                   text  \n",
       "0                                    today at alliance 🙂winners on learning games  alliance university   \n",
       "1  arkansas state students are asking the university to take action after racist posts on social media   \n",
       "2  davis college expands its international strategy via mou with infrastructure university of malaysia   \n",
       "3    thoughtstoby ah i remember learning about that in secondary school i doubt they mention it anymore  \n",
       "4   gyaigyimii make the central university students go legon go watch the show\\nuner deserves this spot  "
      ]
     },
     "execution_count": 13,
     "metadata": {},
     "output_type": "execute_result"
    }
   ],
   "source": [
    "df_tweet_text_raw.limit(5).toPandas()"
   ]
  },
  {
   "cell_type": "code",
   "execution_count": 14,
   "metadata": {},
   "outputs": [
    {
     "name": "stderr",
     "output_type": "stream",
     "text": [
      "                                                                                \r"
     ]
    },
    {
     "data": {
      "text/plain": [
       "20382"
      ]
     },
     "execution_count": 14,
     "metadata": {},
     "output_type": "execute_result"
    }
   ],
   "source": [
    "df_tweet_text_raw_sample = df_tweet_text_raw.sample(fraction = 0.1, withReplacement=False)\n",
    "df_tweet_text_raw_sample.count()"
   ]
  },
  {
   "cell_type": "code",
   "execution_count": 15,
   "metadata": {},
   "outputs": [
    {
     "name": "stdout",
     "output_type": "stream",
     "text": [
      "root\n",
      " |-- tweet_text: string (nullable = true)\n",
      " |-- Organization: string (nullable = true)\n",
      " |-- text: string (nullable = true)\n",
      "\n"
     ]
    }
   ],
   "source": [
    "df_tweet_text_raw_sample.printSchema()"
   ]
  },
  {
   "cell_type": "markdown",
   "metadata": {},
   "source": [
    "### Step 1.  Clean the data, remove stopwords and create index"
   ]
  },
  {
   "cell_type": "code",
   "execution_count": 16,
   "metadata": {},
   "outputs": [
    {
     "name": "stderr",
     "output_type": "stream",
     "text": [
      "                                                                                \r"
     ]
    }
   ],
   "source": [
    "text = df_tweet_text_raw_sample.rdd.map(lambda x : x['text']).filter(lambda x: x is not None)\n",
    "\n",
    "StopWords = stopwords.words(\"english\")\n",
    "\n",
    "tokens = text\\\n",
    "    .map( lambda document: re.split(\" \", document))\\\n",
    "    .map( lambda word: [x for x in word if x.isalnum()])\\\n",
    "    .map( lambda word: [x for x in word if x not in StopWords])\\\n",
    "    .map( lambda word: [x for x in word if len(x) > 2] )\\\n",
    "    .zipWithIndex()"
   ]
  },
  {
   "cell_type": "code",
   "execution_count": 17,
   "metadata": {},
   "outputs": [],
   "source": [
    "spark.conf.set(\"spark.sql.repl.eagerEval.enabled\",True)"
   ]
  },
  {
   "cell_type": "code",
   "execution_count": 18,
   "metadata": {},
   "outputs": [
    {
     "name": "stderr",
     "output_type": "stream",
     "text": [
      "                                                                                \r"
     ]
    },
    {
     "data": {
      "text/html": [
       "<table border='1'>\n",
       "<tr><th>text</th><th>id</th></tr>\n",
       "<tr><td>{peshawar univers...</td><td>4747</td></tr>\n",
       "<tr><td>{innocent element...</td><td>4748</td></tr>\n",
       "<tr><td>{bonginoreport db...</td><td>4749</td></tr>\n",
       "<tr><td>{college students...</td><td>4750</td></tr>\n",
       "<tr><td>{i really believe...</td><td>4751</td></tr>\n",
       "</table>\n"
      ],
      "text/plain": [
       "+--------------------+----+\n",
       "|                text|  id|\n",
       "+--------------------+----+\n",
       "|{reputushion ever...|6986|\n",
       "|{daughtertaboo if...|6987|\n",
       "|{gavinnewsom phil...|6988|\n",
       "|{ehsan_kassim my ...|6989|\n",
       "|{cinnamnqiri im f...|6990|\n",
       "+--------------------+----+"
      ]
     },
     "execution_count": 18,
     "metadata": {},
     "output_type": "execute_result"
    }
   ],
   "source": [
    "row = Row('text')\n",
    "df_text = text.map(row).zipWithIndex().toDF(['text','id'])\n",
    "df_text.limit(5)"
   ]
  },
  {
   "cell_type": "code",
   "execution_count": 19,
   "metadata": {},
   "outputs": [
    {
     "name": "stderr",
     "output_type": "stream",
     "text": [
      "                                                                                \r"
     ]
    },
    {
     "data": {
      "text/plain": [
       "20382"
      ]
     },
     "execution_count": 19,
     "metadata": {},
     "output_type": "execute_result"
    }
   ],
   "source": [
    "df_text.count()"
   ]
  },
  {
   "cell_type": "code",
   "execution_count": 20,
   "metadata": {},
   "outputs": [
    {
     "name": "stderr",
     "output_type": "stream",
     "text": [
      "                                                                                \r"
     ]
    },
    {
     "data": {
      "text/html": [
       "<div>\n",
       "<style scoped>\n",
       "    .dataframe tbody tr th:only-of-type {\n",
       "        vertical-align: middle;\n",
       "    }\n",
       "\n",
       "    .dataframe tbody tr th {\n",
       "        vertical-align: top;\n",
       "    }\n",
       "\n",
       "    .dataframe thead th {\n",
       "        text-align: right;\n",
       "    }\n",
       "</style>\n",
       "<table border=\"1\" class=\"dataframe\">\n",
       "  <thead>\n",
       "    <tr style=\"text-align: right;\">\n",
       "      <th></th>\n",
       "      <th>list_of_words</th>\n",
       "      <th>id</th>\n",
       "    </tr>\n",
       "  </thead>\n",
       "  <tbody>\n",
       "    <tr>\n",
       "      <th>0</th>\n",
       "      <td>[johnbruchalski, sure, university, received, doctorate, would, love, see]</td>\n",
       "      <td>0</td>\n",
       "    </tr>\n",
       "    <tr>\n",
       "      <th>1</th>\n",
       "      <td>[said, michigan, graduate, proposes, college, sweetheart, commencement]</td>\n",
       "      <td>1</td>\n",
       "    </tr>\n",
       "    <tr>\n",
       "      <th>2</th>\n",
       "      <td>[asonsiadek, played, college, graduation, celebration]</td>\n",
       "      <td>2</td>\n",
       "    </tr>\n",
       "    <tr>\n",
       "      <th>3</th>\n",
       "      <td>[still, flabbergasted, college, students, refuse, focus, major, chase, minors, around]</td>\n",
       "      <td>3</td>\n",
       "    </tr>\n",
       "    <tr>\n",
       "      <th>4</th>\n",
       "      <td>[gametimerc, carroll, university, offers, marquette, university]</td>\n",
       "      <td>4</td>\n",
       "    </tr>\n",
       "  </tbody>\n",
       "</table>\n",
       "</div>"
      ],
      "text/plain": [
       "                                                                            list_of_words  \\\n",
       "0               [johnbruchalski, sure, university, received, doctorate, would, love, see]   \n",
       "1                 [said, michigan, graduate, proposes, college, sweetheart, commencement]   \n",
       "2                                  [asonsiadek, played, college, graduation, celebration]   \n",
       "3  [still, flabbergasted, college, students, refuse, focus, major, chase, minors, around]   \n",
       "4                        [gametimerc, carroll, university, offers, marquette, university]   \n",
       "\n",
       "   id  \n",
       "0   0  \n",
       "1   1  \n",
       "2   2  \n",
       "3   3  \n",
       "4   4  "
      ]
     },
     "execution_count": 20,
     "metadata": {},
     "output_type": "execute_result"
    }
   ],
   "source": [
    "df_tokens = spark.createDataFrame(tokens, [\"list_of_words\",'id'])\n",
    "\n",
    "#Drop records with no tokens\n",
    "df_tokens = df_tokens.where(col('list_of_words').getItem(0).isNotNull())\n",
    "df_tokens.limit(5).toPandas()"
   ]
  },
  {
   "cell_type": "code",
   "execution_count": 21,
   "metadata": {},
   "outputs": [
    {
     "name": "stdout",
     "output_type": "stream",
     "text": [
      "root\n",
      " |-- list_of_words: array (nullable = true)\n",
      " |    |-- element: string (containsNull = true)\n",
      " |-- id: long (nullable = true)\n",
      "\n"
     ]
    }
   ],
   "source": [
    "df_tokens.printSchema()"
   ]
  },
  {
   "cell_type": "code",
   "execution_count": 22,
   "metadata": {},
   "outputs": [
    {
     "name": "stderr",
     "output_type": "stream",
     "text": [
      "                                                                                \r"
     ]
    },
    {
     "data": {
      "text/plain": [
       "20380"
      ]
     },
     "execution_count": 22,
     "metadata": {},
     "output_type": "execute_result"
    }
   ],
   "source": [
    "df_tokens.count()"
   ]
  },
  {
   "cell_type": "markdown",
   "metadata": {},
   "source": [
    "### Step 2. Fit countvectorizer to create word features"
   ]
  },
  {
   "cell_type": "code",
   "execution_count": 23,
   "metadata": {},
   "outputs": [
    {
     "name": "stderr",
     "output_type": "stream",
     "text": [
      "                                                                                \r"
     ]
    }
   ],
   "source": [
    "vectorize = CountVectorizer(inputCol=\"list_of_words\", outputCol=\"features\", minDF=1.0)\n",
    "df_vectorize = vectorize.fit(df_tokens).transform(df_tokens)"
   ]
  },
  {
   "cell_type": "code",
   "execution_count": 24,
   "metadata": {},
   "outputs": [
    {
     "name": "stderr",
     "output_type": "stream",
     "text": [
      "                                                                                \r"
     ]
    },
    {
     "data": {
      "text/html": [
       "<div>\n",
       "<style scoped>\n",
       "    .dataframe tbody tr th:only-of-type {\n",
       "        vertical-align: middle;\n",
       "    }\n",
       "\n",
       "    .dataframe tbody tr th {\n",
       "        vertical-align: top;\n",
       "    }\n",
       "\n",
       "    .dataframe thead th {\n",
       "        text-align: right;\n",
       "    }\n",
       "</style>\n",
       "<table border=\"1\" class=\"dataframe\">\n",
       "  <thead>\n",
       "    <tr style=\"text-align: right;\">\n",
       "      <th></th>\n",
       "      <th>list_of_words</th>\n",
       "      <th>id</th>\n",
       "      <th>features</th>\n",
       "    </tr>\n",
       "  </thead>\n",
       "  <tbody>\n",
       "    <tr>\n",
       "      <th>0</th>\n",
       "      <td>[johnbruchalski, sure, university, received, doctorate, would, love, see]</td>\n",
       "      <td>0</td>\n",
       "      <td>(0.0, 1.0, 0.0, 0.0, 0.0, 0.0, 0.0, 0.0, 0.0, 0.0, 0.0, 0.0, 0.0, 0.0, 0.0, 0.0, 0.0, 0.0, 0.0, 0.0, 0.0, 0.0, 0.0, 0.0, 0.0, 0.0, 0.0, 0.0, 0.0, 0.0, 0.0, 0.0, 0.0, 0.0, 1.0, 0.0, 0.0, 0.0, 0.0, 0.0, 0.0, 0.0, 0.0, 0.0, 0.0, 0.0, 0.0, 0.0, 0.0, 0.0, 0.0, 0.0, 0.0, 0.0, 0.0, 0.0, 0.0, 0.0, 1.0, 0.0, 0.0, 0.0, 0.0, 1.0, 0.0, 0.0, 0.0, 0.0, 0.0, 0.0, 0.0, 0.0, 0.0, 0.0, 0.0, 0.0, 0.0, 0.0, 0.0, 0.0, 0.0, 0.0, 0.0, 0.0, 0.0, 0.0, 0.0, 0.0, 0.0, 0.0, 0.0, 0.0, 0.0, 0.0, 0.0, 0.0, 0.0, 0.0, 0.0, 0.0, ...)</td>\n",
       "    </tr>\n",
       "    <tr>\n",
       "      <th>1</th>\n",
       "      <td>[said, michigan, graduate, proposes, college, sweetheart, commencement]</td>\n",
       "      <td>1</td>\n",
       "      <td>(1.0, 0.0, 0.0, 0.0, 0.0, 0.0, 0.0, 1.0, 0.0, 0.0, 0.0, 0.0, 0.0, 0.0, 0.0, 0.0, 0.0, 0.0, 0.0, 0.0, 0.0, 0.0, 0.0, 0.0, 0.0, 0.0, 0.0, 0.0, 0.0, 0.0, 0.0, 0.0, 0.0, 0.0, 0.0, 0.0, 0.0, 0.0, 0.0, 0.0, 0.0, 0.0, 0.0, 0.0, 0.0, 0.0, 0.0, 0.0, 0.0, 0.0, 0.0, 0.0, 0.0, 0.0, 0.0, 0.0, 0.0, 0.0, 0.0, 0.0, 0.0, 0.0, 0.0, 0.0, 0.0, 0.0, 0.0, 0.0, 0.0, 0.0, 0.0, 0.0, 0.0, 0.0, 0.0, 0.0, 0.0, 0.0, 0.0, 0.0, 0.0, 0.0, 0.0, 0.0, 0.0, 0.0, 0.0, 0.0, 0.0, 0.0, 0.0, 0.0, 0.0, 0.0, 0.0, 0.0, 0.0, 0.0, 0.0, 0.0, ...)</td>\n",
       "    </tr>\n",
       "    <tr>\n",
       "      <th>2</th>\n",
       "      <td>[asonsiadek, played, college, graduation, celebration]</td>\n",
       "      <td>2</td>\n",
       "      <td>(1.0, 0.0, 0.0, 0.0, 0.0, 0.0, 0.0, 0.0, 0.0, 0.0, 0.0, 0.0, 1.0, 0.0, 0.0, 0.0, 0.0, 0.0, 0.0, 0.0, 0.0, 0.0, 0.0, 0.0, 0.0, 0.0, 0.0, 0.0, 0.0, 0.0, 0.0, 0.0, 0.0, 0.0, 0.0, 0.0, 0.0, 0.0, 0.0, 0.0, 0.0, 0.0, 0.0, 0.0, 0.0, 0.0, 0.0, 0.0, 0.0, 0.0, 0.0, 0.0, 0.0, 0.0, 0.0, 0.0, 0.0, 0.0, 0.0, 0.0, 0.0, 0.0, 0.0, 0.0, 0.0, 0.0, 0.0, 0.0, 0.0, 0.0, 0.0, 0.0, 0.0, 0.0, 0.0, 0.0, 0.0, 0.0, 0.0, 0.0, 0.0, 0.0, 0.0, 0.0, 0.0, 0.0, 0.0, 0.0, 0.0, 0.0, 0.0, 0.0, 0.0, 0.0, 0.0, 0.0, 0.0, 0.0, 0.0, 0.0, ...)</td>\n",
       "    </tr>\n",
       "    <tr>\n",
       "      <th>3</th>\n",
       "      <td>[still, flabbergasted, college, students, refuse, focus, major, chase, minors, around]</td>\n",
       "      <td>3</td>\n",
       "      <td>(1.0, 0.0, 1.0, 0.0, 0.0, 0.0, 0.0, 0.0, 0.0, 0.0, 0.0, 0.0, 0.0, 0.0, 0.0, 0.0, 0.0, 0.0, 0.0, 0.0, 0.0, 0.0, 0.0, 0.0, 0.0, 0.0, 0.0, 0.0, 0.0, 0.0, 0.0, 0.0, 0.0, 0.0, 0.0, 0.0, 0.0, 0.0, 0.0, 0.0, 1.0, 0.0, 0.0, 0.0, 0.0, 0.0, 0.0, 0.0, 0.0, 0.0, 0.0, 0.0, 0.0, 0.0, 0.0, 0.0, 0.0, 0.0, 0.0, 0.0, 0.0, 0.0, 0.0, 0.0, 0.0, 0.0, 0.0, 0.0, 0.0, 0.0, 0.0, 0.0, 0.0, 0.0, 0.0, 0.0, 0.0, 0.0, 0.0, 0.0, 0.0, 0.0, 0.0, 0.0, 0.0, 0.0, 0.0, 0.0, 0.0, 0.0, 0.0, 0.0, 0.0, 0.0, 0.0, 0.0, 0.0, 0.0, 0.0, 0.0, ...)</td>\n",
       "    </tr>\n",
       "    <tr>\n",
       "      <th>4</th>\n",
       "      <td>[gametimerc, carroll, university, offers, marquette, university]</td>\n",
       "      <td>4</td>\n",
       "      <td>(0.0, 2.0, 0.0, 0.0, 0.0, 0.0, 0.0, 0.0, 0.0, 0.0, 0.0, 0.0, 0.0, 0.0, 0.0, 0.0, 0.0, 0.0, 0.0, 0.0, 0.0, 0.0, 0.0, 0.0, 0.0, 0.0, 0.0, 0.0, 0.0, 0.0, 0.0, 0.0, 0.0, 0.0, 0.0, 0.0, 0.0, 0.0, 0.0, 0.0, 0.0, 0.0, 0.0, 0.0, 0.0, 0.0, 0.0, 0.0, 0.0, 0.0, 0.0, 0.0, 0.0, 0.0, 0.0, 0.0, 0.0, 0.0, 0.0, 0.0, 0.0, 0.0, 0.0, 0.0, 0.0, 0.0, 0.0, 0.0, 0.0, 0.0, 0.0, 0.0, 0.0, 0.0, 0.0, 0.0, 0.0, 0.0, 0.0, 0.0, 0.0, 0.0, 0.0, 0.0, 0.0, 0.0, 0.0, 0.0, 0.0, 0.0, 0.0, 0.0, 0.0, 0.0, 0.0, 0.0, 0.0, 0.0, 0.0, 0.0, ...)</td>\n",
       "    </tr>\n",
       "  </tbody>\n",
       "</table>\n",
       "</div>"
      ],
      "text/plain": [
       "                                                                            list_of_words  \\\n",
       "0               [johnbruchalski, sure, university, received, doctorate, would, love, see]   \n",
       "1                 [said, michigan, graduate, proposes, college, sweetheart, commencement]   \n",
       "2                                  [asonsiadek, played, college, graduation, celebration]   \n",
       "3  [still, flabbergasted, college, students, refuse, focus, major, chase, minors, around]   \n",
       "4                        [gametimerc, carroll, university, offers, marquette, university]   \n",
       "\n",
       "   id  \\\n",
       "0   0   \n",
       "1   1   \n",
       "2   2   \n",
       "3   3   \n",
       "4   4   \n",
       "\n",
       "                                                                                                                                                                                                                                                                                                                                                                                                                                                                                                                    features  \n",
       "0  (0.0, 1.0, 0.0, 0.0, 0.0, 0.0, 0.0, 0.0, 0.0, 0.0, 0.0, 0.0, 0.0, 0.0, 0.0, 0.0, 0.0, 0.0, 0.0, 0.0, 0.0, 0.0, 0.0, 0.0, 0.0, 0.0, 0.0, 0.0, 0.0, 0.0, 0.0, 0.0, 0.0, 0.0, 1.0, 0.0, 0.0, 0.0, 0.0, 0.0, 0.0, 0.0, 0.0, 0.0, 0.0, 0.0, 0.0, 0.0, 0.0, 0.0, 0.0, 0.0, 0.0, 0.0, 0.0, 0.0, 0.0, 0.0, 1.0, 0.0, 0.0, 0.0, 0.0, 1.0, 0.0, 0.0, 0.0, 0.0, 0.0, 0.0, 0.0, 0.0, 0.0, 0.0, 0.0, 0.0, 0.0, 0.0, 0.0, 0.0, 0.0, 0.0, 0.0, 0.0, 0.0, 0.0, 0.0, 0.0, 0.0, 0.0, 0.0, 0.0, 0.0, 0.0, 0.0, 0.0, 0.0, 0.0, 0.0, 0.0, ...)  \n",
       "1  (1.0, 0.0, 0.0, 0.0, 0.0, 0.0, 0.0, 1.0, 0.0, 0.0, 0.0, 0.0, 0.0, 0.0, 0.0, 0.0, 0.0, 0.0, 0.0, 0.0, 0.0, 0.0, 0.0, 0.0, 0.0, 0.0, 0.0, 0.0, 0.0, 0.0, 0.0, 0.0, 0.0, 0.0, 0.0, 0.0, 0.0, 0.0, 0.0, 0.0, 0.0, 0.0, 0.0, 0.0, 0.0, 0.0, 0.0, 0.0, 0.0, 0.0, 0.0, 0.0, 0.0, 0.0, 0.0, 0.0, 0.0, 0.0, 0.0, 0.0, 0.0, 0.0, 0.0, 0.0, 0.0, 0.0, 0.0, 0.0, 0.0, 0.0, 0.0, 0.0, 0.0, 0.0, 0.0, 0.0, 0.0, 0.0, 0.0, 0.0, 0.0, 0.0, 0.0, 0.0, 0.0, 0.0, 0.0, 0.0, 0.0, 0.0, 0.0, 0.0, 0.0, 0.0, 0.0, 0.0, 0.0, 0.0, 0.0, 0.0, ...)  \n",
       "2  (1.0, 0.0, 0.0, 0.0, 0.0, 0.0, 0.0, 0.0, 0.0, 0.0, 0.0, 0.0, 1.0, 0.0, 0.0, 0.0, 0.0, 0.0, 0.0, 0.0, 0.0, 0.0, 0.0, 0.0, 0.0, 0.0, 0.0, 0.0, 0.0, 0.0, 0.0, 0.0, 0.0, 0.0, 0.0, 0.0, 0.0, 0.0, 0.0, 0.0, 0.0, 0.0, 0.0, 0.0, 0.0, 0.0, 0.0, 0.0, 0.0, 0.0, 0.0, 0.0, 0.0, 0.0, 0.0, 0.0, 0.0, 0.0, 0.0, 0.0, 0.0, 0.0, 0.0, 0.0, 0.0, 0.0, 0.0, 0.0, 0.0, 0.0, 0.0, 0.0, 0.0, 0.0, 0.0, 0.0, 0.0, 0.0, 0.0, 0.0, 0.0, 0.0, 0.0, 0.0, 0.0, 0.0, 0.0, 0.0, 0.0, 0.0, 0.0, 0.0, 0.0, 0.0, 0.0, 0.0, 0.0, 0.0, 0.0, 0.0, ...)  \n",
       "3  (1.0, 0.0, 1.0, 0.0, 0.0, 0.0, 0.0, 0.0, 0.0, 0.0, 0.0, 0.0, 0.0, 0.0, 0.0, 0.0, 0.0, 0.0, 0.0, 0.0, 0.0, 0.0, 0.0, 0.0, 0.0, 0.0, 0.0, 0.0, 0.0, 0.0, 0.0, 0.0, 0.0, 0.0, 0.0, 0.0, 0.0, 0.0, 0.0, 0.0, 1.0, 0.0, 0.0, 0.0, 0.0, 0.0, 0.0, 0.0, 0.0, 0.0, 0.0, 0.0, 0.0, 0.0, 0.0, 0.0, 0.0, 0.0, 0.0, 0.0, 0.0, 0.0, 0.0, 0.0, 0.0, 0.0, 0.0, 0.0, 0.0, 0.0, 0.0, 0.0, 0.0, 0.0, 0.0, 0.0, 0.0, 0.0, 0.0, 0.0, 0.0, 0.0, 0.0, 0.0, 0.0, 0.0, 0.0, 0.0, 0.0, 0.0, 0.0, 0.0, 0.0, 0.0, 0.0, 0.0, 0.0, 0.0, 0.0, 0.0, ...)  \n",
       "4  (0.0, 2.0, 0.0, 0.0, 0.0, 0.0, 0.0, 0.0, 0.0, 0.0, 0.0, 0.0, 0.0, 0.0, 0.0, 0.0, 0.0, 0.0, 0.0, 0.0, 0.0, 0.0, 0.0, 0.0, 0.0, 0.0, 0.0, 0.0, 0.0, 0.0, 0.0, 0.0, 0.0, 0.0, 0.0, 0.0, 0.0, 0.0, 0.0, 0.0, 0.0, 0.0, 0.0, 0.0, 0.0, 0.0, 0.0, 0.0, 0.0, 0.0, 0.0, 0.0, 0.0, 0.0, 0.0, 0.0, 0.0, 0.0, 0.0, 0.0, 0.0, 0.0, 0.0, 0.0, 0.0, 0.0, 0.0, 0.0, 0.0, 0.0, 0.0, 0.0, 0.0, 0.0, 0.0, 0.0, 0.0, 0.0, 0.0, 0.0, 0.0, 0.0, 0.0, 0.0, 0.0, 0.0, 0.0, 0.0, 0.0, 0.0, 0.0, 0.0, 0.0, 0.0, 0.0, 0.0, 0.0, 0.0, 0.0, 0.0, ...)  "
      ]
     },
     "execution_count": 24,
     "metadata": {},
     "output_type": "execute_result"
    }
   ],
   "source": [
    "df_vectorize.limit(5).toPandas()"
   ]
  },
  {
   "cell_type": "markdown",
   "metadata": {},
   "source": [
    "### Step 3. Fit MinHashLSH to create hash table\n",
    "\n",
    "**Note:** Adding more hash tables will increase the accuracy at the expense of training time"
   ]
  },
  {
   "cell_type": "code",
   "execution_count": 25,
   "metadata": {},
   "outputs": [],
   "source": [
    "mh = MinHashLSH(inputCol=\"features\", outputCol=\"hashes\", numHashTables=5)\n",
    "model = mh.fit(df_vectorize)\n",
    "df_hashed = mh.fit(df_vectorize).transform(df_vectorize).cache()"
   ]
  },
  {
   "cell_type": "code",
   "execution_count": 26,
   "metadata": {},
   "outputs": [
    {
     "name": "stderr",
     "output_type": "stream",
     "text": [
      "                                                                                \r"
     ]
    },
    {
     "data": {
      "text/html": [
       "<table border='1'>\n",
       "<tr><th>id</th><th>text</th><th>list_of_words</th><th>features</th><th>hashes</th></tr>\n",
       "<tr><td>26</td><td>{maryville univer...</td><td>[maryville, unive...</td><td>(26655,[1,2,67,71...</td><td>[[3.89054535E8], ...</td></tr>\n",
       "<tr><td>29</td><td>{good question se...</td><td>[good, question, ...</td><td>(26655,[0,2,30,41...</td><td>[[2.5247665E7], [...</td></tr>\n",
       "<tr><td>474</td><td>{homework slave f...</td><td>[homework, slave,...</td><td>(26655,[1,46,169,...</td><td>[[3.72403104E8], ...</td></tr>\n",
       "<tr><td>964</td><td>{i’m obsessed wit...</td><td>[obsessed, kotaro...</td><td>(26655,[0,7,2420,...</td><td>[[4.7945584E7], [...</td></tr>\n",
       "<tr><td>1677</td><td>{ksorbs comparing...</td><td>[ksorbs, comparin...</td><td>(26655,[0,4,141,3...</td><td>[[6570254.0], [1....</td></tr>\n",
       "</table>\n"
      ],
      "text/plain": [
       "+---+--------------------+--------------------+--------------------+--------------------+\n",
       "| id|                text|       list_of_words|            features|              hashes|\n",
       "+---+--------------------+--------------------+--------------------+--------------------+\n",
       "|237|{without change o...|[without, change,...|(26655,[3,4,10,11...|[[4.83415265E8], ...|\n",
       "|241|{environmentalist...|[environmentalist...|(26655,[1023,1110...|[[3.35111186E8], ...|\n",
       "|347|{pulte preschool ...|[pulte, preschool...|(26655,[5,31,59,2...|[[3.17906082E8], ...|\n",
       "|564|{ka1omas blueocea...|[ka1omas, blueoce...|(26655,[2,3,8,32,...|[[1.19094037E8], ...|\n",
       "|588|{i got to speak a...|[got, speak, coll...|(26655,[0,35,738,...|[[4.7945584E7], [...|\n",
       "+---+--------------------+--------------------+--------------------+--------------------+"
      ]
     },
     "execution_count": 26,
     "metadata": {},
     "output_type": "execute_result"
    }
   ],
   "source": [
    "df_hashed_text = df_text.join(df_hashed, \"id\", how = 'left').cache()\n",
    "df_hashed_text.limit(5)"
   ]
  },
  {
   "cell_type": "markdown",
   "metadata": {},
   "source": [
    "### Step 4. Establish similarity threshold and return near-duplicate records\n",
    "**Note:** we are joining dataframe to itself to get near-duplicate pairs"
   ]
  },
  {
   "cell_type": "markdown",
   "metadata": {},
   "source": [
    "#### Low jaccard distance"
   ]
  },
  {
   "cell_type": "code",
   "execution_count": 27,
   "metadata": {},
   "outputs": [],
   "source": [
    "jaccard_distance = 0.3\n",
    "\n",
    "df_dups_text = model.approxSimilarityJoin(df_hashed_text, df_hashed_text, jaccard_distance).filter(\"datasetA.id < datasetB.id\").select(\n",
    "            col(\"distCol\"),\n",
    "            col(\"datasetA.id\").alias(\"id_A\"),\n",
    "            col(\"datasetB.id\").alias(\"id_B\"),\n",
    "            col('datasetA.text').alias('text_A'),\n",
    "            col('datasetB.text').alias('text_B'),\n",
    "#             col('datasetA.list_of_words').alias('words_A'),\n",
    "#             col('datasetB.list_of_words').alias('words_B')\n",
    "            )"
   ]
  },
  {
   "cell_type": "code",
   "execution_count": 28,
   "metadata": {},
   "outputs": [
    {
     "name": "stderr",
     "output_type": "stream",
     "text": [
      "                                                                                \r"
     ]
    },
    {
     "data": {
      "text/html": [
       "<div>\n",
       "<style scoped>\n",
       "    .dataframe tbody tr th:only-of-type {\n",
       "        vertical-align: middle;\n",
       "    }\n",
       "\n",
       "    .dataframe tbody tr th {\n",
       "        vertical-align: top;\n",
       "    }\n",
       "\n",
       "    .dataframe thead th {\n",
       "        text-align: right;\n",
       "    }\n",
       "</style>\n",
       "<table border=\"1\" class=\"dataframe\">\n",
       "  <thead>\n",
       "    <tr style=\"text-align: right;\">\n",
       "      <th></th>\n",
       "      <th>distCol</th>\n",
       "      <th>id_A</th>\n",
       "      <th>id_B</th>\n",
       "      <th>text_A</th>\n",
       "      <th>text_B</th>\n",
       "    </tr>\n",
       "  </thead>\n",
       "  <tbody>\n",
       "    <tr>\n",
       "      <th>0</th>\n",
       "      <td>0.00</td>\n",
       "      <td>429</td>\n",
       "      <td>3215</td>\n",
       "      <td>(college graduation is so long!,)</td>\n",
       "      <td>(college graduation today✨ ,)</td>\n",
       "    </tr>\n",
       "    <tr>\n",
       "      <th>1</th>\n",
       "      <td>0.00</td>\n",
       "      <td>1709</td>\n",
       "      <td>3449</td>\n",
       "      <td>(the importance of schools in conducting benchmark testing  education learning,)</td>\n",
       "      <td>(the importance of schools in conducting benchmark testing  education learning,)</td>\n",
       "    </tr>\n",
       "    <tr>\n",
       "      <th>2</th>\n",
       "      <td>0.00</td>\n",
       "      <td>5776</td>\n",
       "      <td>16598</td>\n",
       "      <td>(no more college students 😭,)</td>\n",
       "      <td>(college students,)</td>\n",
       "    </tr>\n",
       "    <tr>\n",
       "      <th>3</th>\n",
       "      <td>0.25</td>\n",
       "      <td>189</td>\n",
       "      <td>3946</td>\n",
       "      <td>(this or have free university education 🥰,)</td>\n",
       "      <td>(mollyjake3 free university education,)</td>\n",
       "    </tr>\n",
       "    <tr>\n",
       "      <th>4</th>\n",
       "      <td>0.00</td>\n",
       "      <td>3008</td>\n",
       "      <td>18830</td>\n",
       "      <td>(need money for college\\nneed college for job\\nneed job for money-_-\\nwhat who the hell designed this system??,)</td>\n",
       "      <td>(need money for college\\nneed college for job\\nneed job for money-_-\\nwhat who the hell designed this system??,)</td>\n",
       "    </tr>\n",
       "  </tbody>\n",
       "</table>\n",
       "</div>"
      ],
      "text/plain": [
       "   distCol  id_A   id_B  \\\n",
       "0     0.00   429   3215   \n",
       "1     0.00  1709   3449   \n",
       "2     0.00  5776  16598   \n",
       "3     0.25   189   3946   \n",
       "4     0.00  3008  18830   \n",
       "\n",
       "                                                                                                             text_A  \\\n",
       "0                                                                                 (college graduation is so long!,)   \n",
       "1                                  (the importance of schools in conducting benchmark testing  education learning,)   \n",
       "2                                                                                     (no more college students 😭,)   \n",
       "3                                                                       (this or have free university education 🥰,)   \n",
       "4  (need money for college\\nneed college for job\\nneed job for money-_-\\nwhat who the hell designed this system??,)   \n",
       "\n",
       "                                                                                                             text_B  \n",
       "0                                                                                     (college graduation today✨ ,)  \n",
       "1                                  (the importance of schools in conducting benchmark testing  education learning,)  \n",
       "2                                                                                               (college students,)  \n",
       "3                                                                           (mollyjake3 free university education,)  \n",
       "4  (need money for college\\nneed college for job\\nneed job for money-_-\\nwhat who the hell designed this system??,)  "
      ]
     },
     "execution_count": 28,
     "metadata": {},
     "output_type": "execute_result"
    }
   ],
   "source": [
    "df_dups_30 = df_dups_text\n",
    "df_dups_text.cache()\n",
    "df_dups_text.limit(5).toPandas()"
   ]
  },
  {
   "cell_type": "code",
   "execution_count": 29,
   "metadata": {},
   "outputs": [
    {
     "name": "stderr",
     "output_type": "stream",
     "text": [
      "[Stage 64:==============================================>      (175 + 25) / 200]\r"
     ]
    },
    {
     "name": "stdout",
     "output_type": "stream",
     "text": [
      "Total records:  20382\n",
      "Duplicate titles based on { 0.3 } jaccard distance:  1460\n",
      "Unique titles based on { 0.3 } jaccard distance:  0.3 :  18922\n"
     ]
    },
    {
     "name": "stderr",
     "output_type": "stream",
     "text": [
      "                                                                                \r"
     ]
    }
   ],
   "source": [
    "records = df_hashed_text.count()\n",
    "dups = df_dups_text.select('id_A').distinct().count()\n",
    "uniques = records - dups\n",
    "\n",
    "print ('Total records: ', records)\n",
    "print ('Duplicate titles based on {', jaccard_distance, '} jaccard distance: ', dups)\n",
    "print ('Unique titles based on {', jaccard_distance, '} jaccard distance: ', jaccard_distance, ': ', uniques)"
   ]
  },
  {
   "cell_type": "code",
   "execution_count": 30,
   "metadata": {},
   "outputs": [
    {
     "data": {
      "image/png": "[encoded data removed]",
      "text/plain": [
       "<Figure size 640x480 with 1 Axes>"
      ]
     },
     "metadata": {},
     "output_type": "display_data"
    }
   ],
   "source": [
    "dups_df = pd.DataFrame.from_dict({'near_dups': [dups], 'unique': [uniques]})\n",
    "\n",
    "ax=dups_df.plot(kind = 'bar',y=['near_dups', 'unique'], fontsize=10, color=['C0', 'C1'], align='center', width=0.8, xlabel=\"Duplicates vs. Unique\")\n",
    "ax.set_title('News title duplication analysis', fontsize=15)\n",
    "for p in ax.patches:\n",
    "       ax.annotate(format(p.get_height(), '.1f'), \n",
    "                   (p.get_x() + p.get_width() / 2., p.get_height()/2), \n",
    "                   ha = 'center', va = 'center', \n",
    "                   xytext = (0, 9), \n",
    "                   textcoords = 'offset points') "
   ]
  },
  {
   "cell_type": "code",
   "execution_count": 31,
   "metadata": {},
   "outputs": [
    {
     "name": "stderr",
     "output_type": "stream",
     "text": [
      "[Stage 87:>                                                         (0 + 1) / 1]\r"
     ]
    },
    {
     "name": "stdout",
     "output_type": "stream",
     "text": [
      "+---+-------+---------+\n",
      "| id|    org|  is_dups|\n",
      "+---+-------+---------+\n",
      "|  0| Others|   unique|\n",
      "|  1| Others|   unique|\n",
      "|  2|   News|   unique|\n",
      "|  3| Others|   unique|\n",
      "|  4| Others|   unique|\n",
      "|  5| Others|   unique|\n",
      "|  6| Others|   unique|\n",
      "|  7|    NGO|   unique|\n",
      "|  8| Others|near_dups|\n",
      "|  9|Schools|   unique|\n",
      "+---+-------+---------+\n",
      "only showing top 10 rows\n",
      "\n"
     ]
    },
    {
     "name": "stderr",
     "output_type": "stream",
     "text": [
      "                                                                                \r"
     ]
    }
   ],
   "source": [
    "df_dups_1 = df_dups_text.select(col('id_A').alias('id')).distinct().withColumn('is_dups',lit('near_dups'))\n",
    "\n",
    "df_final = df_tweet_text_raw.select('Organization').rdd.zipWithIndex().toDF(['org','id'])\\\n",
    ".join(df_dups_1,'id','left')\\\n",
    ".na.fill(value='unique',subset=['is_dups'])\\\n",
    ".select('id',col('org.Organization').alias('org'),'is_dups')\n",
    "\n",
    "df_final.show(10)"
   ]
  },
  {
   "cell_type": "code",
   "execution_count": 36,
   "metadata": {},
   "outputs": [
    {
     "name": "stderr",
     "output_type": "stream",
     "text": [
      "                                                                                \r"
     ]
    },
    {
     "data": {
      "image/png": "[encoded data removed]",
      "text/plain": [
       "<Figure size 640x480 with 1 Axes>"
      ]
     },
     "metadata": {},
     "output_type": "display_data"
    }
   ],
   "source": [
    "df_plt = df_final.groupBy('org','is_dups').agg(count('*').alias('cnt')).toPandas()\n",
    "\n",
    "ax=df_plt.pivot(index='org', columns='is_dups', values='cnt').plot(kind='bar', fontsize=10, color=['C0', 'C1'],\n",
    "                                                                align='center', width=0.8, \n",
    "                                                                xlabel=\"Duplicates vs. Unique\")\n",
    "\n",
    "ax.set_title('Duplicate tweets analysis by Organisation', fontsize=15)\n",
    "for p in ax.patches:\n",
    "       ax.annotate(format(p.get_height(), '.0f'), \n",
    "                   (p.get_x() + p.get_width() / 2., p.get_height()/ 1.5), \n",
    "                   ha = 'center', va = 'center', \n",
    "                   xytext = (0, 9), \n",
    "                   textcoords = 'offset points') "
   ]
  },
  {
   "cell_type": "markdown",
   "metadata": {},
   "source": [
    "**With Jaccard Distance 0.4**"
   ]
  },
  {
   "cell_type": "code",
   "execution_count": 38,
   "metadata": {},
   "outputs": [],
   "source": [
    "jaccard_distance = 0.4\n",
    "\n",
    "df_dups_text = model.approxSimilarityJoin(df_hashed_text, df_hashed_text, jaccard_distance).filter(\"datasetA.id < datasetB.id\").select(\n",
    "            col(\"distCol\"),\n",
    "            col(\"datasetA.id\").alias(\"id_A\"),\n",
    "            col(\"datasetB.id\").alias(\"id_B\"),\n",
    "            col('datasetA.text').alias('text_A'),\n",
    "            col('datasetB.text').alias('text_B'),\n",
    "#             col('datasetA.list_of_words').alias('words_A'),\n",
    "#             col('datasetB.list_of_words').alias('words_B')\n",
    "            )    "
   ]
  },
  {
   "cell_type": "code",
   "execution_count": 39,
   "metadata": {},
   "outputs": [
    {
     "name": "stderr",
     "output_type": "stream",
     "text": [
      "                                                                                \r"
     ]
    },
    {
     "data": {
      "text/html": [
       "<div>\n",
       "<style scoped>\n",
       "    .dataframe tbody tr th:only-of-type {\n",
       "        vertical-align: middle;\n",
       "    }\n",
       "\n",
       "    .dataframe tbody tr th {\n",
       "        vertical-align: top;\n",
       "    }\n",
       "\n",
       "    .dataframe thead th {\n",
       "        text-align: right;\n",
       "    }\n",
       "</style>\n",
       "<table border=\"1\" class=\"dataframe\">\n",
       "  <thead>\n",
       "    <tr style=\"text-align: right;\">\n",
       "      <th></th>\n",
       "      <th>distCol</th>\n",
       "      <th>id_A</th>\n",
       "      <th>id_B</th>\n",
       "      <th>text_A</th>\n",
       "      <th>text_B</th>\n",
       "    </tr>\n",
       "  </thead>\n",
       "  <tbody>\n",
       "    <tr>\n",
       "      <th>0</th>\n",
       "      <td>0.333333</td>\n",
       "      <td>11743</td>\n",
       "      <td>13949</td>\n",
       "      <td>(she’s literally a college graduate,)</td>\n",
       "      <td>(a college graduate i am 😭🥺❤️,)</td>\n",
       "    </tr>\n",
       "    <tr>\n",
       "      <th>1</th>\n",
       "      <td>0.000000</td>\n",
       "      <td>2527</td>\n",
       "      <td>13783</td>\n",
       "      <td>(i see life like one long university education i never had i learn something every day – richard branson leadership success,)</td>\n",
       "      <td>(i see life like one long university education i never had i learn something every day – richard branson leadership success,)</td>\n",
       "    </tr>\n",
       "    <tr>\n",
       "      <th>2</th>\n",
       "      <td>0.333333</td>\n",
       "      <td>761</td>\n",
       "      <td>1942</td>\n",
       "      <td>(im college students 😭,)</td>\n",
       "      <td>(gifts for college students – 45 gifts college students will actually appreciate ,)</td>\n",
       "    </tr>\n",
       "    <tr>\n",
       "      <th>3</th>\n",
       "      <td>0.333333</td>\n",
       "      <td>3994</td>\n",
       "      <td>10554</td>\n",
       "      <td>(the what guy is college graduate,)</td>\n",
       "      <td>(i’ll be a college graduate in a week!!,)</td>\n",
       "    </tr>\n",
       "    <tr>\n",
       "      <th>4</th>\n",
       "      <td>0.333333</td>\n",
       "      <td>3367</td>\n",
       "      <td>10166</td>\n",
       "      <td>(thanks tom! im a middle school teacher not an economist!,)</td>\n",
       "      <td>(xiggy89x thanks im a middle school special ed teacher \\n,)</td>\n",
       "    </tr>\n",
       "  </tbody>\n",
       "</table>\n",
       "</div>"
      ],
      "text/plain": [
       "    distCol   id_A   id_B  \\\n",
       "0  0.333333  11743  13949   \n",
       "1  0.000000   2527  13783   \n",
       "2  0.333333    761   1942   \n",
       "3  0.333333   3994  10554   \n",
       "4  0.333333   3367  10166   \n",
       "\n",
       "                                                                                                                          text_A  \\\n",
       "0                                                                                          (she’s literally a college graduate,)   \n",
       "1  (i see life like one long university education i never had i learn something every day – richard branson leadership success,)   \n",
       "2                                                                                                       (im college students 😭,)   \n",
       "3                                                                                            (the what guy is college graduate,)   \n",
       "4                                                                    (thanks tom! im a middle school teacher not an economist!,)   \n",
       "\n",
       "                                                                                                                          text_B  \n",
       "0                                                                                                (a college graduate i am 😭🥺❤️,)  \n",
       "1  (i see life like one long university education i never had i learn something every day – richard branson leadership success,)  \n",
       "2                                            (gifts for college students – 45 gifts college students will actually appreciate ,)  \n",
       "3                                                                                      (i’ll be a college graduate in a week!!,)  \n",
       "4                                                                    (xiggy89x thanks im a middle school special ed teacher \\n,)  "
      ]
     },
     "execution_count": 39,
     "metadata": {},
     "output_type": "execute_result"
    }
   ],
   "source": [
    "df_dups_40 = df_dups_text\n",
    "df_dups_text.cache()\n",
    "df_dups_text.limit(5).toPandas()"
   ]
  },
  {
   "cell_type": "code",
   "execution_count": 40,
   "metadata": {},
   "outputs": [
    {
     "name": "stderr",
     "output_type": "stream",
     "text": [
      "[Stage 165:===========================================>        (167 + 32) / 200]\r"
     ]
    },
    {
     "name": "stdout",
     "output_type": "stream",
     "text": [
      "Total records:  20382\n",
      "Duplicate titles based on { 0.4 } jaccard distance:  1839\n",
      "Unique titles based on { 0.4 } jaccard distance:  0.4 :  18543\n"
     ]
    },
    {
     "name": "stderr",
     "output_type": "stream",
     "text": [
      "                                                                                \r"
     ]
    }
   ],
   "source": [
    "records = df_hashed_text.count()\n",
    "dups = df_dups_text.select('id_A').distinct().count()\n",
    "uniques = records - dups\n",
    "\n",
    "print ('Total records: ', records)\n",
    "print ('Duplicate titles based on {', jaccard_distance, '} jaccard distance: ', dups)\n",
    "print ('Unique titles based on {', jaccard_distance, '} jaccard distance: ', jaccard_distance, ': ', uniques)"
   ]
  },
  {
   "cell_type": "code",
   "execution_count": 170,
   "metadata": {},
   "outputs": [
    {
     "data": {
      "image/png": "[encoded data removed]",
      "text/plain": [
       "<Figure size 640x480 with 1 Axes>"
      ]
     },
     "metadata": {},
     "output_type": "display_data"
    }
   ],
   "source": [
    "dups_df = pd.DataFrame.from_dict({'near_dups': [dups], 'unique': [uniques]})\n",
    "\n",
    "ax=dups_df.plot(kind = 'bar',y=['near_dups', 'unique'], fontsize=10, color=['C0', 'C1'], align='center', width=0.8, xlabel=\"Duplicates vs. Unique\")\n",
    "ax.set_title('Tweet duplication analysis', fontsize=15)\n",
    "for p in ax.patches:\n",
    "       ax.annotate(format(p.get_height(), '.2f'), \n",
    "                   (p.get_x() + p.get_width() / 2., p.get_height()/1.5), \n",
    "                   ha = 'center', va = 'center', \n",
    "                   xytext = (0, 9), \n",
    "                   textcoords = 'offset points') "
   ]
  },
  {
   "cell_type": "code",
   "execution_count": 169,
   "metadata": {},
   "outputs": [],
   "source": [
    "dups = (1839/20382)*100\n",
    "uniques = (18543/20382)*100"
   ]
  },
  {
   "cell_type": "code",
   "execution_count": 42,
   "metadata": {},
   "outputs": [
    {
     "name": "stderr",
     "output_type": "stream",
     "text": [
      "[Stage 188:>                                                        (0 + 1) / 1]\r"
     ]
    },
    {
     "name": "stdout",
     "output_type": "stream",
     "text": [
      "+---+-------+---------+\n",
      "| id|    org|  is_dups|\n",
      "+---+-------+---------+\n",
      "|  0| Others|   unique|\n",
      "|  1| Others|   unique|\n",
      "|  2|   News|   unique|\n",
      "|  3| Others|   unique|\n",
      "|  4| Others|   unique|\n",
      "|  5| Others|   unique|\n",
      "|  6| Others|   unique|\n",
      "|  7|    NGO|   unique|\n",
      "|  8| Others|near_dups|\n",
      "|  9|Schools|   unique|\n",
      "+---+-------+---------+\n",
      "only showing top 10 rows\n",
      "\n"
     ]
    },
    {
     "name": "stderr",
     "output_type": "stream",
     "text": [
      "                                                                                \r"
     ]
    }
   ],
   "source": [
    "df_dups_1 = df_dups_text.select(col('id_A').alias('id')).distinct().withColumn('is_dups',lit('near_dups'))\n",
    "\n",
    "df_final = df_tweet_text_raw.select('Organization').rdd.zipWithIndex().toDF(['org','id'])\\\n",
    ".join(df_dups_1,'id','left')\\\n",
    ".na.fill(value='unique',subset=['is_dups'])\\\n",
    ".select('id',col('org.Organization').alias('org'),'is_dups')\n",
    "\n",
    "df_final.show(10)"
   ]
  },
  {
   "cell_type": "code",
   "execution_count": 43,
   "metadata": {},
   "outputs": [
    {
     "name": "stderr",
     "output_type": "stream",
     "text": [
      "                                                                                \r"
     ]
    },
    {
     "data": {
      "image/png": "[encoded data removed]",
      "text/plain": [
       "<Figure size 640x480 with 1 Axes>"
      ]
     },
     "metadata": {},
     "output_type": "display_data"
    }
   ],
   "source": [
    "df_plt = df_final.groupBy('org','is_dups').agg(count('*').alias('cnt')).toPandas()\n",
    "\n",
    "ax=df_plt.pivot(index='org', columns='is_dups', values='cnt').plot(kind='bar', fontsize=10, color=['C0', 'C1'],\n",
    "                                                                align='center', width=0.8, \n",
    "                                                                xlabel=\"Duplicates vs. Unique\")\n",
    "\n",
    "ax.set_title('Duplicate tweets analysis by Organisation', fontsize=15)\n",
    "for p in ax.patches:\n",
    "       ax.annotate(format(p.get_height(), '.0f'), \n",
    "                   (p.get_x() + p.get_width() / 2., p.get_height()/1.5), \n",
    "                   ha = 'center', va = 'center', \n",
    "                   xytext = (0, 9), \n",
    "                   textcoords = 'offset points') "
   ]
  },
  {
   "cell_type": "markdown",
   "metadata": {},
   "source": [
    "#### Medium jaccard distance"
   ]
  },
  {
   "cell_type": "code",
   "execution_count": 44,
   "metadata": {},
   "outputs": [],
   "source": [
    "jaccard_distance = 0.5\n",
    "\n",
    "df_dups_text = model.approxSimilarityJoin(df_hashed_text, df_hashed_text, jaccard_distance).filter(\"datasetA.id < datasetB.id\").select(\n",
    "            col(\"distCol\"),\n",
    "            col(\"datasetA.id\").alias(\"id_A\"),\n",
    "            col(\"datasetB.id\").alias(\"id_B\"),\n",
    "            col('datasetA.text').alias('text_A'),\n",
    "            col('datasetB.text').alias('text_B'),\n",
    "#             col('datasetA.list_of_words').alias('words_A'),\n",
    "#             col('datasetB.list_of_words').alias('words_B')\n",
    "            )    "
   ]
  },
  {
   "cell_type": "code",
   "execution_count": 45,
   "metadata": {},
   "outputs": [
    {
     "name": "stderr",
     "output_type": "stream",
     "text": [
      "                                                                                \r"
     ]
    },
    {
     "data": {
      "text/html": [
       "<div>\n",
       "<style scoped>\n",
       "    .dataframe tbody tr th:only-of-type {\n",
       "        vertical-align: middle;\n",
       "    }\n",
       "\n",
       "    .dataframe tbody tr th {\n",
       "        vertical-align: top;\n",
       "    }\n",
       "\n",
       "    .dataframe thead th {\n",
       "        text-align: right;\n",
       "    }\n",
       "</style>\n",
       "<table border=\"1\" class=\"dataframe\">\n",
       "  <thead>\n",
       "    <tr style=\"text-align: right;\">\n",
       "      <th></th>\n",
       "      <th>distCol</th>\n",
       "      <th>id_A</th>\n",
       "      <th>id_B</th>\n",
       "      <th>text_A</th>\n",
       "      <th>text_B</th>\n",
       "    </tr>\n",
       "  </thead>\n",
       "  <tbody>\n",
       "    <tr>\n",
       "      <th>0</th>\n",
       "      <td>0.400000</td>\n",
       "      <td>5213</td>\n",
       "      <td>19732</td>\n",
       "      <td>(malachi2224521 what if you’re not in elementary school but  middle school,)</td>\n",
       "      <td>(jamal_hambone wakecountymugs not elementary and middle school 😂😂💀💀,)</td>\n",
       "    </tr>\n",
       "    <tr>\n",
       "      <th>1</th>\n",
       "      <td>0.400000</td>\n",
       "      <td>9222</td>\n",
       "      <td>12133</td>\n",
       "      <td>(_bloomsqueen im a daycare teacher at an elementary school,)</td>\n",
       "      <td>(not me being a whole elementary school teacher 🍎📓,)</td>\n",
       "    </tr>\n",
       "    <tr>\n",
       "      <th>2</th>\n",
       "      <td>0.333333</td>\n",
       "      <td>11743</td>\n",
       "      <td>13949</td>\n",
       "      <td>(she’s literally a college graduate,)</td>\n",
       "      <td>(a college graduate i am 😭🥺❤️,)</td>\n",
       "    </tr>\n",
       "    <tr>\n",
       "      <th>3</th>\n",
       "      <td>0.454545</td>\n",
       "      <td>17734</td>\n",
       "      <td>19493</td>\n",
       "      <td>(winchester college guided tours winchester college winchester on tue 6 dec 2022 1130am   guidedtour tickets: ,)</td>\n",
       "      <td>(winchester college guided tours winchester college winchester on sat 29 oct 2022   guidedtour tickets: ,)</td>\n",
       "    </tr>\n",
       "    <tr>\n",
       "      <th>4</th>\n",
       "      <td>0.461538</td>\n",
       "      <td>2307</td>\n",
       "      <td>4316</td>\n",
       "      <td>(the latest the eethg corps inc university college daily!  thanks to maviarri23 education bigdata,)</td>\n",
       "      <td>(the latest the eethg corps inc university college daily!  thanks to shanesbaker77 covid19 marxist,)</td>\n",
       "    </tr>\n",
       "  </tbody>\n",
       "</table>\n",
       "</div>"
      ],
      "text/plain": [
       "    distCol   id_A   id_B  \\\n",
       "0  0.400000   5213  19732   \n",
       "1  0.400000   9222  12133   \n",
       "2  0.333333  11743  13949   \n",
       "3  0.454545  17734  19493   \n",
       "4  0.461538   2307   4316   \n",
       "\n",
       "                                                                                                             text_A  \\\n",
       "0                                      (malachi2224521 what if you’re not in elementary school but  middle school,)   \n",
       "1                                                      (_bloomsqueen im a daycare teacher at an elementary school,)   \n",
       "2                                                                             (she’s literally a college graduate,)   \n",
       "3  (winchester college guided tours winchester college winchester on tue 6 dec 2022 1130am   guidedtour tickets: ,)   \n",
       "4               (the latest the eethg corps inc university college daily!  thanks to maviarri23 education bigdata,)   \n",
       "\n",
       "                                                                                                       text_B  \n",
       "0                                       (jamal_hambone wakecountymugs not elementary and middle school 😂😂💀💀,)  \n",
       "1                                                        (not me being a whole elementary school teacher 🍎📓,)  \n",
       "2                                                                             (a college graduate i am 😭🥺❤️,)  \n",
       "3  (winchester college guided tours winchester college winchester on sat 29 oct 2022   guidedtour tickets: ,)  \n",
       "4        (the latest the eethg corps inc university college daily!  thanks to shanesbaker77 covid19 marxist,)  "
      ]
     },
     "execution_count": 45,
     "metadata": {},
     "output_type": "execute_result"
    }
   ],
   "source": [
    "df_dups_50 = df_dups_text\n",
    "df_dups_text.cache()\n",
    "df_dups_text.limit(5).toPandas()"
   ]
  },
  {
   "cell_type": "code",
   "execution_count": 46,
   "metadata": {},
   "outputs": [
    {
     "name": "stderr",
     "output_type": "stream",
     "text": [
      "[Stage 218:==============================================>     (180 + 20) / 200]\r"
     ]
    },
    {
     "name": "stdout",
     "output_type": "stream",
     "text": [
      "Total records:  20382\n",
      "Duplicate titles based on { 0.5 } jaccard distance:  2262\n",
      "Unique titles based on { 0.5 } jaccard distance:  0.5 :  18120\n"
     ]
    },
    {
     "name": "stderr",
     "output_type": "stream",
     "text": [
      "                                                                                \r"
     ]
    }
   ],
   "source": [
    "records = df_hashed_text.count()\n",
    "dups = df_dups_text.select('id_A').distinct().count()\n",
    "uniques = records - dups\n",
    "\n",
    "print ('Total records: ', records)\n",
    "print ('Duplicate titles based on {', jaccard_distance, '} jaccard distance: ', dups)\n",
    "print ('Unique titles based on {', jaccard_distance, '} jaccard distance: ', jaccard_distance, ': ', uniques)"
   ]
  },
  {
   "cell_type": "code",
   "execution_count": 47,
   "metadata": {},
   "outputs": [
    {
     "data": {
      "image/png": "[encoded data removed]",
      "text/plain": [
       "<Figure size 640x480 with 1 Axes>"
      ]
     },
     "metadata": {},
     "output_type": "display_data"
    }
   ],
   "source": [
    "dups_df = pd.DataFrame.from_dict({'near_dups': [dups], 'unique': [uniques]})\n",
    "\n",
    "ax=dups_df.plot(kind = 'bar',y=['near_dups', 'unique'], fontsize=10, color=['C0', 'C1'], align='center', width=0.8, xlabel=\"Duplicates vs. Unique\")\n",
    "ax.set_title('News title duplication analysis', fontsize=15)\n",
    "for p in ax.patches:\n",
    "       ax.annotate(format(p.get_height(), '.1f'), \n",
    "                   (p.get_x() + p.get_width() / 2., p.get_height()/2), \n",
    "                   ha = 'center', va = 'center', \n",
    "                   xytext = (0, 9), \n",
    "                   textcoords = 'offset points') "
   ]
  },
  {
   "cell_type": "code",
   "execution_count": 48,
   "metadata": {},
   "outputs": [
    {
     "name": "stderr",
     "output_type": "stream",
     "text": [
      "[Stage 241:>                                                        (0 + 1) / 1]\r"
     ]
    },
    {
     "name": "stdout",
     "output_type": "stream",
     "text": [
      "+---+-------+---------+\n",
      "| id|    org|  is_dups|\n",
      "+---+-------+---------+\n",
      "|  0| Others|   unique|\n",
      "|  1| Others|   unique|\n",
      "|  2|   News|   unique|\n",
      "|  3| Others|   unique|\n",
      "|  4| Others|   unique|\n",
      "|  5| Others|   unique|\n",
      "|  6| Others|   unique|\n",
      "|  7|    NGO|   unique|\n",
      "|  8| Others|near_dups|\n",
      "|  9|Schools|   unique|\n",
      "+---+-------+---------+\n",
      "only showing top 10 rows\n",
      "\n"
     ]
    },
    {
     "name": "stderr",
     "output_type": "stream",
     "text": [
      "                                                                                \r"
     ]
    }
   ],
   "source": [
    "df_dups_1 = df_dups_text.select(col('id_A').alias('id')).distinct().withColumn('is_dups',lit('near_dups'))\n",
    "\n",
    "df_final = df_tweet_text_raw.select('Organization').rdd.zipWithIndex().toDF(['org','id'])\\\n",
    ".join(df_dups_1,'id','left')\\\n",
    ".na.fill(value='unique',subset=['is_dups'])\\\n",
    ".select('id',col('org.Organization').alias('org'),'is_dups')\n",
    "\n",
    "df_final.show(10)"
   ]
  },
  {
   "cell_type": "code",
   "execution_count": 49,
   "metadata": {},
   "outputs": [
    {
     "name": "stderr",
     "output_type": "stream",
     "text": [
      "                                                                                \r"
     ]
    },
    {
     "data": {
      "image/png": "[encoded data removed]",
      "text/plain": [
       "<Figure size 640x480 with 1 Axes>"
      ]
     },
     "metadata": {},
     "output_type": "display_data"
    }
   ],
   "source": [
    "df_plt = df_final.groupBy('org','is_dups').agg(count('*').alias('cnt')).toPandas()\n",
    "\n",
    "ax=df_plt.pivot(index='org', columns='is_dups', values='cnt').plot(kind='bar', fontsize=10, color=['C0', 'C1'],\n",
    "                                                                align='center', width=0.8, \n",
    "                                                                xlabel=\"Duplicates vs. Unique\")\n",
    "\n",
    "ax.set_title('Duplicate tweets analysis by Organisation', fontsize=15)\n",
    "for p in ax.patches:\n",
    "       ax.annotate(format(p.get_height(), '.0f'), \n",
    "                   (p.get_x() + p.get_width() / 2., p.get_height()/1.5), \n",
    "                   ha = 'center', va = 'center', \n",
    "                   xytext = (0, 9), \n",
    "                   textcoords = 'offset points') "
   ]
  },
  {
   "cell_type": "markdown",
   "metadata": {},
   "source": [
    "#### High jaccard distance"
   ]
  },
  {
   "cell_type": "code",
   "execution_count": 50,
   "metadata": {},
   "outputs": [],
   "source": [
    "jaccard_distance = 0.7\n",
    "\n",
    "df_dups_text = model.approxSimilarityJoin(df_hashed_text, df_hashed_text, jaccard_distance).filter(\"datasetA.id < datasetB.id\").select(\n",
    "            col(\"distCol\"),\n",
    "            col(\"datasetA.id\").alias(\"id_A\"),\n",
    "            col(\"datasetB.id\").alias(\"id_B\"),\n",
    "            col('datasetA.text').alias('text_A'),\n",
    "            col('datasetB.text').alias('text_B'),\n",
    "#             col('datasetA.list_of_words').alias('words_A'),\n",
    "#             col('datasetB.list_of_words').alias('words_B')\n",
    "            )    "
   ]
  },
  {
   "cell_type": "code",
   "execution_count": 51,
   "metadata": {},
   "outputs": [
    {
     "name": "stderr",
     "output_type": "stream",
     "text": [
      "                                                                                \r"
     ]
    },
    {
     "data": {
      "text/html": [
       "<div>\n",
       "<style scoped>\n",
       "    .dataframe tbody tr th:only-of-type {\n",
       "        vertical-align: middle;\n",
       "    }\n",
       "\n",
       "    .dataframe tbody tr th {\n",
       "        vertical-align: top;\n",
       "    }\n",
       "\n",
       "    .dataframe thead th {\n",
       "        text-align: right;\n",
       "    }\n",
       "</style>\n",
       "<table border=\"1\" class=\"dataframe\">\n",
       "  <thead>\n",
       "    <tr style=\"text-align: right;\">\n",
       "      <th></th>\n",
       "      <th>distCol</th>\n",
       "      <th>id_A</th>\n",
       "      <th>id_B</th>\n",
       "      <th>text_A</th>\n",
       "      <th>text_B</th>\n",
       "    </tr>\n",
       "  </thead>\n",
       "  <tbody>\n",
       "    <tr>\n",
       "      <th>0</th>\n",
       "      <td>0.666667</td>\n",
       "      <td>8440</td>\n",
       "      <td>17983</td>\n",
       "      <td>(elementary and middle school reunion,)</td>\n",
       "      <td>(veningstar4 yeah i used to watch him so much when i was in elementary and middle school,)</td>\n",
       "    </tr>\n",
       "    <tr>\n",
       "      <th>1</th>\n",
       "      <td>0.666667</td>\n",
       "      <td>8440</td>\n",
       "      <td>14877</td>\n",
       "      <td>(elementary and middle school reunion,)</td>\n",
       "      <td>(maternal grandmother: seamstress\\npaternal grandmother: elementary school teacher,)</td>\n",
       "    </tr>\n",
       "    <tr>\n",
       "      <th>2</th>\n",
       "      <td>0.400000</td>\n",
       "      <td>8440</td>\n",
       "      <td>18221</td>\n",
       "      <td>(elementary and middle school reunion,)</td>\n",
       "      <td>(middle school elementary as well,)</td>\n",
       "    </tr>\n",
       "    <tr>\n",
       "      <th>3</th>\n",
       "      <td>0.363636</td>\n",
       "      <td>16742</td>\n",
       "      <td>17233</td>\n",
       "      <td>(winchester college guided tours winchester college winchester on thu 1 sep 2022 215pm guidedtour tickets: ,)</td>\n",
       "      <td>(winchester college guided tours winchester college winchester on sun 18 dec 2022 215pm   guidedtour tickets: ,)</td>\n",
       "    </tr>\n",
       "    <tr>\n",
       "      <th>4</th>\n",
       "      <td>0.000000</td>\n",
       "      <td>17499</td>\n",
       "      <td>18939</td>\n",
       "      <td>(ayah_creatives hello! first year college student here! also a stem grad po! dm me po!,)</td>\n",
       "      <td>(_fan_acc_ hello! first year college student here! also a stem grad po! dm me po!,)</td>\n",
       "    </tr>\n",
       "  </tbody>\n",
       "</table>\n",
       "</div>"
      ],
      "text/plain": [
       "    distCol   id_A   id_B  \\\n",
       "0  0.666667   8440  17983   \n",
       "1  0.666667   8440  14877   \n",
       "2  0.400000   8440  18221   \n",
       "3  0.363636  16742  17233   \n",
       "4  0.000000  17499  18939   \n",
       "\n",
       "                                                                                                          text_A  \\\n",
       "0                                                                        (elementary and middle school reunion,)   \n",
       "1                                                                        (elementary and middle school reunion,)   \n",
       "2                                                                        (elementary and middle school reunion,)   \n",
       "3  (winchester college guided tours winchester college winchester on thu 1 sep 2022 215pm guidedtour tickets: ,)   \n",
       "4                       (ayah_creatives hello! first year college student here! also a stem grad po! dm me po!,)   \n",
       "\n",
       "                                                                                                             text_B  \n",
       "0                        (veningstar4 yeah i used to watch him so much when i was in elementary and middle school,)  \n",
       "1                              (maternal grandmother: seamstress\\npaternal grandmother: elementary school teacher,)  \n",
       "2                                                                               (middle school elementary as well,)  \n",
       "3  (winchester college guided tours winchester college winchester on sun 18 dec 2022 215pm   guidedtour tickets: ,)  \n",
       "4                               (_fan_acc_ hello! first year college student here! also a stem grad po! dm me po!,)  "
      ]
     },
     "execution_count": 51,
     "metadata": {},
     "output_type": "execute_result"
    }
   ],
   "source": [
    "df_dups_70 = df_dups_text\n",
    "df_dups_text.cache()\n",
    "df_dups_text.limit(5).toPandas()"
   ]
  },
  {
   "cell_type": "code",
   "execution_count": 52,
   "metadata": {},
   "outputs": [
    {
     "name": "stderr",
     "output_type": "stream",
     "text": [
      "[Stage 271:==========================================>         (165 + 32) / 200]\r"
     ]
    },
    {
     "name": "stdout",
     "output_type": "stream",
     "text": [
      "Total records:  20382\n",
      "Duplicate titles based on { 0.7 } jaccard distance:  8819\n",
      "Unique titles based on { 0.7 } jaccard distance:  0.7 :  11563\n"
     ]
    },
    {
     "name": "stderr",
     "output_type": "stream",
     "text": [
      "                                                                                \r"
     ]
    }
   ],
   "source": [
    "records = df_hashed_text.count()\n",
    "dups = df_dups_text.select('id_A').distinct().count()\n",
    "uniques = records - dups\n",
    "\n",
    "print ('Total records: ', records)\n",
    "print ('Duplicate titles based on {', jaccard_distance, '} jaccard distance: ', dups)\n",
    "print ('Unique titles based on {', jaccard_distance, '} jaccard distance: ', jaccard_distance, ': ', uniques)"
   ]
  },
  {
   "cell_type": "code",
   "execution_count": 53,
   "metadata": {},
   "outputs": [
    {
     "data": {
      "image/png": "[encoded data removed]",
      "text/plain": [
       "<Figure size 640x480 with 1 Axes>"
      ]
     },
     "metadata": {},
     "output_type": "display_data"
    }
   ],
   "source": [
    "dups_df = pd.DataFrame.from_dict({'near_dups': [dups], 'unique': [uniques]})\n",
    "\n",
    "ax=dups_df.plot(kind = 'bar',y=['near_dups', 'unique'], fontsize=10, color=['C0', 'C1'], align='center', width=0.8, xlabel=\"Duplicates vs. Unique\")\n",
    "ax.set_title('News title duplication analysis', fontsize=15)\n",
    "for p in ax.patches:\n",
    "       ax.annotate(format(p.get_height(), '.1f'), \n",
    "                   (p.get_x() + p.get_width() / 2., p.get_height()/2), \n",
    "                   ha = 'center', va = 'center', \n",
    "                   xytext = (0, 9), \n",
    "                   textcoords = 'offset points') "
   ]
  },
  {
   "cell_type": "code",
   "execution_count": 54,
   "metadata": {},
   "outputs": [
    {
     "name": "stderr",
     "output_type": "stream",
     "text": [
      "[Stage 294:>                                                        (0 + 1) / 1]\r"
     ]
    },
    {
     "name": "stdout",
     "output_type": "stream",
     "text": [
      "+---+-------+---------+\n",
      "| id|    org|  is_dups|\n",
      "+---+-------+---------+\n",
      "|  0| Others|near_dups|\n",
      "|  1| Others|near_dups|\n",
      "|  2|   News|near_dups|\n",
      "|  3| Others|   unique|\n",
      "|  4| Others|   unique|\n",
      "|  5| Others|   unique|\n",
      "|  6| Others|   unique|\n",
      "|  7|    NGO|   unique|\n",
      "|  8| Others|near_dups|\n",
      "|  9|Schools|   unique|\n",
      "+---+-------+---------+\n",
      "only showing top 10 rows\n",
      "\n"
     ]
    },
    {
     "name": "stderr",
     "output_type": "stream",
     "text": [
      "                                                                                \r"
     ]
    }
   ],
   "source": [
    "df_dups_1 = df_dups_text.select(col('id_A').alias('id')).distinct().withColumn('is_dups',lit('near_dups'))\n",
    "\n",
    "df_final = df_tweet_text_raw.select('Organization').rdd.zipWithIndex().toDF(['org','id'])\\\n",
    ".join(df_dups_1,'id','left')\\\n",
    ".na.fill(value='unique',subset=['is_dups'])\\\n",
    ".select('id',col('org.Organization').alias('org'),'is_dups')\n",
    "\n",
    "df_final.show(10)"
   ]
  },
  {
   "cell_type": "code",
   "execution_count": 55,
   "metadata": {},
   "outputs": [
    {
     "name": "stderr",
     "output_type": "stream",
     "text": [
      "                                                                                \r"
     ]
    },
    {
     "data": {
      "image/png": "[encoded data removed]",
      "text/plain": [
       "<Figure size 640x480 with 1 Axes>"
      ]
     },
     "metadata": {},
     "output_type": "display_data"
    }
   ],
   "source": [
    "df_plt = df_final.groupBy('org','is_dups').agg(count('*').alias('cnt')).toPandas()\n",
    "\n",
    "ax=df_plt.pivot(index='org', columns='is_dups', values='cnt').plot(kind='bar', fontsize=10, color=['C0', 'C1'],\n",
    "                                                                align='center', width=0.8, \n",
    "                                                                xlabel=\"Duplicates vs. Unique\")\n",
    "\n",
    "ax.set_title('Duplicate tweets analysis by Organisation', fontsize=15)\n",
    "for p in ax.patches:\n",
    "       ax.annotate(format(p.get_height(), '.0f'), \n",
    "                   (p.get_x() + p.get_width() / 2., p.get_height()/1.5), \n",
    "                   ha = 'center', va = 'center', \n",
    "                   xytext = (0, 9), \n",
    "                   textcoords = 'offset points') "
   ]
  },
  {
   "cell_type": "code",
   "execution_count": 56,
   "metadata": {},
   "outputs": [],
   "source": [
    "spark.catalog.clearCache()"
   ]
  },
  {
   "cell_type": "markdown",
   "metadata": {},
   "source": [
    "### Step 5. Compare thresholds side-by-side"
   ]
  },
  {
   "cell_type": "markdown",
   "metadata": {},
   "source": [
    "#### Select all pairs of duplicate titles across jaccard similarities"
   ]
  },
  {
   "cell_type": "code",
   "execution_count": null,
   "metadata": {},
   "outputs": [
    {
     "name": "stderr",
     "output_type": "stream",
     "text": [
      "                                                                                \r"
     ]
    },
    {
     "name": "stdout",
     "output_type": "stream",
     "text": [
      "4962\n"
     ]
    },
    {
     "name": "stderr",
     "output_type": "stream",
     "text": [
      "                                                                                \r"
     ]
    },
    {
     "name": "stdout",
     "output_type": "stream",
     "text": [
      "9689\n"
     ]
    },
    {
     "name": "stderr",
     "output_type": "stream",
     "text": [
      "[Stage 366:>                                                        (0 + 2) / 3]\r"
     ]
    },
    {
     "name": "stdout",
     "output_type": "stream",
     "text": [
      "187716\n"
     ]
    },
    {
     "name": "stderr",
     "output_type": "stream",
     "text": [
      "                                                                                \r"
     ]
    }
   ],
   "source": [
    "df_dups_30_id = df_dups_30.select(col('id_A').alias('id_30_A'), col('id_B').alias('id_30_B'))\n",
    "df_dups_40_id = df_dups_40.select(col('id_A').alias('id_40_A'), col('id_B').alias('id_40_B'))\n",
    "df_dups_70_id = df_dups_70.select(col('text_A'), col('text_B'),\\\n",
    "                                  col('id_A').alias('id_70_A'), col('id_B').alias('id_70_B'))\n",
    "\n",
    "print(df_dups_30_id.count())\n",
    "print(df_dups_40_id.count())\n",
    "print(df_dups_70_id.count())"
   ]
  },
  {
   "cell_type": "code",
   "execution_count": null,
   "metadata": {},
   "outputs": [
    {
     "name": "stderr",
     "output_type": "stream",
     "text": [
      "                                                                                \r"
     ]
    },
    {
     "data": {
      "text/html": [
       "<table border='1'>\n",
       "<tr><th>text_A</th><th>text_B</th><th>id_70_A</th><th>id_70_B</th><th>id_40_A</th><th>id_40_B</th><th>id_30_A</th><th>id_30_B</th></tr>\n",
       "<tr><td>{i see life like ...</td><td>{i see life like ...</td><td>2527</td><td>13783</td><td>2527</td><td>13783</td><td>2527</td><td>13783</td></tr>\n",
       "<tr><td>{uprooted academy...</td><td>{lunch and learn!...</td><td>10416</td><td>14612</td><td>null</td><td>null</td><td>null</td><td>null</td></tr>\n",
       "<tr><td>{andrew kimondo: ...</td><td>{tales of a bipol...</td><td>3897</td><td>17645</td><td>3897</td><td>17645</td><td>3897</td><td>17645</td></tr>\n",
       "<tr><td>{the importance o...</td><td>{the importance o...</td><td>1709</td><td>3449</td><td>1709</td><td>3449</td><td>1709</td><td>3449</td></tr>\n",
       "<tr><td>{college life or ...</td><td>{freshman college...</td><td>3939</td><td>16164</td><td>null</td><td>null</td><td>null</td><td>null</td></tr>\n",
       "</table>\n"
      ],
      "text/plain": [
       "+--------------------+--------------------+-------+-------+-------+-------+-------+-------+\n",
       "|              text_A|              text_B|id_70_A|id_70_B|id_40_A|id_40_B|id_30_A|id_30_B|\n",
       "+--------------------+--------------------+-------+-------+-------+-------+-------+-------+\n",
       "|{❤️retired kinder...|{congratulations ...|   6692|  20333|   null|   null|   null|   null|\n",
       "|{ua classmates st...|{the high school ...|   1812|   8294|   null|   null|   null|   null|\n",
       "|{raiacads hello! ...|{shecutiepatotie ...|  14107|  17746|   null|   null|   null|   null|\n",
       "|{according to tim...|{the latest world...|  10641|  18815|   null|   null|   null|   null|\n",
       "|{ayah_creatives h...|{_fan_acc_ hello!...|  17499|  18939|  17499|  18939|  17499|  18939|\n",
       "+--------------------+--------------------+-------+-------+-------+-------+-------+-------+"
      ]
     },
     "execution_count": 58,
     "metadata": {},
     "output_type": "execute_result"
    }
   ],
   "source": [
    "dups_combined = df_dups_70_id.join(df_dups_40_id, on=((df_dups_70_id.id_70_A == df_dups_40_id.id_40_A) & (df_dups_70_id.id_70_B == df_dups_40_id.id_40_B)), how=\"left_outer\")\\\n",
    ".join(df_dups_30_id, on=((df_dups_70_id.id_70_A == df_dups_30_id.id_30_A) & (df_dups_70_id.id_70_B == df_dups_30_id.id_30_B)), how=\"left_outer\")\n",
    "\n",
    "dups_combined.limit(5)"
   ]
  },
  {
   "cell_type": "markdown",
   "metadata": {},
   "source": [
    "#### Create a Duplicate vs Non-Dup flag for each jaccard similarity"
   ]
  },
  {
   "cell_type": "code",
   "execution_count": null,
   "metadata": {},
   "outputs": [
    {
     "name": "stderr",
     "output_type": "stream",
     "text": [
      "                                                                                \r"
     ]
    },
    {
     "data": {
      "text/html": [
       "<table border='1'>\n",
       "<tr><th>text_A</th><th>text_B</th><th>threshold_30</th><th>threshold_40</th><th>threshold_70</th></tr>\n",
       "<tr><td>{thelondon_lewk a...</td><td>{captain toad: te...</td><td>Non-Dup</td><td>Non-Dup</td><td>Duplicate</td></tr>\n",
       "<tr><td>{middle school te...</td><td>{agcoffeelmao he ...</td><td>Non-Dup</td><td>Non-Dup</td><td>Duplicate</td></tr>\n",
       "<tr><td>{its so heartwarm...</td><td>{4 steps to get m...</td><td>Non-Dup</td><td>Non-Dup</td><td>Duplicate</td></tr>\n",
       "<tr><td>{fiddlesticks ste...</td><td>{lmao not me seei...</td><td>Non-Dup</td><td>Non-Dup</td><td>Duplicate</td></tr>\n",
       "<tr><td>{so sure miserabl...</td><td>{🇺🇸 : depressio...</td><td>Non-Dup</td><td>Non-Dup</td><td>Duplicate</td></tr>\n",
       "</table>\n"
      ],
      "text/plain": [
       "+--------------------+--------------------+------------+------------+------------+\n",
       "|              text_A|              text_B|threshold_30|threshold_40|threshold_70|\n",
       "+--------------------+--------------------+------------+------------+------------+\n",
       "|{also when i grad...|{i graduate from ...|     Non-Dup|     Non-Dup|   Duplicate|\n",
       "|{i really can’t w...|{90 completed!! i...|     Non-Dup|     Non-Dup|   Duplicate|\n",
       "|{im a college gra...|{how you graduate...|     Non-Dup|     Non-Dup|   Duplicate|\n",
       "|{im a college gra...|{gque2_1911 🤣🤣?...|     Non-Dup|     Non-Dup|   Duplicate|\n",
       "|{college students...|{college students...|     Non-Dup|     Non-Dup|   Duplicate|\n",
       "+--------------------+--------------------+------------+------------+------------+"
      ]
     },
     "execution_count": 59,
     "metadata": {},
     "output_type": "execute_result"
    }
   ],
   "source": [
    "dups_combined = dups_combined.\\\n",
    "withColumn(\"threshold_30\",\\\n",
    "           when(col(\"id_30_A\").isNotNull(), \"Duplicate\").\n",
    "           otherwise(\"Non-Dup\")).\\\n",
    "withColumn(\"threshold_40\",\\\n",
    "           when(col(\"id_40_A\").isNotNull(), \"Duplicate\").\n",
    "           otherwise(\"Non-Dup\")).\\\n",
    "withColumn(\"threshold_70\",\\\n",
    "           when(col(\"id_70_A\").isNotNull(), \"Duplicate\").\n",
    "           otherwise(\"Non-Dup\")).\\\n",
    "drop('id_30_A', 'id_30_B', 'id_40_A', 'id_40_B', 'id_70_A', 'id_70_B')\n",
    "\n",
    "dups_combined.limit(5)"
   ]
  },
  {
   "cell_type": "markdown",
   "metadata": {},
   "source": [
    "#### Select a sample of records across 3 thresholds (jaccard similarities):"
   ]
  },
  {
   "cell_type": "code",
   "execution_count": null,
   "metadata": {},
   "outputs": [],
   "source": [
    "dups_combined_sample = \\\n",
    "dups_combined.filter((\"threshold_30 == 'Duplicate'\")).sample(False, 0.1, 12345).limit(10).\\\n",
    "union\\\n",
    "(dups_combined.filter((\"threshold_30 == 'Non-Dup' and threshold_40 == 'Duplicate'\")).sample(False, 0.1, 12345).limit(10)).\\\n",
    "union\\\n",
    "(dups_combined.filter((\"threshold_40 == 'Non-Dup'\")).sample(False, 0.1, 12345).limit(10)).\\\n",
    "orderBy('threshold_30', 'threshold_40', 'threshold_70')"
   ]
  },
  {
   "cell_type": "code",
   "execution_count": null,
   "metadata": {},
   "outputs": [
    {
     "name": "stderr",
     "output_type": "stream",
     "text": [
      "                                                                                \r"
     ]
    },
    {
     "data": {
      "text/html": [
       "<div>\n",
       "<style scoped>\n",
       "    .dataframe tbody tr th:only-of-type {\n",
       "        vertical-align: middle;\n",
       "    }\n",
       "\n",
       "    .dataframe tbody tr th {\n",
       "        vertical-align: top;\n",
       "    }\n",
       "\n",
       "    .dataframe thead th {\n",
       "        text-align: right;\n",
       "    }\n",
       "</style>\n",
       "<table border=\"1\" class=\"dataframe\">\n",
       "  <thead>\n",
       "    <tr style=\"text-align: right;\">\n",
       "      <th></th>\n",
       "      <th>text_A</th>\n",
       "      <th>text_B</th>\n",
       "      <th>threshold_30</th>\n",
       "      <th>threshold_40</th>\n",
       "      <th>threshold_70</th>\n",
       "    </tr>\n",
       "  </thead>\n",
       "  <tbody>\n",
       "    <tr>\n",
       "      <th>0</th>\n",
       "      <td>(in addition to higher education you need to have at least a high school mind and at least an elementary education,)</td>\n",
       "      <td>(in addition to higher education you need to have at least a high school mind and at least an elementary education,)</td>\n",
       "      <td>Duplicate</td>\n",
       "      <td>Duplicate</td>\n",
       "      <td>Duplicate</td>\n",
       "    </tr>\n",
       "    <tr>\n",
       "      <th>1</th>\n",
       "      <td>(ohio university pays 400000 in damages to professor who refused to use students preferred pronouns ,)</td>\n",
       "      <td>(ohio university pays 400000 in damages to professor who refused to use students preferred pronouns ,)</td>\n",
       "      <td>Duplicate</td>\n",
       "      <td>Duplicate</td>\n",
       "      <td>Duplicate</td>\n",
       "    </tr>\n",
       "    <tr>\n",
       "      <th>2</th>\n",
       "      <td>(now playing californians for all college corps (15sec) - californians for all college corps (15sec),)</td>\n",
       "      <td>(now playing californians for all college corps (15sec) - californians for all college corps (15sec),)</td>\n",
       "      <td>Duplicate</td>\n",
       "      <td>Duplicate</td>\n",
       "      <td>Duplicate</td>\n",
       "    </tr>\n",
       "    <tr>\n",
       "      <th>3</th>\n",
       "      <td>(i see life like one long university education i never had i learn something every day – richard branson leadership success,)</td>\n",
       "      <td>(i see life like one long university education i never had i learn something every day – richard branson leadership success,)</td>\n",
       "      <td>Duplicate</td>\n",
       "      <td>Duplicate</td>\n",
       "      <td>Duplicate</td>\n",
       "    </tr>\n",
       "    <tr>\n",
       "      <th>4</th>\n",
       "      <td>(the importance of schools in conducting benchmark testing  education learning,)</td>\n",
       "      <td>(the importance of schools in conducting benchmark testing  education learning,)</td>\n",
       "      <td>Duplicate</td>\n",
       "      <td>Duplicate</td>\n",
       "      <td>Duplicate</td>\n",
       "    </tr>\n",
       "    <tr>\n",
       "      <th>5</th>\n",
       "      <td>(now playing californians for all college corps (15sec) - californians for all college corps (15sec),)</td>\n",
       "      <td>(now playing californians for all college corps (30sec) - californians for all college corps (30sec),)</td>\n",
       "      <td>Duplicate</td>\n",
       "      <td>Duplicate</td>\n",
       "      <td>Duplicate</td>\n",
       "    </tr>\n",
       "    <tr>\n",
       "      <th>6</th>\n",
       "      <td>(now playing californians for all college corps (30sec) - californians for all college corps (30sec),)</td>\n",
       "      <td>(now playing californians for all college corps (15sec) - californians for all college corps (15sec),)</td>\n",
       "      <td>Duplicate</td>\n",
       "      <td>Duplicate</td>\n",
       "      <td>Duplicate</td>\n",
       "    </tr>\n",
       "    <tr>\n",
       "      <th>7</th>\n",
       "      <td>(taliban bans university education for afghan girls ,)</td>\n",
       "      <td>(taliban bans university education for afghan girls culture ,)</td>\n",
       "      <td>Duplicate</td>\n",
       "      <td>Duplicate</td>\n",
       "      <td>Duplicate</td>\n",
       "    </tr>\n",
       "    <tr>\n",
       "      <th>8</th>\n",
       "      <td>(n76247476man elementary school teacher,)</td>\n",
       "      <td>(keepstrugglin_ elementary school teacher,)</td>\n",
       "      <td>Duplicate</td>\n",
       "      <td>Duplicate</td>\n",
       "      <td>Duplicate</td>\n",
       "    </tr>\n",
       "    <tr>\n",
       "      <th>9</th>\n",
       "      <td>(onslow county school teacher charged with secretly recording undressed students ,)</td>\n",
       "      <td>(onslow county school teacher charged with secretly recording undressed students ,)</td>\n",
       "      <td>Duplicate</td>\n",
       "      <td>Duplicate</td>\n",
       "      <td>Duplicate</td>\n",
       "    </tr>\n",
       "    <tr>\n",
       "      <th>10</th>\n",
       "      <td>(faruqbashar 1 primary school \\n4 secondary schools\\n1 university,)</td>\n",
       "      <td>(1 primary school \\n3 secondary schools \\n1 university,)</td>\n",
       "      <td>Non-Dup</td>\n",
       "      <td>Duplicate</td>\n",
       "      <td>Duplicate</td>\n",
       "    </tr>\n",
       "    <tr>\n",
       "      <th>11</th>\n",
       "      <td>(qkralshyuk hello! first year college student here! also a stem grad po! dm me po!,)</td>\n",
       "      <td>(dummmyshangccc hello! first year college student here! also a stem grad po! dm me po! can do within your budget po!,)</td>\n",
       "      <td>Non-Dup</td>\n",
       "      <td>Duplicate</td>\n",
       "      <td>Duplicate</td>\n",
       "    </tr>\n",
       "    <tr>\n",
       "      <th>12</th>\n",
       "      <td>(times higher education world university rankings 2023  ,)</td>\n",
       "      <td>(the latest world university rankings 2023 by times higher education almost the same as last year’s ,)</td>\n",
       "      <td>Non-Dup</td>\n",
       "      <td>Duplicate</td>\n",
       "      <td>Duplicate</td>\n",
       "    </tr>\n",
       "    <tr>\n",
       "      <th>13</th>\n",
       "      <td>(ur mom sent u to college for a higher education and u in dat dorm getting fcked 😒,)</td>\n",
       "      <td>(ur mom sending u to college for a higher education and u in that dorm getting fcked,)</td>\n",
       "      <td>Non-Dup</td>\n",
       "      <td>Duplicate</td>\n",
       "      <td>Duplicate</td>\n",
       "    </tr>\n",
       "    <tr>\n",
       "      <th>14</th>\n",
       "      <td>(who else needs help in elementary calculusii and college algebra \\nsu\\ngramfam \\ngramfam26,)</td>\n",
       "      <td>(asutwitterwho else needs help in elementary statistics and college algebra \\nasutwitter\\ngramfam \\ngramfam26,)</td>\n",
       "      <td>Non-Dup</td>\n",
       "      <td>Duplicate</td>\n",
       "      <td>Duplicate</td>\n",
       "    </tr>\n",
       "    <tr>\n",
       "      <th>15</th>\n",
       "      <td>(im college students 😭,)</td>\n",
       "      <td>(gifts for college students – 45 gifts college students will actually appreciate ,)</td>\n",
       "      <td>Non-Dup</td>\n",
       "      <td>Duplicate</td>\n",
       "      <td>Duplicate</td>\n",
       "    </tr>\n",
       "    <tr>\n",
       "      <th>16</th>\n",
       "      <td>(no more college students 😭,)</td>\n",
       "      <td>(what are college students paying for? ,)</td>\n",
       "      <td>Non-Dup</td>\n",
       "      <td>Duplicate</td>\n",
       "      <td>Duplicate</td>\n",
       "    </tr>\n",
       "    <tr>\n",
       "      <th>17</th>\n",
       "      <td>(number of college students is provided finance ,)</td>\n",
       "      <td>(college students,)</td>\n",
       "      <td>Non-Dup</td>\n",
       "      <td>Duplicate</td>\n",
       "      <td>Duplicate</td>\n",
       "    </tr>\n",
       "    <tr>\n",
       "      <th>18</th>\n",
       "      <td>(jive_turkey89 college students,)</td>\n",
       "      <td>(what is it with college students and volleyball,)</td>\n",
       "      <td>Non-Dup</td>\n",
       "      <td>Duplicate</td>\n",
       "      <td>Duplicate</td>\n",
       "    </tr>\n",
       "    <tr>\n",
       "      <th>19</th>\n",
       "      <td>(college students mauled by grizzly bear ,)</td>\n",
       "      <td>(college students,)</td>\n",
       "      <td>Non-Dup</td>\n",
       "      <td>Duplicate</td>\n",
       "      <td>Duplicate</td>\n",
       "    </tr>\n",
       "    <tr>\n",
       "      <th>20</th>\n",
       "      <td>(according to times higher education rankings 2023 which indian university has secured the top ranking?,)</td>\n",
       "      <td>(the latest world university rankings 2023 by times higher education almost the same as last year’s ,)</td>\n",
       "      <td>Non-Dup</td>\n",
       "      <td>Non-Dup</td>\n",
       "      <td>Duplicate</td>\n",
       "    </tr>\n",
       "    <tr>\n",
       "      <th>21</th>\n",
       "      <td>(university closed secondary school closed it is well,)</td>\n",
       "      <td>(0iuwafeml easy we went to the same secondary school and university,)</td>\n",
       "      <td>Non-Dup</td>\n",
       "      <td>Non-Dup</td>\n",
       "      <td>Duplicate</td>\n",
       "    </tr>\n",
       "    <tr>\n",
       "      <th>22</th>\n",
       "      <td>(joncoopertweets calltoactivism im a retired middle school teacher and yes  1000,)</td>\n",
       "      <td>(whoa gary! im a middle school teacher not a detective!,)</td>\n",
       "      <td>Non-Dup</td>\n",
       "      <td>Non-Dup</td>\n",
       "      <td>Duplicate</td>\n",
       "    </tr>\n",
       "    <tr>\n",
       "      <th>23</th>\n",
       "      <td>(now hiring - 2022-2023 middle school math teacher ,)</td>\n",
       "      <td>(were hiring! click to apply: 2022/23 middle school ela teacher -  lisdteachwithme cedarpark tx,)</td>\n",
       "      <td>Non-Dup</td>\n",
       "      <td>Non-Dup</td>\n",
       "      <td>Duplicate</td>\n",
       "    </tr>\n",
       "    <tr>\n",
       "      <th>24</th>\n",
       "      <td>(az_brittney tmahre i’m a middle school teacher too!,)</td>\n",
       "      <td>(i’ll be there with 3 of my middle middle school players!! cant wait!!,)</td>\n",
       "      <td>Non-Dup</td>\n",
       "      <td>Non-Dup</td>\n",
       "      <td>Duplicate</td>\n",
       "    </tr>\n",
       "    <tr>\n",
       "      <th>25</th>\n",
       "      <td>(a middle school teacher ,)</td>\n",
       "      <td>(just went to my old middle school and met with my grade 6 teacher wow,)</td>\n",
       "      <td>Non-Dup</td>\n",
       "      <td>Non-Dup</td>\n",
       "      <td>Duplicate</td>\n",
       "    </tr>\n",
       "    <tr>\n",
       "      <th>26</th>\n",
       "      <td>(genepall prisonplanet crt is a college law course only lawyers are taught crt,)</td>\n",
       "      <td>(blackweirdovibe kcaddison68 hdebusk pjampaganza crt is a college law course,)</td>\n",
       "      <td>Non-Dup</td>\n",
       "      <td>Non-Dup</td>\n",
       "      <td>Duplicate</td>\n",
       "    </tr>\n",
       "    <tr>\n",
       "      <th>27</th>\n",
       "      <td>(emmyrichie_ nope\\n\\nbut never fail it before\\n\\nstarting from secondary down to university,)</td>\n",
       "      <td>(seriki001 secondary or university,)</td>\n",
       "      <td>Non-Dup</td>\n",
       "      <td>Non-Dup</td>\n",
       "      <td>Duplicate</td>\n",
       "    </tr>\n",
       "    <tr>\n",
       "      <th>28</th>\n",
       "      <td>(24 diy activities for middle school students\\nqrstf\\n,)</td>\n",
       "      <td>(the middle school teacher is your clue!,)</td>\n",
       "      <td>Non-Dup</td>\n",
       "      <td>Non-Dup</td>\n",
       "      <td>Duplicate</td>\n",
       "    </tr>\n",
       "    <tr>\n",
       "      <th>29</th>\n",
       "      <td>(bingot_jones dudes a middle school pe teacher thats terrifying,)</td>\n",
       "      <td>(whoa gary! im a middle school teacher not a detective!,)</td>\n",
       "      <td>Non-Dup</td>\n",
       "      <td>Non-Dup</td>\n",
       "      <td>Duplicate</td>\n",
       "    </tr>\n",
       "  </tbody>\n",
       "</table>\n",
       "</div>"
      ],
      "text/plain": [
       "                                                                                                                           text_A  \\\n",
       "0            (in addition to higher education you need to have at least a high school mind and at least an elementary education,)   \n",
       "1                          (ohio university pays 400000 in damages to professor who refused to use students preferred pronouns ,)   \n",
       "2                          (now playing californians for all college corps (15sec) - californians for all college corps (15sec),)   \n",
       "3   (i see life like one long university education i never had i learn something every day – richard branson leadership success,)   \n",
       "4                                                (the importance of schools in conducting benchmark testing  education learning,)   \n",
       "5                          (now playing californians for all college corps (15sec) - californians for all college corps (15sec),)   \n",
       "6                          (now playing californians for all college corps (30sec) - californians for all college corps (30sec),)   \n",
       "7                                                                          (taliban bans university education for afghan girls ,)   \n",
       "8                                                                                       (n76247476man elementary school teacher,)   \n",
       "9                                             (onslow county school teacher charged with secretly recording undressed students ,)   \n",
       "10                                                            (faruqbashar 1 primary school \\n4 secondary schools\\n1 university,)   \n",
       "11                                           (qkralshyuk hello! first year college student here! also a stem grad po! dm me po!,)   \n",
       "12                                                                     (times higher education world university rankings 2023  ,)   \n",
       "13                                           (ur mom sent u to college for a higher education and u in dat dorm getting fcked 😒,)   \n",
       "14                                  (who else needs help in elementary calculusii and college algebra \\nsu\\ngramfam \\ngramfam26,)   \n",
       "15                                                                                                       (im college students 😭,)   \n",
       "16                                                                                                  (no more college students 😭,)   \n",
       "17                                                                             (number of college students is provided finance ,)   \n",
       "18                                                                                              (jive_turkey89 college students,)   \n",
       "19                                                                                    (college students mauled by grizzly bear ,)   \n",
       "20                      (according to times higher education rankings 2023 which indian university has secured the top ranking?,)   \n",
       "21                                                                        (university closed secondary school closed it is well,)   \n",
       "22                                             (joncoopertweets calltoactivism im a retired middle school teacher and yes  1000,)   \n",
       "23                                                                          (now hiring - 2022-2023 middle school math teacher ,)   \n",
       "24                                                                         (az_brittney tmahre i’m a middle school teacher too!,)   \n",
       "25                                                                                                    (a middle school teacher ,)   \n",
       "26                                               (genepall prisonplanet crt is a college law course only lawyers are taught crt,)   \n",
       "27                                  (emmyrichie_ nope\\n\\nbut never fail it before\\n\\nstarting from secondary down to university,)   \n",
       "28                                                                       (24 diy activities for middle school students\\nqrstf\\n,)   \n",
       "29                                                              (bingot_jones dudes a middle school pe teacher thats terrifying,)   \n",
       "\n",
       "                                                                                                                           text_B  \\\n",
       "0            (in addition to higher education you need to have at least a high school mind and at least an elementary education,)   \n",
       "1                          (ohio university pays 400000 in damages to professor who refused to use students preferred pronouns ,)   \n",
       "2                          (now playing californians for all college corps (15sec) - californians for all college corps (15sec),)   \n",
       "3   (i see life like one long university education i never had i learn something every day – richard branson leadership success,)   \n",
       "4                                                (the importance of schools in conducting benchmark testing  education learning,)   \n",
       "5                          (now playing californians for all college corps (30sec) - californians for all college corps (30sec),)   \n",
       "6                          (now playing californians for all college corps (15sec) - californians for all college corps (15sec),)   \n",
       "7                                                                  (taliban bans university education for afghan girls culture ,)   \n",
       "8                                                                                     (keepstrugglin_ elementary school teacher,)   \n",
       "9                                             (onslow county school teacher charged with secretly recording undressed students ,)   \n",
       "10                                                                       (1 primary school \\n3 secondary schools \\n1 university,)   \n",
       "11         (dummmyshangccc hello! first year college student here! also a stem grad po! dm me po! can do within your budget po!,)   \n",
       "12                         (the latest world university rankings 2023 by times higher education almost the same as last year’s ,)   \n",
       "13                                         (ur mom sending u to college for a higher education and u in that dorm getting fcked,)   \n",
       "14                (asutwitterwho else needs help in elementary statistics and college algebra \\nasutwitter\\ngramfam \\ngramfam26,)   \n",
       "15                                            (gifts for college students – 45 gifts college students will actually appreciate ,)   \n",
       "16                                                                                      (what are college students paying for? ,)   \n",
       "17                                                                                                            (college students,)   \n",
       "18                                                                             (what is it with college students and volleyball,)   \n",
       "19                                                                                                            (college students,)   \n",
       "20                         (the latest world university rankings 2023 by times higher education almost the same as last year’s ,)   \n",
       "21                                                          (0iuwafeml easy we went to the same secondary school and university,)   \n",
       "22                                                                      (whoa gary! im a middle school teacher not a detective!,)   \n",
       "23                              (were hiring! click to apply: 2022/23 middle school ela teacher -  lisdteachwithme cedarpark tx,)   \n",
       "24                                                       (i’ll be there with 3 of my middle middle school players!! cant wait!!,)   \n",
       "25                                                       (just went to my old middle school and met with my grade 6 teacher wow,)   \n",
       "26                                                 (blackweirdovibe kcaddison68 hdebusk pjampaganza crt is a college law course,)   \n",
       "27                                                                                           (seriki001 secondary or university,)   \n",
       "28                                                                                     (the middle school teacher is your clue!,)   \n",
       "29                                                                      (whoa gary! im a middle school teacher not a detective!,)   \n",
       "\n",
       "   threshold_30 threshold_40 threshold_70  \n",
       "0     Duplicate    Duplicate    Duplicate  \n",
       "1     Duplicate    Duplicate    Duplicate  \n",
       "2     Duplicate    Duplicate    Duplicate  \n",
       "3     Duplicate    Duplicate    Duplicate  \n",
       "4     Duplicate    Duplicate    Duplicate  \n",
       "5     Duplicate    Duplicate    Duplicate  \n",
       "6     Duplicate    Duplicate    Duplicate  \n",
       "7     Duplicate    Duplicate    Duplicate  \n",
       "8     Duplicate    Duplicate    Duplicate  \n",
       "9     Duplicate    Duplicate    Duplicate  \n",
       "10      Non-Dup    Duplicate    Duplicate  \n",
       "11      Non-Dup    Duplicate    Duplicate  \n",
       "12      Non-Dup    Duplicate    Duplicate  \n",
       "13      Non-Dup    Duplicate    Duplicate  \n",
       "14      Non-Dup    Duplicate    Duplicate  \n",
       "15      Non-Dup    Duplicate    Duplicate  \n",
       "16      Non-Dup    Duplicate    Duplicate  \n",
       "17      Non-Dup    Duplicate    Duplicate  \n",
       "18      Non-Dup    Duplicate    Duplicate  \n",
       "19      Non-Dup    Duplicate    Duplicate  \n",
       "20      Non-Dup      Non-Dup    Duplicate  \n",
       "21      Non-Dup      Non-Dup    Duplicate  \n",
       "22      Non-Dup      Non-Dup    Duplicate  \n",
       "23      Non-Dup      Non-Dup    Duplicate  \n",
       "24      Non-Dup      Non-Dup    Duplicate  \n",
       "25      Non-Dup      Non-Dup    Duplicate  \n",
       "26      Non-Dup      Non-Dup    Duplicate  \n",
       "27      Non-Dup      Non-Dup    Duplicate  \n",
       "28      Non-Dup      Non-Dup    Duplicate  \n",
       "29      Non-Dup      Non-Dup    Duplicate  "
      ]
     },
     "execution_count": 61,
     "metadata": {},
     "output_type": "execute_result"
    }
   ],
   "source": [
    "pd.set_option('display.max_rows', 30)\n",
    "dups_combined_sample.toPandas()"
   ]
  },
  {
   "cell_type": "markdown",
   "metadata": {},
   "source": [
    "**For 0.7 jaccard similarity event if the texts are not relevant they are being said as duplicate. I would be choosing 0.4 as my Jaccard similarity**"
   ]
  },
  {
   "cell_type": "markdown",
   "metadata": {},
   "source": [
    "## Similarity analysis for individual organizations i.e., University, School, Government ..."
   ]
  },
  {
   "cell_type": "code",
   "execution_count": null,
   "metadata": {},
   "outputs": [
    {
     "name": "stderr",
     "output_type": "stream",
     "text": [
      "                                                                                \r"
     ]
    }
   ],
   "source": [
    "pd_df_tweet_text_raw = df_tweet_text_raw.groupBy('Organization').agg(count('text').alias('count_of_tweets')).toPandas()"
   ]
  },
  {
   "cell_type": "code",
   "execution_count": null,
   "metadata": {},
   "outputs": [
    {
     "data": {
      "text/html": [
       "<div>\n",
       "<style scoped>\n",
       "    .dataframe tbody tr th:only-of-type {\n",
       "        vertical-align: middle;\n",
       "    }\n",
       "\n",
       "    .dataframe tbody tr th {\n",
       "        vertical-align: top;\n",
       "    }\n",
       "\n",
       "    .dataframe thead th {\n",
       "        text-align: right;\n",
       "    }\n",
       "</style>\n",
       "<table border=\"1\" class=\"dataframe\">\n",
       "  <thead>\n",
       "    <tr style=\"text-align: right;\">\n",
       "      <th></th>\n",
       "      <th>Organization</th>\n",
       "      <th>count_of_tweets</th>\n",
       "    </tr>\n",
       "  </thead>\n",
       "  <tbody>\n",
       "    <tr>\n",
       "      <th>0</th>\n",
       "      <td>Government</td>\n",
       "      <td>866</td>\n",
       "    </tr>\n",
       "    <tr>\n",
       "      <th>1</th>\n",
       "      <td>NGO</td>\n",
       "      <td>2610</td>\n",
       "    </tr>\n",
       "    <tr>\n",
       "      <th>2</th>\n",
       "      <td>Influencers</td>\n",
       "      <td>8048</td>\n",
       "    </tr>\n",
       "    <tr>\n",
       "      <th>3</th>\n",
       "      <td>Others</td>\n",
       "      <td>164916</td>\n",
       "    </tr>\n",
       "    <tr>\n",
       "      <th>4</th>\n",
       "      <td>Schools</td>\n",
       "      <td>5309</td>\n",
       "    </tr>\n",
       "    <tr>\n",
       "      <th>5</th>\n",
       "      <td>Universities</td>\n",
       "      <td>5164</td>\n",
       "    </tr>\n",
       "    <tr>\n",
       "      <th>6</th>\n",
       "      <td>News</td>\n",
       "      <td>17928</td>\n",
       "    </tr>\n",
       "  </tbody>\n",
       "</table>\n",
       "</div>"
      ],
      "text/plain": [
       "   Organization  count_of_tweets\n",
       "0    Government              866\n",
       "1           NGO             2610\n",
       "2   Influencers             8048\n",
       "3        Others           164916\n",
       "4       Schools             5309\n",
       "5  Universities             5164\n",
       "6          News            17928"
      ]
     },
     "execution_count": 63,
     "metadata": {},
     "output_type": "execute_result"
    }
   ],
   "source": [
    "pd_df_tweet_text_raw"
   ]
  },
  {
   "cell_type": "code",
   "execution_count": null,
   "metadata": {},
   "outputs": [],
   "source": [
    "def get_tokens(df):\n",
    "    return df\\\n",
    "        .map( lambda document: re.split(\" \", document))\\\n",
    "        .map( lambda word: [x for x in word if len(x) >= 2] )\\\n",
    "        .map( lambda word: [x for x in word if x not in StopWords])\\\n",
    "        .zipWithIndex()"
   ]
  },
  {
   "cell_type": "code",
   "execution_count": null,
   "metadata": {},
   "outputs": [],
   "source": [
    "def to_DF(rdd_, col):    \n",
    "    row = Row(col)\n",
    "    return rdd_.map(row).zipWithIndex().toDF([col, 'id'])"
   ]
  },
  {
   "cell_type": "code",
   "execution_count": null,
   "metadata": {},
   "outputs": [],
   "source": [
    "def token_cleaning(tokens):\n",
    "    df_tokens = spark.createDataFrame(tokens, [\"list_of_words\",'id'])\n",
    "    df_tokens = df_tokens.where(col('list_of_words').getItem(0).isNotNull())\n",
    "    return df_tokens"
   ]
  },
  {
   "cell_type": "code",
   "execution_count": null,
   "metadata": {},
   "outputs": [],
   "source": [
    "mh = MinHashLSH(inputCol = \"features\", outputCol = \"hashes\", numHashTables = 5)\n",
    "def get_df_hashed(df_vectorize):\n",
    "    model = mh.fit(df_vectorize)\n",
    "    df_hashed = mh.fit(df_vectorize).transform(df_vectorize)\n",
    "    return model, df_hashed"
   ]
  },
  {
   "cell_type": "code",
   "execution_count": null,
   "metadata": {},
   "outputs": [],
   "source": [
    "def getJaccardBarChart(df, jaccard_distance, model):\n",
    "\n",
    "    df_dups_text = model.approxSimilarityJoin(\n",
    "                        df, df, jaccard_distance\n",
    "                    ).filter(\"datasetA.id < datasetB.id\").select(\n",
    "                        col(\"distCol\"),\n",
    "                        col(\"datasetA.id\").alias(\"id_A\"),\n",
    "                        col(\"datasetB.id\").alias(\"id_B\"),\n",
    "                        col(\"datasetA.text\").alias('text_A'),\n",
    "                        col(\"datasetB.text\").alias('text_B')\n",
    "                    )\n",
    "\n",
    "    df_dups_text.cache()\n",
    "    df_dups_text.limit(5).toPandas()\n",
    "    \n",
    "    records = df.count()\n",
    "    dups = df_dups_text.select('id_A').distinct().count()\n",
    "    uniques = records - dups\n",
    "    \n",
    "#     clear_output(wait = True)\n",
    "    \n",
    "    return df_dups_text, records, dups"
   ]
  },
  {
   "cell_type": "code",
   "execution_count": null,
   "metadata": {},
   "outputs": [],
   "source": [
    "StopWords = stopwords.words(\"english\")\n",
    "\n",
    "def run_similarity(Organization, fraction_filter):\n",
    "    if(fraction_filter == 1):\n",
    "        part_to_analyse = df_tweet_text_raw.filter(\"Organization == '\" + Organization + \"'\")\n",
    "    else:\n",
    "        part_to_analyse = df_tweet_text_raw.filter(\"Organization == '\" + Organization + \"'\")\n",
    "        part_to_analyse = part_to_analyse.sample(withReplacement = False, fraction = fraction_filter, seed = 42)\n",
    "    \n",
    "    \n",
    "    part_to_analyse = part_to_analyse.cache()\n",
    "    tweets = part_to_analyse.rdd.map(lambda x : x['text'])\n",
    "\n",
    "    global StopWords\n",
    "    text_tokens = get_tokens(tweets)\n",
    "\n",
    "    df_tweets = to_DF(tweets, 'text')\n",
    "    df_tweets_tokens = token_cleaning(text_tokens)\n",
    "\n",
    "    vectorize = CountVectorizer(inputCol=\"list_of_words\", outputCol=\"features\", minDF=1.0)\n",
    "    df_tweets_tokens_vectorized = vectorize.fit(df_tweets_tokens).transform(df_tweets_tokens)\n",
    "\n",
    "    model, df_hashed= get_df_hashed(df_tweets_tokens_vectorized)\n",
    "\n",
    "    df_hashed_text_joined = df_tweets.join(df_hashed, \"id\", how = 'left')\n",
    "\n",
    "    df_hashed_text_joined = df_hashed_text_joined.\\\n",
    "                                where(size(df_hashed_text_joined.list_of_words) >= 5)\n",
    "\n",
    "    text_dups_list = []\n",
    "    df_dups_text_20, records, dups = getJaccardBarChart(df_hashed_text_joined, 0.2, model)\n",
    "    df_dups_text_20\n",
    "    text_dups_list.append([Organization, records, dups, records - dups, 0.2])\n",
    "\n",
    "    df_dups_text_30, records, dups = getJaccardBarChart(df_hashed_text_joined, 0.3, model)\n",
    "    text_dups_list.append([Organization, records, dups, records - dups, 0.3])\n",
    "\n",
    "    df_dups_text_40, records, dups = getJaccardBarChart(df_hashed_text_joined, 0.4, model)\n",
    "    text_dups_list.append([Organization, records, dups, records - dups, 0.4])\n",
    "\n",
    "    df_dups_text_60, records, dups = getJaccardBarChart(df_hashed_text_joined, 0.5, model)\n",
    "    text_dups_list.append([Organization, records, dups, records - dups, 0.5])\n",
    "\n",
    "    df_dups_text_70, records, dups = getJaccardBarChart(df_hashed_text_joined, 0.7, model)\n",
    "    text_dups_list.append([Organization, records, dups, records - dups, 0.7])\n",
    "    \n",
    "    df_dups_20_id = df_dups_text_20.select(col('id_A').alias('id_20_A'), col('id_B').alias('id_20_B'))\n",
    "    df_dups_30_id = df_dups_text_30.select(col('id_A').alias('id_30_A'), col('id_B').alias('id_30_B'))\n",
    "    df_dups_40_id = df_dups_text_40.select(col('id_A').alias('id_40_A'), col('id_B').alias('id_40_B'))\n",
    "    df_dups_70_id = df_dups_text_70.select(col('text_A'), col('text_B'),\\\n",
    "                                      col('id_A').alias('id_70_A'), col('id_B').alias('id_70_B'))\n",
    "    \n",
    "    dups_combined = df_dups_70_id.join(df_dups_30_id, on=((df_dups_70_id.id_70_A == df_dups_30_id.id_30_A) & (df_dups_70_id.id_70_B == df_dups_30_id.id_30_B)), how=\"left_outer\")\\\n",
    "    .join(df_dups_20_id, on=((df_dups_70_id.id_70_A == df_dups_20_id.id_20_A) & (df_dups_70_id.id_70_B == df_dups_20_id.id_20_B)), how=\"left_outer\")\n",
    "\n",
    "    dups_combined = dups_combined.\\\n",
    "    withColumn(\"threshold_20\",\\\n",
    "               when(col(\"id_20_A\").isNotNull(), \"Duplicate\").\n",
    "               otherwise(\"Non-Dup\")).\\\n",
    "    withColumn(\"threshold_30\",\\\n",
    "               when(col(\"id_30_A\").isNotNull(), \"Duplicate\").\n",
    "               otherwise(\"Non-Dup\")).\\\n",
    "    withColumn(\"threshold_70\",\\\n",
    "               when(col(\"id_70_A\").isNotNull(), \"Duplicate\").\n",
    "               otherwise(\"Non-Dup\")).\\\n",
    "    drop('id_20_A', 'id_20_B', 'id_30_A', 'id_30_B', 'id_70_A', 'id_70_B')\n",
    "\n",
    "    dups_combined_sample = \\\n",
    "    dups_combined.filter((\"threshold_20 == 'Duplicate'\")).sample(False, 0.1, 12345).limit(10).\\\n",
    "    union\\\n",
    "    (dups_combined.filter((\"threshold_20 == 'Non-Dup' and threshold_30 == 'Duplicate'\")).sample(False, 0.1, 12345).limit(10)).\\\n",
    "    union\\\n",
    "    (dups_combined.filter((\"threshold_30 == 'Non-Dup'\")).sample(False, 0.1, 12345).limit(10)).\\\n",
    "    orderBy('threshold_20', 'threshold_30', 'threshold_70')\n",
    "    \n",
    "    pd_similarity_check_tweets = dups_combined_sample.toPandas()\n",
    "\n",
    "#     df_ = pd.DataFrame(text_dups_list, columns = ['counts', 'dups', 'unique', 'threshold'])\n",
    "#     df_.plot(x = 'threshold', y = ['unique','dups'], kind = 'bar', title = i)\n",
    "#     plt.show()\n",
    "    return text_dups_list, pd_similarity_check_tweets"
   ]
  },
  {
   "cell_type": "code",
   "execution_count": null,
   "metadata": {},
   "outputs": [
    {
     "name": "stderr",
     "output_type": "stream",
     "text": [
      "                                                                                ]\r"
     ]
    }
   ],
   "source": [
    "gov_text_dups_list, pd_gov_similiraity_check_tweets = run_similarity('Government', 1)"
   ]
  },
  {
   "cell_type": "code",
   "execution_count": null,
   "metadata": {},
   "outputs": [],
   "source": [
    "spark.catalog.clearCache()"
   ]
  },
  {
   "cell_type": "code",
   "execution_count": null,
   "metadata": {},
   "outputs": [
    {
     "name": "stderr",
     "output_type": "stream",
     "text": [
      "                                                                                00]]\r"
     ]
    }
   ],
   "source": [
    "ngo_text_dups_list, pd_ngo_similiraity_check_tweets = run_similarity('NGO', 1)"
   ]
  },
  {
   "cell_type": "code",
   "execution_count": null,
   "metadata": {},
   "outputs": [],
   "source": [
    "spark.catalog.clearCache()"
   ]
  },
  {
   "cell_type": "code",
   "execution_count": null,
   "metadata": {},
   "outputs": [
    {
     "name": "stderr",
     "output_type": "stream",
     "text": [
      "                                                                                200]\r"
     ]
    }
   ],
   "source": [
    "influ_text_dups_list, pd_influ_similiraity_check_tweets = run_similarity('Influencers', 1)"
   ]
  },
  {
   "cell_type": "code",
   "execution_count": null,
   "metadata": {},
   "outputs": [],
   "source": [
    "spark.catalog.clearCache()"
   ]
  },
  {
   "cell_type": "code",
   "execution_count": null,
   "metadata": {},
   "outputs": [
    {
     "name": "stderr",
     "output_type": "stream",
     "text": [
      "                                                                                200]\r"
     ]
    }
   ],
   "source": [
    "others_text_dups_list, pd_others_similiraity_check_tweets = run_similarity('Others', 0.1)"
   ]
  },
  {
   "cell_type": "code",
   "execution_count": null,
   "metadata": {},
   "outputs": [],
   "source": [
    "spark.catalog.clearCache()"
   ]
  },
  {
   "cell_type": "code",
   "execution_count": null,
   "metadata": {},
   "outputs": [
    {
     "name": "stderr",
     "output_type": "stream",
     "text": [
      "                                                                                0]0]\r"
     ]
    }
   ],
   "source": [
    "schools_text_dups_list, pd_schools_similiraity_check_tweets = run_similarity('Schools', 1)"
   ]
  },
  {
   "cell_type": "code",
   "execution_count": null,
   "metadata": {},
   "outputs": [],
   "source": [
    "spark.catalog.clearCache()"
   ]
  },
  {
   "cell_type": "code",
   "execution_count": null,
   "metadata": {},
   "outputs": [
    {
     "name": "stderr",
     "output_type": "stream",
     "text": [
      "                                                                                0]0]\r"
     ]
    }
   ],
   "source": [
    "uni_text_dups_list, pd_uni_similiraity_check_tweets = run_similarity('Universities', 1)"
   ]
  },
  {
   "cell_type": "code",
   "execution_count": null,
   "metadata": {},
   "outputs": [],
   "source": [
    "spark.catalog.clearCache()"
   ]
  },
  {
   "cell_type": "code",
   "execution_count": null,
   "metadata": {},
   "outputs": [
    {
     "name": "stderr",
     "output_type": "stream",
     "text": [
      "                                                                                0]0]\r"
     ]
    }
   ],
   "source": [
    "news_text_dups_list, pd_news_similiraity_check_tweets = run_similarity('News', 1)"
   ]
  },
  {
   "cell_type": "code",
   "execution_count": null,
   "metadata": {},
   "outputs": [],
   "source": [
    "spark.catalog.clearCache()"
   ]
  },
  {
   "cell_type": "code",
   "execution_count": 88,
   "metadata": {},
   "outputs": [
    {
     "data": {
      "text/html": [
       "<div>\n",
       "<style scoped>\n",
       "    .dataframe tbody tr th:only-of-type {\n",
       "        vertical-align: middle;\n",
       "    }\n",
       "\n",
       "    .dataframe tbody tr th {\n",
       "        vertical-align: top;\n",
       "    }\n",
       "\n",
       "    .dataframe thead th {\n",
       "        text-align: right;\n",
       "    }\n",
       "</style>\n",
       "<table border=\"1\" class=\"dataframe\">\n",
       "  <thead>\n",
       "    <tr style=\"text-align: right;\">\n",
       "      <th></th>\n",
       "      <th>org</th>\n",
       "      <th>counts</th>\n",
       "      <th>dups</th>\n",
       "      <th>unique</th>\n",
       "      <th>threshold</th>\n",
       "    </tr>\n",
       "  </thead>\n",
       "  <tbody>\n",
       "    <tr>\n",
       "      <th>0</th>\n",
       "      <td>Government</td>\n",
       "      <td>854</td>\n",
       "      <td>27</td>\n",
       "      <td>827</td>\n",
       "      <td>0.2</td>\n",
       "    </tr>\n",
       "    <tr>\n",
       "      <th>1</th>\n",
       "      <td>Government</td>\n",
       "      <td>854</td>\n",
       "      <td>32</td>\n",
       "      <td>822</td>\n",
       "      <td>0.3</td>\n",
       "    </tr>\n",
       "    <tr>\n",
       "      <th>2</th>\n",
       "      <td>Government</td>\n",
       "      <td>854</td>\n",
       "      <td>53</td>\n",
       "      <td>801</td>\n",
       "      <td>0.4</td>\n",
       "    </tr>\n",
       "    <tr>\n",
       "      <th>3</th>\n",
       "      <td>Government</td>\n",
       "      <td>854</td>\n",
       "      <td>61</td>\n",
       "      <td>793</td>\n",
       "      <td>0.5</td>\n",
       "    </tr>\n",
       "    <tr>\n",
       "      <th>4</th>\n",
       "      <td>Government</td>\n",
       "      <td>854</td>\n",
       "      <td>89</td>\n",
       "      <td>765</td>\n",
       "      <td>0.7</td>\n",
       "    </tr>\n",
       "    <tr>\n",
       "      <th>0</th>\n",
       "      <td>NGO</td>\n",
       "      <td>2554</td>\n",
       "      <td>235</td>\n",
       "      <td>2319</td>\n",
       "      <td>0.2</td>\n",
       "    </tr>\n",
       "    <tr>\n",
       "      <th>1</th>\n",
       "      <td>NGO</td>\n",
       "      <td>2554</td>\n",
       "      <td>245</td>\n",
       "      <td>2309</td>\n",
       "      <td>0.3</td>\n",
       "    </tr>\n",
       "    <tr>\n",
       "      <th>2</th>\n",
       "      <td>NGO</td>\n",
       "      <td>2554</td>\n",
       "      <td>258</td>\n",
       "      <td>2296</td>\n",
       "      <td>0.4</td>\n",
       "    </tr>\n",
       "    <tr>\n",
       "      <th>3</th>\n",
       "      <td>NGO</td>\n",
       "      <td>2554</td>\n",
       "      <td>271</td>\n",
       "      <td>2283</td>\n",
       "      <td>0.5</td>\n",
       "    </tr>\n",
       "    <tr>\n",
       "      <th>4</th>\n",
       "      <td>NGO</td>\n",
       "      <td>2554</td>\n",
       "      <td>439</td>\n",
       "      <td>2115</td>\n",
       "      <td>0.7</td>\n",
       "    </tr>\n",
       "  </tbody>\n",
       "</table>\n",
       "</div>"
      ],
      "text/plain": [
       "          org  counts  dups  unique  threshold\n",
       "0  Government     854    27     827        0.2\n",
       "1  Government     854    32     822        0.3\n",
       "2  Government     854    53     801        0.4\n",
       "3  Government     854    61     793        0.5\n",
       "4  Government     854    89     765        0.7\n",
       "0         NGO    2554   235    2319        0.2\n",
       "1         NGO    2554   245    2309        0.3\n",
       "2         NGO    2554   258    2296        0.4\n",
       "3         NGO    2554   271    2283        0.5\n",
       "4         NGO    2554   439    2115        0.7"
      ]
     },
     "execution_count": 88,
     "metadata": {},
     "output_type": "execute_result"
    }
   ],
   "source": [
    "pd_gov_text_dups = pd.DataFrame(gov_text_dups_list, columns = ['org','counts', 'dups', 'unique', 'threshold'])\n",
    "pd_ngo_text_dups = pd.DataFrame(ngo_text_dups_list, columns = ['org','counts', 'dups', 'unique', 'threshold'])\n",
    "pd_influ_text_dups = pd.DataFrame(influ_text_dups_list, columns = ['org','counts', 'dups', 'unique', 'threshold'])\n",
    "pd_others_text_dups = pd.DataFrame(others_text_dups_list, columns = ['org','counts', 'dups', 'unique', 'threshold'])\n",
    "pd_schools_text_dups_list = pd.DataFrame(schools_text_dups_list, columns = ['org','counts', 'dups', 'unique', 'threshold'])\n",
    "pd_uni_text_dups_list = pd.DataFrame(uni_text_dups_list, columns = ['org','counts', 'dups', 'unique', 'threshold'])\n",
    "pd_news_text_dups_list = pd.DataFrame(news_text_dups_list, columns = ['org','counts', 'dups', 'unique', 'threshold'])\n",
    "\n",
    "\n",
    "df_plt = pd.concat([pd_gov_text_dups, pd_ngo_text_dups, pd_influ_text_dups, pd_others_text_dups, pd_schools_text_dups_list, \n",
    "                   pd_uni_text_dups_list, pd_news_text_dups_list])\n",
    "\n",
    "df_plt.head(10)"
   ]
  },
  {
   "cell_type": "code",
   "execution_count": 153,
   "metadata": {},
   "outputs": [
    {
     "data": {
      "text/html": [
       "<div>\n",
       "<style scoped>\n",
       "    .dataframe tbody tr th:only-of-type {\n",
       "        vertical-align: middle;\n",
       "    }\n",
       "\n",
       "    .dataframe tbody tr th {\n",
       "        vertical-align: top;\n",
       "    }\n",
       "\n",
       "    .dataframe thead th {\n",
       "        text-align: right;\n",
       "    }\n",
       "</style>\n",
       "<table border=\"1\" class=\"dataframe\">\n",
       "  <thead>\n",
       "    <tr style=\"text-align: right;\">\n",
       "      <th>threshold</th>\n",
       "      <th>0.2</th>\n",
       "      <th>0.3</th>\n",
       "      <th>0.4</th>\n",
       "      <th>0.5</th>\n",
       "      <th>0.7</th>\n",
       "    </tr>\n",
       "    <tr>\n",
       "      <th>org</th>\n",
       "      <th></th>\n",
       "      <th></th>\n",
       "      <th></th>\n",
       "      <th></th>\n",
       "      <th></th>\n",
       "    </tr>\n",
       "  </thead>\n",
       "  <tbody>\n",
       "    <tr>\n",
       "      <th>Government</th>\n",
       "      <td>0.031616</td>\n",
       "      <td>0.037471</td>\n",
       "      <td>0.062061</td>\n",
       "      <td>0.071429</td>\n",
       "      <td>0.104215</td>\n",
       "    </tr>\n",
       "    <tr>\n",
       "      <th>Influencers</th>\n",
       "      <td>0.068935</td>\n",
       "      <td>0.078143</td>\n",
       "      <td>0.088247</td>\n",
       "      <td>0.099501</td>\n",
       "      <td>0.208467</td>\n",
       "    </tr>\n",
       "    <tr>\n",
       "      <th>NGO</th>\n",
       "      <td>0.092013</td>\n",
       "      <td>0.095928</td>\n",
       "      <td>0.101018</td>\n",
       "      <td>0.106108</td>\n",
       "      <td>0.171887</td>\n",
       "    </tr>\n",
       "    <tr>\n",
       "      <th>News</th>\n",
       "      <td>0.135414</td>\n",
       "      <td>0.154324</td>\n",
       "      <td>0.178539</td>\n",
       "      <td>0.203883</td>\n",
       "      <td>0.377117</td>\n",
       "    </tr>\n",
       "    <tr>\n",
       "      <th>Others</th>\n",
       "      <td>0.041117</td>\n",
       "      <td>0.050136</td>\n",
       "      <td>0.059343</td>\n",
       "      <td>0.069055</td>\n",
       "      <td>0.217191</td>\n",
       "    </tr>\n",
       "  </tbody>\n",
       "</table>\n",
       "</div>"
      ],
      "text/plain": [
       "threshold         0.2       0.3       0.4       0.5       0.7\n",
       "org                                                          \n",
       "Government   0.031616  0.037471  0.062061  0.071429  0.104215\n",
       "Influencers  0.068935  0.078143  0.088247  0.099501  0.208467\n",
       "NGO          0.092013  0.095928  0.101018  0.106108  0.171887\n",
       "News         0.135414  0.154324  0.178539  0.203883  0.377117\n",
       "Others       0.041117  0.050136  0.059343  0.069055  0.217191"
      ]
     },
     "execution_count": 153,
     "metadata": {},
     "output_type": "execute_result"
    }
   ],
   "source": [
    "df_plt1 = df_plt\n",
    "\n",
    "df_plt1['perc_dups'] = df_plt1['dups']/df_plt1['counts']\n",
    "df_plt1['perc_uni'] = 1 - df_plt1['perc_dups']\n",
    "\n",
    "df_plt2 = df_plt1[['org','perc_dups','threshold']]\n",
    "\n",
    "df_plt3 = df_plt2.pivot(index='org',columns='threshold',values='perc_dups')\n",
    "\n",
    "df_plt3.head()"
   ]
  },
  {
   "cell_type": "code",
   "execution_count": 154,
   "metadata": {},
   "outputs": [],
   "source": [
    "df_plt3[0.4] = (df_plt3[0.4]*100).round(2)"
   ]
  },
  {
   "cell_type": "code",
   "execution_count": 155,
   "metadata": {},
   "outputs": [
    {
     "data": {
      "text/plain": [
       "Float64Index([0.2, 0.3, 0.4, 0.5, 0.7], dtype='float64', name='threshold')"
      ]
     },
     "execution_count": 155,
     "metadata": {},
     "output_type": "execute_result"
    }
   ],
   "source": [
    "df_plt3.columns"
   ]
  },
  {
   "cell_type": "code",
   "execution_count": 161,
   "metadata": {},
   "outputs": [
    {
     "data": {
      "image/png": "[encoded data removed]",
      "text/plain": [
       "<Figure size 640x480 with 1 Axes>"
      ]
     },
     "metadata": {},
     "output_type": "display_data"
    },
    {
     "data": {
      "image/png": "[encoded data removed]",
      "text/plain": [
       "<Figure size 1000x800 with 1 Axes>"
      ]
     },
     "metadata": {},
     "output_type": "display_data"
    }
   ],
   "source": [
    "data_04 = df_plt3[0.4].sort_values(ascending=False)\n",
    "\n",
    "# plot the data\n",
    "fig, ax = plt.subplots()\n",
    "bar_width = 0.5\n",
    "opacity = 0.8\n",
    "colors = ['#1f77b4', '#ff7f0e', '#2ca02c', '#d62728', '#9467bd']\n",
    "\n",
    "data_06 = 100 - data_04\n",
    "\n",
    "# Plot parameters\n",
    "bar_width = 0.35\n",
    "opacity = 0.8\n",
    "colors = ['#1f77b4', '#ff7f0e']\n",
    "\n",
    "# Plot bars\n",
    "fig, ax = plt.subplots(figsize = (10, 8))\n",
    "x = np.arange(len(data_04))\n",
    "rects1 = ax.bar(x, data_04, bar_width, alpha=opacity, color=colors[0], label='duplicates')\n",
    "rects2 = ax.bar(x + bar_width, data_06, bar_width, alpha=opacity, color=colors[1], label='uniques')\n",
    "\n",
    "# Add labels, title, and legend\n",
    "ax.set_xlabel('Organization type')\n",
    "ax.set_ylabel('Percentage')\n",
    "ax.set_title('Organization wise Unique vs Duplicates')\n",
    "ax.set_xticks(x + bar_width / 2)\n",
    "ax.set_xticklabels(list(data_04.index))\n",
    "\n",
    "ax.set_xlim([x[0] - 0.5, x[-1] + 1.5])\n",
    "\n",
    "# Add text labels to the bars\n",
    "for i, rect in enumerate(rects1):\n",
    "    height = rect.get_height()\n",
    "    ax.text(rect.get_x() + rect.get_width() / 2., height, str(data_04[i]) + '%', ha='center', va='bottom', color='black')\n",
    "\n",
    "for i, rect in enumerate(rects2):\n",
    "    height = rect.get_height()\n",
    "    ax.text(rect.get_x() + rect.get_width() / 2., height, str(data_06[i]) + '%', ha='center', va='bottom', color='black')\n",
    "\n",
    "# Add legend\n",
    "ax.legend()\n",
    "\n",
    "# Show the plot\n",
    "plt.show()"
   ]
  },
  {
   "cell_type": "code",
   "execution_count": 109,
   "metadata": {},
   "outputs": [
    {
     "data": {
      "image/png": "[encoded data removed]",
      "text/plain": [
       "<Figure size 640x480 with 1 Axes>"
      ]
     },
     "metadata": {},
     "output_type": "display_data"
    }
   ],
   "source": [
    "import seaborn as sns\n",
    "sns.set_style(\"dark\")\n",
    "plt.figure.figsize = (100, 50)\n",
    "fig = df_plt3.plot.bar(width = 0.7, stacked = True)\n",
    "fig.set_ylabel('Fraction of tweets which are similar')\n",
    "fig.set_xlabel('Organization (User Type)')\n",
    "plt.legend(bbox_to_anchor=(1.0, 1.0))\n",
    "plt.tick_params( axis='y', which='both', left = False, \n",
    "                 labelleft = False, labelbottom = False\n",
    "               )\n",
    "for x in fig.containers:\n",
    "    fig.bar_label(x, label_type='center', fmt = '%1.2f', weight = 'bold', color='white')\n",
    "plt.show()"
   ]
  },
  {
   "cell_type": "code",
   "execution_count": 121,
   "metadata": {},
   "outputs": [
    {
     "data": {
      "text/html": [
       "<div>\n",
       "<style scoped>\n",
       "    .dataframe tbody tr th:only-of-type {\n",
       "        vertical-align: middle;\n",
       "    }\n",
       "\n",
       "    .dataframe tbody tr th {\n",
       "        vertical-align: top;\n",
       "    }\n",
       "\n",
       "    .dataframe thead th {\n",
       "        text-align: right;\n",
       "    }\n",
       "</style>\n",
       "<table border=\"1\" class=\"dataframe\">\n",
       "  <thead>\n",
       "    <tr style=\"text-align: right;\">\n",
       "      <th></th>\n",
       "      <th>text_A</th>\n",
       "      <th>text_B</th>\n",
       "      <th>threshold_20</th>\n",
       "      <th>threshold_30</th>\n",
       "      <th>threshold_70</th>\n",
       "    </tr>\n",
       "  </thead>\n",
       "  <tbody>\n",
       "    <tr>\n",
       "      <th>0</th>\n",
       "      <td>(tiwa savage set to receive doctorate honours from kent university ,)</td>\n",
       "      <td>(tiwa savage set to receive doctorate honours from kent university ,)</td>\n",
       "      <td>Duplicate</td>\n",
       "      <td>Duplicate</td>\n",
       "      <td>Duplicate</td>\n",
       "    </tr>\n",
       "    <tr>\n",
       "      <th>1</th>\n",
       "      <td>(read adjunctnation today:  hybrid learning and cheating: assessment must evolve  adjuncts highered college,)</td>\n",
       "      <td>(read adjunctnation today:  hybrid learning and cheating: assessment must evolve  adjuncts highered college,)</td>\n",
       "      <td>Duplicate</td>\n",
       "      <td>Duplicate</td>\n",
       "      <td>Duplicate</td>\n",
       "    </tr>\n",
       "    <tr>\n",
       "      <th>2</th>\n",
       "      <td>(education without god ▸\\n\\neducation children college,)</td>\n",
       "      <td>(education without god ▸\\n\\neducation children college,)</td>\n",
       "      <td>Duplicate</td>\n",
       "      <td>Duplicate</td>\n",
       "      <td>Duplicate</td>\n",
       "    </tr>\n",
       "    <tr>\n",
       "      <th>3</th>\n",
       "      <td>(authorities say theyve received thousands of tips regarding 4 slain university of idaho students ,)</td>\n",
       "      <td>(authorities say theyve received thousands of tips regarding 4 slain university of idaho students ,)</td>\n",
       "      <td>Duplicate</td>\n",
       "      <td>Duplicate</td>\n",
       "      <td>Duplicate</td>\n",
       "    </tr>\n",
       "    <tr>\n",
       "      <th>4</th>\n",
       "      <td>(hubert davis brings out north carolina’s toughness at the garden\\n\\nohio university university university ,)</td>\n",
       "      <td>(hubert davis brings out north carolina’s toughness at the garden\\n\\nohio university university university ,)</td>\n",
       "      <td>Duplicate</td>\n",
       "      <td>Duplicate</td>\n",
       "      <td>Duplicate</td>\n",
       "    </tr>\n",
       "    <tr>\n",
       "      <th>5</th>\n",
       "      <td>(english medium schools are offering quality of education to students opening\\ntheir doors for right opportunities 4saalbadhtarajasthan,)</td>\n",
       "      <td>(english medium schools are offering quality of education to students opening\\ntheir doors for right opportunities 4saalbadhtarajasthan,)</td>\n",
       "      <td>Duplicate</td>\n",
       "      <td>Duplicate</td>\n",
       "      <td>Duplicate</td>\n",
       "    </tr>\n",
       "    <tr>\n",
       "      <th>6</th>\n",
       "      <td>(california is on track to remove any reason for its public university students to take out student loans ,)</td>\n",
       "      <td>(california is on track to remove any reason for its public university students to take out student loans ,)</td>\n",
       "      <td>Duplicate</td>\n",
       "      <td>Duplicate</td>\n",
       "      <td>Duplicate</td>\n",
       "    </tr>\n",
       "    <tr>\n",
       "      <th>7</th>\n",
       "      <td>(read adjunctnation today:  college students are increasingly identifying beyond “she” and “he”  adjuncts highered,)</td>\n",
       "      <td>(read adjunctnation today:  college students are increasingly identifying beyond “she” and “he”  adjuncts highered,)</td>\n",
       "      <td>Duplicate</td>\n",
       "      <td>Duplicate</td>\n",
       "      <td>Duplicate</td>\n",
       "    </tr>\n",
       "    <tr>\n",
       "      <th>8</th>\n",
       "      <td>(hubert davis brings out north carolina’s toughness at the garden\\n\\nohio university university university ,)</td>\n",
       "      <td>(hubert davis brings out north carolina’s toughness at the garden\\n\\nohio university university university ,)</td>\n",
       "      <td>Duplicate</td>\n",
       "      <td>Duplicate</td>\n",
       "      <td>Duplicate</td>\n",
       "    </tr>\n",
       "    <tr>\n",
       "      <th>9</th>\n",
       "      <td>(authorities say theyve received thousands of tips regarding 4 slain university of idaho students ,)</td>\n",
       "      <td>(authorities say theyve received thousands of tips regarding 4 slain university of idaho students ,)</td>\n",
       "      <td>Duplicate</td>\n",
       "      <td>Duplicate</td>\n",
       "      <td>Duplicate</td>\n",
       "    </tr>\n",
       "    <tr>\n",
       "      <th>10</th>\n",
       "      <td>(student spotlight: 3 wilmington students named to dean’s list at fairfield university --  wilmingtonma,)</td>\n",
       "      <td>(student spotlight: 8 wilmington students named to dean’s list at roger williams university --  wilmingtonma,)</td>\n",
       "      <td>Non-Dup</td>\n",
       "      <td>Duplicate</td>\n",
       "      <td>Duplicate</td>\n",
       "    </tr>\n",
       "    <tr>\n",
       "      <th>11</th>\n",
       "      <td>(list of courses offered in federal college of education pankshin ,)</td>\n",
       "      <td>(list of courses offered in federal college of education gusau ,)</td>\n",
       "      <td>Non-Dup</td>\n",
       "      <td>Duplicate</td>\n",
       "      <td>Duplicate</td>\n",
       "    </tr>\n",
       "    <tr>\n",
       "      <th>12</th>\n",
       "      <td>(ideal college students clash with police over demolishing – watch ,)</td>\n",
       "      <td>(students clash with police as they fight to stop demolishing of ideal college – watch ,)</td>\n",
       "      <td>Non-Dup</td>\n",
       "      <td>Duplicate</td>\n",
       "      <td>Duplicate</td>\n",
       "    </tr>\n",
       "    <tr>\n",
       "      <th>13</th>\n",
       "      <td>(arizona students could earn college degree quicker and cheaper through former gov ducey agreement\\n ,)</td>\n",
       "      <td>(arizona students could earn college degree quicker and cheaper through former gov ducey agreement gtgtgt ,)</td>\n",
       "      <td>Non-Dup</td>\n",
       "      <td>Duplicate</td>\n",
       "      <td>Duplicate</td>\n",
       "    </tr>\n",
       "    <tr>\n",
       "      <th>14</th>\n",
       "      <td>(the 4 best quarterbacks in college football playoff history: college football survivor show ,)</td>\n",
       "      <td>(the 4 best linebackers in college football playoff history: college football survivor show ,)</td>\n",
       "      <td>Non-Dup</td>\n",
       "      <td>Duplicate</td>\n",
       "      <td>Duplicate</td>\n",
       "    </tr>\n",
       "    <tr>\n",
       "      <th>15</th>\n",
       "      <td>(taliban orders indefinite ban on university education for afghan women ,)</td>\n",
       "      <td>(taliban ban university education for afghan women  ,)</td>\n",
       "      <td>Non-Dup</td>\n",
       "      <td>Duplicate</td>\n",
       "      <td>Duplicate</td>\n",
       "    </tr>\n",
       "    <tr>\n",
       "      <th>16</th>\n",
       "      <td>(federal college of education akoka releases cut off marks 2022/2023 ,)</td>\n",
       "      <td>(federal college education gombe releases cut off marks 2022/2023 ,)</td>\n",
       "      <td>Non-Dup</td>\n",
       "      <td>Duplicate</td>\n",
       "      <td>Duplicate</td>\n",
       "    </tr>\n",
       "    <tr>\n",
       "      <th>17</th>\n",
       "      <td>(covenant university bans ‘all black’ dressing among students to sanction defaulters\\n\\ncovenant osundecides2022 ,)</td>\n",
       "      <td>(covenant university bans ‘all black’ dressing among students to sanction defaulters  ,)</td>\n",
       "      <td>Non-Dup</td>\n",
       "      <td>Duplicate</td>\n",
       "      <td>Duplicate</td>\n",
       "    </tr>\n",
       "    <tr>\n",
       "      <th>18</th>\n",
       "      <td>(librarians help pandemic-era students stay on track for college ,)</td>\n",
       "      <td>(librarians help pandemic-era students stay on track for college\\n ,)</td>\n",
       "      <td>Non-Dup</td>\n",
       "      <td>Duplicate</td>\n",
       "      <td>Duplicate</td>\n",
       "    </tr>\n",
       "    <tr>\n",
       "      <th>19</th>\n",
       "      <td>(cnbnews spotlight on nj college students: desales university students fall 2022 deans list ,)</td>\n",
       "      <td>(cnbnews spotlight on nj college students: moravian university deans honors list for fall 2022 ,)</td>\n",
       "      <td>Non-Dup</td>\n",
       "      <td>Duplicate</td>\n",
       "      <td>Duplicate</td>\n",
       "    </tr>\n",
       "    <tr>\n",
       "      <th>20</th>\n",
       "      <td>(job: research and data manager university of portsmouth students union portsmouth   ,)</td>\n",
       "      <td>(job: representation manager university of portsmouth students union portsmouth   ,)</td>\n",
       "      <td>Non-Dup</td>\n",
       "      <td>Non-Dup</td>\n",
       "      <td>Duplicate</td>\n",
       "    </tr>\n",
       "    <tr>\n",
       "      <th>21</th>\n",
       "      <td>(read adjunctnation today:  college students are increasingly identifying beyond “she” and “he”  adjuncts highered,)</td>\n",
       "      <td>(read adjunctnation today:  students are coming to college less prepared–they need our help  adjuncts highered,)</td>\n",
       "      <td>Non-Dup</td>\n",
       "      <td>Non-Dup</td>\n",
       "      <td>Duplicate</td>\n",
       "    </tr>\n",
       "    <tr>\n",
       "      <th>22</th>\n",
       "      <td>(congratulations on national college decision day azaria will be attending grambling state university ,)</td>\n",
       "      <td>(congrats to nygel on college decision day heading to delaware state university ,)</td>\n",
       "      <td>Non-Dup</td>\n",
       "      <td>Non-Dup</td>\n",
       "      <td>Duplicate</td>\n",
       "    </tr>\n",
       "    <tr>\n",
       "      <th>23</th>\n",
       "      <td>(bandits abduct 5 female students from zamfara college of health ,)</td>\n",
       "      <td>(just in: bandits abduct five college of health science students in zamfara ,)</td>\n",
       "      <td>Non-Dup</td>\n",
       "      <td>Non-Dup</td>\n",
       "      <td>Duplicate</td>\n",
       "    </tr>\n",
       "    <tr>\n",
       "      <th>24</th>\n",
       "      <td>(national college decision day \\n* congratulations to alayla heading to prairie view aampm university ,)</td>\n",
       "      <td>(congratulations on college decision day moe heading to grambling state university ,)</td>\n",
       "      <td>Non-Dup</td>\n",
       "      <td>Non-Dup</td>\n",
       "      <td>Duplicate</td>\n",
       "    </tr>\n",
       "    <tr>\n",
       "      <th>25</th>\n",
       "      <td>(brief history of federal college of education gombe ,)</td>\n",
       "      <td>(gombe promises permanent site for college of education  ,)</td>\n",
       "      <td>Non-Dup</td>\n",
       "      <td>Non-Dup</td>\n",
       "      <td>Duplicate</td>\n",
       "    </tr>\n",
       "    <tr>\n",
       "      <th>26</th>\n",
       "      <td>(amc mens basketball results (1117) \\ncolumbia college 76 vs williams baptist university 47,)</td>\n",
       "      <td>(amc womens soccer results (917) \\nwilliams baptist university 1 vs blue mountain college 1,)</td>\n",
       "      <td>Non-Dup</td>\n",
       "      <td>Non-Dup</td>\n",
       "      <td>Duplicate</td>\n",
       "    </tr>\n",
       "    <tr>\n",
       "      <th>27</th>\n",
       "      <td>(here are nine steps for high school students to follow after committing to a college  ,)</td>\n",
       "      <td>(high school students get a taste of the okanagan college experience ,)</td>\n",
       "      <td>Non-Dup</td>\n",
       "      <td>Non-Dup</td>\n",
       "      <td>Duplicate</td>\n",
       "    </tr>\n",
       "    <tr>\n",
       "      <th>28</th>\n",
       "      <td>(maintenance mechanic - college park maryland - university of maryland college park  jobs  ,)</td>\n",
       "      <td>(it engineer identity and access management  system developer - college park maryland - the university of maryland  ,)</td>\n",
       "      <td>Non-Dup</td>\n",
       "      <td>Non-Dup</td>\n",
       "      <td>Duplicate</td>\n",
       "    </tr>\n",
       "    <tr>\n",
       "      <th>29</th>\n",
       "      <td>(ciaa womens basketball results (1112) \\nelizabeth city state university 56 vs clark atlanta university 52,)</td>\n",
       "      <td>(ciaa mens basketball results (114) \\nwinston-salem state university 76 vs st augustines university  56,)</td>\n",
       "      <td>Non-Dup</td>\n",
       "      <td>Non-Dup</td>\n",
       "      <td>Duplicate</td>\n",
       "    </tr>\n",
       "  </tbody>\n",
       "</table>\n",
       "</div>"
      ],
      "text/plain": [
       "                                                                                                                                       text_A  \\\n",
       "0                                                                       (tiwa savage set to receive doctorate honours from kent university ,)   \n",
       "1                               (read adjunctnation today:  hybrid learning and cheating: assessment must evolve  adjuncts highered college,)   \n",
       "2                                                                                    (education without god ▸\\n\\neducation children college,)   \n",
       "3                                        (authorities say theyve received thousands of tips regarding 4 slain university of idaho students ,)   \n",
       "4                               (hubert davis brings out north carolina’s toughness at the garden\\n\\nohio university university university ,)   \n",
       "5   (english medium schools are offering quality of education to students opening\\ntheir doors for right opportunities 4saalbadhtarajasthan,)   \n",
       "6                                (california is on track to remove any reason for its public university students to take out student loans ,)   \n",
       "7                        (read adjunctnation today:  college students are increasingly identifying beyond “she” and “he”  adjuncts highered,)   \n",
       "8                               (hubert davis brings out north carolina’s toughness at the garden\\n\\nohio university university university ,)   \n",
       "9                                        (authorities say theyve received thousands of tips regarding 4 slain university of idaho students ,)   \n",
       "10                                  (student spotlight: 3 wilmington students named to dean’s list at fairfield university --  wilmingtonma,)   \n",
       "11                                                                       (list of courses offered in federal college of education pankshin ,)   \n",
       "12                                                                      (ideal college students clash with police over demolishing – watch ,)   \n",
       "13                                    (arizona students could earn college degree quicker and cheaper through former gov ducey agreement\\n ,)   \n",
       "14                                            (the 4 best quarterbacks in college football playoff history: college football survivor show ,)   \n",
       "15                                                                 (taliban orders indefinite ban on university education for afghan women ,)   \n",
       "16                                                                    (federal college of education akoka releases cut off marks 2022/2023 ,)   \n",
       "17                        (covenant university bans ‘all black’ dressing among students to sanction defaulters\\n\\ncovenant osundecides2022 ,)   \n",
       "18                                                                        (librarians help pandemic-era students stay on track for college ,)   \n",
       "19                                             (cnbnews spotlight on nj college students: desales university students fall 2022 deans list ,)   \n",
       "20                                                    (job: research and data manager university of portsmouth students union portsmouth   ,)   \n",
       "21                       (read adjunctnation today:  college students are increasingly identifying beyond “she” and “he”  adjuncts highered,)   \n",
       "22                                   (congratulations on national college decision day azaria will be attending grambling state university ,)   \n",
       "23                                                                        (bandits abduct 5 female students from zamfara college of health ,)   \n",
       "24                                   (national college decision day \\n* congratulations to alayla heading to prairie view aampm university ,)   \n",
       "25                                                                                    (brief history of federal college of education gombe ,)   \n",
       "26                                              (amc mens basketball results (1117) \\ncolumbia college 76 vs williams baptist university 47,)   \n",
       "27                                                  (here are nine steps for high school students to follow after committing to a college  ,)   \n",
       "28                                              (maintenance mechanic - college park maryland - university of maryland college park  jobs  ,)   \n",
       "29                               (ciaa womens basketball results (1112) \\nelizabeth city state university 56 vs clark atlanta university 52,)   \n",
       "\n",
       "                                                                                                                                       text_B  \\\n",
       "0                                                                       (tiwa savage set to receive doctorate honours from kent university ,)   \n",
       "1                               (read adjunctnation today:  hybrid learning and cheating: assessment must evolve  adjuncts highered college,)   \n",
       "2                                                                                    (education without god ▸\\n\\neducation children college,)   \n",
       "3                                        (authorities say theyve received thousands of tips regarding 4 slain university of idaho students ,)   \n",
       "4                               (hubert davis brings out north carolina’s toughness at the garden\\n\\nohio university university university ,)   \n",
       "5   (english medium schools are offering quality of education to students opening\\ntheir doors for right opportunities 4saalbadhtarajasthan,)   \n",
       "6                                (california is on track to remove any reason for its public university students to take out student loans ,)   \n",
       "7                        (read adjunctnation today:  college students are increasingly identifying beyond “she” and “he”  adjuncts highered,)   \n",
       "8                               (hubert davis brings out north carolina’s toughness at the garden\\n\\nohio university university university ,)   \n",
       "9                                        (authorities say theyve received thousands of tips regarding 4 slain university of idaho students ,)   \n",
       "10                             (student spotlight: 8 wilmington students named to dean’s list at roger williams university --  wilmingtonma,)   \n",
       "11                                                                          (list of courses offered in federal college of education gusau ,)   \n",
       "12                                                  (students clash with police as they fight to stop demolishing of ideal college – watch ,)   \n",
       "13                               (arizona students could earn college degree quicker and cheaper through former gov ducey agreement gtgtgt ,)   \n",
       "14                                             (the 4 best linebackers in college football playoff history: college football survivor show ,)   \n",
       "15                                                                                     (taliban ban university education for afghan women  ,)   \n",
       "16                                                                       (federal college education gombe releases cut off marks 2022/2023 ,)   \n",
       "17                                                   (covenant university bans ‘all black’ dressing among students to sanction defaulters  ,)   \n",
       "18                                                                      (librarians help pandemic-era students stay on track for college\\n ,)   \n",
       "19                                          (cnbnews spotlight on nj college students: moravian university deans honors list for fall 2022 ,)   \n",
       "20                                                       (job: representation manager university of portsmouth students union portsmouth   ,)   \n",
       "21                           (read adjunctnation today:  students are coming to college less prepared–they need our help  adjuncts highered,)   \n",
       "22                                                         (congrats to nygel on college decision day heading to delaware state university ,)   \n",
       "23                                                             (just in: bandits abduct five college of health science students in zamfara ,)   \n",
       "24                                                      (congratulations on college decision day moe heading to grambling state university ,)   \n",
       "25                                                                                (gombe promises permanent site for college of education  ,)   \n",
       "26                                              (amc womens soccer results (917) \\nwilliams baptist university 1 vs blue mountain college 1,)   \n",
       "27                                                                    (high school students get a taste of the okanagan college experience ,)   \n",
       "28                     (it engineer identity and access management  system developer - college park maryland - the university of maryland  ,)   \n",
       "29                                  (ciaa mens basketball results (114) \\nwinston-salem state university 76 vs st augustines university  56,)   \n",
       "\n",
       "   threshold_20 threshold_30 threshold_70  \n",
       "0     Duplicate    Duplicate    Duplicate  \n",
       "1     Duplicate    Duplicate    Duplicate  \n",
       "2     Duplicate    Duplicate    Duplicate  \n",
       "3     Duplicate    Duplicate    Duplicate  \n",
       "4     Duplicate    Duplicate    Duplicate  \n",
       "5     Duplicate    Duplicate    Duplicate  \n",
       "6     Duplicate    Duplicate    Duplicate  \n",
       "7     Duplicate    Duplicate    Duplicate  \n",
       "8     Duplicate    Duplicate    Duplicate  \n",
       "9     Duplicate    Duplicate    Duplicate  \n",
       "10      Non-Dup    Duplicate    Duplicate  \n",
       "11      Non-Dup    Duplicate    Duplicate  \n",
       "12      Non-Dup    Duplicate    Duplicate  \n",
       "13      Non-Dup    Duplicate    Duplicate  \n",
       "14      Non-Dup    Duplicate    Duplicate  \n",
       "15      Non-Dup    Duplicate    Duplicate  \n",
       "16      Non-Dup    Duplicate    Duplicate  \n",
       "17      Non-Dup    Duplicate    Duplicate  \n",
       "18      Non-Dup    Duplicate    Duplicate  \n",
       "19      Non-Dup    Duplicate    Duplicate  \n",
       "20      Non-Dup      Non-Dup    Duplicate  \n",
       "21      Non-Dup      Non-Dup    Duplicate  \n",
       "22      Non-Dup      Non-Dup    Duplicate  \n",
       "23      Non-Dup      Non-Dup    Duplicate  \n",
       "24      Non-Dup      Non-Dup    Duplicate  \n",
       "25      Non-Dup      Non-Dup    Duplicate  \n",
       "26      Non-Dup      Non-Dup    Duplicate  \n",
       "27      Non-Dup      Non-Dup    Duplicate  \n",
       "28      Non-Dup      Non-Dup    Duplicate  \n",
       "29      Non-Dup      Non-Dup    Duplicate  "
      ]
     },
     "execution_count": 121,
     "metadata": {},
     "output_type": "execute_result"
    }
   ],
   "source": [
    "pd_news_similiraity_check_tweets"
   ]
  },
  {
   "cell_type": "code",
   "execution_count": 89,
   "metadata": {},
   "outputs": [],
   "source": [
    "df_plt.to_csv('gs://msca-bdp-students-bucket/shared_data/harshamuthukuru/df_similarity_values_plt/data.csv')"
   ]
  },
  {
   "cell_type": "code",
   "execution_count": 90,
   "metadata": {},
   "outputs": [],
   "source": [
    "df = pd.read_csv('gs://msca-bdp-students-bucket/shared_data/harshamuthukuru/df_similarity_values_plt/data.csv')"
   ]
  },
  {
   "cell_type": "code",
   "execution_count": 93,
   "metadata": {},
   "outputs": [],
   "source": [
    "pd_gov_similiraity_check_tweets.to_csv('gs://msca-bdp-students-bucket/shared_data/harshamuthukuru/df_similarity_check_texts/governemnt.csv')"
   ]
  },
  {
   "cell_type": "code",
   "execution_count": 94,
   "metadata": {},
   "outputs": [],
   "source": [
    "pd_ngo_similiraity_check_tweets.to_csv('gs://msca-bdp-students-bucket/shared_data/harshamuthukuru/df_similarity_check_texts/ngo.csv')"
   ]
  },
  {
   "cell_type": "code",
   "execution_count": 95,
   "metadata": {},
   "outputs": [],
   "source": [
    "pd_influ_similiraity_check_tweets.to_csv('gs://msca-bdp-students-bucket/shared_data/harshamuthukuru/df_similarity_check_texts/influencers.csv')"
   ]
  },
  {
   "cell_type": "code",
   "execution_count": 114,
   "metadata": {},
   "outputs": [],
   "source": [
    "pd_others_similiraity_check_tweets.to_csv('gs://msca-bdp-students-bucket/shared_data/harshamuthukuru/df_similarity_check_texts/others.csv')"
   ]
  },
  {
   "cell_type": "code",
   "execution_count": 115,
   "metadata": {},
   "outputs": [],
   "source": [
    "pd_schools_similiraity_check_tweets.to_csv('gs://msca-bdp-students-bucket/shared_data/harshamuthukuru/df_similarity_check_texts/schools.csv')"
   ]
  },
  {
   "cell_type": "code",
   "execution_count": 116,
   "metadata": {},
   "outputs": [],
   "source": [
    "pd_uni_similiraity_check_tweets.to_csv('gs://msca-bdp-students-bucket/shared_data/harshamuthukuru/df_similarity_check_texts/universities.csv')"
   ]
  },
  {
   "cell_type": "code",
   "execution_count": 117,
   "metadata": {},
   "outputs": [],
   "source": [
    "pd_news_similiraity_check_tweets.to_csv('gs://msca-bdp-students-bucket/shared_data/harshamuthukuru/df_similarity_check_texts/news.csv')"
   ]
  },
  {
   "cell_type": "code",
   "execution_count": 101,
   "metadata": {},
   "outputs": [
    {
     "data": {
      "text/html": [
       "<div>\n",
       "<style scoped>\n",
       "    .dataframe tbody tr th:only-of-type {\n",
       "        vertical-align: middle;\n",
       "    }\n",
       "\n",
       "    .dataframe tbody tr th {\n",
       "        vertical-align: top;\n",
       "    }\n",
       "\n",
       "    .dataframe thead th {\n",
       "        text-align: right;\n",
       "    }\n",
       "</style>\n",
       "<table border=\"1\" class=\"dataframe\">\n",
       "  <thead>\n",
       "    <tr style=\"text-align: right;\">\n",
       "      <th></th>\n",
       "      <th>Unnamed: 0</th>\n",
       "      <th>text_A</th>\n",
       "      <th>text_B</th>\n",
       "      <th>threshold_20</th>\n",
       "      <th>threshold_30</th>\n",
       "      <th>threshold_70</th>\n",
       "    </tr>\n",
       "  </thead>\n",
       "  <tbody>\n",
       "    <tr>\n",
       "      <th>0</th>\n",
       "      <td>0</td>\n",
       "      <td>Row(text='mmmaruchie hi! interested i am a college graduate and i would love to work on this task this is my forte! dm me if need pa ☺')</td>\n",
       "      <td>Row(text='thalia_client hi! interested i am a college graduate and i would love to work on this task this is my forte! dm me if need pa ☺')</td>\n",
       "      <td>Duplicate</td>\n",
       "      <td>Duplicate</td>\n",
       "      <td>Duplicate</td>\n",
       "    </tr>\n",
       "    <tr>\n",
       "      <th>1</th>\n",
       "      <td>1</td>\n",
       "      <td>Row(text='strong financial support for underprivileged students in tibet university\\neducation\\n')</td>\n",
       "      <td>Row(text='strong financial support for underprivileged students in tibet university\\neducation\\n ')</td>\n",
       "      <td>Duplicate</td>\n",
       "      <td>Duplicate</td>\n",
       "      <td>Duplicate</td>\n",
       "    </tr>\n",
       "    <tr>\n",
       "      <th>2</th>\n",
       "      <td>2</td>\n",
       "      <td>Row(text='gay students admission allegedly rescinded by florida university\\n\\n')</td>\n",
       "      <td>Row(text='gay students admission allegedly rescinded by florida university\\n\\n')</td>\n",
       "      <td>Duplicate</td>\n",
       "      <td>Duplicate</td>\n",
       "      <td>Duplicate</td>\n",
       "    </tr>\n",
       "    <tr>\n",
       "      <th>3</th>\n",
       "      <td>3</td>\n",
       "      <td>Row(text='she has a bachelor of degree in chemical engineering from the federal university of\\ntechnology minna')</td>\n",
       "      <td>Row(text='she has a bachelor of degree in chemical engineering from the federal university of\\ntechnology minna')</td>\n",
       "      <td>Duplicate</td>\n",
       "      <td>Duplicate</td>\n",
       "      <td>Duplicate</td>\n",
       "    </tr>\n",
       "    <tr>\n",
       "      <th>4</th>\n",
       "      <td>4</td>\n",
       "      <td>Row(text='university - 800 n state college blvd fullerton housing coordinator  governmentjobs')</td>\n",
       "      <td>Row(text='university - 800 n state college blvd fullerton intake coordinator  governmentjobs')</td>\n",
       "      <td>Duplicate</td>\n",
       "      <td>Duplicate</td>\n",
       "      <td>Duplicate</td>\n",
       "    </tr>\n",
       "    <tr>\n",
       "      <th>5</th>\n",
       "      <td>5</td>\n",
       "      <td>Row(text='parkway middle school campus attendant- parkway middle  governmentjobs')</td>\n",
       "      <td>Row(text='parkway middle school campus attendant- parkway middle  governmentjobs')</td>\n",
       "      <td>Duplicate</td>\n",
       "      <td>Duplicate</td>\n",
       "      <td>Duplicate</td>\n",
       "    </tr>\n",
       "    <tr>\n",
       "      <th>6</th>\n",
       "      <td>6</td>\n",
       "      <td>Row(text='university students looked way happier before we became a uni students \\U0001f972\\U0001f972\\U0001f972😭😭')</td>\n",
       "      <td>Row(text='university students looked way happier before we became uni students \\U0001f972\\U0001f972\\U0001f972😭😭')</td>\n",
       "      <td>Duplicate</td>\n",
       "      <td>Duplicate</td>\n",
       "      <td>Duplicate</td>\n",
       "    </tr>\n",
       "    <tr>\n",
       "      <th>7</th>\n",
       "      <td>7</td>\n",
       "      <td>Row(text='university - 800 n state college blvd fullerton small business consultant - bilingual  governmentjobs')</td>\n",
       "      <td>Row(text='university - 800 n state college blvd fullerton small business consultant – personal services  governmentjobs')</td>\n",
       "      <td>Non-Dup</td>\n",
       "      <td>Duplicate</td>\n",
       "      <td>Duplicate</td>\n",
       "    </tr>\n",
       "    <tr>\n",
       "      <th>8</th>\n",
       "      <td>8</td>\n",
       "      <td>Row(text='university - 800 n state college blvd fullerton intake coordinator  governmentjobs')</td>\n",
       "      <td>Row(text='university - 800 n state college blvd fullerton special projects coordinator  governmentjobs')</td>\n",
       "      <td>Non-Dup</td>\n",
       "      <td>Duplicate</td>\n",
       "      <td>Duplicate</td>\n",
       "    </tr>\n",
       "    <tr>\n",
       "      <th>9</th>\n",
       "      <td>9</td>\n",
       "      <td>Row(text='university - 800 n state college blvd fullerton data and excellence coordinator  governmentjobs')</td>\n",
       "      <td>Row(text='university - 800 n state college blvd fullerton housing coordinator  governmentjobs')</td>\n",
       "      <td>Non-Dup</td>\n",
       "      <td>Duplicate</td>\n",
       "      <td>Duplicate</td>\n",
       "    </tr>\n",
       "    <tr>\n",
       "      <th>10</th>\n",
       "      <td>10</td>\n",
       "      <td>Row(text='university - 800 n state college blvd fullerton assistant director of athletic communications  governmentjobs')</td>\n",
       "      <td>Row(text='university - 800 n state college blvd fullerton administrative assistant  governmentjobs')</td>\n",
       "      <td>Non-Dup</td>\n",
       "      <td>Non-Dup</td>\n",
       "      <td>Duplicate</td>\n",
       "    </tr>\n",
       "    <tr>\n",
       "      <th>11</th>\n",
       "      <td>11</td>\n",
       "      <td>Row(text='university - 800 n state college blvd fullerton starbucks shift supervisor  governmentjobs')</td>\n",
       "      <td>Row(text='university - 800 n state college blvd fullerton small business consultant – personal services  governmentjobs')</td>\n",
       "      <td>Non-Dup</td>\n",
       "      <td>Non-Dup</td>\n",
       "      <td>Duplicate</td>\n",
       "    </tr>\n",
       "    <tr>\n",
       "      <th>12</th>\n",
       "      <td>12</td>\n",
       "      <td>Row(text='university - 800 n state college blvd fullerton small business consultant - bilingual  governmentjobs')</td>\n",
       "      <td>Row(text='university - 800 n state college blvd fullerton qualitative research scientist  governmentjobs')</td>\n",
       "      <td>Non-Dup</td>\n",
       "      <td>Non-Dup</td>\n",
       "      <td>Duplicate</td>\n",
       "    </tr>\n",
       "    <tr>\n",
       "      <th>13</th>\n",
       "      <td>13</td>\n",
       "      <td>Row(text='university - 800 n state college blvd fullerton small business consultant - bilingual  governmentjobs')</td>\n",
       "      <td>Row(text='university - 800 n state college blvd fullerton titans after school program assistant coordinator  governmentjobs')</td>\n",
       "      <td>Non-Dup</td>\n",
       "      <td>Non-Dup</td>\n",
       "      <td>Duplicate</td>\n",
       "    </tr>\n",
       "    <tr>\n",
       "      <th>14</th>\n",
       "      <td>14</td>\n",
       "      <td>Row(text='university - 800 n state college blvd fullerton small business consultant - bilingual  governmentjobs')</td>\n",
       "      <td>Row(text='university - 800 n state college blvd fullerton office of sponsored programs coordinator  governmentjobs')</td>\n",
       "      <td>Non-Dup</td>\n",
       "      <td>Non-Dup</td>\n",
       "      <td>Duplicate</td>\n",
       "    </tr>\n",
       "    <tr>\n",
       "      <th>15</th>\n",
       "      <td>15</td>\n",
       "      <td>Row(text='university - 800 n state college blvd fullerton marketing manager  governmentjobs')</td>\n",
       "      <td>Row(text='university - 800 n state college blvd fullerton carls jr cook  governmentjobs')</td>\n",
       "      <td>Non-Dup</td>\n",
       "      <td>Non-Dup</td>\n",
       "      <td>Duplicate</td>\n",
       "    </tr>\n",
       "    <tr>\n",
       "      <th>16</th>\n",
       "      <td>16</td>\n",
       "      <td>Row(text='university - 800 n state college blvd fullerton starbucks shift supervisor  governmentjobs')</td>\n",
       "      <td>Row(text='university - 800 n state college blvd fullerton operations associate  governmentjobs')</td>\n",
       "      <td>Non-Dup</td>\n",
       "      <td>Non-Dup</td>\n",
       "      <td>Duplicate</td>\n",
       "    </tr>\n",
       "    <tr>\n",
       "      <th>17</th>\n",
       "      <td>17</td>\n",
       "      <td>Row(text='university - 800 n state college blvd fullerton small business consultant - bilingual  governmentjobs')</td>\n",
       "      <td>Row(text='university - 800 n state college blvd fullerton administrative assistant  governmentjobs')</td>\n",
       "      <td>Non-Dup</td>\n",
       "      <td>Non-Dup</td>\n",
       "      <td>Duplicate</td>\n",
       "    </tr>\n",
       "    <tr>\n",
       "      <th>18</th>\n",
       "      <td>18</td>\n",
       "      <td>Row(text='university - 800 n state college blvd fullerton data and excellence coordinator  governmentjobs')</td>\n",
       "      <td>Row(text='university - 800 n state college blvd fullerton small business consultant - food/restaurants  governmentjobs')</td>\n",
       "      <td>Non-Dup</td>\n",
       "      <td>Non-Dup</td>\n",
       "      <td>Duplicate</td>\n",
       "    </tr>\n",
       "    <tr>\n",
       "      <th>19</th>\n",
       "      <td>19</td>\n",
       "      <td>Row(text='university - 800 n state college blvd fullerton office of sponsored programs coordinator  governmentjobs')</td>\n",
       "      <td>Row(text='university - 800 n state college blvd fullerton titans after school program assistant coordinator  governmentjobs')</td>\n",
       "      <td>Non-Dup</td>\n",
       "      <td>Non-Dup</td>\n",
       "      <td>Duplicate</td>\n",
       "    </tr>\n",
       "  </tbody>\n",
       "</table>\n",
       "</div>"
      ],
      "text/plain": [
       "    Unnamed: 0  \\\n",
       "0            0   \n",
       "1            1   \n",
       "2            2   \n",
       "3            3   \n",
       "4            4   \n",
       "5            5   \n",
       "6            6   \n",
       "7            7   \n",
       "8            8   \n",
       "9            9   \n",
       "10          10   \n",
       "11          11   \n",
       "12          12   \n",
       "13          13   \n",
       "14          14   \n",
       "15          15   \n",
       "16          16   \n",
       "17          17   \n",
       "18          18   \n",
       "19          19   \n",
       "\n",
       "                                                                                                                                      text_A  \\\n",
       "0   Row(text='mmmaruchie hi! interested i am a college graduate and i would love to work on this task this is my forte! dm me if need pa ☺')   \n",
       "1                                         Row(text='strong financial support for underprivileged students in tibet university\\neducation\\n')   \n",
       "2                                                           Row(text='gay students admission allegedly rescinded by florida university\\n\\n')   \n",
       "3                          Row(text='she has a bachelor of degree in chemical engineering from the federal university of\\ntechnology minna')   \n",
       "4                                            Row(text='university - 800 n state college blvd fullerton housing coordinator  governmentjobs')   \n",
       "5                                                         Row(text='parkway middle school campus attendant- parkway middle  governmentjobs')   \n",
       "6                        Row(text='university students looked way happier before we became a uni students \\U0001f972\\U0001f972\\U0001f972😭😭')   \n",
       "7                          Row(text='university - 800 n state college blvd fullerton small business consultant - bilingual  governmentjobs')   \n",
       "8                                             Row(text='university - 800 n state college blvd fullerton intake coordinator  governmentjobs')   \n",
       "9                                Row(text='university - 800 n state college blvd fullerton data and excellence coordinator  governmentjobs')   \n",
       "10                 Row(text='university - 800 n state college blvd fullerton assistant director of athletic communications  governmentjobs')   \n",
       "11                                    Row(text='university - 800 n state college blvd fullerton starbucks shift supervisor  governmentjobs')   \n",
       "12                         Row(text='university - 800 n state college blvd fullerton small business consultant - bilingual  governmentjobs')   \n",
       "13                         Row(text='university - 800 n state college blvd fullerton small business consultant - bilingual  governmentjobs')   \n",
       "14                         Row(text='university - 800 n state college blvd fullerton small business consultant - bilingual  governmentjobs')   \n",
       "15                                             Row(text='university - 800 n state college blvd fullerton marketing manager  governmentjobs')   \n",
       "16                                    Row(text='university - 800 n state college blvd fullerton starbucks shift supervisor  governmentjobs')   \n",
       "17                         Row(text='university - 800 n state college blvd fullerton small business consultant - bilingual  governmentjobs')   \n",
       "18                               Row(text='university - 800 n state college blvd fullerton data and excellence coordinator  governmentjobs')   \n",
       "19                      Row(text='university - 800 n state college blvd fullerton office of sponsored programs coordinator  governmentjobs')   \n",
       "\n",
       "                                                                                                                                         text_B  \\\n",
       "0   Row(text='thalia_client hi! interested i am a college graduate and i would love to work on this task this is my forte! dm me if need pa ☺')   \n",
       "1                                           Row(text='strong financial support for underprivileged students in tibet university\\neducation\\n ')   \n",
       "2                                                              Row(text='gay students admission allegedly rescinded by florida university\\n\\n')   \n",
       "3                             Row(text='she has a bachelor of degree in chemical engineering from the federal university of\\ntechnology minna')   \n",
       "4                                                Row(text='university - 800 n state college blvd fullerton intake coordinator  governmentjobs')   \n",
       "5                                                            Row(text='parkway middle school campus attendant- parkway middle  governmentjobs')   \n",
       "6                             Row(text='university students looked way happier before we became uni students \\U0001f972\\U0001f972\\U0001f972😭😭')   \n",
       "7                     Row(text='university - 800 n state college blvd fullerton small business consultant – personal services  governmentjobs')   \n",
       "8                                      Row(text='university - 800 n state college blvd fullerton special projects coordinator  governmentjobs')   \n",
       "9                                               Row(text='university - 800 n state college blvd fullerton housing coordinator  governmentjobs')   \n",
       "10                                         Row(text='university - 800 n state college blvd fullerton administrative assistant  governmentjobs')   \n",
       "11                    Row(text='university - 800 n state college blvd fullerton small business consultant – personal services  governmentjobs')   \n",
       "12                                   Row(text='university - 800 n state college blvd fullerton qualitative research scientist  governmentjobs')   \n",
       "13                Row(text='university - 800 n state college blvd fullerton titans after school program assistant coordinator  governmentjobs')   \n",
       "14                         Row(text='university - 800 n state college blvd fullerton office of sponsored programs coordinator  governmentjobs')   \n",
       "15                                                    Row(text='university - 800 n state college blvd fullerton carls jr cook  governmentjobs')   \n",
       "16                                             Row(text='university - 800 n state college blvd fullerton operations associate  governmentjobs')   \n",
       "17                                         Row(text='university - 800 n state college blvd fullerton administrative assistant  governmentjobs')   \n",
       "18                     Row(text='university - 800 n state college blvd fullerton small business consultant - food/restaurants  governmentjobs')   \n",
       "19                Row(text='university - 800 n state college blvd fullerton titans after school program assistant coordinator  governmentjobs')   \n",
       "\n",
       "   threshold_20 threshold_30 threshold_70  \n",
       "0     Duplicate    Duplicate    Duplicate  \n",
       "1     Duplicate    Duplicate    Duplicate  \n",
       "2     Duplicate    Duplicate    Duplicate  \n",
       "3     Duplicate    Duplicate    Duplicate  \n",
       "4     Duplicate    Duplicate    Duplicate  \n",
       "5     Duplicate    Duplicate    Duplicate  \n",
       "6     Duplicate    Duplicate    Duplicate  \n",
       "7       Non-Dup    Duplicate    Duplicate  \n",
       "8       Non-Dup    Duplicate    Duplicate  \n",
       "9       Non-Dup    Duplicate    Duplicate  \n",
       "10      Non-Dup      Non-Dup    Duplicate  \n",
       "11      Non-Dup      Non-Dup    Duplicate  \n",
       "12      Non-Dup      Non-Dup    Duplicate  \n",
       "13      Non-Dup      Non-Dup    Duplicate  \n",
       "14      Non-Dup      Non-Dup    Duplicate  \n",
       "15      Non-Dup      Non-Dup    Duplicate  \n",
       "16      Non-Dup      Non-Dup    Duplicate  \n",
       "17      Non-Dup      Non-Dup    Duplicate  \n",
       "18      Non-Dup      Non-Dup    Duplicate  \n",
       "19      Non-Dup      Non-Dup    Duplicate  "
      ]
     },
     "execution_count": 101,
     "metadata": {},
     "output_type": "execute_result"
    }
   ],
   "source": [
    "pd.read_csv('gs://msca-bdp-students-bucket/shared_data/harshamuthukuru/df_similarity_check_texts/governemnt.csv')"
   ]
  },
  {
   "cell_type": "code",
   "execution_count": null,
   "metadata": {},
   "outputs": [],
   "source": [
    "endTime = time.time()"
   ]
  },
  {
   "cell_type": "code",
   "execution_count": null,
   "metadata": {},
   "outputs": [],
   "source": [
    "elapsedTime = endTime - startTime"
   ]
  },
  {
   "cell_type": "code",
   "execution_count": null,
   "metadata": {},
   "outputs": [
    {
     "name": "stdout",
     "output_type": "stream",
     "text": [
      "4993.063832044601\n"
     ]
    }
   ],
   "source": [
    "print(elapsedTime)"
   ]
  },
  {
   "cell_type": "code",
   "execution_count": null,
   "metadata": {},
   "outputs": [
    {
     "data": {
      "text/plain": [
       "'Thu, 09 March 2023 03:20:39'"
      ]
     },
     "execution_count": 87,
     "metadata": {},
     "output_type": "execute_result"
    }
   ],
   "source": [
    "import datetime\n",
    "import pytz\n",
    "\n",
    "datetime.datetime.now(pytz.timezone('US/Central')).strftime(\"%a, %d %B %Y %H:%M:%S\")"
   ]
  },
  {
   "cell_type": "code",
   "execution_count": null,
   "metadata": {},
   "outputs": [],
   "source": []
  }
 ],
 "metadata": {
  "kernelspec": {
   "display_name": "PySpark",
   "language": "python",
   "name": "pyspark"
  },
  "language_info": {
   "codemirror_mode": {
    "name": "ipython",
    "version": 3
   },
   "file_extension": ".py",
   "mimetype": "text/x-python",
   "name": "python",
   "nbconvert_exporter": "python",
   "pygments_lexer": "ipython3",
   "version": "3.8.15"
  }
 },
 "nbformat": 4,
 "nbformat_minor": 4
}